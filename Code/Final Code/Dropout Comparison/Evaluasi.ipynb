{
 "cells": [
  {
   "cell_type": "code",
   "execution_count": 8,
   "metadata": {},
   "outputs": [],
   "source": [
    "import pickle\n",
    "import pandas as pd"
   ]
  },
  {
   "cell_type": "code",
   "execution_count": 13,
   "metadata": {},
   "outputs": [],
   "source": [
    "mn = ['br', 'cc', 'clr']\n",
    "dr = '0.2'"
   ]
  },
  {
   "cell_type": "code",
   "execution_count": 14,
   "metadata": {},
   "outputs": [],
   "source": [
    "x = []\n",
    "for i in mn:\n",
    "    exp_pkl = open(f'Results/{i}{dr}_exp.pkl', 'rb')\n",
    "    lbl_pkl = open(f'Results/{i}{dr}_label.pkl', 'rb')\n",
    "    exp = pickle.load(exp_pkl)\n",
    "    lbl = pickle.load(lbl_pkl)\n",
    "    aa_exp = pd.concat(exp)\n",
    "    aa_lbl = pd.concat(lbl)\n",
    "    aa_lbl['Accuracy (Exact Match)'] = [aa_lbl['Accuracy (Exact Match)'].iloc[i].item() for i in range(len(aa_lbl))]\n",
    "    aa_lbl['Precision'] = [aa_lbl['Precision'].iloc[i].item() for i in range(len(aa_lbl))]\n",
    "    aa_lbl['Recall'] = [aa_lbl['Recall'].iloc[i].item() for i in range(len(aa_lbl))]\n",
    "\n",
    "    results = pd.concat([aa_lbl, aa_exp], axis=1)\n",
    "    x.append(results)\n",
    "n = pd.concat(x)\n"
   ]
  },
  {
   "cell_type": "code",
   "execution_count": 15,
   "metadata": {},
   "outputs": [],
   "source": [
    "n.to_csv(f'Metrics/Evaluasi{dr}.csv')"
   ]
  },
  {
   "cell_type": "code",
   "execution_count": null,
   "metadata": {},
   "outputs": [],
   "source": []
  }
 ],
 "metadata": {
  "kernelspec": {
   "display_name": "main-ml",
   "language": "python",
   "name": "python3"
  },
  "language_info": {
   "codemirror_mode": {
    "name": "ipython",
    "version": 3
   },
   "file_extension": ".py",
   "mimetype": "text/x-python",
   "name": "python",
   "nbconvert_exporter": "python",
   "pygments_lexer": "ipython3",
   "version": "3.9.18"
  }
 },
 "nbformat": 4,
 "nbformat_minor": 2
}
