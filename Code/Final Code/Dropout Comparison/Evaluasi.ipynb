{
 "cells": [
  {
   "cell_type": "code",
   "execution_count": 30,
   "metadata": {},
   "outputs": [],
   "source": [
    "import pickle\n",
    "import pandas as pd"
   ]
  },
  {
   "cell_type": "code",
   "execution_count": 69,
   "metadata": {},
   "outputs": [],
   "source": [
    "exp_pkl = open(f'Results/lp_exp.pkl', 'rb')\n",
    "lbl_pkl = open(f'Results/lp_label.pkl', 'rb')"
   ]
  },
  {
   "cell_type": "code",
   "execution_count": 70,
   "metadata": {},
   "outputs": [],
   "source": [
    "exp = pickle.load(exp_pkl)\n",
    "lbl = pickle.load(lbl_pkl)"
   ]
  },
  {
   "cell_type": "code",
   "execution_count": 71,
   "metadata": {},
   "outputs": [
    {
     "data": {
      "text/html": [
       "<div>\n",
       "<style scoped>\n",
       "    .dataframe tbody tr th:only-of-type {\n",
       "        vertical-align: middle;\n",
       "    }\n",
       "\n",
       "    .dataframe tbody tr th {\n",
       "        vertical-align: top;\n",
       "    }\n",
       "\n",
       "    .dataframe thead th {\n",
       "        text-align: right;\n",
       "    }\n",
       "</style>\n",
       "<table border=\"1\" class=\"dataframe\">\n",
       "  <thead>\n",
       "    <tr style=\"text-align: right;\">\n",
       "      <th></th>\n",
       "      <th>Accuracy (Micro)</th>\n",
       "      <th>Accuracy (Macro)</th>\n",
       "      <th>Precision (Micro)</th>\n",
       "      <th>Precision (Macro)</th>\n",
       "      <th>Recall (Micro)</th>\n",
       "      <th>Recall (Macro)</th>\n",
       "      <th>F1 Score (Micro)</th>\n",
       "      <th>F1 Score (Macro)</th>\n",
       "      <th>AUC (Micro)</th>\n",
       "      <th>AUC (Macro)</th>\n",
       "    </tr>\n",
       "  </thead>\n",
       "  <tbody>\n",
       "    <tr>\n",
       "      <th>0</th>\n",
       "      <td>0.555486</td>\n",
       "      <td>0.555486</td>\n",
       "      <td>0.843141</td>\n",
       "      <td>0.481795</td>\n",
       "      <td>0.575844</td>\n",
       "      <td>0.571429</td>\n",
       "      <td>0.684317</td>\n",
       "      <td>0.517714</td>\n",
       "      <td>0.513519</td>\n",
       "      <td>0.5</td>\n",
       "    </tr>\n",
       "    <tr>\n",
       "      <th>0</th>\n",
       "      <td>0.555486</td>\n",
       "      <td>0.555486</td>\n",
       "      <td>0.843141</td>\n",
       "      <td>0.481795</td>\n",
       "      <td>0.575844</td>\n",
       "      <td>0.571429</td>\n",
       "      <td>0.684317</td>\n",
       "      <td>0.517714</td>\n",
       "      <td>0.513519</td>\n",
       "      <td>0.5</td>\n",
       "    </tr>\n",
       "    <tr>\n",
       "      <th>0</th>\n",
       "      <td>0.555486</td>\n",
       "      <td>0.555486</td>\n",
       "      <td>0.843141</td>\n",
       "      <td>0.481795</td>\n",
       "      <td>0.575844</td>\n",
       "      <td>0.571429</td>\n",
       "      <td>0.684317</td>\n",
       "      <td>0.517714</td>\n",
       "      <td>0.513519</td>\n",
       "      <td>0.5</td>\n",
       "    </tr>\n",
       "  </tbody>\n",
       "</table>\n",
       "</div>"
      ],
      "text/plain": [
       "   Accuracy (Micro)  Accuracy (Macro)  Precision (Micro)  Precision (Macro)  \\\n",
       "0          0.555486          0.555486           0.843141           0.481795   \n",
       "0          0.555486          0.555486           0.843141           0.481795   \n",
       "0          0.555486          0.555486           0.843141           0.481795   \n",
       "\n",
       "   Recall (Micro)  Recall (Macro)  F1 Score (Micro)  F1 Score (Macro)  \\\n",
       "0        0.575844        0.571429          0.684317          0.517714   \n",
       "0        0.575844        0.571429          0.684317          0.517714   \n",
       "0        0.575844        0.571429          0.684317          0.517714   \n",
       "\n",
       "   AUC (Micro)  AUC (Macro)  \n",
       "0     0.513519          0.5  \n",
       "0     0.513519          0.5  \n",
       "0     0.513519          0.5  "
      ]
     },
     "execution_count": 71,
     "metadata": {},
     "output_type": "execute_result"
    }
   ],
   "source": [
    "aa_exp = pd.concat(exp)\n",
    "aa_exp"
   ]
  },
  {
   "cell_type": "code",
   "execution_count": 72,
   "metadata": {},
   "outputs": [],
   "source": [
    "aa_lbl = pd.concat(lbl)\n",
    "aa_lbl['Accuracy (Exact Match)'] = [aa_lbl['Accuracy (Exact Match)'].iloc[i].item() for i in range(3)]\n",
    "aa_lbl['Precision'] = [aa_lbl['Precision'].iloc[i].item() for i in range(3)]\n",
    "aa_lbl['Recall'] = [aa_lbl['Recall'].iloc[i].item() for i in range(3)]"
   ]
  },
  {
   "cell_type": "code",
   "execution_count": 73,
   "metadata": {},
   "outputs": [
    {
     "data": {
      "text/html": [
       "<div>\n",
       "<style scoped>\n",
       "    .dataframe tbody tr th:only-of-type {\n",
       "        vertical-align: middle;\n",
       "    }\n",
       "\n",
       "    .dataframe tbody tr th {\n",
       "        vertical-align: top;\n",
       "    }\n",
       "\n",
       "    .dataframe thead th {\n",
       "        text-align: right;\n",
       "    }\n",
       "</style>\n",
       "<table border=\"1\" class=\"dataframe\">\n",
       "  <thead>\n",
       "    <tr style=\"text-align: right;\">\n",
       "      <th></th>\n",
       "      <th>Subset Accuracy</th>\n",
       "      <th>Hamming Loss</th>\n",
       "      <th>Accuracy (Exact Match)</th>\n",
       "      <th>Precision</th>\n",
       "      <th>Recall</th>\n",
       "      <th>F1 Score</th>\n",
       "      <th>One Error</th>\n",
       "      <th>Coverage</th>\n",
       "      <th>Ranking Loss</th>\n",
       "      <th>Average Precision</th>\n",
       "    </tr>\n",
       "  </thead>\n",
       "  <tbody>\n",
       "    <tr>\n",
       "      <th>0</th>\n",
       "      <td>0.004257</td>\n",
       "      <td>0.444514</td>\n",
       "      <td>0.52311</td>\n",
       "      <td>0.580423</td>\n",
       "      <td>0.843141</td>\n",
       "      <td>0.517714</td>\n",
       "      <td>0.071952</td>\n",
       "      <td>6.933373</td>\n",
       "      <td>0.440487</td>\n",
       "      <td>0.836675</td>\n",
       "    </tr>\n",
       "    <tr>\n",
       "      <th>0</th>\n",
       "      <td>0.004257</td>\n",
       "      <td>0.444514</td>\n",
       "      <td>0.52311</td>\n",
       "      <td>0.580423</td>\n",
       "      <td>0.843141</td>\n",
       "      <td>0.517714</td>\n",
       "      <td>0.071952</td>\n",
       "      <td>6.933373</td>\n",
       "      <td>0.440487</td>\n",
       "      <td>0.836675</td>\n",
       "    </tr>\n",
       "    <tr>\n",
       "      <th>0</th>\n",
       "      <td>0.004257</td>\n",
       "      <td>0.444514</td>\n",
       "      <td>0.52311</td>\n",
       "      <td>0.580423</td>\n",
       "      <td>0.843141</td>\n",
       "      <td>0.517714</td>\n",
       "      <td>0.071952</td>\n",
       "      <td>6.933373</td>\n",
       "      <td>0.440487</td>\n",
       "      <td>0.836675</td>\n",
       "    </tr>\n",
       "  </tbody>\n",
       "</table>\n",
       "</div>"
      ],
      "text/plain": [
       "   Subset Accuracy  Hamming Loss  Accuracy (Exact Match)  Precision    Recall  \\\n",
       "0         0.004257      0.444514                 0.52311   0.580423  0.843141   \n",
       "0         0.004257      0.444514                 0.52311   0.580423  0.843141   \n",
       "0         0.004257      0.444514                 0.52311   0.580423  0.843141   \n",
       "\n",
       "   F1 Score  One Error  Coverage  Ranking Loss  Average Precision  \n",
       "0  0.517714   0.071952  6.933373      0.440487           0.836675  \n",
       "0  0.517714   0.071952  6.933373      0.440487           0.836675  \n",
       "0  0.517714   0.071952  6.933373      0.440487           0.836675  "
      ]
     },
     "execution_count": 73,
     "metadata": {},
     "output_type": "execute_result"
    }
   ],
   "source": [
    "aa_lbl"
   ]
  },
  {
   "cell_type": "code",
   "execution_count": 48,
   "metadata": {},
   "outputs": [
    {
     "data": {
      "text/plain": [
       "0.8365459442138672"
      ]
     },
     "execution_count": 48,
     "metadata": {},
     "output_type": "execute_result"
    }
   ],
   "source": [
    "aa_lbl['Accuracy (Exact Match)'].iloc[1].item()"
   ]
  },
  {
   "cell_type": "code",
   "execution_count": null,
   "metadata": {},
   "outputs": [],
   "source": []
  }
 ],
 "metadata": {
  "kernelspec": {
   "display_name": "main-ml",
   "language": "python",
   "name": "python3"
  },
  "language_info": {
   "codemirror_mode": {
    "name": "ipython",
    "version": 3
   },
   "file_extension": ".py",
   "mimetype": "text/x-python",
   "name": "python",
   "nbconvert_exporter": "python",
   "pygments_lexer": "ipython3",
   "version": "3.9.18"
  }
 },
 "nbformat": 4,
 "nbformat_minor": 2
}
