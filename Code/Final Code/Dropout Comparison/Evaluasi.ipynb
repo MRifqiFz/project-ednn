{
 "cells": [
  {
   "cell_type": "code",
   "execution_count": 30,
   "metadata": {},
   "outputs": [],
   "source": [
    "import pickle\n",
    "import pandas as pd"
   ]
  },
  {
   "cell_type": "code",
   "execution_count": 76,
   "metadata": {},
   "outputs": [],
   "source": [
    "exp_pkl = open(f'Results/clr_exp.pkl', 'rb')\n",
    "lbl_pkl = open(f'Results/clr_label.pkl', 'rb')"
   ]
  },
  {
   "cell_type": "code",
   "execution_count": 77,
   "metadata": {},
   "outputs": [],
   "source": [
    "exp = pickle.load(exp_pkl)\n",
    "lbl = pickle.load(lbl_pkl)"
   ]
  },
  {
   "cell_type": "code",
   "execution_count": 78,
   "metadata": {},
   "outputs": [
    {
     "data": {
      "text/html": [
       "<div>\n",
       "<style scoped>\n",
       "    .dataframe tbody tr th:only-of-type {\n",
       "        vertical-align: middle;\n",
       "    }\n",
       "\n",
       "    .dataframe tbody tr th {\n",
       "        vertical-align: top;\n",
       "    }\n",
       "\n",
       "    .dataframe thead th {\n",
       "        text-align: right;\n",
       "    }\n",
       "</style>\n",
       "<table border=\"1\" class=\"dataframe\">\n",
       "  <thead>\n",
       "    <tr style=\"text-align: right;\">\n",
       "      <th></th>\n",
       "      <th>Accuracy (Micro)</th>\n",
       "      <th>Accuracy (Macro)</th>\n",
       "      <th>Precision (Micro)</th>\n",
       "      <th>Precision (Macro)</th>\n",
       "      <th>Recall (Micro)</th>\n",
       "      <th>Recall (Macro)</th>\n",
       "      <th>F1 Score (Micro)</th>\n",
       "      <th>F1 Score (Macro)</th>\n",
       "      <th>AUC (Micro)</th>\n",
       "      <th>AUC (Macro)</th>\n",
       "    </tr>\n",
       "  </thead>\n",
       "  <tbody>\n",
       "    <tr>\n",
       "      <th>0</th>\n",
       "      <td>0.872894</td>\n",
       "      <td>0.872894</td>\n",
       "      <td>0.896434</td>\n",
       "      <td>0.881340</td>\n",
       "      <td>0.958860</td>\n",
       "      <td>0.942026</td>\n",
       "      <td>0.926597</td>\n",
       "      <td>0.910038</td>\n",
       "      <td>0.695685</td>\n",
       "      <td>0.557918</td>\n",
       "    </tr>\n",
       "    <tr>\n",
       "      <th>0</th>\n",
       "      <td>0.873016</td>\n",
       "      <td>0.873016</td>\n",
       "      <td>0.893262</td>\n",
       "      <td>0.878163</td>\n",
       "      <td>0.963339</td>\n",
       "      <td>0.948205</td>\n",
       "      <td>0.926978</td>\n",
       "      <td>0.911447</td>\n",
       "      <td>0.686826</td>\n",
       "      <td>0.556378</td>\n",
       "    </tr>\n",
       "    <tr>\n",
       "      <th>0</th>\n",
       "      <td>0.872981</td>\n",
       "      <td>0.872981</td>\n",
       "      <td>0.891255</td>\n",
       "      <td>0.877004</td>\n",
       "      <td>0.966057</td>\n",
       "      <td>0.952223</td>\n",
       "      <td>0.927150</td>\n",
       "      <td>0.912290</td>\n",
       "      <td>0.681115</td>\n",
       "      <td>0.555736</td>\n",
       "    </tr>\n",
       "  </tbody>\n",
       "</table>\n",
       "</div>"
      ],
      "text/plain": [
       "   Accuracy (Micro)  Accuracy (Macro)  Precision (Micro)  Precision (Macro)  \\\n",
       "0          0.872894          0.872894           0.896434           0.881340   \n",
       "0          0.873016          0.873016           0.893262           0.878163   \n",
       "0          0.872981          0.872981           0.891255           0.877004   \n",
       "\n",
       "   Recall (Micro)  Recall (Macro)  F1 Score (Micro)  F1 Score (Macro)  \\\n",
       "0        0.958860        0.942026          0.926597          0.910038   \n",
       "0        0.963339        0.948205          0.926978          0.911447   \n",
       "0        0.966057        0.952223          0.927150          0.912290   \n",
       "\n",
       "   AUC (Micro)  AUC (Macro)  \n",
       "0     0.695685     0.557918  \n",
       "0     0.686826     0.556378  \n",
       "0     0.681115     0.555736  "
      ]
     },
     "execution_count": 78,
     "metadata": {},
     "output_type": "execute_result"
    }
   ],
   "source": [
    "aa_exp = pd.concat(exp)\n",
    "aa_exp"
   ]
  },
  {
   "cell_type": "code",
   "execution_count": 79,
   "metadata": {},
   "outputs": [],
   "source": [
    "aa_lbl = pd.concat(lbl)\n",
    "aa_lbl['Accuracy (Exact Match)'] = [aa_lbl['Accuracy (Exact Match)'].iloc[i].item() for i in range(3)]\n",
    "aa_lbl['Precision'] = [aa_lbl['Precision'].iloc[i].item() for i in range(3)]\n",
    "aa_lbl['Recall'] = [aa_lbl['Recall'].iloc[i].item() for i in range(3)]"
   ]
  },
  {
   "cell_type": "code",
   "execution_count": 80,
   "metadata": {},
   "outputs": [
    {
     "data": {
      "text/html": [
       "<div>\n",
       "<style scoped>\n",
       "    .dataframe tbody tr th:only-of-type {\n",
       "        vertical-align: middle;\n",
       "    }\n",
       "\n",
       "    .dataframe tbody tr th {\n",
       "        vertical-align: top;\n",
       "    }\n",
       "\n",
       "    .dataframe thead th {\n",
       "        text-align: right;\n",
       "    }\n",
       "</style>\n",
       "<table border=\"1\" class=\"dataframe\">\n",
       "  <thead>\n",
       "    <tr style=\"text-align: right;\">\n",
       "      <th></th>\n",
       "      <th>Subset Accuracy</th>\n",
       "      <th>Hamming Loss</th>\n",
       "      <th>Accuracy (Exact Match)</th>\n",
       "      <th>Precision</th>\n",
       "      <th>Recall</th>\n",
       "      <th>F1 Score</th>\n",
       "      <th>One Error</th>\n",
       "      <th>Coverage</th>\n",
       "      <th>Ranking Loss</th>\n",
       "      <th>Average Precision</th>\n",
       "    </tr>\n",
       "  </thead>\n",
       "  <tbody>\n",
       "    <tr>\n",
       "      <th>0</th>\n",
       "      <td>0.414583</td>\n",
       "      <td>0.127106</td>\n",
       "      <td>0.861514</td>\n",
       "      <td>0.958274</td>\n",
       "      <td>0.893704</td>\n",
       "      <td>0.910038</td>\n",
       "      <td>0.071952</td>\n",
       "      <td>6.581362</td>\n",
       "      <td>0.309235</td>\n",
       "      <td>0.872038</td>\n",
       "    </tr>\n",
       "    <tr>\n",
       "      <th>0</th>\n",
       "      <td>0.416551</td>\n",
       "      <td>0.126984</td>\n",
       "      <td>0.862053</td>\n",
       "      <td>0.962417</td>\n",
       "      <td>0.890685</td>\n",
       "      <td>0.911447</td>\n",
       "      <td>0.071952</td>\n",
       "      <td>6.602676</td>\n",
       "      <td>0.323356</td>\n",
       "      <td>0.870571</td>\n",
       "    </tr>\n",
       "    <tr>\n",
       "      <th>0</th>\n",
       "      <td>0.416597</td>\n",
       "      <td>0.127019</td>\n",
       "      <td>0.862439</td>\n",
       "      <td>0.965302</td>\n",
       "      <td>0.888739</td>\n",
       "      <td>0.912290</td>\n",
       "      <td>0.071952</td>\n",
       "      <td>6.605940</td>\n",
       "      <td>0.331039</td>\n",
       "      <td>0.870030</td>\n",
       "    </tr>\n",
       "  </tbody>\n",
       "</table>\n",
       "</div>"
      ],
      "text/plain": [
       "   Subset Accuracy  Hamming Loss  Accuracy (Exact Match)  Precision    Recall  \\\n",
       "0         0.414583      0.127106                0.861514   0.958274  0.893704   \n",
       "0         0.416551      0.126984                0.862053   0.962417  0.890685   \n",
       "0         0.416597      0.127019                0.862439   0.965302  0.888739   \n",
       "\n",
       "   F1 Score  One Error  Coverage  Ranking Loss  Average Precision  \n",
       "0  0.910038   0.071952  6.581362      0.309235           0.872038  \n",
       "0  0.911447   0.071952  6.602676      0.323356           0.870571  \n",
       "0  0.912290   0.071952  6.605940      0.331039           0.870030  "
      ]
     },
     "execution_count": 80,
     "metadata": {},
     "output_type": "execute_result"
    }
   ],
   "source": [
    "aa_lbl"
   ]
  },
  {
   "cell_type": "code",
   "execution_count": 81,
   "metadata": {},
   "outputs": [
    {
     "data": {
      "text/plain": [
       "0.8620526790618896"
      ]
     },
     "execution_count": 81,
     "metadata": {},
     "output_type": "execute_result"
    }
   ],
   "source": [
    "aa_lbl['Accuracy (Exact Match)'].iloc[1].item()"
   ]
  },
  {
   "cell_type": "code",
   "execution_count": null,
   "metadata": {},
   "outputs": [],
   "source": []
  }
 ],
 "metadata": {
  "kernelspec": {
   "display_name": "main-ml",
   "language": "python",
   "name": "python3"
  },
  "language_info": {
   "codemirror_mode": {
    "name": "ipython",
    "version": 3
   },
   "file_extension": ".py",
   "mimetype": "text/x-python",
   "name": "python",
   "nbconvert_exporter": "python",
   "pygments_lexer": "ipython3",
   "version": "3.9.18"
  }
 },
 "nbformat": 4,
 "nbformat_minor": 2
}
