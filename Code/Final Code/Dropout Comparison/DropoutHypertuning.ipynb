{
 "cells": [
  {
   "cell_type": "markdown",
   "metadata": {},
   "source": [
    "## Import Libraries"
   ]
  },
  {
   "cell_type": "code",
   "execution_count": 1,
   "metadata": {},
   "outputs": [],
   "source": [
    "import pandas as pd\n",
    "import numpy as np\n",
    "import matplotlib.pyplot as plt\n",
    "import seaborn as sns\n",
    "import torch\n",
    "import optuna\n",
    "from optuna.integration import TFKerasPruningCallback\n",
    "from optuna.trial import TrialState\n",
    "from optuna.visualization import plot_intermediate_values\n",
    "from optuna.visualization import plot_optimization_history\n",
    "from optuna.visualization import plot_param_importances\n",
    "from optuna.visualization import plot_contour\n",
    "from sklearn.preprocessing import MinMaxScaler\n",
    "from torchmetrics.functional.classification import *\n",
    "import tensorflow as tf\n",
    "from tensorflow import keras\n",
    "from keras.utils import *\n",
    "from keras.layers import *\n",
    "from keras.models import *\n",
    "from keras.callbacks import *\n",
    "from skmultilearn.ext import Keras"
   ]
  },
  {
   "cell_type": "markdown",
   "metadata": {},
   "source": [
    "## Read Data"
   ]
  },
  {
   "cell_type": "code",
   "execution_count": 2,
   "metadata": {},
   "outputs": [
    {
     "data": {
      "text/html": [
       "<div>\n",
       "<style scoped>\n",
       "    .dataframe tbody tr th:only-of-type {\n",
       "        vertical-align: middle;\n",
       "    }\n",
       "\n",
       "    .dataframe tbody tr th {\n",
       "        vertical-align: top;\n",
       "    }\n",
       "\n",
       "    .dataframe thead th {\n",
       "        text-align: right;\n",
       "    }\n",
       "</style>\n",
       "<table border=\"1\" class=\"dataframe\">\n",
       "  <thead>\n",
       "    <tr style=\"text-align: right;\">\n",
       "      <th></th>\n",
       "      <th>X1</th>\n",
       "      <th>X2</th>\n",
       "      <th>X3</th>\n",
       "      <th>X4</th>\n",
       "      <th>X5</th>\n",
       "      <th>X6</th>\n",
       "      <th>X7</th>\n",
       "      <th>X8</th>\n",
       "      <th>X9</th>\n",
       "      <th>X10</th>\n",
       "      <th>...</th>\n",
       "      <th>X24</th>\n",
       "      <th>X25</th>\n",
       "      <th>X26</th>\n",
       "      <th>Y1</th>\n",
       "      <th>Y2</th>\n",
       "      <th>Y3</th>\n",
       "      <th>Y4</th>\n",
       "      <th>Y5</th>\n",
       "      <th>Y6</th>\n",
       "      <th>Y7</th>\n",
       "    </tr>\n",
       "  </thead>\n",
       "  <tbody>\n",
       "    <tr>\n",
       "      <th>0</th>\n",
       "      <td>3</td>\n",
       "      <td>1</td>\n",
       "      <td>1</td>\n",
       "      <td>1</td>\n",
       "      <td>1</td>\n",
       "      <td>1</td>\n",
       "      <td>1</td>\n",
       "      <td>1</td>\n",
       "      <td>3</td>\n",
       "      <td>1</td>\n",
       "      <td>...</td>\n",
       "      <td>1</td>\n",
       "      <td>3</td>\n",
       "      <td>1</td>\n",
       "      <td>2</td>\n",
       "      <td>2</td>\n",
       "      <td>1</td>\n",
       "      <td>2</td>\n",
       "      <td>2</td>\n",
       "      <td>1</td>\n",
       "      <td>2</td>\n",
       "    </tr>\n",
       "    <tr>\n",
       "      <th>1</th>\n",
       "      <td>5</td>\n",
       "      <td>3</td>\n",
       "      <td>1</td>\n",
       "      <td>1</td>\n",
       "      <td>2</td>\n",
       "      <td>4</td>\n",
       "      <td>2</td>\n",
       "      <td>1</td>\n",
       "      <td>5</td>\n",
       "      <td>1</td>\n",
       "      <td>...</td>\n",
       "      <td>1</td>\n",
       "      <td>2</td>\n",
       "      <td>2</td>\n",
       "      <td>2</td>\n",
       "      <td>2</td>\n",
       "      <td>2</td>\n",
       "      <td>2</td>\n",
       "      <td>2</td>\n",
       "      <td>1</td>\n",
       "      <td>1</td>\n",
       "    </tr>\n",
       "    <tr>\n",
       "      <th>2</th>\n",
       "      <td>4</td>\n",
       "      <td>1</td>\n",
       "      <td>1</td>\n",
       "      <td>1</td>\n",
       "      <td>2</td>\n",
       "      <td>1</td>\n",
       "      <td>2</td>\n",
       "      <td>2</td>\n",
       "      <td>2</td>\n",
       "      <td>2</td>\n",
       "      <td>...</td>\n",
       "      <td>2</td>\n",
       "      <td>3</td>\n",
       "      <td>1</td>\n",
       "      <td>2</td>\n",
       "      <td>2</td>\n",
       "      <td>2</td>\n",
       "      <td>2</td>\n",
       "      <td>2</td>\n",
       "      <td>2</td>\n",
       "      <td>1</td>\n",
       "    </tr>\n",
       "    <tr>\n",
       "      <th>3</th>\n",
       "      <td>4</td>\n",
       "      <td>1</td>\n",
       "      <td>1</td>\n",
       "      <td>1</td>\n",
       "      <td>2</td>\n",
       "      <td>4</td>\n",
       "      <td>2</td>\n",
       "      <td>1</td>\n",
       "      <td>1</td>\n",
       "      <td>1</td>\n",
       "      <td>...</td>\n",
       "      <td>2</td>\n",
       "      <td>3</td>\n",
       "      <td>2</td>\n",
       "      <td>2</td>\n",
       "      <td>2</td>\n",
       "      <td>2</td>\n",
       "      <td>1</td>\n",
       "      <td>2</td>\n",
       "      <td>1</td>\n",
       "      <td>2</td>\n",
       "    </tr>\n",
       "    <tr>\n",
       "      <th>4</th>\n",
       "      <td>2</td>\n",
       "      <td>1</td>\n",
       "      <td>1</td>\n",
       "      <td>3</td>\n",
       "      <td>1</td>\n",
       "      <td>3</td>\n",
       "      <td>1</td>\n",
       "      <td>1</td>\n",
       "      <td>1</td>\n",
       "      <td>1</td>\n",
       "      <td>...</td>\n",
       "      <td>1</td>\n",
       "      <td>3</td>\n",
       "      <td>1</td>\n",
       "      <td>2</td>\n",
       "      <td>2</td>\n",
       "      <td>2</td>\n",
       "      <td>2</td>\n",
       "      <td>2</td>\n",
       "      <td>2</td>\n",
       "      <td>2</td>\n",
       "    </tr>\n",
       "  </tbody>\n",
       "</table>\n",
       "<p>5 rows × 33 columns</p>\n",
       "</div>"
      ],
      "text/plain": [
       "   X1  X2  X3  X4  X5  X6  X7  X8  X9  X10  ...  X24  X25  X26  Y1  Y2  Y3  \\\n",
       "0   3   1   1   1   1   1   1   1   3    1  ...    1    3    1   2   2   1   \n",
       "1   5   3   1   1   2   4   2   1   5    1  ...    1    2    2   2   2   2   \n",
       "2   4   1   1   1   2   1   2   2   2    2  ...    2    3    1   2   2   2   \n",
       "3   4   1   1   1   2   4   2   1   1    1  ...    2    3    2   2   2   2   \n",
       "4   2   1   1   3   1   3   1   1   1    1  ...    1    3    1   2   2   2   \n",
       "\n",
       "   Y4  Y5  Y6  Y7  \n",
       "0   2   2   1   2  \n",
       "1   2   2   1   1  \n",
       "2   2   2   2   1  \n",
       "3   1   2   1   2  \n",
       "4   2   2   2   2  \n",
       "\n",
       "[5 rows x 33 columns]"
      ]
     },
     "execution_count": 2,
     "metadata": {},
     "output_type": "execute_result"
    }
   ],
   "source": [
    "data = pd.read_csv('D:\\Project\\project-ednn\\Code\\Final_dataset_Diabetes_Complication.csv')\n",
    "data.head()"
   ]
  },
  {
   "cell_type": "code",
   "execution_count": 3,
   "metadata": {},
   "outputs": [
    {
     "data": {
      "text/html": [
       "<div>\n",
       "<style scoped>\n",
       "    .dataframe tbody tr th:only-of-type {\n",
       "        vertical-align: middle;\n",
       "    }\n",
       "\n",
       "    .dataframe tbody tr th {\n",
       "        vertical-align: top;\n",
       "    }\n",
       "\n",
       "    .dataframe thead th {\n",
       "        text-align: right;\n",
       "    }\n",
       "</style>\n",
       "<table border=\"1\" class=\"dataframe\">\n",
       "  <thead>\n",
       "    <tr style=\"text-align: right;\">\n",
       "      <th></th>\n",
       "      <th>X1</th>\n",
       "      <th>X2</th>\n",
       "      <th>X3</th>\n",
       "      <th>X4</th>\n",
       "      <th>X5</th>\n",
       "      <th>X6</th>\n",
       "      <th>X7</th>\n",
       "      <th>X8</th>\n",
       "      <th>X9</th>\n",
       "      <th>X10</th>\n",
       "      <th>...</th>\n",
       "      <th>X24</th>\n",
       "      <th>X25</th>\n",
       "      <th>X26</th>\n",
       "      <th>Y1</th>\n",
       "      <th>Y2</th>\n",
       "      <th>Y3</th>\n",
       "      <th>Y4</th>\n",
       "      <th>Y5</th>\n",
       "      <th>Y6</th>\n",
       "      <th>Y7</th>\n",
       "    </tr>\n",
       "  </thead>\n",
       "  <tbody>\n",
       "    <tr>\n",
       "      <th>0</th>\n",
       "      <td>3</td>\n",
       "      <td>1</td>\n",
       "      <td>1</td>\n",
       "      <td>1</td>\n",
       "      <td>1</td>\n",
       "      <td>1</td>\n",
       "      <td>1</td>\n",
       "      <td>1</td>\n",
       "      <td>3</td>\n",
       "      <td>1</td>\n",
       "      <td>...</td>\n",
       "      <td>1</td>\n",
       "      <td>3</td>\n",
       "      <td>1</td>\n",
       "      <td>2</td>\n",
       "      <td>2</td>\n",
       "      <td>1</td>\n",
       "      <td>2</td>\n",
       "      <td>2</td>\n",
       "      <td>1</td>\n",
       "      <td>2</td>\n",
       "    </tr>\n",
       "    <tr>\n",
       "      <th>1</th>\n",
       "      <td>5</td>\n",
       "      <td>3</td>\n",
       "      <td>1</td>\n",
       "      <td>1</td>\n",
       "      <td>2</td>\n",
       "      <td>4</td>\n",
       "      <td>2</td>\n",
       "      <td>1</td>\n",
       "      <td>5</td>\n",
       "      <td>1</td>\n",
       "      <td>...</td>\n",
       "      <td>1</td>\n",
       "      <td>2</td>\n",
       "      <td>2</td>\n",
       "      <td>2</td>\n",
       "      <td>2</td>\n",
       "      <td>2</td>\n",
       "      <td>2</td>\n",
       "      <td>2</td>\n",
       "      <td>1</td>\n",
       "      <td>1</td>\n",
       "    </tr>\n",
       "    <tr>\n",
       "      <th>2</th>\n",
       "      <td>4</td>\n",
       "      <td>1</td>\n",
       "      <td>1</td>\n",
       "      <td>1</td>\n",
       "      <td>2</td>\n",
       "      <td>1</td>\n",
       "      <td>2</td>\n",
       "      <td>2</td>\n",
       "      <td>2</td>\n",
       "      <td>2</td>\n",
       "      <td>...</td>\n",
       "      <td>2</td>\n",
       "      <td>3</td>\n",
       "      <td>1</td>\n",
       "      <td>2</td>\n",
       "      <td>2</td>\n",
       "      <td>2</td>\n",
       "      <td>2</td>\n",
       "      <td>2</td>\n",
       "      <td>2</td>\n",
       "      <td>1</td>\n",
       "    </tr>\n",
       "    <tr>\n",
       "      <th>3</th>\n",
       "      <td>4</td>\n",
       "      <td>1</td>\n",
       "      <td>1</td>\n",
       "      <td>1</td>\n",
       "      <td>2</td>\n",
       "      <td>4</td>\n",
       "      <td>2</td>\n",
       "      <td>1</td>\n",
       "      <td>1</td>\n",
       "      <td>1</td>\n",
       "      <td>...</td>\n",
       "      <td>2</td>\n",
       "      <td>3</td>\n",
       "      <td>2</td>\n",
       "      <td>2</td>\n",
       "      <td>2</td>\n",
       "      <td>2</td>\n",
       "      <td>1</td>\n",
       "      <td>2</td>\n",
       "      <td>1</td>\n",
       "      <td>2</td>\n",
       "    </tr>\n",
       "    <tr>\n",
       "      <th>4</th>\n",
       "      <td>2</td>\n",
       "      <td>1</td>\n",
       "      <td>1</td>\n",
       "      <td>3</td>\n",
       "      <td>1</td>\n",
       "      <td>3</td>\n",
       "      <td>1</td>\n",
       "      <td>1</td>\n",
       "      <td>1</td>\n",
       "      <td>1</td>\n",
       "      <td>...</td>\n",
       "      <td>1</td>\n",
       "      <td>3</td>\n",
       "      <td>1</td>\n",
       "      <td>2</td>\n",
       "      <td>2</td>\n",
       "      <td>2</td>\n",
       "      <td>2</td>\n",
       "      <td>2</td>\n",
       "      <td>2</td>\n",
       "      <td>2</td>\n",
       "    </tr>\n",
       "    <tr>\n",
       "      <th>...</th>\n",
       "      <td>...</td>\n",
       "      <td>...</td>\n",
       "      <td>...</td>\n",
       "      <td>...</td>\n",
       "      <td>...</td>\n",
       "      <td>...</td>\n",
       "      <td>...</td>\n",
       "      <td>...</td>\n",
       "      <td>...</td>\n",
       "      <td>...</td>\n",
       "      <td>...</td>\n",
       "      <td>...</td>\n",
       "      <td>...</td>\n",
       "      <td>...</td>\n",
       "      <td>...</td>\n",
       "      <td>...</td>\n",
       "      <td>...</td>\n",
       "      <td>...</td>\n",
       "      <td>...</td>\n",
       "      <td>...</td>\n",
       "      <td>...</td>\n",
       "    </tr>\n",
       "    <tr>\n",
       "      <th>543770</th>\n",
       "      <td>1</td>\n",
       "      <td>1</td>\n",
       "      <td>2</td>\n",
       "      <td>1</td>\n",
       "      <td>1</td>\n",
       "      <td>4</td>\n",
       "      <td>1</td>\n",
       "      <td>1</td>\n",
       "      <td>5</td>\n",
       "      <td>2</td>\n",
       "      <td>...</td>\n",
       "      <td>2</td>\n",
       "      <td>3</td>\n",
       "      <td>1</td>\n",
       "      <td>2</td>\n",
       "      <td>2</td>\n",
       "      <td>2</td>\n",
       "      <td>2</td>\n",
       "      <td>2</td>\n",
       "      <td>2</td>\n",
       "      <td>2</td>\n",
       "    </tr>\n",
       "    <tr>\n",
       "      <th>543771</th>\n",
       "      <td>2</td>\n",
       "      <td>1</td>\n",
       "      <td>1</td>\n",
       "      <td>1</td>\n",
       "      <td>1</td>\n",
       "      <td>4</td>\n",
       "      <td>1</td>\n",
       "      <td>1</td>\n",
       "      <td>5</td>\n",
       "      <td>1</td>\n",
       "      <td>...</td>\n",
       "      <td>1</td>\n",
       "      <td>2</td>\n",
       "      <td>2</td>\n",
       "      <td>2</td>\n",
       "      <td>2</td>\n",
       "      <td>1</td>\n",
       "      <td>2</td>\n",
       "      <td>2</td>\n",
       "      <td>2</td>\n",
       "      <td>1</td>\n",
       "    </tr>\n",
       "    <tr>\n",
       "      <th>543772</th>\n",
       "      <td>1</td>\n",
       "      <td>2</td>\n",
       "      <td>1</td>\n",
       "      <td>1</td>\n",
       "      <td>1</td>\n",
       "      <td>3</td>\n",
       "      <td>1</td>\n",
       "      <td>1</td>\n",
       "      <td>2</td>\n",
       "      <td>1</td>\n",
       "      <td>...</td>\n",
       "      <td>1</td>\n",
       "      <td>3</td>\n",
       "      <td>1</td>\n",
       "      <td>2</td>\n",
       "      <td>2</td>\n",
       "      <td>2</td>\n",
       "      <td>2</td>\n",
       "      <td>2</td>\n",
       "      <td>2</td>\n",
       "      <td>1</td>\n",
       "    </tr>\n",
       "    <tr>\n",
       "      <th>543773</th>\n",
       "      <td>3</td>\n",
       "      <td>1</td>\n",
       "      <td>2</td>\n",
       "      <td>1</td>\n",
       "      <td>1</td>\n",
       "      <td>3</td>\n",
       "      <td>1</td>\n",
       "      <td>1</td>\n",
       "      <td>2</td>\n",
       "      <td>2</td>\n",
       "      <td>...</td>\n",
       "      <td>1</td>\n",
       "      <td>3</td>\n",
       "      <td>2</td>\n",
       "      <td>2</td>\n",
       "      <td>2</td>\n",
       "      <td>2</td>\n",
       "      <td>2</td>\n",
       "      <td>1</td>\n",
       "      <td>2</td>\n",
       "      <td>2</td>\n",
       "    </tr>\n",
       "    <tr>\n",
       "      <th>543774</th>\n",
       "      <td>1</td>\n",
       "      <td>1</td>\n",
       "      <td>1</td>\n",
       "      <td>1</td>\n",
       "      <td>1</td>\n",
       "      <td>4</td>\n",
       "      <td>1</td>\n",
       "      <td>1</td>\n",
       "      <td>2</td>\n",
       "      <td>1</td>\n",
       "      <td>...</td>\n",
       "      <td>1</td>\n",
       "      <td>3</td>\n",
       "      <td>2</td>\n",
       "      <td>2</td>\n",
       "      <td>2</td>\n",
       "      <td>2</td>\n",
       "      <td>2</td>\n",
       "      <td>2</td>\n",
       "      <td>2</td>\n",
       "      <td>2</td>\n",
       "    </tr>\n",
       "  </tbody>\n",
       "</table>\n",
       "<p>543775 rows × 33 columns</p>\n",
       "</div>"
      ],
      "text/plain": [
       "        X1  X2  X3  X4  X5  X6  X7  X8  X9  X10  ...  X24  X25  X26  Y1  Y2  \\\n",
       "0        3   1   1   1   1   1   1   1   3    1  ...    1    3    1   2   2   \n",
       "1        5   3   1   1   2   4   2   1   5    1  ...    1    2    2   2   2   \n",
       "2        4   1   1   1   2   1   2   2   2    2  ...    2    3    1   2   2   \n",
       "3        4   1   1   1   2   4   2   1   1    1  ...    2    3    2   2   2   \n",
       "4        2   1   1   3   1   3   1   1   1    1  ...    1    3    1   2   2   \n",
       "...     ..  ..  ..  ..  ..  ..  ..  ..  ..  ...  ...  ...  ...  ...  ..  ..   \n",
       "543770   1   1   2   1   1   4   1   1   5    2  ...    2    3    1   2   2   \n",
       "543771   2   1   1   1   1   4   1   1   5    1  ...    1    2    2   2   2   \n",
       "543772   1   2   1   1   1   3   1   1   2    1  ...    1    3    1   2   2   \n",
       "543773   3   1   2   1   1   3   1   1   2    2  ...    1    3    2   2   2   \n",
       "543774   1   1   1   1   1   4   1   1   2    1  ...    1    3    2   2   2   \n",
       "\n",
       "        Y3  Y4  Y5  Y6  Y7  \n",
       "0        1   2   2   1   2  \n",
       "1        2   2   2   1   1  \n",
       "2        2   2   2   2   1  \n",
       "3        2   1   2   1   2  \n",
       "4        2   2   2   2   2  \n",
       "...     ..  ..  ..  ..  ..  \n",
       "543770   2   2   2   2   2  \n",
       "543771   1   2   2   2   1  \n",
       "543772   2   2   2   2   1  \n",
       "543773   2   2   1   2   2  \n",
       "543774   2   2   2   2   2  \n",
       "\n",
       "[543775 rows x 33 columns]"
      ]
     },
     "execution_count": 3,
     "metadata": {},
     "output_type": "execute_result"
    }
   ],
   "source": [
    "data = data.drop_duplicates(ignore_index=True)\n",
    "data"
   ]
  },
  {
   "cell_type": "code",
   "execution_count": 4,
   "metadata": {},
   "outputs": [
    {
     "name": "stdout",
     "output_type": "stream",
     "text": [
      "<class 'pandas.core.frame.DataFrame'>\n",
      "RangeIndex: 543775 entries, 0 to 543774\n",
      "Data columns (total 33 columns):\n",
      " #   Column  Non-Null Count   Dtype\n",
      "---  ------  --------------   -----\n",
      " 0   X1      543775 non-null  int64\n",
      " 1   X2      543775 non-null  int64\n",
      " 2   X3      543775 non-null  int64\n",
      " 3   X4      543775 non-null  int64\n",
      " 4   X5      543775 non-null  int64\n",
      " 5   X6      543775 non-null  int64\n",
      " 6   X7      543775 non-null  int64\n",
      " 7   X8      543775 non-null  int64\n",
      " 8   X9      543775 non-null  int64\n",
      " 9   X10     543775 non-null  int64\n",
      " 10  X11     543775 non-null  int64\n",
      " 11  X12     543775 non-null  int64\n",
      " 12  X13     543775 non-null  int64\n",
      " 13  X14     543775 non-null  int64\n",
      " 14  X15     543775 non-null  int64\n",
      " 15  X16     543775 non-null  int64\n",
      " 16  X17     543775 non-null  int64\n",
      " 17  X18     543775 non-null  int64\n",
      " 18  X19     543775 non-null  int64\n",
      " 19  X20     543775 non-null  int64\n",
      " 20  X21     543775 non-null  int64\n",
      " 21  X22     543775 non-null  int64\n",
      " 22  X23     543775 non-null  int64\n",
      " 23  X24     543775 non-null  int64\n",
      " 24  X25     543775 non-null  int64\n",
      " 25  X26     543775 non-null  int64\n",
      " 26  Y1      543775 non-null  int64\n",
      " 27  Y2      543775 non-null  int64\n",
      " 28  Y3      543775 non-null  int64\n",
      " 29  Y4      543775 non-null  int64\n",
      " 30  Y5      543775 non-null  int64\n",
      " 31  Y6      543775 non-null  int64\n",
      " 32  Y7      543775 non-null  int64\n",
      "dtypes: int64(33)\n",
      "memory usage: 136.9 MB\n"
     ]
    }
   ],
   "source": [
    "data.info()"
   ]
  },
  {
   "cell_type": "markdown",
   "metadata": {},
   "source": [
    "## Data Visualization"
   ]
  },
  {
   "cell_type": "code",
   "execution_count": 5,
   "metadata": {},
   "outputs": [
    {
     "data": {
      "text/html": [
       "<div>\n",
       "<style scoped>\n",
       "    .dataframe tbody tr th:only-of-type {\n",
       "        vertical-align: middle;\n",
       "    }\n",
       "\n",
       "    .dataframe tbody tr th {\n",
       "        vertical-align: top;\n",
       "    }\n",
       "\n",
       "    .dataframe thead th {\n",
       "        text-align: right;\n",
       "    }\n",
       "</style>\n",
       "<table border=\"1\" class=\"dataframe\">\n",
       "  <thead>\n",
       "    <tr style=\"text-align: right;\">\n",
       "      <th></th>\n",
       "      <th>Y1</th>\n",
       "      <th>Y2</th>\n",
       "      <th>Y3</th>\n",
       "      <th>Y4</th>\n",
       "      <th>Y5</th>\n",
       "      <th>Y6</th>\n",
       "      <th>Y7</th>\n",
       "    </tr>\n",
       "  </thead>\n",
       "  <tbody>\n",
       "    <tr>\n",
       "      <th>0</th>\n",
       "      <td>2</td>\n",
       "      <td>2</td>\n",
       "      <td>1</td>\n",
       "      <td>2</td>\n",
       "      <td>2</td>\n",
       "      <td>1</td>\n",
       "      <td>2</td>\n",
       "    </tr>\n",
       "    <tr>\n",
       "      <th>1</th>\n",
       "      <td>2</td>\n",
       "      <td>2</td>\n",
       "      <td>2</td>\n",
       "      <td>2</td>\n",
       "      <td>2</td>\n",
       "      <td>1</td>\n",
       "      <td>1</td>\n",
       "    </tr>\n",
       "    <tr>\n",
       "      <th>2</th>\n",
       "      <td>2</td>\n",
       "      <td>2</td>\n",
       "      <td>2</td>\n",
       "      <td>2</td>\n",
       "      <td>2</td>\n",
       "      <td>2</td>\n",
       "      <td>1</td>\n",
       "    </tr>\n",
       "    <tr>\n",
       "      <th>3</th>\n",
       "      <td>2</td>\n",
       "      <td>2</td>\n",
       "      <td>2</td>\n",
       "      <td>1</td>\n",
       "      <td>2</td>\n",
       "      <td>1</td>\n",
       "      <td>2</td>\n",
       "    </tr>\n",
       "    <tr>\n",
       "      <th>4</th>\n",
       "      <td>2</td>\n",
       "      <td>2</td>\n",
       "      <td>2</td>\n",
       "      <td>2</td>\n",
       "      <td>2</td>\n",
       "      <td>2</td>\n",
       "      <td>2</td>\n",
       "    </tr>\n",
       "    <tr>\n",
       "      <th>...</th>\n",
       "      <td>...</td>\n",
       "      <td>...</td>\n",
       "      <td>...</td>\n",
       "      <td>...</td>\n",
       "      <td>...</td>\n",
       "      <td>...</td>\n",
       "      <td>...</td>\n",
       "    </tr>\n",
       "    <tr>\n",
       "      <th>543770</th>\n",
       "      <td>2</td>\n",
       "      <td>2</td>\n",
       "      <td>2</td>\n",
       "      <td>2</td>\n",
       "      <td>2</td>\n",
       "      <td>2</td>\n",
       "      <td>2</td>\n",
       "    </tr>\n",
       "    <tr>\n",
       "      <th>543771</th>\n",
       "      <td>2</td>\n",
       "      <td>2</td>\n",
       "      <td>1</td>\n",
       "      <td>2</td>\n",
       "      <td>2</td>\n",
       "      <td>2</td>\n",
       "      <td>1</td>\n",
       "    </tr>\n",
       "    <tr>\n",
       "      <th>543772</th>\n",
       "      <td>2</td>\n",
       "      <td>2</td>\n",
       "      <td>2</td>\n",
       "      <td>2</td>\n",
       "      <td>2</td>\n",
       "      <td>2</td>\n",
       "      <td>1</td>\n",
       "    </tr>\n",
       "    <tr>\n",
       "      <th>543773</th>\n",
       "      <td>2</td>\n",
       "      <td>2</td>\n",
       "      <td>2</td>\n",
       "      <td>2</td>\n",
       "      <td>1</td>\n",
       "      <td>2</td>\n",
       "      <td>2</td>\n",
       "    </tr>\n",
       "    <tr>\n",
       "      <th>543774</th>\n",
       "      <td>2</td>\n",
       "      <td>2</td>\n",
       "      <td>2</td>\n",
       "      <td>2</td>\n",
       "      <td>2</td>\n",
       "      <td>2</td>\n",
       "      <td>2</td>\n",
       "    </tr>\n",
       "  </tbody>\n",
       "</table>\n",
       "<p>543775 rows × 7 columns</p>\n",
       "</div>"
      ],
      "text/plain": [
       "        Y1  Y2  Y3  Y4  Y5  Y6  Y7\n",
       "0        2   2   1   2   2   1   2\n",
       "1        2   2   2   2   2   1   1\n",
       "2        2   2   2   2   2   2   1\n",
       "3        2   2   2   1   2   1   2\n",
       "4        2   2   2   2   2   2   2\n",
       "...     ..  ..  ..  ..  ..  ..  ..\n",
       "543770   2   2   2   2   2   2   2\n",
       "543771   2   2   1   2   2   2   1\n",
       "543772   2   2   2   2   2   2   1\n",
       "543773   2   2   2   2   1   2   2\n",
       "543774   2   2   2   2   2   2   2\n",
       "\n",
       "[543775 rows x 7 columns]"
      ]
     },
     "execution_count": 5,
     "metadata": {},
     "output_type": "execute_result"
    }
   ],
   "source": [
    "data_feature = data.iloc[:, :26]\n",
    "data_label = data.iloc[:, 26:]\n",
    "data_label"
   ]
  },
  {
   "cell_type": "markdown",
   "metadata": {},
   "source": [
    "## Data Preprocessing"
   ]
  },
  {
   "cell_type": "code",
   "execution_count": 6,
   "metadata": {},
   "outputs": [],
   "source": [
    "scaler = MinMaxScaler()\n",
    "scaler.fit(data)\n",
    "\n",
    "# Transform the DataFrame to obtain the normalized data\n",
    "data_normalized = scaler.transform(data)"
   ]
  },
  {
   "cell_type": "code",
   "execution_count": 7,
   "metadata": {},
   "outputs": [],
   "source": [
    "X = data_normalized[:, :26]\n",
    "y = data_normalized[:, 26:]"
   ]
  },
  {
   "cell_type": "code",
   "execution_count": 8,
   "metadata": {},
   "outputs": [],
   "source": [
    "data_normalize = pd.DataFrame(scaler.transform(data), columns=data.columns)\n",
    "df_feature = data_normalize.iloc[:, :26]\n",
    "df_label = data_normalize.iloc[:, 26:]"
   ]
  },
  {
   "cell_type": "markdown",
   "metadata": {},
   "source": [
    "## Modelling"
   ]
  },
  {
   "cell_type": "code",
   "execution_count": 9,
   "metadata": {},
   "outputs": [],
   "source": [
    "weight_list = []\n",
    "for i, label in enumerate(df_label.columns):\n",
    "    values_1 = df_label[label][df_label[label] == 1]\n",
    "    values_2 = df_label[label][df_label[label] == 2]\n",
    "    dist = 1 - (len(values_1) / len(df_label))\n",
    "    weight_list.append(dist)"
   ]
  },
  {
   "cell_type": "code",
   "execution_count": 10,
   "metadata": {},
   "outputs": [
    {
     "name": "stdout",
     "output_type": "stream",
     "text": [
      "cuda\n"
     ]
    }
   ],
   "source": [
    "device = torch.device(\"cuda\" if torch.cuda.is_available() else \"cpu\")\n",
    "print(device)"
   ]
  },
  {
   "cell_type": "code",
   "execution_count": 11,
   "metadata": {},
   "outputs": [
    {
     "data": {
      "text/plain": [
       "tensor([0.0483, 0.0652, 0.0605, 0.0508, 0.1008, 0.3895, 0.4290],\n",
       "       device='cuda:0')"
      ]
     },
     "execution_count": 11,
     "metadata": {},
     "output_type": "execute_result"
    }
   ],
   "source": [
    "weights_ = torch.Tensor(weight_list).to(device)\n",
    "weights_"
   ]
  },
  {
   "cell_type": "code",
   "execution_count": 12,
   "metadata": {},
   "outputs": [],
   "source": [
    "def reset_weights(m):\n",
    "    for layer in m.children():\n",
    "        if hasattr(layer, 'reset_parameters'):\n",
    "            # print(f'Reset trainable parameters of layer = {layer}')\n",
    "            layer.reset_parameters()"
   ]
  },
  {
   "cell_type": "code",
   "execution_count": 13,
   "metadata": {},
   "outputs": [],
   "source": [
    "class DNNModelwithWeightedDropout(tf.keras.Model):\n",
    "    def __init__(self, num_features=26, num_classes=7, p=[0.05, 0.01, 0.003]):\n",
    "        super(DNNModelwithWeightedDropout, self).__init__()\n",
    "        self.fcn1 = tf.keras.Sequential([\n",
    "            tf.keras.layers.Dense(32, activation='relu', input_shape=(num_features,)),\n",
    "            tf.keras.layers.Dense(len(p), activation='softmax')\n",
    "        ])\n",
    "        self.dropout = [tf.keras.layers.Dropout(rate=rate) for rate in p]\n",
    "        self.fcn2 = tf.keras.Sequential([\n",
    "            tf.keras.layers.Dense(num_classes, activation='sigmoid')\n",
    "        ])\n",
    "\n",
    "    def call(self, x, training=None, mask=None):\n",
    "        x = self.fcn1(x)\n",
    "        weights = x\n",
    "\n",
    "        # Apply weighted dropout\n",
    "        x = [dropout(x[:, i], training=training) * weights[:, i] for i, dropout in enumerate(self.dropout)]\n",
    "\n",
    "        x = tf.stack(x, axis=1)\n",
    "        x = self.fcn2(x)\n",
    "        return x"
   ]
  },
  {
   "cell_type": "code",
   "execution_count": 14,
   "metadata": {},
   "outputs": [],
   "source": [
    "class DNNDropout(tf.keras.Model):\n",
    "    def __init__(self, num_features=26, num_classes=7, p=0.5):\n",
    "        super(DNNDropout, self).__init__()\n",
    "\n",
    "        self.fcn1 = tf.keras.Sequential([\n",
    "            tf.keras.layers.Dense(16, activation='relu'),\n",
    "            tf.keras.layers.Dense(8, activation='relu'),\n",
    "            tf.keras.layers.Dense(3, activation='softmax')\n",
    "        ])\n",
    "\n",
    "        self.dropout1 = tf.keras.layers.Dropout(p)\n",
    "\n",
    "        self.fcn2 = tf.keras.Sequential([\n",
    "            tf.keras.layers.Dense(num_classes, activation='sigmoid')\n",
    "        ])\n",
    "\n",
    "    def call(self, x, training=False):\n",
    "        x = self.fcn1(x)\n",
    "        x = self.dropout1(x)\n",
    "        x = self.fcn2(x)\n",
    "        return x"
   ]
  },
  {
   "cell_type": "code",
   "execution_count": 15,
   "metadata": {},
   "outputs": [],
   "source": [
    "def DropoutModel(trial):\n",
    "    dropout_rate = trial.suggest_float('dropout_rate', 0.0, 0.5)\n",
    "    model = DNNDropout(num_features=26, num_classes=7, p=dropout_rate)\n",
    "    lossWeights = weight_list\n",
    "    model.compile(loss='binary_crossentropy', optimizer=tf.keras.optimizers.RMSprop(learning_rate=0.003), metrics=['accuracy'], loss_weights=lossWeights)\n",
    "\n",
    "    return model"
   ]
  },
  {
   "cell_type": "code",
   "execution_count": 16,
   "metadata": {},
   "outputs": [],
   "source": [
    "def ProposedModel(trial):\n",
    "    dropout_rate1 = trial.suggest_float('dropout_rate1', 0.0, 0.5)\n",
    "    dropout_rate2 = trial.suggest_float('dropout_rate2', 0.0, 0.5)\n",
    "    dropout_rate3 = trial.suggest_float('dropout_rate3', 0.0, 0.5)\n",
    "    dropout_rate = [dropout_rate1, dropout_rate2, dropout_rate3]\n",
    "    model = DNNModelwithWeightedDropout(num_features=26, num_classes=7, p=dropout_rate)\n",
    "    lossWeights = weight_list\n",
    "    model.compile(loss='binary_crossentropy', optimizer=tf.keras.optimizers.RMSprop(learning_rate=0.003), metrics=['accuracy'], loss_weights=lossWeights)\n",
    "\n",
    "    return model"
   ]
  },
  {
   "cell_type": "markdown",
   "metadata": {},
   "source": [
    "## Hyperparameter Tuning"
   ]
  },
  {
   "cell_type": "code",
   "execution_count": 17,
   "metadata": {},
   "outputs": [],
   "source": [
    "from sklearn.model_selection import train_test_split\n",
    "x_train, x_temp, y_train, y_temp = train_test_split(X, y, test_size=0.3, random_state=42)\n",
    "x_test, x_valid, y_test, y_valid = train_test_split(x_temp, y_temp, test_size=0.3, random_state=42)"
   ]
  },
  {
   "cell_type": "code",
   "execution_count": 18,
   "metadata": {},
   "outputs": [],
   "source": [
    "def objective1(trial):\n",
    "    keras.backend.clear_session()\n",
    "    model = DropoutModel(trial)\n",
    "\n",
    "    model.fit(\n",
    "        x_train,\n",
    "        y_train,\n",
    "        batch_size=32,\n",
    "        epochs=10,\n",
    "        callbacks=[TFKerasPruningCallback(trial, \"val_loss\")],\n",
    "        validation_data=(x_valid, y_valid),\n",
    "        verbose=1,\n",
    "    )\n",
    "\n",
    "    # Evaluate the model accuracy on the validation set.\n",
    "    prediction = model.predict(x_test)\n",
    "    trues = torch.tensor(y_test)\n",
    "    preds = torch.tensor(prediction)\n",
    "\n",
    "    score = multilabel_accuracy(preds, trues, num_labels=7, average='micro').item()\n",
    "    return score"
   ]
  },
  {
   "cell_type": "code",
   "execution_count": 19,
   "metadata": {},
   "outputs": [],
   "source": [
    "def objective2(trial):\n",
    "    keras.backend.clear_session()\n",
    "        # Generate our trial model.\n",
    "    model = ProposedModel(trial)\n",
    "\n",
    "    # Fit the model on the training data.\n",
    "    # The TFKerasPruningCallback checks for pruning condition every epoch.\n",
    "    model.fit(\n",
    "        x_train,\n",
    "        y_train,\n",
    "        batch_size=32,\n",
    "        epochs=10,\n",
    "        callbacks=[TFKerasPruningCallback(trial, \"val_loss\")],\n",
    "        validation_data=(x_valid, y_valid),\n",
    "        verbose=1,\n",
    "    )\n",
    "\n",
    "    # Evaluate the model accuracy on the validation set.\n",
    "    prediction = model.predict(x_test)\n",
    "    trues = torch.tensor(y_test)\n",
    "    preds = torch.tensor(prediction)\n",
    "\n",
    "    score = multilabel_accuracy(preds, trues, num_labels=7, average='micro').item()\n",
    "    return score"
   ]
  },
  {
   "cell_type": "code",
   "execution_count": 20,
   "metadata": {},
   "outputs": [
    {
     "name": "stderr",
     "output_type": "stream",
     "text": [
      "[I 2024-01-24 23:51:36,076] A new study created in memory with name: no-name-bcf301fb-265f-431f-a1ae-6938ea11488c\n"
     ]
    },
    {
     "name": "stdout",
     "output_type": "stream",
     "text": [
      "Epoch 1/10\n",
      "11896/11896 [==============================] - 45s 4ms/step - loss: 0.0159 - accuracy: 0.3464 - val_loss: 0.0149 - val_accuracy: 0.3023\n",
      "Epoch 2/10\n",
      "11896/11896 [==============================] - 42s 3ms/step - loss: 0.0155 - accuracy: 0.3178 - val_loss: 0.0150 - val_accuracy: 0.1866\n",
      "Epoch 3/10\n",
      "11896/11896 [==============================] - 43s 4ms/step - loss: 0.0155 - accuracy: 0.3142 - val_loss: 0.0150 - val_accuracy: 0.1669\n",
      "Epoch 4/10\n",
      "11896/11896 [==============================] - 41s 3ms/step - loss: 0.0155 - accuracy: 0.3304 - val_loss: 0.0149 - val_accuracy: 0.3758\n",
      "Epoch 5/10\n",
      "11896/11896 [==============================] - 43s 4ms/step - loss: 0.0155 - accuracy: 0.3341 - val_loss: 0.0150 - val_accuracy: 0.2193\n",
      "Epoch 6/10\n",
      "11896/11896 [==============================] - 42s 4ms/step - loss: 0.0155 - accuracy: 0.3060 - val_loss: 0.0149 - val_accuracy: 0.3001\n",
      "Epoch 7/10\n",
      "11896/11896 [==============================] - 44s 4ms/step - loss: 0.0155 - accuracy: 0.3204 - val_loss: 0.0150 - val_accuracy: 0.2238\n",
      "Epoch 8/10\n",
      "11896/11896 [==============================] - 42s 4ms/step - loss: 0.0155 - accuracy: 0.2981 - val_loss: 0.0149 - val_accuracy: 0.3666\n",
      "Epoch 9/10\n",
      "11896/11896 [==============================] - 42s 4ms/step - loss: 0.0155 - accuracy: 0.3105 - val_loss: 0.0152 - val_accuracy: 0.1527\n",
      "Epoch 10/10\n",
      "11896/11896 [==============================] - 41s 3ms/step - loss: 0.0155 - accuracy: 0.3097 - val_loss: 0.0149 - val_accuracy: 0.2929\n",
      "3569/3569 [==============================] - 3s 880us/step\n"
     ]
    },
    {
     "name": "stderr",
     "output_type": "stream",
     "text": [
      "[I 2024-01-24 23:58:46,668] Trial 0 finished with value: 0.8695766925811768 and parameters: {'dropout_rate': 0.1576467440183411}. Best is trial 0 with value: 0.8695766925811768.\n"
     ]
    },
    {
     "name": "stdout",
     "output_type": "stream",
     "text": [
      "Epoch 1/10\n",
      "11896/11896 [==============================] - 41s 3ms/step - loss: 0.0163 - accuracy: 0.3668 - val_loss: 0.0154 - val_accuracy: 0.0059\n",
      "Epoch 2/10\n",
      "11896/11896 [==============================] - 41s 3ms/step - loss: 0.0160 - accuracy: 0.3973 - val_loss: 0.0154 - val_accuracy: 0.3945\n",
      "Epoch 3/10\n",
      "11896/11896 [==============================] - 41s 3ms/step - loss: 0.0160 - accuracy: 0.4009 - val_loss: 0.0155 - val_accuracy: 0.2107\n",
      "Epoch 4/10\n",
      "11896/11896 [==============================] - 41s 3ms/step - loss: 0.0160 - accuracy: 0.3971 - val_loss: 0.0155 - val_accuracy: 0.3315\n",
      "Epoch 5/10\n",
      "11896/11896 [==============================] - 42s 3ms/step - loss: 0.0160 - accuracy: 0.3952 - val_loss: 0.0154 - val_accuracy: 0.2534\n",
      "Epoch 6/10\n",
      "11896/11896 [==============================] - 41s 3ms/step - loss: 0.0160 - accuracy: 0.3850 - val_loss: 0.0154 - val_accuracy: 0.3929\n",
      "Epoch 7/10\n",
      "11896/11896 [==============================] - 41s 3ms/step - loss: 0.0160 - accuracy: 0.4111 - val_loss: 0.0154 - val_accuracy: 0.2305\n",
      "Epoch 8/10\n",
      "11896/11896 [==============================] - 41s 3ms/step - loss: 0.0160 - accuracy: 0.4013 - val_loss: 0.0154 - val_accuracy: 0.5827\n",
      "Epoch 9/10\n",
      "11896/11896 [==============================] - 41s 3ms/step - loss: 0.0160 - accuracy: 0.4110 - val_loss: 0.0154 - val_accuracy: 0.2001\n",
      "Epoch 10/10\n",
      "11896/11896 [==============================] - 40s 3ms/step - loss: 0.0160 - accuracy: 0.3940 - val_loss: 0.0154 - val_accuracy: 0.2969\n",
      "3569/3569 [==============================] - 3s 858us/step\n"
     ]
    },
    {
     "name": "stderr",
     "output_type": "stream",
     "text": [
      "[I 2024-01-25 00:05:40,061] Trial 1 finished with value: 0.8618667125701904 and parameters: {'dropout_rate': 0.343185432370909}. Best is trial 0 with value: 0.8695766925811768.\n"
     ]
    },
    {
     "name": "stdout",
     "output_type": "stream",
     "text": [
      "Epoch 1/10\n",
      "11896/11896 [==============================] - 42s 3ms/step - loss: 0.0166 - accuracy: 0.4709 - val_loss: 0.0156 - val_accuracy: 0.3081\n",
      "Epoch 2/10\n",
      "11896/11896 [==============================] - 40s 3ms/step - loss: 0.0163 - accuracy: 0.4507 - val_loss: 0.0156 - val_accuracy: 0.3553\n",
      "Epoch 3/10\n",
      "11896/11896 [==============================] - 41s 3ms/step - loss: 0.0163 - accuracy: 0.4481 - val_loss: 0.0156 - val_accuracy: 0.3521\n",
      "Epoch 4/10\n",
      "11896/11896 [==============================] - 42s 4ms/step - loss: 0.0163 - accuracy: 0.4546 - val_loss: 0.0156 - val_accuracy: 0.3725\n",
      "Epoch 5/10\n",
      "11896/11896 [==============================] - 40s 3ms/step - loss: 0.0163 - accuracy: 0.4612 - val_loss: 0.0157 - val_accuracy: 0.4324\n",
      "Epoch 6/10\n",
      "11896/11896 [==============================] - 41s 3ms/step - loss: 0.0163 - accuracy: 0.4549 - val_loss: 0.0157 - val_accuracy: 0.4052\n",
      "Epoch 7/10\n",
      "11896/11896 [==============================] - 41s 3ms/step - loss: 0.0163 - accuracy: 0.4599 - val_loss: 0.0156 - val_accuracy: 0.3479\n",
      "Epoch 8/10\n",
      "11896/11896 [==============================] - 41s 3ms/step - loss: 0.0163 - accuracy: 0.4573 - val_loss: 0.0156 - val_accuracy: 0.2901\n",
      "Epoch 9/10\n",
      "11896/11896 [==============================] - 41s 3ms/step - loss: 0.0163 - accuracy: 0.4573 - val_loss: 0.0157 - val_accuracy: 0.3793\n",
      "Epoch 10/10\n",
      "11896/11896 [==============================] - 41s 3ms/step - loss: 0.0163 - accuracy: 0.4664 - val_loss: 0.0156 - val_accuracy: 0.0072\n",
      "3569/3569 [==============================] - 3s 892us/step\n"
     ]
    },
    {
     "name": "stderr",
     "output_type": "stream",
     "text": [
      "[I 2024-01-25 00:12:35,280] Trial 2 finished with value: 0.8540603518486023 and parameters: {'dropout_rate': 0.45900214920165106}. Best is trial 0 with value: 0.8695766925811768.\n"
     ]
    },
    {
     "name": "stdout",
     "output_type": "stream",
     "text": [
      "Epoch 1/10\n",
      "11896/11896 [==============================] - 42s 4ms/step - loss: 0.0167 - accuracy: 0.4861 - val_loss: 0.0156 - val_accuracy: 0.4205\n",
      "Epoch 2/10\n",
      "11885/11896 [============================>.] - ETA: 0s - loss: 0.0163 - accuracy: 0.5045"
     ]
    },
    {
     "name": "stderr",
     "output_type": "stream",
     "text": [
      "[I 2024-01-25 00:13:58,756] Trial 3 pruned. Trial was pruned at epoch 1.\n"
     ]
    },
    {
     "name": "stdout",
     "output_type": "stream",
     "text": [
      "Epoch 1/10\n",
      "11896/11896 [==============================] - 43s 4ms/step - loss: 0.0161 - accuracy: 0.4004 - val_loss: 0.0151 - val_accuracy: 0.3124\n",
      "Epoch 2/10\n",
      "11896/11896 [==============================] - ETA: 0s - loss: 0.0157 - accuracy: 0.3932"
     ]
    },
    {
     "name": "stderr",
     "output_type": "stream",
     "text": [
      "[I 2024-01-25 00:15:22,377] Trial 4 pruned. Trial was pruned at epoch 1.\n"
     ]
    },
    {
     "name": "stdout",
     "output_type": "stream",
     "text": [
      "Epoch 1/10\n",
      "11896/11896 [==============================] - 42s 3ms/step - loss: 0.0158 - accuracy: 0.3589 - val_loss: 0.0150 - val_accuracy: 0.4164\n",
      "Epoch 2/10\n",
      "11893/11896 [============================>.] - ETA: 0s - loss: 0.0153 - accuracy: 0.3441"
     ]
    },
    {
     "name": "stderr",
     "output_type": "stream",
     "text": [
      "[I 2024-01-25 00:16:45,219] Trial 5 pruned. Trial was pruned at epoch 1.\n"
     ]
    },
    {
     "name": "stdout",
     "output_type": "stream",
     "text": [
      "Epoch 1/10\n",
      "11896/11896 [==============================] - 42s 3ms/step - loss: 0.0163 - accuracy: 0.4530 - val_loss: 0.0149 - val_accuracy: 0.2346\n",
      "Epoch 2/10\n",
      "11896/11896 [==============================] - 41s 3ms/step - loss: 0.0152 - accuracy: 0.2939 - val_loss: 0.0149 - val_accuracy: 0.2756\n",
      "Epoch 3/10\n",
      "11896/11896 [==============================] - 41s 3ms/step - loss: 0.0152 - accuracy: 0.2849 - val_loss: 0.0148 - val_accuracy: 0.2548\n",
      "Epoch 4/10\n",
      "11896/11896 [==============================] - 41s 3ms/step - loss: 0.0152 - accuracy: 0.2819 - val_loss: 0.0148 - val_accuracy: 0.3377\n",
      "Epoch 5/10\n",
      "11896/11896 [==============================] - 41s 3ms/step - loss: 0.0152 - accuracy: 0.2810 - val_loss: 0.0149 - val_accuracy: 0.1255\n",
      "Epoch 6/10\n",
      "11896/11896 [==============================] - 41s 3ms/step - loss: 0.0152 - accuracy: 0.2788 - val_loss: 0.0148 - val_accuracy: 0.1423\n",
      "Epoch 7/10\n",
      "11896/11896 [==============================] - 41s 3ms/step - loss: 0.0152 - accuracy: 0.2700 - val_loss: 0.0148 - val_accuracy: 0.1261\n",
      "Epoch 8/10\n",
      "11896/11896 [==============================] - 41s 3ms/step - loss: 0.0152 - accuracy: 0.2777 - val_loss: 0.0149 - val_accuracy: 0.4600\n",
      "Epoch 9/10\n",
      "11896/11896 [==============================] - 41s 3ms/step - loss: 0.0152 - accuracy: 0.2871 - val_loss: 0.0148 - val_accuracy: 0.1770\n",
      "Epoch 10/10\n",
      "11896/11896 [==============================] - 41s 3ms/step - loss: 0.0152 - accuracy: 0.2771 - val_loss: 0.0148 - val_accuracy: 0.1652\n",
      "3569/3569 [==============================] - 3s 912us/step\n"
     ]
    },
    {
     "name": "stderr",
     "output_type": "stream",
     "text": [
      "[I 2024-01-25 00:23:40,831] Trial 6 finished with value: 0.8712630867958069 and parameters: {'dropout_rate': 0.07899167787544625}. Best is trial 6 with value: 0.8712630867958069.\n"
     ]
    },
    {
     "name": "stdout",
     "output_type": "stream",
     "text": [
      "Epoch 1/10\n",
      "11896/11896 [==============================] - 42s 3ms/step - loss: 0.0162 - accuracy: 0.3579 - val_loss: 0.0154 - val_accuracy: 0.3747\n",
      "Epoch 2/10\n",
      "11896/11896 [==============================] - 41s 3ms/step - loss: 0.0159 - accuracy: 0.3787 - val_loss: 0.0153 - val_accuracy: 0.3361\n",
      "Epoch 3/10\n",
      "11896/11896 [==============================] - 41s 3ms/step - loss: 0.0159 - accuracy: 0.3658 - val_loss: 0.0154 - val_accuracy: 0.4531\n",
      "Epoch 4/10\n",
      "11896/11896 [==============================] - 41s 3ms/step - loss: 0.0159 - accuracy: 0.3771 - val_loss: 0.0153 - val_accuracy: 0.1240\n",
      "Epoch 5/10\n",
      "11896/11896 [==============================] - 41s 3ms/step - loss: 0.0159 - accuracy: 0.3853 - val_loss: 0.0153 - val_accuracy: 0.3268\n",
      "Epoch 6/10\n",
      "11896/11896 [==============================] - 41s 3ms/step - loss: 0.0158 - accuracy: 0.3675 - val_loss: 0.0153 - val_accuracy: 0.3065\n",
      "Epoch 7/10\n",
      "11896/11896 [==============================] - 41s 3ms/step - loss: 0.0159 - accuracy: 0.3863 - val_loss: 0.0154 - val_accuracy: 0.3598\n",
      "Epoch 8/10\n",
      "11896/11896 [==============================] - 41s 3ms/step - loss: 0.0158 - accuracy: 0.3772 - val_loss: 0.0154 - val_accuracy: 0.3153\n",
      "Epoch 9/10\n",
      "11896/11896 [==============================] - 41s 3ms/step - loss: 0.0158 - accuracy: 0.3771 - val_loss: 0.0155 - val_accuracy: 0.2619\n",
      "Epoch 10/10\n",
      "11896/11896 [==============================] - 41s 3ms/step - loss: 0.0159 - accuracy: 0.3801 - val_loss: 0.0154 - val_accuracy: 0.2822\n",
      "3569/3569 [==============================] - 3s 921us/step\n"
     ]
    },
    {
     "name": "stderr",
     "output_type": "stream",
     "text": [
      "[I 2024-01-25 00:30:37,819] Trial 7 finished with value: 0.8612699508666992 and parameters: {'dropout_rate': 0.28675505871678025}. Best is trial 6 with value: 0.8712630867958069.\n"
     ]
    },
    {
     "name": "stdout",
     "output_type": "stream",
     "text": [
      "Epoch 1/10\n",
      "11896/11896 [==============================] - 42s 3ms/step - loss: 0.0159 - accuracy: 0.3512 - val_loss: 0.0151 - val_accuracy: 0.3182\n",
      "Epoch 2/10\n",
      "11896/11896 [==============================] - 41s 3ms/step - loss: 0.0156 - accuracy: 0.3507 - val_loss: 0.0151 - val_accuracy: 0.3726\n",
      "Epoch 3/10\n",
      "11896/11896 [==============================] - 41s 3ms/step - loss: 0.0156 - accuracy: 0.3373 - val_loss: 0.0151 - val_accuracy: 0.1635\n",
      "Epoch 4/10\n",
      "11896/11896 [==============================] - 41s 3ms/step - loss: 0.0156 - accuracy: 0.3297 - val_loss: 0.0151 - val_accuracy: 0.2115\n",
      "Epoch 5/10\n",
      "11896/11896 [==============================] - 41s 3ms/step - loss: 0.0156 - accuracy: 0.3169 - val_loss: 0.0151 - val_accuracy: 0.2192\n",
      "Epoch 6/10\n",
      "11896/11896 [==============================] - 41s 3ms/step - loss: 0.0156 - accuracy: 0.3292 - val_loss: 0.0151 - val_accuracy: 0.1592\n",
      "Epoch 7/10\n",
      "11896/11896 [==============================] - 41s 3ms/step - loss: 0.0156 - accuracy: 0.3264 - val_loss: 0.0151 - val_accuracy: 0.2072\n",
      "Epoch 8/10\n",
      "11896/11896 [==============================] - 41s 3ms/step - loss: 0.0156 - accuracy: 0.3271 - val_loss: 0.0151 - val_accuracy: 0.2394\n",
      "Epoch 9/10\n",
      "11896/11896 [==============================] - 41s 3ms/step - loss: 0.0156 - accuracy: 0.3320 - val_loss: 0.0150 - val_accuracy: 0.3255\n",
      "Epoch 10/10\n",
      "11896/11896 [==============================] - 41s 3ms/step - loss: 0.0156 - accuracy: 0.3221 - val_loss: 0.0151 - val_accuracy: 0.2541\n",
      "3569/3569 [==============================] - 3s 896us/step\n"
     ]
    },
    {
     "name": "stderr",
     "output_type": "stream",
     "text": [
      "[I 2024-01-25 00:37:34,502] Trial 8 finished with value: 0.8697893619537354 and parameters: {'dropout_rate': 0.1801839259296717}. Best is trial 6 with value: 0.8712630867958069.\n"
     ]
    },
    {
     "name": "stdout",
     "output_type": "stream",
     "text": [
      "Epoch 1/10\n",
      "11896/11896 [==============================] - 42s 4ms/step - loss: 0.0153 - accuracy: 0.2603 - val_loss: 0.0148 - val_accuracy: 0.4879\n",
      "Epoch 2/10\n",
      "11896/11896 [==============================] - 41s 3ms/step - loss: 0.0148 - accuracy: 0.2310 - val_loss: 0.0148 - val_accuracy: 0.1858\n",
      "Epoch 3/10\n",
      "11896/11896 [==============================] - 41s 3ms/step - loss: 0.0148 - accuracy: 0.2212 - val_loss: 0.0147 - val_accuracy: 0.3837\n",
      "Epoch 4/10\n",
      "11884/11896 [============================>.] - ETA: 0s - loss: 0.0148 - accuracy: 0.2292"
     ]
    },
    {
     "name": "stderr",
     "output_type": "stream",
     "text": [
      "[I 2024-01-25 00:40:20,506] Trial 9 pruned. Trial was pruned at epoch 3.\n"
     ]
    },
    {
     "name": "stdout",
     "output_type": "stream",
     "text": [
      "Epoch 1/10\n",
      "11896/11896 [==============================] - 42s 3ms/step - loss: 0.0156 - accuracy: 0.4262 - val_loss: 0.0150 - val_accuracy: 0.2943\n",
      "Epoch 2/10\n",
      "11896/11896 [==============================] - 41s 3ms/step - loss: 0.0150 - accuracy: 0.2800 - val_loss: 0.0149 - val_accuracy: 0.3113\n",
      "Epoch 3/10\n",
      "11896/11896 [==============================] - 41s 3ms/step - loss: 0.0150 - accuracy: 0.2699 - val_loss: 0.0148 - val_accuracy: 0.2781\n",
      "Epoch 4/10\n",
      "11890/11896 [============================>.] - ETA: 0s - loss: 0.0150 - accuracy: 0.2650"
     ]
    },
    {
     "name": "stderr",
     "output_type": "stream",
     "text": [
      "[I 2024-01-25 00:43:06,428] Trial 10 pruned. Trial was pruned at epoch 3.\n"
     ]
    },
    {
     "name": "stdout",
     "output_type": "stream",
     "text": [
      "Epoch 1/10\n",
      "11896/11896 [==============================] - 42s 4ms/step - loss: 0.0158 - accuracy: 0.3069 - val_loss: 0.0149 - val_accuracy: 0.2552\n",
      "Epoch 2/10\n",
      "11896/11896 [==============================] - 41s 3ms/step - loss: 0.0154 - accuracy: 0.3245 - val_loss: 0.0150 - val_accuracy: 0.3178\n",
      "Epoch 3/10\n",
      "11896/11896 [==============================] - 41s 3ms/step - loss: 0.0154 - accuracy: 0.3375 - val_loss: 0.0150 - val_accuracy: 0.1095\n",
      "Epoch 4/10\n",
      "11881/11896 [============================>.] - ETA: 0s - loss: 0.0154 - accuracy: 0.3328"
     ]
    },
    {
     "name": "stderr",
     "output_type": "stream",
     "text": [
      "[I 2024-01-25 00:45:51,833] Trial 11 pruned. Trial was pruned at epoch 3.\n"
     ]
    },
    {
     "name": "stdout",
     "output_type": "stream",
     "text": [
      "Epoch 1/10\n",
      "11896/11896 [==============================] - 42s 3ms/step - loss: 0.0157 - accuracy: 0.3109 - val_loss: 0.0149 - val_accuracy: 0.4015\n",
      "Epoch 2/10\n",
      "11896/11896 [==============================] - 41s 3ms/step - loss: 0.0153 - accuracy: 0.3146 - val_loss: 0.0149 - val_accuracy: 0.3173\n",
      "Epoch 3/10\n",
      "11896/11896 [==============================] - 41s 3ms/step - loss: 0.0153 - accuracy: 0.3136 - val_loss: 0.0149 - val_accuracy: 0.3582\n",
      "Epoch 4/10\n",
      "11896/11896 [==============================] - 41s 3ms/step - loss: 0.0153 - accuracy: 0.3073 - val_loss: 0.0149 - val_accuracy: 0.2816\n",
      "Epoch 5/10\n",
      "11896/11896 [==============================] - 41s 3ms/step - loss: 0.0153 - accuracy: 0.2926 - val_loss: 0.0149 - val_accuracy: 0.3291\n",
      "Epoch 6/10\n",
      "11896/11896 [==============================] - 41s 3ms/step - loss: 0.0153 - accuracy: 0.2812 - val_loss: 0.0150 - val_accuracy: 0.3453\n",
      "Epoch 7/10\n",
      "11896/11896 [==============================] - 41s 3ms/step - loss: 0.0153 - accuracy: 0.2814 - val_loss: 0.0149 - val_accuracy: 0.2597\n",
      "Epoch 8/10\n",
      "11896/11896 [==============================] - 41s 3ms/step - loss: 0.0153 - accuracy: 0.2987 - val_loss: 0.0149 - val_accuracy: 0.3490\n",
      "Epoch 9/10\n",
      "11896/11896 [==============================] - 41s 3ms/step - loss: 0.0153 - accuracy: 0.2981 - val_loss: 0.0149 - val_accuracy: 0.1258\n",
      "Epoch 10/10\n",
      "11885/11896 [============================>.] - ETA: 0s - loss: 0.0153 - accuracy: 0.2913"
     ]
    },
    {
     "name": "stderr",
     "output_type": "stream",
     "text": [
      "[I 2024-01-25 00:52:43,083] Trial 12 pruned. Trial was pruned at epoch 9.\n"
     ]
    },
    {
     "name": "stdout",
     "output_type": "stream",
     "text": [
      "Epoch 1/10\n",
      "11896/11896 [==============================] - 41s 3ms/step - loss: 0.0160 - accuracy: 0.4100 - val_loss: 0.0153 - val_accuracy: 0.3202\n",
      "Epoch 2/10\n",
      "11890/11896 [============================>.] - ETA: 0s - loss: 0.0156 - accuracy: 0.3801"
     ]
    },
    {
     "name": "stderr",
     "output_type": "stream",
     "text": [
      "[I 2024-01-25 00:54:05,478] Trial 13 pruned. Trial was pruned at epoch 1.\n"
     ]
    },
    {
     "name": "stdout",
     "output_type": "stream",
     "text": [
      "Epoch 1/10\n",
      "11896/11896 [==============================] - 42s 3ms/step - loss: 0.0156 - accuracy: 0.3347 - val_loss: 0.0149 - val_accuracy: 0.1903\n",
      "Epoch 2/10\n",
      "11896/11896 [==============================] - 41s 3ms/step - loss: 0.0152 - accuracy: 0.2712 - val_loss: 0.0148 - val_accuracy: 0.1111\n",
      "Epoch 3/10\n",
      "11896/11896 [==============================] - 41s 3ms/step - loss: 0.0152 - accuracy: 0.2679 - val_loss: 0.0148 - val_accuracy: 0.1495\n",
      "Epoch 4/10\n",
      "11896/11896 [==============================] - 41s 3ms/step - loss: 0.0152 - accuracy: 0.2747 - val_loss: 0.0148 - val_accuracy: 0.3424\n",
      "Epoch 5/10\n",
      "11896/11896 [==============================] - 41s 3ms/step - loss: 0.0152 - accuracy: 0.2859 - val_loss: 0.0148 - val_accuracy: 0.3060\n",
      "Epoch 6/10\n",
      "11896/11896 [==============================] - 41s 3ms/step - loss: 0.0152 - accuracy: 0.2953 - val_loss: 0.0148 - val_accuracy: 0.2281\n",
      "Epoch 7/10\n",
      "11896/11896 [==============================] - 41s 3ms/step - loss: 0.0152 - accuracy: 0.2894 - val_loss: 0.0149 - val_accuracy: 0.1497\n",
      "Epoch 8/10\n",
      "11896/11896 [==============================] - 41s 3ms/step - loss: 0.0152 - accuracy: 0.2852 - val_loss: 0.0148 - val_accuracy: 0.2130\n",
      "Epoch 9/10\n",
      "11896/11896 [==============================] - 41s 3ms/step - loss: 0.0152 - accuracy: 0.2865 - val_loss: 0.0149 - val_accuracy: 0.3925\n",
      "Epoch 10/10\n",
      "11895/11896 [============================>.] - ETA: 0s - loss: 0.0151 - accuracy: 0.2812"
     ]
    },
    {
     "name": "stderr",
     "output_type": "stream",
     "text": [
      "[I 2024-01-25 01:00:57,971] Trial 14 pruned. Trial was pruned at epoch 9.\n"
     ]
    },
    {
     "name": "stdout",
     "output_type": "stream",
     "text": [
      "Epoch 1/10\n",
      "11896/11896 [==============================] - 41s 3ms/step - loss: 0.0158 - accuracy: 0.3270 - val_loss: 0.0150 - val_accuracy: 0.2609\n",
      "Epoch 2/10\n",
      "11884/11896 [============================>.] - ETA: 0s - loss: 0.0154 - accuracy: 0.3232"
     ]
    },
    {
     "name": "stderr",
     "output_type": "stream",
     "text": [
      "[I 2024-01-25 01:02:20,344] Trial 15 pruned. Trial was pruned at epoch 1.\n"
     ]
    },
    {
     "name": "stdout",
     "output_type": "stream",
     "text": [
      "Epoch 1/10\n",
      "11896/11896 [==============================] - 42s 4ms/step - loss: 0.0156 - accuracy: 0.3153 - val_loss: 0.0149 - val_accuracy: 0.2840\n",
      "Epoch 2/10\n",
      "11894/11896 [============================>.] - ETA: 0s - loss: 0.0152 - accuracy: 0.2915"
     ]
    },
    {
     "name": "stderr",
     "output_type": "stream",
     "text": [
      "[I 2024-01-25 01:03:43,648] Trial 16 pruned. Trial was pruned at epoch 1.\n"
     ]
    },
    {
     "name": "stdout",
     "output_type": "stream",
     "text": [
      "Epoch 1/10\n",
      "11896/11896 [==============================] - 42s 3ms/step - loss: 0.0152 - accuracy: 0.2538 - val_loss: 0.0148 - val_accuracy: 0.1614\n",
      "Epoch 2/10\n",
      "11883/11896 [============================>.] - ETA: 0s - loss: 0.0149 - accuracy: 0.2355"
     ]
    },
    {
     "name": "stderr",
     "output_type": "stream",
     "text": [
      "[I 2024-01-25 01:05:06,342] Trial 17 pruned. Trial was pruned at epoch 1.\n"
     ]
    },
    {
     "name": "stdout",
     "output_type": "stream",
     "text": [
      "Epoch 1/10\n",
      "11896/11896 [==============================] - 42s 3ms/step - loss: 0.0161 - accuracy: 0.3532 - val_loss: 0.0151 - val_accuracy: 0.2073\n",
      "Epoch 2/10\n",
      "11887/11896 [============================>.] - ETA: 0s - loss: 0.0156 - accuracy: 0.3558"
     ]
    },
    {
     "name": "stderr",
     "output_type": "stream",
     "text": [
      "[I 2024-01-25 01:06:29,610] Trial 18 pruned. Trial was pruned at epoch 1.\n"
     ]
    },
    {
     "name": "stdout",
     "output_type": "stream",
     "text": [
      "Epoch 1/10\n",
      "11896/11896 [==============================] - 42s 3ms/step - loss: 0.0158 - accuracy: 0.3780 - val_loss: 0.0150 - val_accuracy: 0.4768\n",
      "Epoch 2/10\n",
      "11890/11896 [============================>.] - ETA: 0s - loss: 0.0154 - accuracy: 0.3090"
     ]
    },
    {
     "name": "stderr",
     "output_type": "stream",
     "text": [
      "[I 2024-01-25 01:07:52,662] Trial 19 pruned. Trial was pruned at epoch 1.\n"
     ]
    },
    {
     "name": "stdout",
     "output_type": "stream",
     "text": [
      "Epoch 1/10\n",
      "11896/11896 [==============================] - 42s 3ms/step - loss: 0.0159 - accuracy: 0.3652 - val_loss: 0.0151 - val_accuracy: 0.0440\n",
      "Epoch 2/10\n",
      "11896/11896 [==============================] - 41s 3ms/step - loss: 0.0156 - accuracy: 0.3305 - val_loss: 0.0152 - val_accuracy: 0.2244\n",
      "Epoch 3/10\n",
      "11896/11896 [==============================] - 41s 3ms/step - loss: 0.0156 - accuracy: 0.3220 - val_loss: 0.0151 - val_accuracy: 0.3148\n",
      "Epoch 4/10\n",
      "11896/11896 [==============================] - ETA: 0s - loss: 0.0156 - accuracy: 0.3309"
     ]
    },
    {
     "name": "stderr",
     "output_type": "stream",
     "text": [
      "[I 2024-01-25 01:10:37,853] Trial 20 pruned. Trial was pruned at epoch 3.\n"
     ]
    },
    {
     "name": "stdout",
     "output_type": "stream",
     "text": [
      "Epoch 1/10\n",
      "11896/11896 [==============================] - 42s 3ms/step - loss: 0.0158 - accuracy: 0.3026 - val_loss: 0.0150 - val_accuracy: 0.2258\n",
      "Epoch 2/10\n",
      "11887/11896 [============================>.] - ETA: 0s - loss: 0.0154 - accuracy: 0.3168"
     ]
    },
    {
     "name": "stderr",
     "output_type": "stream",
     "text": [
      "[I 2024-01-25 01:12:00,846] Trial 21 pruned. Trial was pruned at epoch 1.\n"
     ]
    },
    {
     "name": "stdout",
     "output_type": "stream",
     "text": [
      "Epoch 1/10\n",
      "11896/11896 [==============================] - 43s 4ms/step - loss: 0.0159 - accuracy: 0.3397 - val_loss: 0.0150 - val_accuracy: 0.1255\n",
      "Epoch 2/10\n",
      "11896/11896 [==============================] - 42s 4ms/step - loss: 0.0155 - accuracy: 0.3538 - val_loss: 0.0150 - val_accuracy: 0.2355\n",
      "Epoch 3/10\n",
      "11896/11896 [==============================] - 41s 3ms/step - loss: 0.0155 - accuracy: 0.3418 - val_loss: 0.0150 - val_accuracy: 0.1390\n",
      "Epoch 4/10\n",
      "11892/11896 [============================>.] - ETA: 0s - loss: 0.0155 - accuracy: 0.3343"
     ]
    },
    {
     "name": "stderr",
     "output_type": "stream",
     "text": [
      "[I 2024-01-25 01:14:47,629] Trial 22 pruned. Trial was pruned at epoch 3.\n"
     ]
    },
    {
     "name": "stdout",
     "output_type": "stream",
     "text": [
      "Epoch 1/10\n",
      "11896/11896 [==============================] - 42s 3ms/step - loss: 0.0157 - accuracy: 0.3059 - val_loss: 0.0149 - val_accuracy: 0.2441\n",
      "Epoch 2/10\n",
      "11889/11896 [============================>.] - ETA: 0s - loss: 0.0151 - accuracy: 0.2686"
     ]
    },
    {
     "name": "stderr",
     "output_type": "stream",
     "text": [
      "[I 2024-01-25 01:16:10,178] Trial 23 pruned. Trial was pruned at epoch 1.\n"
     ]
    },
    {
     "name": "stdout",
     "output_type": "stream",
     "text": [
      "Epoch 1/10\n",
      "11896/11896 [==============================] - 42s 3ms/step - loss: 0.0157 - accuracy: 0.3209 - val_loss: 0.0149 - val_accuracy: 0.4625\n",
      "Epoch 2/10\n",
      "11896/11896 [==============================] - 41s 3ms/step - loss: 0.0154 - accuracy: 0.3107 - val_loss: 0.0150 - val_accuracy: 0.3477\n",
      "Epoch 3/10\n",
      "11896/11896 [==============================] - 41s 3ms/step - loss: 0.0154 - accuracy: 0.2979 - val_loss: 0.0150 - val_accuracy: 0.1992\n",
      "Epoch 4/10\n",
      "11896/11896 [==============================] - 41s 3ms/step - loss: 0.0154 - accuracy: 0.2871 - val_loss: 0.0150 - val_accuracy: 0.2510\n",
      "Epoch 5/10\n",
      "11896/11896 [==============================] - 41s 3ms/step - loss: 0.0153 - accuracy: 0.3024 - val_loss: 0.0150 - val_accuracy: 0.2447\n",
      "Epoch 6/10\n",
      "11896/11896 [==============================] - 41s 3ms/step - loss: 0.0153 - accuracy: 0.2934 - val_loss: 0.0152 - val_accuracy: 0.4247\n",
      "Epoch 7/10\n",
      "11896/11896 [==============================] - 41s 3ms/step - loss: 0.0153 - accuracy: 0.2996 - val_loss: 0.0150 - val_accuracy: 0.3135\n",
      "Epoch 8/10\n",
      "11896/11896 [==============================] - 41s 3ms/step - loss: 0.0153 - accuracy: 0.3087 - val_loss: 0.0149 - val_accuracy: 0.3537\n",
      "Epoch 9/10\n",
      "11896/11896 [==============================] - 41s 3ms/step - loss: 0.0153 - accuracy: 0.2968 - val_loss: 0.0151 - val_accuracy: 0.3883\n",
      "Epoch 10/10\n",
      "11881/11896 [============================>.] - ETA: 0s - loss: 0.0153 - accuracy: 0.3030"
     ]
    },
    {
     "name": "stderr",
     "output_type": "stream",
     "text": [
      "[I 2024-01-25 01:23:02,312] Trial 24 pruned. Trial was pruned at epoch 9.\n"
     ]
    },
    {
     "name": "stdout",
     "output_type": "stream",
     "text": [
      "Epoch 1/10\n",
      "11896/11896 [==============================] - 41s 3ms/step - loss: 0.0159 - accuracy: 0.3687 - val_loss: 0.0150 - val_accuracy: 0.2079\n",
      "Epoch 2/10\n",
      "11896/11896 [==============================] - 41s 3ms/step - loss: 0.0155 - accuracy: 0.3632 - val_loss: 0.0149 - val_accuracy: 0.1784\n",
      "Epoch 3/10\n",
      "11896/11896 [==============================] - 41s 3ms/step - loss: 0.0155 - accuracy: 0.3671 - val_loss: 0.0149 - val_accuracy: 0.4683\n",
      "Epoch 4/10\n",
      "11896/11896 [==============================] - 41s 3ms/step - loss: 0.0155 - accuracy: 0.3541 - val_loss: 0.0149 - val_accuracy: 0.2289\n",
      "Epoch 5/10\n",
      "11896/11896 [==============================] - 41s 3ms/step - loss: 0.0155 - accuracy: 0.3516 - val_loss: 0.0149 - val_accuracy: 0.2149\n",
      "Epoch 6/10\n",
      "11896/11896 [==============================] - 41s 3ms/step - loss: 0.0155 - accuracy: 0.3264 - val_loss: 0.0151 - val_accuracy: 0.2624\n",
      "Epoch 7/10\n",
      "11896/11896 [==============================] - 41s 3ms/step - loss: 0.0155 - accuracy: 0.3039 - val_loss: 0.0149 - val_accuracy: 0.2839\n",
      "Epoch 8/10\n",
      "11896/11896 [==============================] - 41s 3ms/step - loss: 0.0155 - accuracy: 0.3061 - val_loss: 0.0150 - val_accuracy: 0.4543\n",
      "Epoch 9/10\n",
      "11896/11896 [==============================] - 41s 3ms/step - loss: 0.0155 - accuracy: 0.3206 - val_loss: 0.0149 - val_accuracy: 0.2805\n",
      "Epoch 10/10\n",
      "11893/11896 [============================>.] - ETA: 0s - loss: 0.0155 - accuracy: 0.3363"
     ]
    },
    {
     "name": "stderr",
     "output_type": "stream",
     "text": [
      "[I 2024-01-25 01:29:52,260] Trial 25 pruned. Trial was pruned at epoch 9.\n"
     ]
    },
    {
     "name": "stdout",
     "output_type": "stream",
     "text": [
      "Epoch 1/10\n",
      "11896/11896 [==============================] - 42s 3ms/step - loss: 0.0161 - accuracy: 0.4041 - val_loss: 0.0153 - val_accuracy: 0.4074\n",
      "Epoch 2/10\n",
      "11896/11896 [==============================] - 41s 3ms/step - loss: 0.0157 - accuracy: 0.3688 - val_loss: 0.0152 - val_accuracy: 0.2847\n",
      "Epoch 3/10\n",
      "11896/11896 [==============================] - 41s 3ms/step - loss: 0.0157 - accuracy: 0.3585 - val_loss: 0.0153 - val_accuracy: 0.3107\n",
      "Epoch 4/10\n",
      "11896/11896 [==============================] - 41s 3ms/step - loss: 0.0157 - accuracy: 0.3499 - val_loss: 0.0152 - val_accuracy: 0.1398\n",
      "Epoch 5/10\n",
      "11896/11896 [==============================] - 41s 3ms/step - loss: 0.0157 - accuracy: 0.3614 - val_loss: 0.0152 - val_accuracy: 0.3876\n",
      "Epoch 6/10\n",
      "11896/11896 [==============================] - 41s 3ms/step - loss: 0.0157 - accuracy: 0.3482 - val_loss: 0.0151 - val_accuracy: 0.3443\n",
      "Epoch 7/10\n",
      "11896/11896 [==============================] - 41s 3ms/step - loss: 0.0157 - accuracy: 0.3510 - val_loss: 0.0152 - val_accuracy: 0.2212\n",
      "Epoch 8/10\n",
      "11896/11896 [==============================] - 41s 3ms/step - loss: 0.0157 - accuracy: 0.3521 - val_loss: 0.0152 - val_accuracy: 0.1806\n",
      "Epoch 9/10\n",
      "11896/11896 [==============================] - 41s 3ms/step - loss: 0.0157 - accuracy: 0.3561 - val_loss: 0.0151 - val_accuracy: 0.3150\n",
      "Epoch 10/10\n",
      "11884/11896 [============================>.] - ETA: 0s - loss: 0.0157 - accuracy: 0.3513"
     ]
    },
    {
     "name": "stderr",
     "output_type": "stream",
     "text": [
      "[I 2024-01-25 01:36:44,186] Trial 26 pruned. Trial was pruned at epoch 9.\n"
     ]
    },
    {
     "name": "stdout",
     "output_type": "stream",
     "text": [
      "Epoch 1/10\n",
      "11896/11896 [==============================] - 42s 3ms/step - loss: 0.0158 - accuracy: 0.3773 - val_loss: 0.0149 - val_accuracy: 0.3276\n",
      "Epoch 2/10\n",
      "11896/11896 [==============================] - 41s 3ms/step - loss: 0.0154 - accuracy: 0.3472 - val_loss: 0.0149 - val_accuracy: 0.1088\n",
      "Epoch 3/10\n",
      "11896/11896 [==============================] - 41s 3ms/step - loss: 0.0154 - accuracy: 0.3406 - val_loss: 0.0149 - val_accuracy: 0.1298\n",
      "Epoch 4/10\n",
      "11896/11896 [==============================] - 41s 3ms/step - loss: 0.0154 - accuracy: 0.3361 - val_loss: 0.0150 - val_accuracy: 0.2924\n",
      "Epoch 5/10\n",
      "11896/11896 [==============================] - 41s 3ms/step - loss: 0.0154 - accuracy: 0.3152 - val_loss: 0.0150 - val_accuracy: 0.2466\n",
      "Epoch 6/10\n",
      "11896/11896 [==============================] - 41s 3ms/step - loss: 0.0154 - accuracy: 0.3083 - val_loss: 0.0150 - val_accuracy: 0.3361\n",
      "Epoch 7/10\n",
      "11896/11896 [==============================] - 41s 3ms/step - loss: 0.0154 - accuracy: 0.3225 - val_loss: 0.0150 - val_accuracy: 0.1897\n",
      "Epoch 8/10\n",
      "11896/11896 [==============================] - 41s 3ms/step - loss: 0.0154 - accuracy: 0.3120 - val_loss: 0.0150 - val_accuracy: 0.4770\n",
      "Epoch 9/10\n",
      "11896/11896 [==============================] - 41s 3ms/step - loss: 0.0154 - accuracy: 0.3121 - val_loss: 0.0149 - val_accuracy: 0.2724\n",
      "Epoch 10/10\n",
      "11892/11896 [============================>.] - ETA: 0s - loss: 0.0154 - accuracy: 0.3180"
     ]
    },
    {
     "name": "stderr",
     "output_type": "stream",
     "text": [
      "[I 2024-01-25 01:43:37,044] Trial 27 pruned. Trial was pruned at epoch 9.\n"
     ]
    },
    {
     "name": "stdout",
     "output_type": "stream",
     "text": [
      "Epoch 1/10\n",
      "11896/11896 [==============================] - 42s 4ms/step - loss: 0.0161 - accuracy: 0.3510 - val_loss: 0.0152 - val_accuracy: 0.4889\n",
      "Epoch 2/10\n",
      "11896/11896 [==============================] - 42s 3ms/step - loss: 0.0156 - accuracy: 0.3817 - val_loss: 0.0151 - val_accuracy: 0.4071\n",
      "Epoch 3/10\n",
      "11896/11896 [==============================] - 41s 3ms/step - loss: 0.0156 - accuracy: 0.3438 - val_loss: 0.0151 - val_accuracy: 0.3637\n",
      "Epoch 4/10\n",
      "11896/11896 [==============================] - 41s 3ms/step - loss: 0.0156 - accuracy: 0.3492 - val_loss: 0.0151 - val_accuracy: 0.3435\n",
      "Epoch 5/10\n",
      "11896/11896 [==============================] - 42s 3ms/step - loss: 0.0156 - accuracy: 0.3439 - val_loss: 0.0151 - val_accuracy: 0.3848\n",
      "Epoch 6/10\n",
      "11896/11896 [==============================] - 41s 3ms/step - loss: 0.0156 - accuracy: 0.3354 - val_loss: 0.0152 - val_accuracy: 0.1345\n",
      "Epoch 7/10\n",
      "11896/11896 [==============================] - 41s 3ms/step - loss: 0.0156 - accuracy: 0.3379 - val_loss: 0.0151 - val_accuracy: 0.2485\n",
      "Epoch 8/10\n",
      "11896/11896 [==============================] - 41s 3ms/step - loss: 0.0156 - accuracy: 0.3478 - val_loss: 0.0151 - val_accuracy: 0.4437\n",
      "Epoch 9/10\n",
      "11896/11896 [==============================] - 41s 3ms/step - loss: 0.0156 - accuracy: 0.3489 - val_loss: 0.0151 - val_accuracy: 0.5434\n",
      "Epoch 10/10\n",
      "11896/11896 [==============================] - 41s 3ms/step - loss: 0.0156 - accuracy: 0.3492 - val_loss: 0.0153 - val_accuracy: 0.1909\n",
      "3569/3569 [==============================] - 3s 913us/step\n"
     ]
    },
    {
     "name": "stderr",
     "output_type": "stream",
     "text": [
      "[I 2024-01-25 01:50:35,456] Trial 28 finished with value: 0.8672447800636292 and parameters: {'dropout_rate': 0.18068732152285027}. Best is trial 6 with value: 0.8712630867958069.\n"
     ]
    },
    {
     "name": "stdout",
     "output_type": "stream",
     "text": [
      "Epoch 1/10\n",
      "11896/11896 [==============================] - 42s 3ms/step - loss: 0.0162 - accuracy: 0.3830 - val_loss: 0.0151 - val_accuracy: 0.1400\n",
      "Epoch 2/10\n",
      "11896/11896 [==============================] - 41s 3ms/step - loss: 0.0158 - accuracy: 0.3971 - val_loss: 0.0151 - val_accuracy: 0.0074\n",
      "Epoch 3/10\n",
      "11896/11896 [==============================] - 42s 4ms/step - loss: 0.0158 - accuracy: 0.3637 - val_loss: 0.0152 - val_accuracy: 0.2763\n",
      "Epoch 4/10\n",
      "11888/11896 [============================>.] - ETA: 0s - loss: 0.0158 - accuracy: 0.4071"
     ]
    },
    {
     "name": "stderr",
     "output_type": "stream",
     "text": [
      "[I 2024-01-25 01:53:21,762] Trial 29 pruned. Trial was pruned at epoch 3.\n"
     ]
    },
    {
     "name": "stdout",
     "output_type": "stream",
     "text": [
      "Epoch 1/10\n",
      "11896/11896 [==============================] - 42s 3ms/step - loss: 0.0162 - accuracy: 0.3857 - val_loss: 0.0154 - val_accuracy: 0.2697\n",
      "Epoch 2/10\n",
      "11896/11896 [==============================] - 41s 3ms/step - loss: 0.0159 - accuracy: 0.3779 - val_loss: 0.0154 - val_accuracy: 0.2764\n",
      "Epoch 3/10\n",
      "11896/11896 [==============================] - 41s 3ms/step - loss: 0.0159 - accuracy: 0.3756 - val_loss: 0.0153 - val_accuracy: 0.3462\n",
      "Epoch 4/10\n",
      "11896/11896 [==============================] - 41s 3ms/step - loss: 0.0159 - accuracy: 0.3828 - val_loss: 0.0154 - val_accuracy: 0.3396\n",
      "Epoch 5/10\n",
      "11896/11896 [==============================] - 41s 3ms/step - loss: 0.0159 - accuracy: 0.3800 - val_loss: 0.0153 - val_accuracy: 0.0063\n",
      "Epoch 6/10\n",
      "11896/11896 [==============================] - 41s 3ms/step - loss: 0.0159 - accuracy: 0.3850 - val_loss: 0.0153 - val_accuracy: 0.2738\n",
      "Epoch 7/10\n",
      "11896/11896 [==============================] - 41s 3ms/step - loss: 0.0159 - accuracy: 0.3911 - val_loss: 0.0153 - val_accuracy: 0.4221\n",
      "Epoch 8/10\n",
      "11896/11896 [==============================] - 41s 3ms/step - loss: 0.0159 - accuracy: 0.3834 - val_loss: 0.0153 - val_accuracy: 0.3739\n",
      "Epoch 9/10\n",
      "11896/11896 [==============================] - 41s 3ms/step - loss: 0.0159 - accuracy: 0.3819 - val_loss: 0.0155 - val_accuracy: 0.2849\n",
      "Epoch 10/10\n",
      "11896/11896 [==============================] - 41s 3ms/step - loss: 0.0159 - accuracy: 0.3848 - val_loss: 0.0154 - val_accuracy: 0.1604\n",
      "3569/3569 [==============================] - 3s 908us/step\n"
     ]
    },
    {
     "name": "stderr",
     "output_type": "stream",
     "text": [
      "[I 2024-01-25 02:00:19,387] Trial 30 finished with value: 0.8620205521583557 and parameters: {'dropout_rate': 0.30066484718019726}. Best is trial 6 with value: 0.8712630867958069.\n"
     ]
    },
    {
     "name": "stdout",
     "output_type": "stream",
     "text": [
      "Epoch 1/10\n",
      "11896/11896 [==============================] - 42s 4ms/step - loss: 0.0160 - accuracy: 0.3180 - val_loss: 0.0152 - val_accuracy: 0.3492\n",
      "Epoch 2/10\n",
      "11896/11896 [==============================] - 41s 3ms/step - loss: 0.0156 - accuracy: 0.3446 - val_loss: 0.0151 - val_accuracy: 0.2511\n",
      "Epoch 3/10\n",
      "11896/11896 [==============================] - 41s 3ms/step - loss: 0.0156 - accuracy: 0.3328 - val_loss: 0.0151 - val_accuracy: 0.2440\n",
      "Epoch 4/10\n",
      "11894/11896 [============================>.] - ETA: 0s - loss: 0.0156 - accuracy: 0.3374"
     ]
    },
    {
     "name": "stderr",
     "output_type": "stream",
     "text": [
      "[I 2024-01-25 02:03:05,762] Trial 31 pruned. Trial was pruned at epoch 3.\n"
     ]
    },
    {
     "name": "stdout",
     "output_type": "stream",
     "text": [
      "Epoch 1/10\n",
      "11896/11896 [==============================] - 42s 3ms/step - loss: 0.0161 - accuracy: 0.3483 - val_loss: 0.0152 - val_accuracy: 0.3174\n",
      "Epoch 2/10\n",
      "11894/11896 [============================>.] - ETA: 0s - loss: 0.0157 - accuracy: 0.3563"
     ]
    },
    {
     "name": "stderr",
     "output_type": "stream",
     "text": [
      "[I 2024-01-25 02:04:28,566] Trial 32 pruned. Trial was pruned at epoch 1.\n"
     ]
    },
    {
     "name": "stdout",
     "output_type": "stream",
     "text": [
      "Epoch 1/10\n",
      "11896/11896 [==============================] - 42s 3ms/step - loss: 0.0160 - accuracy: 0.3317 - val_loss: 0.0151 - val_accuracy: 0.2938\n",
      "Epoch 2/10\n",
      "11896/11896 [==============================] - 41s 3ms/step - loss: 0.0155 - accuracy: 0.3175 - val_loss: 0.0151 - val_accuracy: 0.3478\n",
      "Epoch 3/10\n",
      "11896/11896 [==============================] - 41s 3ms/step - loss: 0.0155 - accuracy: 0.3283 - val_loss: 0.0150 - val_accuracy: 0.2724\n",
      "Epoch 4/10\n",
      "11896/11896 [==============================] - 41s 3ms/step - loss: 0.0156 - accuracy: 0.3242 - val_loss: 0.0151 - val_accuracy: 0.2186\n",
      "Epoch 5/10\n",
      "11896/11896 [==============================] - 41s 3ms/step - loss: 0.0155 - accuracy: 0.3207 - val_loss: 0.0150 - val_accuracy: 0.1807\n",
      "Epoch 6/10\n",
      "11896/11896 [==============================] - 41s 3ms/step - loss: 0.0155 - accuracy: 0.3126 - val_loss: 0.0150 - val_accuracy: 0.3333\n",
      "Epoch 7/10\n",
      "11896/11896 [==============================] - 41s 3ms/step - loss: 0.0155 - accuracy: 0.3286 - val_loss: 0.0150 - val_accuracy: 0.1943\n",
      "Epoch 8/10\n",
      "11896/11896 [==============================] - 41s 3ms/step - loss: 0.0155 - accuracy: 0.3194 - val_loss: 0.0150 - val_accuracy: 0.3119\n",
      "Epoch 9/10\n",
      "11896/11896 [==============================] - 41s 3ms/step - loss: 0.0155 - accuracy: 0.3252 - val_loss: 0.0150 - val_accuracy: 0.1695\n",
      "Epoch 10/10\n",
      "11894/11896 [============================>.] - ETA: 0s - loss: 0.0155 - accuracy: 0.3346"
     ]
    },
    {
     "name": "stderr",
     "output_type": "stream",
     "text": [
      "[I 2024-01-25 02:11:21,736] Trial 33 pruned. Trial was pruned at epoch 9.\n"
     ]
    },
    {
     "name": "stdout",
     "output_type": "stream",
     "text": [
      "Epoch 1/10\n",
      "11896/11896 [==============================] - 42s 3ms/step - loss: 0.0161 - accuracy: 0.4151 - val_loss: 0.0152 - val_accuracy: 0.3794\n",
      "Epoch 2/10\n",
      "11892/11896 [============================>.] - ETA: 0s - loss: 0.0158 - accuracy: 0.3964"
     ]
    },
    {
     "name": "stderr",
     "output_type": "stream",
     "text": [
      "[I 2024-01-25 02:12:44,736] Trial 34 pruned. Trial was pruned at epoch 1.\n"
     ]
    },
    {
     "name": "stdout",
     "output_type": "stream",
     "text": [
      "Epoch 1/10\n",
      "11896/11896 [==============================] - 42s 3ms/step - loss: 0.0159 - accuracy: 0.3543 - val_loss: 0.0148 - val_accuracy: 0.2191\n",
      "Epoch 2/10\n",
      "11896/11896 [==============================] - ETA: 0s - loss: 0.0152 - accuracy: 0.2958"
     ]
    },
    {
     "name": "stderr",
     "output_type": "stream",
     "text": [
      "[I 2024-01-25 02:14:07,666] Trial 35 pruned. Trial was pruned at epoch 1.\n"
     ]
    },
    {
     "name": "stdout",
     "output_type": "stream",
     "text": [
      "Epoch 1/10\n",
      "11896/11896 [==============================] - 42s 4ms/step - loss: 0.0157 - accuracy: 0.3327 - val_loss: 0.0149 - val_accuracy: 0.3533\n",
      "Epoch 2/10\n",
      "11896/11896 [==============================] - 41s 3ms/step - loss: 0.0154 - accuracy: 0.3252 - val_loss: 0.0149 - val_accuracy: 0.4402\n",
      "Epoch 3/10\n",
      "11896/11896 [==============================] - 41s 3ms/step - loss: 0.0153 - accuracy: 0.3078 - val_loss: 0.0149 - val_accuracy: 0.3748\n",
      "Epoch 4/10\n",
      "11886/11896 [============================>.] - ETA: 0s - loss: 0.0153 - accuracy: 0.2994"
     ]
    },
    {
     "name": "stderr",
     "output_type": "stream",
     "text": [
      "[I 2024-01-25 02:16:53,817] Trial 36 pruned. Trial was pruned at epoch 3.\n"
     ]
    },
    {
     "name": "stdout",
     "output_type": "stream",
     "text": [
      "Epoch 1/10\n",
      "11896/11896 [==============================] - 42s 3ms/step - loss: 0.0165 - accuracy: 0.4236 - val_loss: 0.0155 - val_accuracy: 0.3202\n",
      "Epoch 2/10\n",
      "11896/11896 [==============================] - 41s 3ms/step - loss: 0.0162 - accuracy: 0.4294 - val_loss: 0.0155 - val_accuracy: 0.2552\n",
      "Epoch 3/10\n",
      "11896/11896 [==============================] - 41s 3ms/step - loss: 0.0162 - accuracy: 0.4151 - val_loss: 0.0155 - val_accuracy: 0.2728\n",
      "Epoch 4/10\n",
      "11885/11896 [============================>.] - ETA: 0s - loss: 0.0162 - accuracy: 0.4243"
     ]
    },
    {
     "name": "stderr",
     "output_type": "stream",
     "text": [
      "[I 2024-01-25 02:19:39,532] Trial 37 pruned. Trial was pruned at epoch 3.\n"
     ]
    },
    {
     "name": "stdout",
     "output_type": "stream",
     "text": [
      "Epoch 1/10\n",
      "11896/11896 [==============================] - 42s 3ms/step - loss: 0.0162 - accuracy: 0.3881 - val_loss: 0.0151 - val_accuracy: 0.4307\n",
      "Epoch 2/10\n",
      "11883/11896 [============================>.] - ETA: 0s - loss: 0.0157 - accuracy: 0.3539"
     ]
    },
    {
     "name": "stderr",
     "output_type": "stream",
     "text": [
      "[I 2024-01-25 02:21:03,364] Trial 38 pruned. Trial was pruned at epoch 1.\n"
     ]
    },
    {
     "name": "stdout",
     "output_type": "stream",
     "text": [
      "Epoch 1/10\n",
      "11896/11896 [==============================] - 42s 4ms/step - loss: 0.0159 - accuracy: 0.3755 - val_loss: 0.0150 - val_accuracy: 0.1294\n",
      "Epoch 2/10\n",
      "11896/11896 [==============================] - ETA: 0s - loss: 0.0155 - accuracy: 0.3428"
     ]
    },
    {
     "name": "stderr",
     "output_type": "stream",
     "text": [
      "[I 2024-01-25 02:22:27,258] Trial 39 pruned. Trial was pruned at epoch 1.\n"
     ]
    },
    {
     "name": "stdout",
     "output_type": "stream",
     "text": [
      "Epoch 1/10\n",
      "11896/11896 [==============================] - 42s 4ms/step - loss: 0.0159 - accuracy: 0.3585 - val_loss: 0.0152 - val_accuracy: 0.5902\n",
      "Epoch 2/10\n",
      "11896/11896 [==============================] - 41s 3ms/step - loss: 0.0156 - accuracy: 0.3629 - val_loss: 0.0152 - val_accuracy: 0.2763\n",
      "Epoch 3/10\n",
      "11896/11896 [==============================] - 41s 3ms/step - loss: 0.0156 - accuracy: 0.3299 - val_loss: 0.0151 - val_accuracy: 0.1272\n",
      "Epoch 4/10\n",
      "11884/11896 [============================>.] - ETA: 0s - loss: 0.0156 - accuracy: 0.3473"
     ]
    },
    {
     "name": "stderr",
     "output_type": "stream",
     "text": [
      "[I 2024-01-25 02:25:13,257] Trial 40 pruned. Trial was pruned at epoch 3.\n"
     ]
    },
    {
     "name": "stdout",
     "output_type": "stream",
     "text": [
      "Epoch 1/10\n",
      "11896/11896 [==============================] - 42s 3ms/step - loss: 0.0163 - accuracy: 0.4250 - val_loss: 0.0153 - val_accuracy: 0.1540\n",
      "Epoch 2/10\n",
      "11896/11896 [==============================] - 41s 3ms/step - loss: 0.0159 - accuracy: 0.3746 - val_loss: 0.0153 - val_accuracy: 0.3636\n",
      "Epoch 3/10\n",
      "11896/11896 [==============================] - 41s 3ms/step - loss: 0.0159 - accuracy: 0.3833 - val_loss: 0.0153 - val_accuracy: 0.2385\n",
      "Epoch 4/10\n",
      "11893/11896 [============================>.] - ETA: 0s - loss: 0.0159 - accuracy: 0.3747"
     ]
    },
    {
     "name": "stderr",
     "output_type": "stream",
     "text": [
      "[I 2024-01-25 02:27:59,109] Trial 41 pruned. Trial was pruned at epoch 3.\n"
     ]
    },
    {
     "name": "stdout",
     "output_type": "stream",
     "text": [
      "Epoch 1/10\n",
      "11896/11896 [==============================] - 42s 4ms/step - loss: 0.0164 - accuracy: 0.4211 - val_loss: 0.0153 - val_accuracy: 0.3548\n",
      "Epoch 2/10\n",
      "11896/11896 [==============================] - 41s 3ms/step - loss: 0.0159 - accuracy: 0.3831 - val_loss: 0.0152 - val_accuracy: 0.2589\n",
      "Epoch 3/10\n",
      "11896/11896 [==============================] - 41s 3ms/step - loss: 0.0159 - accuracy: 0.3691 - val_loss: 0.0153 - val_accuracy: 0.2698\n",
      "Epoch 4/10\n",
      "11894/11896 [============================>.] - ETA: 0s - loss: 0.0159 - accuracy: 0.3645"
     ]
    },
    {
     "name": "stderr",
     "output_type": "stream",
     "text": [
      "[I 2024-01-25 02:30:45,583] Trial 42 pruned. Trial was pruned at epoch 3.\n"
     ]
    },
    {
     "name": "stdout",
     "output_type": "stream",
     "text": [
      "Epoch 1/10\n",
      "11896/11896 [==============================] - 42s 3ms/step - loss: 0.0161 - accuracy: 0.4145 - val_loss: 0.0152 - val_accuracy: 0.2585\n",
      "Epoch 2/10\n",
      "11896/11896 [==============================] - 41s 3ms/step - loss: 0.0158 - accuracy: 0.4169 - val_loss: 0.0151 - val_accuracy: 0.3308\n",
      "Epoch 3/10\n",
      "11896/11896 [==============================] - 41s 3ms/step - loss: 0.0158 - accuracy: 0.4204 - val_loss: 0.0151 - val_accuracy: 0.1533\n",
      "Epoch 4/10\n",
      "11896/11896 [==============================] - 41s 3ms/step - loss: 0.0158 - accuracy: 0.3777 - val_loss: 0.0151 - val_accuracy: 0.5072\n",
      "Epoch 5/10\n",
      "11896/11896 [==============================] - 41s 3ms/step - loss: 0.0157 - accuracy: 0.4221 - val_loss: 0.0151 - val_accuracy: 0.2702\n",
      "Epoch 6/10\n",
      "11896/11896 [==============================] - 41s 3ms/step - loss: 0.0157 - accuracy: 0.3902 - val_loss: 0.0152 - val_accuracy: 0.1805\n",
      "Epoch 7/10\n",
      "11896/11896 [==============================] - 41s 3ms/step - loss: 0.0157 - accuracy: 0.3653 - val_loss: 0.0152 - val_accuracy: 0.2652\n",
      "Epoch 8/10\n",
      "11896/11896 [==============================] - 41s 3ms/step - loss: 0.0157 - accuracy: 0.3572 - val_loss: 0.0152 - val_accuracy: 0.3952\n",
      "Epoch 9/10\n",
      "11896/11896 [==============================] - 41s 3ms/step - loss: 0.0157 - accuracy: 0.3721 - val_loss: 0.0152 - val_accuracy: 0.2220\n",
      "Epoch 10/10\n",
      "11882/11896 [============================>.] - ETA: 0s - loss: 0.0157 - accuracy: 0.3748"
     ]
    },
    {
     "name": "stderr",
     "output_type": "stream",
     "text": [
      "[I 2024-01-25 02:37:37,622] Trial 43 pruned. Trial was pruned at epoch 9.\n"
     ]
    },
    {
     "name": "stdout",
     "output_type": "stream",
     "text": [
      "Epoch 1/10\n",
      "11896/11896 [==============================] - 41s 3ms/step - loss: 0.0163 - accuracy: 0.4857 - val_loss: 0.0152 - val_accuracy: 0.2259\n",
      "Epoch 2/10\n",
      "11896/11896 [==============================] - 41s 3ms/step - loss: 0.0159 - accuracy: 0.3929 - val_loss: 0.0152 - val_accuracy: 0.3951\n",
      "Epoch 3/10\n",
      "11896/11896 [==============================] - 41s 3ms/step - loss: 0.0159 - accuracy: 0.4512 - val_loss: 0.0152 - val_accuracy: 0.3561\n",
      "Epoch 4/10\n",
      "11887/11896 [============================>.] - ETA: 0s - loss: 0.0159 - accuracy: 0.4183"
     ]
    },
    {
     "name": "stderr",
     "output_type": "stream",
     "text": [
      "[I 2024-01-25 02:40:22,720] Trial 44 pruned. Trial was pruned at epoch 3.\n"
     ]
    },
    {
     "name": "stdout",
     "output_type": "stream",
     "text": [
      "Epoch 1/10\n",
      "11896/11896 [==============================] - 42s 3ms/step - loss: 0.0158 - accuracy: 0.3645 - val_loss: 0.0149 - val_accuracy: 0.1721\n",
      "Epoch 2/10\n",
      "11896/11896 [==============================] - 41s 3ms/step - loss: 0.0154 - accuracy: 0.2963 - val_loss: 0.0149 - val_accuracy: 0.2637\n",
      "Epoch 3/10\n",
      "11896/11896 [==============================] - 41s 3ms/step - loss: 0.0154 - accuracy: 0.2993 - val_loss: 0.0149 - val_accuracy: 0.3689\n",
      "Epoch 4/10\n",
      "11896/11896 [==============================] - 41s 3ms/step - loss: 0.0154 - accuracy: 0.3224 - val_loss: 0.0150 - val_accuracy: 0.2454\n",
      "Epoch 5/10\n",
      "11896/11896 [==============================] - 41s 3ms/step - loss: 0.0154 - accuracy: 0.3182 - val_loss: 0.0149 - val_accuracy: 0.3063\n",
      "Epoch 6/10\n",
      "11896/11896 [==============================] - 41s 3ms/step - loss: 0.0154 - accuracy: 0.3029 - val_loss: 0.0150 - val_accuracy: 0.2658\n",
      "Epoch 7/10\n",
      "11896/11896 [==============================] - 41s 3ms/step - loss: 0.0154 - accuracy: 0.3163 - val_loss: 0.0149 - val_accuracy: 0.2128\n",
      "Epoch 8/10\n",
      "11896/11896 [==============================] - 41s 3ms/step - loss: 0.0154 - accuracy: 0.3113 - val_loss: 0.0149 - val_accuracy: 0.2838\n",
      "Epoch 9/10\n",
      "11896/11896 [==============================] - 41s 3ms/step - loss: 0.0154 - accuracy: 0.3061 - val_loss: 0.0149 - val_accuracy: 0.2505\n",
      "Epoch 10/10\n",
      "11893/11896 [============================>.] - ETA: 0s - loss: 0.0154 - accuracy: 0.3083"
     ]
    },
    {
     "name": "stderr",
     "output_type": "stream",
     "text": [
      "[I 2024-01-25 02:47:13,743] Trial 45 pruned. Trial was pruned at epoch 9.\n"
     ]
    },
    {
     "name": "stdout",
     "output_type": "stream",
     "text": [
      "Epoch 1/10\n",
      "11896/11896 [==============================] - 42s 4ms/step - loss: 0.0157 - accuracy: 0.3772 - val_loss: 0.0150 - val_accuracy: 0.1593\n",
      "Epoch 2/10\n",
      "11896/11896 [==============================] - 41s 3ms/step - loss: 0.0153 - accuracy: 0.3175 - val_loss: 0.0152 - val_accuracy: 0.3550\n",
      "Epoch 3/10\n",
      "11896/11896 [==============================] - 41s 3ms/step - loss: 0.0153 - accuracy: 0.3241 - val_loss: 0.0149 - val_accuracy: 0.3174\n",
      "Epoch 4/10\n",
      "11893/11896 [============================>.] - ETA: 0s - loss: 0.0153 - accuracy: 0.3126"
     ]
    },
    {
     "name": "stderr",
     "output_type": "stream",
     "text": [
      "[I 2024-01-25 02:49:59,471] Trial 46 pruned. Trial was pruned at epoch 3.\n"
     ]
    },
    {
     "name": "stdout",
     "output_type": "stream",
     "text": [
      "Epoch 1/10\n",
      "11896/11896 [==============================] - 42s 3ms/step - loss: 0.0160 - accuracy: 0.3232 - val_loss: 0.0151 - val_accuracy: 0.1828\n",
      "Epoch 2/10\n",
      "11896/11896 [==============================] - 41s 3ms/step - loss: 0.0157 - accuracy: 0.3316 - val_loss: 0.0151 - val_accuracy: 0.3630\n",
      "Epoch 3/10\n",
      "11896/11896 [==============================] - 41s 3ms/step - loss: 0.0157 - accuracy: 0.3347 - val_loss: 0.0152 - val_accuracy: 0.2354\n",
      "Epoch 4/10\n",
      "11896/11896 [==============================] - 41s 3ms/step - loss: 0.0157 - accuracy: 0.3308 - val_loss: 0.0153 - val_accuracy: 0.2225\n",
      "Epoch 5/10\n",
      "11896/11896 [==============================] - 41s 3ms/step - loss: 0.0157 - accuracy: 0.3358 - val_loss: 0.0151 - val_accuracy: 0.1944\n",
      "Epoch 6/10\n",
      "11896/11896 [==============================] - 41s 3ms/step - loss: 0.0157 - accuracy: 0.3472 - val_loss: 0.0152 - val_accuracy: 0.0087\n",
      "Epoch 7/10\n",
      "11896/11896 [==============================] - 41s 3ms/step - loss: 0.0156 - accuracy: 0.3359 - val_loss: 0.0151 - val_accuracy: 0.2527\n",
      "Epoch 8/10\n",
      "11896/11896 [==============================] - 41s 3ms/step - loss: 0.0156 - accuracy: 0.3367 - val_loss: 0.0152 - val_accuracy: 0.5324\n",
      "Epoch 9/10\n",
      "11896/11896 [==============================] - 41s 3ms/step - loss: 0.0156 - accuracy: 0.3447 - val_loss: 0.0151 - val_accuracy: 0.4170\n",
      "Epoch 10/10\n",
      "11882/11896 [============================>.] - ETA: 0s - loss: 0.0156 - accuracy: 0.3378"
     ]
    },
    {
     "name": "stderr",
     "output_type": "stream",
     "text": [
      "[I 2024-01-25 02:56:50,961] Trial 47 pruned. Trial was pruned at epoch 9.\n"
     ]
    },
    {
     "name": "stdout",
     "output_type": "stream",
     "text": [
      "Epoch 1/10\n",
      "11896/11896 [==============================] - 42s 3ms/step - loss: 0.0165 - accuracy: 0.4273 - val_loss: 0.0155 - val_accuracy: 0.3673\n",
      "Epoch 2/10\n",
      "11896/11896 [==============================] - 41s 3ms/step - loss: 0.0160 - accuracy: 0.3970 - val_loss: 0.0155 - val_accuracy: 0.4491\n",
      "Epoch 3/10\n",
      "11896/11896 [==============================] - 41s 3ms/step - loss: 0.0160 - accuracy: 0.3946 - val_loss: 0.0155 - val_accuracy: 0.3203\n",
      "Epoch 4/10\n",
      "11881/11896 [============================>.] - ETA: 0s - loss: 0.0160 - accuracy: 0.3841"
     ]
    },
    {
     "name": "stderr",
     "output_type": "stream",
     "text": [
      "[I 2024-01-25 02:59:36,866] Trial 48 pruned. Trial was pruned at epoch 3.\n"
     ]
    },
    {
     "name": "stdout",
     "output_type": "stream",
     "text": [
      "Epoch 1/10\n",
      "11896/11896 [==============================] - 42s 4ms/step - loss: 0.0160 - accuracy: 0.3446 - val_loss: 0.0153 - val_accuracy: 0.3384\n",
      "Epoch 2/10\n",
      "11896/11896 [==============================] - 42s 3ms/step - loss: 0.0157 - accuracy: 0.3639 - val_loss: 0.0152 - val_accuracy: 0.2185\n",
      "Epoch 3/10\n",
      "11896/11896 [==============================] - 42s 3ms/step - loss: 0.0157 - accuracy: 0.3552 - val_loss: 0.0151 - val_accuracy: 0.3928\n",
      "Epoch 4/10\n",
      "11885/11896 [============================>.] - ETA: 0s - loss: 0.0157 - accuracy: 0.3710"
     ]
    },
    {
     "name": "stderr",
     "output_type": "stream",
     "text": [
      "[I 2024-01-25 03:02:23,827] Trial 49 pruned. Trial was pruned at epoch 3.\n"
     ]
    }
   ],
   "source": [
    "study = optuna.create_study(direction=\"maximize\", sampler=optuna.samplers.TPESampler(), pruner=optuna.pruners.HyperbandPruner())\n",
    "study.optimize(objective1, n_trials=50)\n",
    "pruned_trials = study.get_trials(deepcopy=False, states=[TrialState.PRUNED])\n",
    "complete_trials = study.get_trials(deepcopy=False, states=[TrialState.COMPLETE])"
   ]
  },
  {
   "cell_type": "code",
   "execution_count": 21,
   "metadata": {},
   "outputs": [
    {
     "name": "stdout",
     "output_type": "stream",
     "text": [
      "\n",
      "Study statistics: \n",
      "  Number of finished trials:  50\n",
      "  Number of pruned trials:  42\n",
      "  Number of complete trials:  8\n",
      "Best trial:\n",
      "  Value:  0.8712630867958069\n",
      "  Params: \n",
      "    dropout_rate: 0.07899167787544625\n",
      "\n",
      "Overall Results (ordered by accuracy):\n",
      "     number     value  params_dropout_rate  system_attrs_completed_rung_0  \\\n",
      "2        2  0.854060             0.459002                       0.015597   \n",
      "7        7  0.861270             0.286755                       0.015333   \n",
      "1        1  0.861867             0.343185                       0.015438   \n",
      "30      30  0.862021             0.300665                       0.015360   \n",
      "28      28  0.867245             0.180687                       0.015275   \n",
      "0        0  0.869577             0.157647                            NaN   \n",
      "8        8  0.869789             0.180184                       0.015075   \n",
      "6        6  0.871263             0.078992                       0.014836   \n",
      "\n",
      "    system_attrs_completed_rung_1  system_attrs_completed_rung_2  \n",
      "2                        0.015605                       0.015647  \n",
      "7                        0.015433                            NaN  \n",
      "1                        0.015502                       0.015361  \n",
      "30                       0.015391                            NaN  \n",
      "28                            NaN                            NaN  \n",
      "0                             NaN                            NaN  \n",
      "8                             NaN                            NaN  \n",
      "6                        0.014822                            NaN  \n",
      "\n",
      "Most important hyperparameters:\n",
      "  dropout_rate:   100.00%\n"
     ]
    }
   ],
   "source": [
    "print(\"\\nStudy statistics: \")\n",
    "print(\"  Number of finished trials: \", len(study.trials))\n",
    "print(\"  Number of pruned trials: \", len(pruned_trials))\n",
    "print(\"  Number of complete trials: \", len(complete_trials))\n",
    "\n",
    "trial = study.best_trial\n",
    "print(\"Best trial:\")\n",
    "print(\"  Value: \", trial.value)\n",
    "print(\"  Params: \")\n",
    "for key, value in trial.params.items():\n",
    "    print(\"    {}: {}\".format(key, value))\n",
    "\n",
    "# Save results to csv file\n",
    "df = study.trials_dataframe().drop(['datetime_start', 'datetime_complete', 'duration'], axis=1)  # Exclude columns\n",
    "df = df.loc[df['state'] == 'COMPLETE']        # Keep only results that did not prune\n",
    "df = df.drop('state', axis=1)                 # Exclude state column\n",
    "df = df.sort_values('value')                  # Sort based on accuracy\n",
    "df.to_csv('optuna_results.csv', index=False)  # Save to csv file\n",
    "\n",
    "# Display results in a dataframe\n",
    "print(\"\\nOverall Results (ordered by accuracy):\\n {}\".format(df))\n",
    "\n",
    "# Find the most important hyperparameters\n",
    "most_important_parameters = optuna.importance.get_param_importances(study, target=None)\n",
    "\n",
    "# Display the most important hyperparameters\n",
    "print('\\nMost important hyperparameters:')\n",
    "for key, value in most_important_parameters.items():\n",
    "    print('  {}:{}{:.2f}%'.format(key, (15-len(key))*' ', value*100))"
   ]
  },
  {
   "cell_type": "code",
   "execution_count": 22,
   "metadata": {},
   "outputs": [
    {
     "name": "stderr",
     "output_type": "stream",
     "text": [
      "[I 2024-01-25 03:02:23,961] A new study created in memory with name: no-name-d343fe65-fc72-4d4b-99a9-2a0a962c4932\n"
     ]
    },
    {
     "name": "stdout",
     "output_type": "stream",
     "text": [
      "Epoch 1/10\n",
      "11896/11896 [==============================] - 44s 4ms/step - loss: 0.0160 - accuracy: 0.3324 - val_loss: 0.0151 - val_accuracy: 0.4301\n",
      "Epoch 2/10\n",
      "11896/11896 [==============================] - 43s 4ms/step - loss: 0.0154 - accuracy: 0.3300 - val_loss: 0.0150 - val_accuracy: 0.3216\n",
      "Epoch 3/10\n",
      "11896/11896 [==============================] - 43s 4ms/step - loss: 0.0154 - accuracy: 0.3473 - val_loss: 0.0151 - val_accuracy: 0.2634\n",
      "Epoch 4/10\n",
      "11896/11896 [==============================] - 43s 4ms/step - loss: 0.0154 - accuracy: 0.3448 - val_loss: 0.0150 - val_accuracy: 0.4310\n",
      "Epoch 5/10\n",
      "11896/11896 [==============================] - 43s 4ms/step - loss: 0.0154 - accuracy: 0.3409 - val_loss: 0.0150 - val_accuracy: 0.1537\n",
      "Epoch 6/10\n",
      "11896/11896 [==============================] - 44s 4ms/step - loss: 0.0154 - accuracy: 0.3506 - val_loss: 0.0150 - val_accuracy: 0.2725\n",
      "Epoch 7/10\n",
      "11896/11896 [==============================] - 46s 4ms/step - loss: 0.0154 - accuracy: 0.3400 - val_loss: 0.0150 - val_accuracy: 0.3114\n",
      "Epoch 8/10\n",
      "11896/11896 [==============================] - 44s 4ms/step - loss: 0.0154 - accuracy: 0.3596 - val_loss: 0.0150 - val_accuracy: 0.4003\n",
      "Epoch 9/10\n",
      "11896/11896 [==============================] - 43s 4ms/step - loss: 0.0154 - accuracy: 0.3475 - val_loss: 0.0151 - val_accuracy: 0.2838\n",
      "Epoch 10/10\n",
      "11896/11896 [==============================] - 44s 4ms/step - loss: 0.0154 - accuracy: 0.3423 - val_loss: 0.0150 - val_accuracy: 0.2725\n",
      "3569/3569 [==============================] - 4s 981us/step\n"
     ]
    },
    {
     "name": "stderr",
     "output_type": "stream",
     "text": [
      "[I 2024-01-25 03:09:47,848] Trial 0 finished with value: 0.8676701188087463 and parameters: {'dropout_rate1': 0.49876331222588766, 'dropout_rate2': 0.12300947214747354, 'dropout_rate3': 0.07889421808424685}. Best is trial 0 with value: 0.8676701188087463.\n"
     ]
    },
    {
     "name": "stdout",
     "output_type": "stream",
     "text": [
      "Epoch 1/10\n",
      "11896/11896 [==============================] - 45s 4ms/step - loss: 0.0160 - accuracy: 0.3698 - val_loss: 0.0151 - val_accuracy: 0.2612\n",
      "Epoch 2/10\n",
      "11896/11896 [==============================] - 43s 4ms/step - loss: 0.0155 - accuracy: 0.3548 - val_loss: 0.0151 - val_accuracy: 0.3331\n",
      "Epoch 3/10\n",
      "11896/11896 [==============================] - 43s 4ms/step - loss: 0.0155 - accuracy: 0.3592 - val_loss: 0.0151 - val_accuracy: 0.1279\n",
      "Epoch 4/10\n",
      "11896/11896 [==============================] - 44s 4ms/step - loss: 0.0155 - accuracy: 0.3561 - val_loss: 0.0151 - val_accuracy: 0.3040\n",
      "Epoch 5/10\n",
      "11896/11896 [==============================] - 44s 4ms/step - loss: 0.0155 - accuracy: 0.3566 - val_loss: 0.0151 - val_accuracy: 0.2573\n",
      "Epoch 6/10\n",
      "11896/11896 [==============================] - 44s 4ms/step - loss: 0.0155 - accuracy: 0.3560 - val_loss: 0.0150 - val_accuracy: 0.4362\n",
      "Epoch 7/10\n",
      "11896/11896 [==============================] - 44s 4ms/step - loss: 0.0155 - accuracy: 0.3533 - val_loss: 0.0150 - val_accuracy: 0.2139\n",
      "Epoch 8/10\n",
      "11896/11896 [==============================] - 43s 4ms/step - loss: 0.0155 - accuracy: 0.3499 - val_loss: 0.0151 - val_accuracy: 0.2689\n",
      "Epoch 9/10\n",
      "11896/11896 [==============================] - 44s 4ms/step - loss: 0.0155 - accuracy: 0.3445 - val_loss: 0.0150 - val_accuracy: 0.4838\n",
      "Epoch 10/10\n",
      "11896/11896 [==============================] - 44s 4ms/step - loss: 0.0155 - accuracy: 0.3443 - val_loss: 0.0150 - val_accuracy: 0.3871\n",
      "3569/3569 [==============================] - 4s 998us/step\n"
     ]
    },
    {
     "name": "stderr",
     "output_type": "stream",
     "text": [
      "[I 2024-01-25 03:17:10,163] Trial 1 finished with value: 0.8692013621330261 and parameters: {'dropout_rate1': 0.10881628315448705, 'dropout_rate2': 0.21645253628714312, 'dropout_rate3': 0.28275113817466674}. Best is trial 1 with value: 0.8692013621330261.\n"
     ]
    },
    {
     "name": "stdout",
     "output_type": "stream",
     "text": [
      "Epoch 1/10\n",
      "11896/11896 [==============================] - 45s 4ms/step - loss: 0.0163 - accuracy: 0.4535 - val_loss: 0.0153 - val_accuracy: 0.4918\n",
      "Epoch 2/10\n",
      "11896/11896 [==============================] - 43s 4ms/step - loss: 0.0160 - accuracy: 0.4726 - val_loss: 0.0153 - val_accuracy: 0.2818\n",
      "Epoch 3/10\n",
      "11896/11896 [==============================] - 43s 4ms/step - loss: 0.0159 - accuracy: 0.4186 - val_loss: 0.0153 - val_accuracy: 0.3971\n",
      "Epoch 4/10\n",
      "11896/11896 [==============================] - 44s 4ms/step - loss: 0.0160 - accuracy: 0.4141 - val_loss: 0.0154 - val_accuracy: 0.4752\n",
      "Epoch 5/10\n",
      "11896/11896 [==============================] - 44s 4ms/step - loss: 0.0160 - accuracy: 0.4220 - val_loss: 0.0154 - val_accuracy: 0.3063\n",
      "Epoch 6/10\n",
      "11896/11896 [==============================] - 44s 4ms/step - loss: 0.0160 - accuracy: 0.4059 - val_loss: 0.0154 - val_accuracy: 0.2834\n",
      "Epoch 7/10\n",
      "11896/11896 [==============================] - 44s 4ms/step - loss: 0.0160 - accuracy: 0.4077 - val_loss: 0.0154 - val_accuracy: 0.4423\n",
      "Epoch 8/10\n",
      "11896/11896 [==============================] - 44s 4ms/step - loss: 0.0160 - accuracy: 0.4087 - val_loss: 0.0153 - val_accuracy: 0.3093\n",
      "Epoch 9/10\n",
      "11896/11896 [==============================] - 44s 4ms/step - loss: 0.0160 - accuracy: 0.4217 - val_loss: 0.0154 - val_accuracy: 0.3144\n",
      "Epoch 10/10\n",
      "11896/11896 [==============================] - 44s 4ms/step - loss: 0.0160 - accuracy: 0.4098 - val_loss: 0.0154 - val_accuracy: 0.2677\n",
      "3569/3569 [==============================] - 4s 989us/step\n"
     ]
    },
    {
     "name": "stderr",
     "output_type": "stream",
     "text": [
      "[I 2024-01-25 03:24:33,274] Trial 2 finished with value: 0.8626173138618469 and parameters: {'dropout_rate1': 0.3376362859809644, 'dropout_rate2': 0.3170594536830115, 'dropout_rate3': 0.4515915055545926}. Best is trial 1 with value: 0.8692013621330261.\n"
     ]
    },
    {
     "name": "stdout",
     "output_type": "stream",
     "text": [
      "Epoch 1/10\n",
      "11896/11896 [==============================] - 45s 4ms/step - loss: 0.0160 - accuracy: 0.3619 - val_loss: 0.0151 - val_accuracy: 0.4152\n",
      "Epoch 2/10\n",
      "11896/11896 [==============================] - 44s 4ms/step - loss: 0.0156 - accuracy: 0.4204 - val_loss: 0.0151 - val_accuracy: 0.2565\n",
      "Epoch 3/10\n",
      "11896/11896 [==============================] - 44s 4ms/step - loss: 0.0156 - accuracy: 0.3815 - val_loss: 0.0152 - val_accuracy: 0.5861\n",
      "Epoch 4/10\n",
      "11883/11896 [============================>.] - ETA: 0s - loss: 0.0156 - accuracy: 0.4233"
     ]
    },
    {
     "name": "stderr",
     "output_type": "stream",
     "text": [
      "[I 2024-01-25 03:27:29,879] Trial 3 pruned. Trial was pruned at epoch 3.\n"
     ]
    },
    {
     "name": "stdout",
     "output_type": "stream",
     "text": [
      "Epoch 1/10\n",
      "11896/11896 [==============================] - 44s 4ms/step - loss: 0.0157 - accuracy: 0.3668 - val_loss: 0.0151 - val_accuracy: 0.2831\n",
      "Epoch 2/10\n",
      "11896/11896 [==============================] - 43s 4ms/step - loss: 0.0153 - accuracy: 0.3146 - val_loss: 0.0150 - val_accuracy: 0.2575\n",
      "Epoch 3/10\n",
      "11896/11896 [==============================] - 43s 4ms/step - loss: 0.0153 - accuracy: 0.3137 - val_loss: 0.0149 - val_accuracy: 0.2150\n",
      "Epoch 4/10\n",
      "11896/11896 [==============================] - 44s 4ms/step - loss: 0.0153 - accuracy: 0.3127 - val_loss: 0.0150 - val_accuracy: 0.1991\n",
      "Epoch 5/10\n",
      "11896/11896 [==============================] - 44s 4ms/step - loss: 0.0153 - accuracy: 0.3038 - val_loss: 0.0150 - val_accuracy: 0.2055\n",
      "Epoch 6/10\n",
      "11896/11896 [==============================] - 44s 4ms/step - loss: 0.0153 - accuracy: 0.3046 - val_loss: 0.0149 - val_accuracy: 0.3748\n",
      "Epoch 7/10\n",
      "11896/11896 [==============================] - 44s 4ms/step - loss: 0.0153 - accuracy: 0.3126 - val_loss: 0.0149 - val_accuracy: 0.1924\n",
      "Epoch 8/10\n",
      "11896/11896 [==============================] - 44s 4ms/step - loss: 0.0153 - accuracy: 0.3203 - val_loss: 0.0149 - val_accuracy: 0.3990\n",
      "Epoch 9/10\n",
      "11896/11896 [==============================] - 44s 4ms/step - loss: 0.0153 - accuracy: 0.3138 - val_loss: 0.0149 - val_accuracy: 0.2925\n",
      "Epoch 10/10\n",
      "11896/11896 [==============================] - 44s 4ms/step - loss: 0.0153 - accuracy: 0.3199 - val_loss: 0.0149 - val_accuracy: 0.1464\n",
      "3569/3569 [==============================] - 4s 989us/step\n"
     ]
    },
    {
     "name": "stderr",
     "output_type": "stream",
     "text": [
      "[I 2024-01-25 03:34:52,915] Trial 4 finished with value: 0.8707488775253296 and parameters: {'dropout_rate1': 0.2822561966848435, 'dropout_rate2': 0.1877127859630215, 'dropout_rate3': 0.05954025204453273}. Best is trial 4 with value: 0.8707488775253296.\n"
     ]
    },
    {
     "name": "stdout",
     "output_type": "stream",
     "text": [
      "Epoch 1/10\n",
      "11896/11896 [==============================] - 45s 4ms/step - loss: 0.0162 - accuracy: 0.4144 - val_loss: 0.0153 - val_accuracy: 0.2862\n",
      "Epoch 2/10\n",
      "11896/11896 [==============================] - 44s 4ms/step - loss: 0.0158 - accuracy: 0.3722 - val_loss: 0.0153 - val_accuracy: 0.2051\n",
      "Epoch 3/10\n",
      "11896/11896 [==============================] - 44s 4ms/step - loss: 0.0158 - accuracy: 0.3832 - val_loss: 0.0153 - val_accuracy: 0.2216\n",
      "Epoch 4/10\n",
      "11896/11896 [==============================] - 44s 4ms/step - loss: 0.0158 - accuracy: 0.3884 - val_loss: 0.0152 - val_accuracy: 0.2613\n",
      "Epoch 5/10\n",
      "11896/11896 [==============================] - 44s 4ms/step - loss: 0.0158 - accuracy: 0.3738 - val_loss: 0.0152 - val_accuracy: 0.1899\n",
      "Epoch 6/10\n",
      "11896/11896 [==============================] - 44s 4ms/step - loss: 0.0158 - accuracy: 0.3866 - val_loss: 0.0152 - val_accuracy: 0.2509\n",
      "Epoch 7/10\n",
      "11896/11896 [==============================] - 44s 4ms/step - loss: 0.0158 - accuracy: 0.4172 - val_loss: 0.0152 - val_accuracy: 0.2112\n",
      "Epoch 8/10\n",
      "11896/11896 [==============================] - 44s 4ms/step - loss: 0.0158 - accuracy: 0.3845 - val_loss: 0.0152 - val_accuracy: 0.3347\n",
      "Epoch 9/10\n",
      "11896/11896 [==============================] - 44s 4ms/step - loss: 0.0158 - accuracy: 0.3669 - val_loss: 0.0152 - val_accuracy: 0.3629\n",
      "Epoch 10/10\n",
      "11890/11896 [============================>.] - ETA: 0s - loss: 0.0158 - accuracy: 0.4010"
     ]
    },
    {
     "name": "stderr",
     "output_type": "stream",
     "text": [
      "[I 2024-01-25 03:42:10,630] Trial 5 pruned. Trial was pruned at epoch 9.\n"
     ]
    },
    {
     "name": "stdout",
     "output_type": "stream",
     "text": [
      "Epoch 1/10\n",
      "11896/11896 [==============================] - 45s 4ms/step - loss: 0.0163 - accuracy: 0.4878 - val_loss: 0.0153 - val_accuracy: 0.3973\n",
      "Epoch 2/10\n",
      "11896/11896 [==============================] - 44s 4ms/step - loss: 0.0159 - accuracy: 0.4451 - val_loss: 0.0152 - val_accuracy: 0.3638\n",
      "Epoch 3/10\n",
      "11896/11896 [==============================] - 44s 4ms/step - loss: 0.0158 - accuracy: 0.4486 - val_loss: 0.0151 - val_accuracy: 0.2356\n",
      "Epoch 4/10\n",
      "11896/11896 [==============================] - 43s 4ms/step - loss: 0.0158 - accuracy: 0.4520 - val_loss: 0.0151 - val_accuracy: 0.2337\n",
      "Epoch 5/10\n",
      "11896/11896 [==============================] - 44s 4ms/step - loss: 0.0158 - accuracy: 0.4299 - val_loss: 0.0151 - val_accuracy: 0.3632\n",
      "Epoch 6/10\n",
      "11896/11896 [==============================] - 44s 4ms/step - loss: 0.0158 - accuracy: 0.4037 - val_loss: 0.0151 - val_accuracy: 0.3918\n",
      "Epoch 7/10\n",
      "11896/11896 [==============================] - 44s 4ms/step - loss: 0.0158 - accuracy: 0.4286 - val_loss: 0.0151 - val_accuracy: 0.4031\n",
      "Epoch 8/10\n",
      "11896/11896 [==============================] - 43s 4ms/step - loss: 0.0158 - accuracy: 0.4109 - val_loss: 0.0151 - val_accuracy: 0.3375\n",
      "Epoch 9/10\n",
      "11896/11896 [==============================] - 44s 4ms/step - loss: 0.0158 - accuracy: 0.4398 - val_loss: 0.0151 - val_accuracy: 0.1188\n",
      "Epoch 10/10\n",
      "11896/11896 [==============================] - 44s 4ms/step - loss: 0.0158 - accuracy: 0.4493 - val_loss: 0.0151 - val_accuracy: 0.1926\n",
      "3569/3569 [==============================] - 4s 992us/step\n"
     ]
    },
    {
     "name": "stderr",
     "output_type": "stream",
     "text": [
      "[I 2024-01-25 03:49:35,697] Trial 6 finished with value: 0.8700608611106873 and parameters: {'dropout_rate1': 0.36569568304532435, 'dropout_rate2': 0.3502475103486954, 'dropout_rate3': 0.24524711523119352}. Best is trial 4 with value: 0.8707488775253296.\n"
     ]
    },
    {
     "name": "stdout",
     "output_type": "stream",
     "text": [
      "Epoch 1/10\n",
      "11896/11896 [==============================] - 46s 4ms/step - loss: 0.0159 - accuracy: 0.3969 - val_loss: 0.0150 - val_accuracy: 0.3053\n",
      "Epoch 2/10\n",
      "11896/11896 [==============================] - 44s 4ms/step - loss: 0.0154 - accuracy: 0.3346 - val_loss: 0.0152 - val_accuracy: 0.1954\n",
      "Epoch 3/10\n",
      "11896/11896 [==============================] - 45s 4ms/step - loss: 0.0154 - accuracy: 0.3222 - val_loss: 0.0150 - val_accuracy: 0.3662\n",
      "Epoch 4/10\n",
      "11886/11896 [============================>.] - ETA: 0s - loss: 0.0153 - accuracy: 0.3247"
     ]
    },
    {
     "name": "stderr",
     "output_type": "stream",
     "text": [
      "[I 2024-01-25 03:52:34,571] Trial 7 pruned. Trial was pruned at epoch 3.\n"
     ]
    },
    {
     "name": "stdout",
     "output_type": "stream",
     "text": [
      "Epoch 1/10\n",
      "11896/11896 [==============================] - 45s 4ms/step - loss: 0.0159 - accuracy: 0.3641 - val_loss: 0.0150 - val_accuracy: 0.3974\n",
      "Epoch 2/10\n",
      "11891/11896 [============================>.] - ETA: 0s - loss: 0.0152 - accuracy: 0.3079"
     ]
    },
    {
     "name": "stderr",
     "output_type": "stream",
     "text": [
      "[I 2024-01-25 03:54:03,503] Trial 8 pruned. Trial was pruned at epoch 1.\n"
     ]
    },
    {
     "name": "stdout",
     "output_type": "stream",
     "text": [
      "Epoch 1/10\n",
      "11896/11896 [==============================] - 45s 4ms/step - loss: 0.0157 - accuracy: 0.3974 - val_loss: 0.0150 - val_accuracy: 0.2912\n",
      "Epoch 2/10\n",
      "11885/11896 [============================>.] - ETA: 0s - loss: 0.0152 - accuracy: 0.3140"
     ]
    },
    {
     "name": "stderr",
     "output_type": "stream",
     "text": [
      "[I 2024-01-25 03:55:33,042] Trial 9 pruned. Trial was pruned at epoch 1.\n"
     ]
    },
    {
     "name": "stdout",
     "output_type": "stream",
     "text": [
      "Epoch 1/10\n",
      "11896/11896 [==============================] - 45s 4ms/step - loss: 0.0156 - accuracy: 0.3083 - val_loss: 0.0149 - val_accuracy: 0.3324\n",
      "Epoch 2/10\n",
      "11889/11896 [============================>.] - ETA: 0s - loss: 0.0151 - accuracy: 0.2724"
     ]
    },
    {
     "name": "stderr",
     "output_type": "stream",
     "text": [
      "[I 2024-01-25 03:57:02,153] Trial 10 pruned. Trial was pruned at epoch 1.\n"
     ]
    },
    {
     "name": "stdout",
     "output_type": "stream",
     "text": [
      "Epoch 1/10\n",
      "11896/11896 [==============================] - 45s 4ms/step - loss: 0.0163 - accuracy: 0.4615 - val_loss: 0.0154 - val_accuracy: 0.5015\n",
      "Epoch 2/10\n",
      "11896/11896 [==============================] - 44s 4ms/step - loss: 0.0159 - accuracy: 0.4127 - val_loss: 0.0152 - val_accuracy: 0.4850\n",
      "Epoch 3/10\n",
      "11896/11896 [==============================] - 44s 4ms/step - loss: 0.0159 - accuracy: 0.4064 - val_loss: 0.0153 - val_accuracy: 0.3486\n",
      "Epoch 4/10\n",
      "11896/11896 [==============================] - 44s 4ms/step - loss: 0.0159 - accuracy: 0.4005 - val_loss: 0.0153 - val_accuracy: 0.3971\n",
      "Epoch 5/10\n",
      "11896/11896 [==============================] - 43s 4ms/step - loss: 0.0159 - accuracy: 0.3963 - val_loss: 0.0153 - val_accuracy: 0.3689\n",
      "Epoch 6/10\n",
      "11896/11896 [==============================] - 44s 4ms/step - loss: 0.0159 - accuracy: 0.3934 - val_loss: 0.0153 - val_accuracy: 0.2584\n",
      "Epoch 7/10\n",
      "11896/11896 [==============================] - 44s 4ms/step - loss: 0.0159 - accuracy: 0.4017 - val_loss: 0.0153 - val_accuracy: 0.2726\n",
      "Epoch 8/10\n",
      "11896/11896 [==============================] - 44s 4ms/step - loss: 0.0159 - accuracy: 0.4030 - val_loss: 0.0153 - val_accuracy: 0.2373\n",
      "Epoch 9/10\n",
      "11896/11896 [==============================] - 44s 4ms/step - loss: 0.0159 - accuracy: 0.3980 - val_loss: 0.0153 - val_accuracy: 0.3609\n",
      "Epoch 10/10\n",
      "11896/11896 [==============================] - 44s 4ms/step - loss: 0.0159 - accuracy: 0.3809 - val_loss: 0.0153 - val_accuracy: 0.2834\n",
      "3569/3569 [==============================] - 4s 1ms/step\n"
     ]
    },
    {
     "name": "stderr",
     "output_type": "stream",
     "text": [
      "[I 2024-01-25 04:04:25,707] Trial 11 finished with value: 0.8647690415382385 and parameters: {'dropout_rate1': 0.3576645976731173, 'dropout_rate2': 0.3277567617522121, 'dropout_rate3': 0.30544331179804357}. Best is trial 4 with value: 0.8707488775253296.\n"
     ]
    },
    {
     "name": "stdout",
     "output_type": "stream",
     "text": [
      "Epoch 1/10\n",
      "11896/11896 [==============================] - 44s 4ms/step - loss: 0.0160 - accuracy: 0.4158 - val_loss: 0.0151 - val_accuracy: 0.2415\n",
      "Epoch 2/10\n",
      "11895/11896 [============================>.] - ETA: 0s - loss: 0.0156 - accuracy: 0.3926"
     ]
    },
    {
     "name": "stderr",
     "output_type": "stream",
     "text": [
      "[I 2024-01-25 04:05:54,147] Trial 12 pruned. Trial was pruned at epoch 1.\n"
     ]
    },
    {
     "name": "stdout",
     "output_type": "stream",
     "text": [
      "Epoch 1/10\n",
      "11896/11896 [==============================] - 45s 4ms/step - loss: 0.0164 - accuracy: 0.5060 - val_loss: 0.0155 - val_accuracy: 0.3334\n",
      "Epoch 2/10\n",
      "11896/11896 [==============================] - 44s 4ms/step - loss: 0.0160 - accuracy: 0.4041 - val_loss: 0.0154 - val_accuracy: 0.3913\n",
      "Epoch 3/10\n",
      "11896/11896 [==============================] - 43s 4ms/step - loss: 0.0160 - accuracy: 0.4250 - val_loss: 0.0154 - val_accuracy: 0.2940\n",
      "Epoch 4/10\n",
      "11896/11896 [==============================] - 44s 4ms/step - loss: 0.0160 - accuracy: 0.4174 - val_loss: 0.0155 - val_accuracy: 0.3142\n",
      "Epoch 5/10\n",
      "11896/11896 [==============================] - 44s 4ms/step - loss: 0.0160 - accuracy: 0.4011 - val_loss: 0.0154 - val_accuracy: 0.3958\n",
      "Epoch 6/10\n",
      "11896/11896 [==============================] - 43s 4ms/step - loss: 0.0160 - accuracy: 0.3994 - val_loss: 0.0154 - val_accuracy: 0.2589\n",
      "Epoch 7/10\n",
      "11896/11896 [==============================] - 43s 4ms/step - loss: 0.0160 - accuracy: 0.4051 - val_loss: 0.0154 - val_accuracy: 0.2828\n",
      "Epoch 8/10\n",
      "11896/11896 [==============================] - 43s 4ms/step - loss: 0.0160 - accuracy: 0.4025 - val_loss: 0.0154 - val_accuracy: 0.3806\n",
      "Epoch 9/10\n",
      "11896/11896 [==============================] - 43s 4ms/step - loss: 0.0160 - accuracy: 0.4061 - val_loss: 0.0154 - val_accuracy: 0.3192\n",
      "Epoch 10/10\n",
      "11896/11896 [==============================] - 43s 4ms/step - loss: 0.0160 - accuracy: 0.4041 - val_loss: 0.0154 - val_accuracy: 0.3302\n",
      "3569/3569 [==============================] - 4s 989us/step\n"
     ]
    },
    {
     "name": "stderr",
     "output_type": "stream",
     "text": [
      "[I 2024-01-25 04:13:15,498] Trial 13 finished with value: 0.86153644323349 and parameters: {'dropout_rate1': 0.3833478648588303, 'dropout_rate2': 0.39273687048368183, 'dropout_rate3': 0.37646670903836643}. Best is trial 4 with value: 0.8707488775253296.\n"
     ]
    },
    {
     "name": "stdout",
     "output_type": "stream",
     "text": [
      "Epoch 1/10\n",
      "11896/11896 [==============================] - 44s 4ms/step - loss: 0.0160 - accuracy: 0.3625 - val_loss: 0.0151 - val_accuracy: 0.4888\n",
      "Epoch 2/10\n",
      "11896/11896 [==============================] - 44s 4ms/step - loss: 0.0157 - accuracy: 0.3951 - val_loss: 0.0152 - val_accuracy: 0.2446\n",
      "Epoch 3/10\n",
      "11896/11896 [==============================] - 44s 4ms/step - loss: 0.0157 - accuracy: 0.3461 - val_loss: 0.0151 - val_accuracy: 0.3202\n",
      "Epoch 4/10\n",
      "11890/11896 [============================>.] - ETA: 0s - loss: 0.0157 - accuracy: 0.4196"
     ]
    },
    {
     "name": "stderr",
     "output_type": "stream",
     "text": [
      "[I 2024-01-25 04:16:10,619] Trial 14 pruned. Trial was pruned at epoch 3.\n"
     ]
    },
    {
     "name": "stdout",
     "output_type": "stream",
     "text": [
      "Epoch 1/10\n",
      "11896/11896 [==============================] - 45s 4ms/step - loss: 0.0160 - accuracy: 0.4111 - val_loss: 0.0150 - val_accuracy: 0.2658\n",
      "Epoch 2/10\n",
      "11896/11896 [==============================] - 44s 4ms/step - loss: 0.0157 - accuracy: 0.4110 - val_loss: 0.0150 - val_accuracy: 0.3530\n",
      "Epoch 3/10\n",
      "11896/11896 [==============================] - 44s 4ms/step - loss: 0.0157 - accuracy: 0.3915 - val_loss: 0.0150 - val_accuracy: 0.4191\n",
      "Epoch 4/10\n",
      "11886/11896 [============================>.] - ETA: 0s - loss: 0.0157 - accuracy: 0.4057"
     ]
    },
    {
     "name": "stderr",
     "output_type": "stream",
     "text": [
      "[I 2024-01-25 04:19:08,503] Trial 15 pruned. Trial was pruned at epoch 3.\n"
     ]
    },
    {
     "name": "stdout",
     "output_type": "stream",
     "text": [
      "Epoch 1/10\n",
      "11896/11896 [==============================] - 46s 4ms/step - loss: 0.0158 - accuracy: 0.3533 - val_loss: 0.0151 - val_accuracy: 0.1277\n",
      "Epoch 2/10\n",
      "11896/11896 [==============================] - 44s 4ms/step - loss: 0.0153 - accuracy: 0.3071 - val_loss: 0.0151 - val_accuracy: 0.4375\n",
      "Epoch 3/10\n",
      "11896/11896 [==============================] - 44s 4ms/step - loss: 0.0153 - accuracy: 0.3095 - val_loss: 0.0150 - val_accuracy: 0.3051\n",
      "Epoch 4/10\n",
      "11896/11896 [==============================] - 44s 4ms/step - loss: 0.0153 - accuracy: 0.3139 - val_loss: 0.0150 - val_accuracy: 0.3313\n",
      "Epoch 5/10\n",
      "11896/11896 [==============================] - 44s 4ms/step - loss: 0.0152 - accuracy: 0.2992 - val_loss: 0.0151 - val_accuracy: 0.4021\n",
      "Epoch 6/10\n",
      "11896/11896 [==============================] - 44s 4ms/step - loss: 0.0152 - accuracy: 0.2995 - val_loss: 0.0150 - val_accuracy: 0.2393\n",
      "Epoch 7/10\n",
      "11896/11896 [==============================] - 45s 4ms/step - loss: 0.0152 - accuracy: 0.2808 - val_loss: 0.0150 - val_accuracy: 0.2905\n",
      "Epoch 8/10\n",
      "11896/11896 [==============================] - 44s 4ms/step - loss: 0.0152 - accuracy: 0.2769 - val_loss: 0.0150 - val_accuracy: 0.2856\n",
      "Epoch 9/10\n",
      "11896/11896 [==============================] - 44s 4ms/step - loss: 0.0152 - accuracy: 0.2812 - val_loss: 0.0149 - val_accuracy: 0.2380\n",
      "Epoch 10/10\n",
      "11889/11896 [============================>.] - ETA: 0s - loss: 0.0152 - accuracy: 0.2875"
     ]
    },
    {
     "name": "stderr",
     "output_type": "stream",
     "text": [
      "[I 2024-01-25 04:26:31,086] Trial 16 pruned. Trial was pruned at epoch 9.\n"
     ]
    },
    {
     "name": "stdout",
     "output_type": "stream",
     "text": [
      "Epoch 1/10\n",
      "11896/11896 [==============================] - 45s 4ms/step - loss: 0.0163 - accuracy: 0.3964 - val_loss: 0.0153 - val_accuracy: 0.0473\n",
      "Epoch 2/10\n",
      "11896/11896 [==============================] - 45s 4ms/step - loss: 0.0158 - accuracy: 0.3654 - val_loss: 0.0152 - val_accuracy: 0.3398\n",
      "Epoch 3/10\n",
      "11896/11896 [==============================] - 44s 4ms/step - loss: 0.0158 - accuracy: 0.4149 - val_loss: 0.0152 - val_accuracy: 0.3185\n",
      "Epoch 4/10\n",
      "11896/11896 [==============================] - 44s 4ms/step - loss: 0.0158 - accuracy: 0.4114 - val_loss: 0.0152 - val_accuracy: 0.3558\n",
      "Epoch 5/10\n",
      "11896/11896 [==============================] - 44s 4ms/step - loss: 0.0158 - accuracy: 0.4138 - val_loss: 0.0152 - val_accuracy: 0.3025\n",
      "Epoch 6/10\n",
      "11896/11896 [==============================] - 44s 4ms/step - loss: 0.0158 - accuracy: 0.3969 - val_loss: 0.0152 - val_accuracy: 0.2992\n",
      "Epoch 7/10\n",
      "11896/11896 [==============================] - 44s 4ms/step - loss: 0.0158 - accuracy: 0.3971 - val_loss: 0.0152 - val_accuracy: 0.4650\n",
      "Epoch 8/10\n",
      "11896/11896 [==============================] - 45s 4ms/step - loss: 0.0158 - accuracy: 0.4208 - val_loss: 0.0152 - val_accuracy: 0.2292\n",
      "Epoch 9/10\n",
      "11896/11896 [==============================] - 44s 4ms/step - loss: 0.0158 - accuracy: 0.4078 - val_loss: 0.0152 - val_accuracy: 0.3544\n",
      "Epoch 10/10\n",
      "11896/11896 [==============================] - 44s 4ms/step - loss: 0.0158 - accuracy: 0.4147 - val_loss: 0.0153 - val_accuracy: 0.3315\n",
      "3569/3569 [==============================] - 4s 1ms/step\n"
     ]
    },
    {
     "name": "stderr",
     "output_type": "stream",
     "text": [
      "[I 2024-01-25 04:33:58,907] Trial 17 finished with value: 0.8634654879570007 and parameters: {'dropout_rate1': 0.42610800511796854, 'dropout_rate2': 0.22822293290730356, 'dropout_rate3': 0.33286132315541467}. Best is trial 4 with value: 0.8707488775253296.\n"
     ]
    },
    {
     "name": "stdout",
     "output_type": "stream",
     "text": [
      "Epoch 1/10\n",
      "11896/11896 [==============================] - 45s 4ms/step - loss: 0.0162 - accuracy: 0.4453 - val_loss: 0.0152 - val_accuracy: 0.4366\n",
      "Epoch 2/10\n",
      "11896/11896 [==============================] - 44s 4ms/step - loss: 0.0158 - accuracy: 0.4636 - val_loss: 0.0152 - val_accuracy: 0.4604\n",
      "Epoch 3/10\n",
      "11896/11896 [==============================] - 43s 4ms/step - loss: 0.0157 - accuracy: 0.3821 - val_loss: 0.0151 - val_accuracy: 0.2043\n",
      "Epoch 4/10\n",
      "11893/11896 [============================>.] - ETA: 0s - loss: 0.0157 - accuracy: 0.3763"
     ]
    },
    {
     "name": "stderr",
     "output_type": "stream",
     "text": [
      "[I 2024-01-25 04:36:55,262] Trial 18 pruned. Trial was pruned at epoch 3.\n"
     ]
    },
    {
     "name": "stdout",
     "output_type": "stream",
     "text": [
      "Epoch 1/10\n",
      "11896/11896 [==============================] - 44s 4ms/step - loss: 0.0157 - accuracy: 0.4000 - val_loss: 0.0151 - val_accuracy: 0.2260\n",
      "Epoch 2/10\n",
      "11888/11896 [============================>.] - ETA: 0s - loss: 0.0154 - accuracy: 0.3299"
     ]
    },
    {
     "name": "stderr",
     "output_type": "stream",
     "text": [
      "[I 2024-01-25 04:38:23,147] Trial 19 pruned. Trial was pruned at epoch 1.\n"
     ]
    },
    {
     "name": "stdout",
     "output_type": "stream",
     "text": [
      "Epoch 1/10\n",
      "11896/11896 [==============================] - 45s 4ms/step - loss: 0.0155 - accuracy: 0.3128 - val_loss: 0.0149 - val_accuracy: 0.2820\n",
      "Epoch 2/10\n",
      "11896/11896 [==============================] - 44s 4ms/step - loss: 0.0151 - accuracy: 0.2747 - val_loss: 0.0148 - val_accuracy: 0.2542\n",
      "Epoch 3/10\n",
      "11896/11896 [==============================] - 43s 4ms/step - loss: 0.0151 - accuracy: 0.2671 - val_loss: 0.0148 - val_accuracy: 0.3354\n",
      "Epoch 4/10\n",
      "11883/11896 [============================>.] - ETA: 0s - loss: 0.0150 - accuracy: 0.2548"
     ]
    },
    {
     "name": "stderr",
     "output_type": "stream",
     "text": [
      "[I 2024-01-25 04:41:19,713] Trial 20 pruned. Trial was pruned at epoch 3.\n"
     ]
    },
    {
     "name": "stdout",
     "output_type": "stream",
     "text": [
      "Epoch 1/10\n",
      "11896/11896 [==============================] - 44s 4ms/step - loss: 0.0156 - accuracy: 0.3239 - val_loss: 0.0150 - val_accuracy: 0.4027\n",
      "Epoch 2/10\n",
      "11896/11896 [==============================] - 44s 4ms/step - loss: 0.0151 - accuracy: 0.2786 - val_loss: 0.0150 - val_accuracy: 0.1466\n",
      "Epoch 3/10\n",
      "11896/11896 [==============================] - 44s 4ms/step - loss: 0.0150 - accuracy: 0.2671 - val_loss: 0.0148 - val_accuracy: 0.2734\n",
      "Epoch 4/10\n",
      "11896/11896 [==============================] - 44s 4ms/step - loss: 0.0150 - accuracy: 0.2637 - val_loss: 0.0148 - val_accuracy: 0.2967\n",
      "Epoch 5/10\n",
      "11896/11896 [==============================] - 43s 4ms/step - loss: 0.0150 - accuracy: 0.2662 - val_loss: 0.0148 - val_accuracy: 0.2394\n",
      "Epoch 6/10\n",
      "11896/11896 [==============================] - 44s 4ms/step - loss: 0.0150 - accuracy: 0.2609 - val_loss: 0.0148 - val_accuracy: 0.3039\n",
      "Epoch 7/10\n",
      "11896/11896 [==============================] - 43s 4ms/step - loss: 0.0150 - accuracy: 0.2669 - val_loss: 0.0149 - val_accuracy: 0.2649\n",
      "Epoch 8/10\n",
      "11896/11896 [==============================] - 44s 4ms/step - loss: 0.0150 - accuracy: 0.2570 - val_loss: 0.0150 - val_accuracy: 0.2161\n",
      "Epoch 9/10\n",
      "11896/11896 [==============================] - 44s 4ms/step - loss: 0.0150 - accuracy: 0.2645 - val_loss: 0.0148 - val_accuracy: 0.3274\n",
      "Epoch 10/10\n",
      "11885/11896 [============================>.] - ETA: 0s - loss: 0.0150 - accuracy: 0.2602"
     ]
    },
    {
     "name": "stderr",
     "output_type": "stream",
     "text": [
      "[I 2024-01-25 04:48:38,446] Trial 21 pruned. Trial was pruned at epoch 9.\n"
     ]
    },
    {
     "name": "stdout",
     "output_type": "stream",
     "text": [
      "Epoch 1/10\n",
      "11896/11896 [==============================] - 44s 4ms/step - loss: 0.0161 - accuracy: 0.3705 - val_loss: 0.0151 - val_accuracy: 0.2069\n",
      "Epoch 2/10\n",
      "11896/11896 [==============================] - 44s 4ms/step - loss: 0.0157 - accuracy: 0.4161 - val_loss: 0.0151 - val_accuracy: 0.0073\n",
      "Epoch 3/10\n",
      "11896/11896 [==============================] - 44s 4ms/step - loss: 0.0156 - accuracy: 0.3621 - val_loss: 0.0150 - val_accuracy: 0.3087\n",
      "Epoch 4/10\n",
      "11882/11896 [============================>.] - ETA: 0s - loss: 0.0155 - accuracy: 0.3518"
     ]
    },
    {
     "name": "stderr",
     "output_type": "stream",
     "text": [
      "[I 2024-01-25 04:51:33,150] Trial 22 pruned. Trial was pruned at epoch 3.\n"
     ]
    },
    {
     "name": "stdout",
     "output_type": "stream",
     "text": [
      "Epoch 1/10\n",
      "11896/11896 [==============================] - 44s 4ms/step - loss: 0.0162 - accuracy: 0.4171 - val_loss: 0.0152 - val_accuracy: 0.1956\n",
      "Epoch 2/10\n",
      "11896/11896 [==============================] - 43s 4ms/step - loss: 0.0157 - accuracy: 0.3507 - val_loss: 0.0151 - val_accuracy: 0.3204\n",
      "Epoch 3/10\n",
      "11896/11896 [==============================] - 44s 4ms/step - loss: 0.0156 - accuracy: 0.3707 - val_loss: 0.0151 - val_accuracy: 0.0056\n",
      "Epoch 4/10\n",
      "11896/11896 [==============================] - 43s 4ms/step - loss: 0.0156 - accuracy: 0.3621 - val_loss: 0.0151 - val_accuracy: 0.2817\n",
      "Epoch 5/10\n",
      "11896/11896 [==============================] - 43s 4ms/step - loss: 0.0157 - accuracy: 0.3556 - val_loss: 0.0151 - val_accuracy: 0.3443\n",
      "Epoch 6/10\n",
      "11896/11896 [==============================] - 43s 4ms/step - loss: 0.0157 - accuracy: 0.3641 - val_loss: 0.0152 - val_accuracy: 0.2883\n",
      "Epoch 7/10\n",
      "11896/11896 [==============================] - 43s 4ms/step - loss: 0.0157 - accuracy: 0.3657 - val_loss: 0.0152 - val_accuracy: 0.1540\n",
      "Epoch 8/10\n",
      "11896/11896 [==============================] - 44s 4ms/step - loss: 0.0157 - accuracy: 0.3594 - val_loss: 0.0151 - val_accuracy: 0.2471\n",
      "Epoch 9/10\n",
      "11896/11896 [==============================] - 44s 4ms/step - loss: 0.0157 - accuracy: 0.3524 - val_loss: 0.0151 - val_accuracy: 0.2529\n",
      "Epoch 10/10\n",
      "11887/11896 [============================>.] - ETA: 0s - loss: 0.0157 - accuracy: 0.3595"
     ]
    },
    {
     "name": "stderr",
     "output_type": "stream",
     "text": [
      "[I 2024-01-25 04:58:47,779] Trial 23 pruned. Trial was pruned at epoch 9.\n"
     ]
    },
    {
     "name": "stdout",
     "output_type": "stream",
     "text": [
      "Epoch 1/10\n",
      "11896/11896 [==============================] - 44s 4ms/step - loss: 0.0160 - accuracy: 0.4580 - val_loss: 0.0151 - val_accuracy: 0.4272\n",
      "Epoch 2/10\n",
      "11885/11896 [============================>.] - ETA: 0s - loss: 0.0156 - accuracy: 0.3931"
     ]
    },
    {
     "name": "stderr",
     "output_type": "stream",
     "text": [
      "[I 2024-01-25 05:00:14,870] Trial 24 pruned. Trial was pruned at epoch 1.\n"
     ]
    },
    {
     "name": "stdout",
     "output_type": "stream",
     "text": [
      "Epoch 1/10\n",
      "11896/11896 [==============================] - 46s 4ms/step - loss: 0.0160 - accuracy: 0.3935 - val_loss: 0.0151 - val_accuracy: 0.4155\n",
      "Epoch 2/10\n",
      "11892/11896 [============================>.] - ETA: 0s - loss: 0.0156 - accuracy: 0.4107"
     ]
    },
    {
     "name": "stderr",
     "output_type": "stream",
     "text": [
      "[I 2024-01-25 05:01:44,170] Trial 25 pruned. Trial was pruned at epoch 1.\n"
     ]
    },
    {
     "name": "stdout",
     "output_type": "stream",
     "text": [
      "Epoch 1/10\n",
      "11896/11896 [==============================] - 45s 4ms/step - loss: 0.0162 - accuracy: 0.4582 - val_loss: 0.0152 - val_accuracy: 0.2565\n",
      "Epoch 2/10\n",
      "11896/11896 [==============================] - 44s 4ms/step - loss: 0.0159 - accuracy: 0.4115 - val_loss: 0.0153 - val_accuracy: 0.3643\n",
      "Epoch 3/10\n",
      "11896/11896 [==============================] - 44s 4ms/step - loss: 0.0159 - accuracy: 0.4052 - val_loss: 0.0153 - val_accuracy: 0.4911\n",
      "Epoch 4/10\n",
      "11896/11896 [==============================] - 44s 4ms/step - loss: 0.0159 - accuracy: 0.4134 - val_loss: 0.0153 - val_accuracy: 0.3279\n",
      "Epoch 5/10\n",
      "11896/11896 [==============================] - 44s 4ms/step - loss: 0.0159 - accuracy: 0.4114 - val_loss: 0.0152 - val_accuracy: 0.3676\n",
      "Epoch 6/10\n",
      "11896/11896 [==============================] - 44s 4ms/step - loss: 0.0159 - accuracy: 0.4131 - val_loss: 0.0152 - val_accuracy: 0.2708\n",
      "Epoch 7/10\n",
      "11896/11896 [==============================] - 43s 4ms/step - loss: 0.0159 - accuracy: 0.4118 - val_loss: 0.0152 - val_accuracy: 0.3554\n",
      "Epoch 8/10\n",
      "11896/11896 [==============================] - 43s 4ms/step - loss: 0.0159 - accuracy: 0.4135 - val_loss: 0.0153 - val_accuracy: 0.3498\n",
      "Epoch 9/10\n",
      "11896/11896 [==============================] - 43s 4ms/step - loss: 0.0159 - accuracy: 0.4174 - val_loss: 0.0153 - val_accuracy: 0.4546\n",
      "Epoch 10/10\n",
      "11885/11896 [============================>.] - ETA: 0s - loss: 0.0159 - accuracy: 0.4072"
     ]
    },
    {
     "name": "stderr",
     "output_type": "stream",
     "text": [
      "[I 2024-01-25 05:09:01,941] Trial 26 pruned. Trial was pruned at epoch 9.\n"
     ]
    },
    {
     "name": "stdout",
     "output_type": "stream",
     "text": [
      "Epoch 1/10\n",
      "11896/11896 [==============================] - 44s 4ms/step - loss: 0.0159 - accuracy: 0.3955 - val_loss: 0.0151 - val_accuracy: 0.5265\n",
      "Epoch 2/10\n",
      "11896/11896 [==============================] - 43s 4ms/step - loss: 0.0156 - accuracy: 0.4318 - val_loss: 0.0151 - val_accuracy: 0.2796\n",
      "Epoch 3/10\n",
      "11896/11896 [==============================] - 43s 4ms/step - loss: 0.0156 - accuracy: 0.4350 - val_loss: 0.0152 - val_accuracy: 0.4397\n",
      "Epoch 4/10\n",
      "11896/11896 [==============================] - 43s 4ms/step - loss: 0.0156 - accuracy: 0.4100 - val_loss: 0.0151 - val_accuracy: 0.3680\n",
      "Epoch 5/10\n",
      "11896/11896 [==============================] - 43s 4ms/step - loss: 0.0156 - accuracy: 0.3711 - val_loss: 0.0151 - val_accuracy: 0.3123\n",
      "Epoch 6/10\n",
      "11896/11896 [==============================] - 43s 4ms/step - loss: 0.0156 - accuracy: 0.3445 - val_loss: 0.0151 - val_accuracy: 0.3832\n",
      "Epoch 7/10\n",
      "11896/11896 [==============================] - 43s 4ms/step - loss: 0.0156 - accuracy: 0.3734 - val_loss: 0.0151 - val_accuracy: 0.4079\n",
      "Epoch 8/10\n",
      "11896/11896 [==============================] - 43s 4ms/step - loss: 0.0156 - accuracy: 0.3530 - val_loss: 0.0151 - val_accuracy: 0.2610\n",
      "Epoch 9/10\n",
      "11896/11896 [==============================] - 43s 4ms/step - loss: 0.0156 - accuracy: 0.3609 - val_loss: 0.0151 - val_accuracy: 0.1759\n",
      "Epoch 10/10\n",
      "11893/11896 [============================>.] - ETA: 0s - loss: 0.0156 - accuracy: 0.3594"
     ]
    },
    {
     "name": "stderr",
     "output_type": "stream",
     "text": [
      "[I 2024-01-25 05:16:11,355] Trial 27 pruned. Trial was pruned at epoch 9.\n"
     ]
    },
    {
     "name": "stdout",
     "output_type": "stream",
     "text": [
      "Epoch 1/10\n",
      "11896/11896 [==============================] - 43s 4ms/step - loss: 0.0160 - accuracy: 0.3873 - val_loss: 0.0151 - val_accuracy: 0.3271\n",
      "Epoch 2/10\n",
      "11888/11896 [============================>.] - ETA: 0s - loss: 0.0155 - accuracy: 0.3743"
     ]
    },
    {
     "name": "stderr",
     "output_type": "stream",
     "text": [
      "[I 2024-01-25 05:17:37,624] Trial 28 pruned. Trial was pruned at epoch 1.\n"
     ]
    },
    {
     "name": "stdout",
     "output_type": "stream",
     "text": [
      "Epoch 1/10\n",
      "11896/11896 [==============================] - 43s 4ms/step - loss: 0.0161 - accuracy: 0.3692 - val_loss: 0.0151 - val_accuracy: 0.3523\n",
      "Epoch 2/10\n",
      "11896/11896 [==============================] - 43s 4ms/step - loss: 0.0155 - accuracy: 0.3587 - val_loss: 0.0152 - val_accuracy: 0.2985\n",
      "Epoch 3/10\n",
      "11896/11896 [==============================] - 43s 4ms/step - loss: 0.0155 - accuracy: 0.3597 - val_loss: 0.0150 - val_accuracy: 0.2645\n",
      "Epoch 4/10\n",
      "11888/11896 [============================>.] - ETA: 0s - loss: 0.0155 - accuracy: 0.3518"
     ]
    },
    {
     "name": "stderr",
     "output_type": "stream",
     "text": [
      "[I 2024-01-25 05:20:29,045] Trial 29 pruned. Trial was pruned at epoch 3.\n"
     ]
    },
    {
     "name": "stdout",
     "output_type": "stream",
     "text": [
      "Epoch 1/10\n",
      "11896/11896 [==============================] - 43s 4ms/step - loss: 0.0161 - accuracy: 0.4333 - val_loss: 0.0151 - val_accuracy: 0.2389\n",
      "Epoch 2/10\n",
      "11887/11896 [============================>.] - ETA: 0s - loss: 0.0157 - accuracy: 0.3770"
     ]
    },
    {
     "name": "stderr",
     "output_type": "stream",
     "text": [
      "[I 2024-01-25 05:21:54,972] Trial 30 pruned. Trial was pruned at epoch 1.\n"
     ]
    },
    {
     "name": "stdout",
     "output_type": "stream",
     "text": [
      "Epoch 1/10\n",
      "11896/11896 [==============================] - 44s 4ms/step - loss: 0.0157 - accuracy: 0.3207 - val_loss: 0.0150 - val_accuracy: 0.2865\n",
      "Epoch 2/10\n",
      "11896/11896 [==============================] - 43s 4ms/step - loss: 0.0152 - accuracy: 0.3075 - val_loss: 0.0149 - val_accuracy: 0.2785\n",
      "Epoch 3/10\n",
      "11896/11896 [==============================] - 43s 4ms/step - loss: 0.0152 - accuracy: 0.3120 - val_loss: 0.0149 - val_accuracy: 0.2578\n",
      "Epoch 4/10\n",
      "11890/11896 [============================>.] - ETA: 0s - loss: 0.0152 - accuracy: 0.3126"
     ]
    },
    {
     "name": "stderr",
     "output_type": "stream",
     "text": [
      "[I 2024-01-25 05:24:46,778] Trial 31 pruned. Trial was pruned at epoch 3.\n"
     ]
    },
    {
     "name": "stdout",
     "output_type": "stream",
     "text": [
      "Epoch 1/10\n",
      "11896/11896 [==============================] - 43s 4ms/step - loss: 0.0161 - accuracy: 0.3580 - val_loss: 0.0151 - val_accuracy: 0.4352\n",
      "Epoch 2/10\n",
      "11896/11896 [==============================] - 43s 4ms/step - loss: 0.0156 - accuracy: 0.3757 - val_loss: 0.0151 - val_accuracy: 0.2153\n",
      "Epoch 3/10\n",
      "11896/11896 [==============================] - 43s 4ms/step - loss: 0.0156 - accuracy: 0.3426 - val_loss: 0.0151 - val_accuracy: 0.4016\n",
      "Epoch 4/10\n",
      "11896/11896 [==============================] - 43s 4ms/step - loss: 0.0156 - accuracy: 0.3543 - val_loss: 0.0151 - val_accuracy: 0.3738\n",
      "Epoch 5/10\n",
      "11896/11896 [==============================] - 43s 4ms/step - loss: 0.0156 - accuracy: 0.3527 - val_loss: 0.0151 - val_accuracy: 0.4408\n",
      "Epoch 6/10\n",
      "11896/11896 [==============================] - 43s 4ms/step - loss: 0.0156 - accuracy: 0.3586 - val_loss: 0.0151 - val_accuracy: 0.3966\n",
      "Epoch 7/10\n",
      "11896/11896 [==============================] - 43s 4ms/step - loss: 0.0156 - accuracy: 0.3603 - val_loss: 0.0151 - val_accuracy: 0.3737\n",
      "Epoch 8/10\n",
      "11896/11896 [==============================] - 43s 4ms/step - loss: 0.0156 - accuracy: 0.3487 - val_loss: 0.0151 - val_accuracy: 0.2810\n",
      "Epoch 9/10\n",
      "11896/11896 [==============================] - 43s 4ms/step - loss: 0.0156 - accuracy: 0.3638 - val_loss: 0.0151 - val_accuracy: 0.3562\n",
      "Epoch 10/10\n",
      "11891/11896 [============================>.] - ETA: 0s - loss: 0.0156 - accuracy: 0.3584"
     ]
    },
    {
     "name": "stderr",
     "output_type": "stream",
     "text": [
      "[I 2024-01-25 05:31:54,414] Trial 32 pruned. Trial was pruned at epoch 9.\n"
     ]
    },
    {
     "name": "stdout",
     "output_type": "stream",
     "text": [
      "Epoch 1/10\n",
      "11896/11896 [==============================] - 44s 4ms/step - loss: 0.0161 - accuracy: 0.4453 - val_loss: 0.0152 - val_accuracy: 0.2641\n",
      "Epoch 2/10\n",
      "11887/11896 [============================>.] - ETA: 0s - loss: 0.0154 - accuracy: 0.3285"
     ]
    },
    {
     "name": "stderr",
     "output_type": "stream",
     "text": [
      "[I 2024-01-25 05:33:21,044] Trial 33 pruned. Trial was pruned at epoch 1.\n"
     ]
    },
    {
     "name": "stdout",
     "output_type": "stream",
     "text": [
      "Epoch 1/10\n",
      "11896/11896 [==============================] - 43s 4ms/step - loss: 0.0157 - accuracy: 0.3277 - val_loss: 0.0150 - val_accuracy: 0.3026\n",
      "Epoch 2/10\n",
      "11896/11896 [==============================] - 43s 4ms/step - loss: 0.0152 - accuracy: 0.3135 - val_loss: 0.0150 - val_accuracy: 0.2065\n",
      "Epoch 3/10\n",
      "11896/11896 [==============================] - 43s 4ms/step - loss: 0.0151 - accuracy: 0.2953 - val_loss: 0.0149 - val_accuracy: 0.3574\n",
      "Epoch 4/10\n",
      "11885/11896 [============================>.] - ETA: 0s - loss: 0.0151 - accuracy: 0.2932"
     ]
    },
    {
     "name": "stderr",
     "output_type": "stream",
     "text": [
      "[I 2024-01-25 05:36:13,089] Trial 34 pruned. Trial was pruned at epoch 3.\n"
     ]
    },
    {
     "name": "stdout",
     "output_type": "stream",
     "text": [
      "Epoch 1/10\n",
      "11896/11896 [==============================] - 44s 4ms/step - loss: 0.0157 - accuracy: 0.3439 - val_loss: 0.0150 - val_accuracy: 0.2833\n",
      "Epoch 2/10\n",
      "11887/11896 [============================>.] - ETA: 0s - loss: 0.0154 - accuracy: 0.3266"
     ]
    },
    {
     "name": "stderr",
     "output_type": "stream",
     "text": [
      "[I 2024-01-25 05:37:40,265] Trial 35 pruned. Trial was pruned at epoch 1.\n"
     ]
    },
    {
     "name": "stdout",
     "output_type": "stream",
     "text": [
      "Epoch 1/10\n",
      "11896/11896 [==============================] - 44s 4ms/step - loss: 0.0161 - accuracy: 0.4502 - val_loss: 0.0151 - val_accuracy: 0.2749\n",
      "Epoch 2/10\n",
      "11896/11896 [==============================] - 43s 4ms/step - loss: 0.0155 - accuracy: 0.3207 - val_loss: 0.0151 - val_accuracy: 0.3630\n",
      "Epoch 3/10\n",
      "11896/11896 [==============================] - 43s 4ms/step - loss: 0.0155 - accuracy: 0.3440 - val_loss: 0.0151 - val_accuracy: 0.3162\n",
      "Epoch 4/10\n",
      "11885/11896 [============================>.] - ETA: 0s - loss: 0.0155 - accuracy: 0.3303"
     ]
    },
    {
     "name": "stderr",
     "output_type": "stream",
     "text": [
      "[I 2024-01-25 05:40:32,957] Trial 36 pruned. Trial was pruned at epoch 3.\n"
     ]
    },
    {
     "name": "stdout",
     "output_type": "stream",
     "text": [
      "Epoch 1/10\n",
      "11896/11896 [==============================] - 43s 4ms/step - loss: 0.0161 - accuracy: 0.4215 - val_loss: 0.0152 - val_accuracy: 0.3527\n",
      "Epoch 2/10\n",
      "11889/11896 [============================>.] - ETA: 0s - loss: 0.0156 - accuracy: 0.3888"
     ]
    },
    {
     "name": "stderr",
     "output_type": "stream",
     "text": [
      "[I 2024-01-25 05:41:58,957] Trial 37 pruned. Trial was pruned at epoch 1.\n"
     ]
    },
    {
     "name": "stdout",
     "output_type": "stream",
     "text": [
      "Epoch 1/10\n",
      "11896/11896 [==============================] - 43s 4ms/step - loss: 0.0156 - accuracy: 0.3226 - val_loss: 0.0150 - val_accuracy: 0.3232\n",
      "Epoch 2/10\n",
      "11896/11896 [==============================] - 43s 4ms/step - loss: 0.0153 - accuracy: 0.3126 - val_loss: 0.0149 - val_accuracy: 0.3159\n",
      "Epoch 3/10\n",
      "11896/11896 [==============================] - 43s 4ms/step - loss: 0.0153 - accuracy: 0.2977 - val_loss: 0.0150 - val_accuracy: 0.2920\n",
      "Epoch 4/10\n",
      "11894/11896 [============================>.] - ETA: 0s - loss: 0.0153 - accuracy: 0.2992"
     ]
    },
    {
     "name": "stderr",
     "output_type": "stream",
     "text": [
      "[I 2024-01-25 05:44:50,943] Trial 38 pruned. Trial was pruned at epoch 3.\n"
     ]
    },
    {
     "name": "stdout",
     "output_type": "stream",
     "text": [
      "Epoch 1/10\n",
      "11896/11896 [==============================] - 43s 4ms/step - loss: 0.0159 - accuracy: 0.3400 - val_loss: 0.0152 - val_accuracy: 0.3604\n",
      "Epoch 2/10\n",
      "11896/11896 [==============================] - 43s 4ms/step - loss: 0.0155 - accuracy: 0.3367 - val_loss: 0.0150 - val_accuracy: 0.1887\n",
      "Epoch 3/10\n",
      "11896/11896 [==============================] - 43s 4ms/step - loss: 0.0155 - accuracy: 0.3305 - val_loss: 0.0150 - val_accuracy: 0.2197\n",
      "Epoch 4/10\n",
      "11886/11896 [============================>.] - ETA: 0s - loss: 0.0155 - accuracy: 0.3261"
     ]
    },
    {
     "name": "stderr",
     "output_type": "stream",
     "text": [
      "[I 2024-01-25 05:47:42,208] Trial 39 pruned. Trial was pruned at epoch 3.\n"
     ]
    },
    {
     "name": "stdout",
     "output_type": "stream",
     "text": [
      "Epoch 1/10\n",
      "11896/11896 [==============================] - 43s 4ms/step - loss: 0.0161 - accuracy: 0.4465 - val_loss: 0.0152 - val_accuracy: 0.3824\n",
      "Epoch 2/10\n",
      "11884/11896 [============================>.] - ETA: 0s - loss: 0.0157 - accuracy: 0.3761"
     ]
    },
    {
     "name": "stderr",
     "output_type": "stream",
     "text": [
      "[I 2024-01-25 05:49:08,695] Trial 40 pruned. Trial was pruned at epoch 1.\n"
     ]
    },
    {
     "name": "stdout",
     "output_type": "stream",
     "text": [
      "Epoch 1/10\n",
      "11896/11896 [==============================] - 44s 4ms/step - loss: 0.0163 - accuracy: 0.3701 - val_loss: 0.0154 - val_accuracy: 0.3855\n",
      "Epoch 2/10\n",
      "11896/11896 [==============================] - 43s 4ms/step - loss: 0.0159 - accuracy: 0.4368 - val_loss: 0.0153 - val_accuracy: 0.4388\n",
      "Epoch 3/10\n",
      "11896/11896 [==============================] - 43s 4ms/step - loss: 0.0158 - accuracy: 0.4004 - val_loss: 0.0152 - val_accuracy: 0.3728\n",
      "Epoch 4/10\n",
      "11896/11896 [==============================] - 43s 4ms/step - loss: 0.0159 - accuracy: 0.4011 - val_loss: 0.0152 - val_accuracy: 0.3261\n",
      "Epoch 5/10\n",
      "11896/11896 [==============================] - 43s 4ms/step - loss: 0.0159 - accuracy: 0.3887 - val_loss: 0.0152 - val_accuracy: 0.2332\n",
      "Epoch 6/10\n",
      "11896/11896 [==============================] - 43s 4ms/step - loss: 0.0159 - accuracy: 0.3912 - val_loss: 0.0153 - val_accuracy: 0.2338\n",
      "Epoch 7/10\n",
      "11896/11896 [==============================] - 43s 4ms/step - loss: 0.0159 - accuracy: 0.3975 - val_loss: 0.0153 - val_accuracy: 0.2988\n",
      "Epoch 8/10\n",
      "11896/11896 [==============================] - 43s 4ms/step - loss: 0.0159 - accuracy: 0.3899 - val_loss: 0.0153 - val_accuracy: 0.2372\n",
      "Epoch 9/10\n",
      "11896/11896 [==============================] - 43s 4ms/step - loss: 0.0159 - accuracy: 0.3905 - val_loss: 0.0153 - val_accuracy: 0.2973\n",
      "Epoch 10/10\n",
      "11891/11896 [============================>.] - ETA: 0s - loss: 0.0159 - accuracy: 0.4017"
     ]
    },
    {
     "name": "stderr",
     "output_type": "stream",
     "text": [
      "[I 2024-01-25 05:56:20,636] Trial 41 pruned. Trial was pruned at epoch 9.\n"
     ]
    },
    {
     "name": "stdout",
     "output_type": "stream",
     "text": [
      "Epoch 1/10\n",
      "11896/11896 [==============================] - 43s 4ms/step - loss: 0.0162 - accuracy: 0.4544 - val_loss: 0.0153 - val_accuracy: 0.6503\n",
      "Epoch 2/10\n",
      "11896/11896 [==============================] - 43s 4ms/step - loss: 0.0158 - accuracy: 0.4324 - val_loss: 0.0152 - val_accuracy: 0.3089\n",
      "Epoch 3/10\n",
      "11896/11896 [==============================] - 43s 4ms/step - loss: 0.0158 - accuracy: 0.4149 - val_loss: 0.0152 - val_accuracy: 0.3737\n",
      "Epoch 4/10\n",
      "11895/11896 [============================>.] - ETA: 0s - loss: 0.0158 - accuracy: 0.3935"
     ]
    },
    {
     "name": "stderr",
     "output_type": "stream",
     "text": [
      "[I 2024-01-25 05:59:12,592] Trial 42 pruned. Trial was pruned at epoch 3.\n"
     ]
    },
    {
     "name": "stdout",
     "output_type": "stream",
     "text": [
      "Epoch 1/10\n",
      "11896/11896 [==============================] - 43s 4ms/step - loss: 0.0162 - accuracy: 0.4134 - val_loss: 0.0151 - val_accuracy: 0.2804\n",
      "Epoch 2/10\n",
      "11883/11896 [============================>.] - ETA: 0s - loss: 0.0158 - accuracy: 0.4305"
     ]
    },
    {
     "name": "stderr",
     "output_type": "stream",
     "text": [
      "[I 2024-01-25 06:00:38,979] Trial 43 pruned. Trial was pruned at epoch 1.\n"
     ]
    },
    {
     "name": "stdout",
     "output_type": "stream",
     "text": [
      "Epoch 1/10\n",
      "11896/11896 [==============================] - 44s 4ms/step - loss: 0.0164 - accuracy: 0.4704 - val_loss: 0.0153 - val_accuracy: 0.3120\n",
      "Epoch 2/10\n",
      "11896/11896 [==============================] - 43s 4ms/step - loss: 0.0160 - accuracy: 0.4208 - val_loss: 0.0154 - val_accuracy: 0.1716\n",
      "Epoch 3/10\n",
      "11896/11896 [==============================] - 43s 4ms/step - loss: 0.0159 - accuracy: 0.4193 - val_loss: 0.0153 - val_accuracy: 0.2743\n",
      "Epoch 4/10\n",
      "11896/11896 [==============================] - 43s 4ms/step - loss: 0.0159 - accuracy: 0.4263 - val_loss: 0.0153 - val_accuracy: 0.2858\n",
      "Epoch 5/10\n",
      "11896/11896 [==============================] - 43s 4ms/step - loss: 0.0159 - accuracy: 0.4247 - val_loss: 0.0153 - val_accuracy: 0.3414\n",
      "Epoch 6/10\n",
      "11896/11896 [==============================] - 43s 4ms/step - loss: 0.0159 - accuracy: 0.4118 - val_loss: 0.0153 - val_accuracy: 0.4331\n",
      "Epoch 7/10\n",
      "11896/11896 [==============================] - 43s 4ms/step - loss: 0.0159 - accuracy: 0.4206 - val_loss: 0.0153 - val_accuracy: 0.3328\n",
      "Epoch 8/10\n",
      "11896/11896 [==============================] - 43s 4ms/step - loss: 0.0159 - accuracy: 0.4172 - val_loss: 0.0154 - val_accuracy: 0.2850\n",
      "Epoch 9/10\n",
      "11896/11896 [==============================] - 43s 4ms/step - loss: 0.0159 - accuracy: 0.4228 - val_loss: 0.0154 - val_accuracy: 0.2307\n",
      "Epoch 10/10\n",
      "11896/11896 [==============================] - 43s 4ms/step - loss: 0.0159 - accuracy: 0.3913 - val_loss: 0.0154 - val_accuracy: 0.0044\n",
      "3569/3569 [==============================] - 3s 958us/step\n"
     ]
    },
    {
     "name": "stderr",
     "output_type": "stream",
     "text": [
      "[I 2024-01-25 06:07:53,719] Trial 44 finished with value: 0.8627499341964722 and parameters: {'dropout_rate1': 0.4091228147226231, 'dropout_rate2': 0.4197547593765128, 'dropout_rate3': 0.26320058083972214}. Best is trial 4 with value: 0.8707488775253296.\n"
     ]
    },
    {
     "name": "stdout",
     "output_type": "stream",
     "text": [
      "Epoch 1/10\n",
      "11896/11896 [==============================] - 44s 4ms/step - loss: 0.0163 - accuracy: 0.4518 - val_loss: 0.0152 - val_accuracy: 0.4227\n",
      "Epoch 2/10\n",
      "11896/11896 [==============================] - 43s 4ms/step - loss: 0.0159 - accuracy: 0.4897 - val_loss: 0.0153 - val_accuracy: 0.4246\n",
      "Epoch 3/10\n",
      "11896/11896 [==============================] - 43s 4ms/step - loss: 0.0159 - accuracy: 0.4157 - val_loss: 0.0152 - val_accuracy: 0.3731\n",
      "Epoch 4/10\n",
      "11896/11896 [==============================] - 43s 4ms/step - loss: 0.0159 - accuracy: 0.4090 - val_loss: 0.0153 - val_accuracy: 0.3344\n",
      "Epoch 5/10\n",
      "11896/11896 [==============================] - 43s 4ms/step - loss: 0.0159 - accuracy: 0.3849 - val_loss: 0.0152 - val_accuracy: 0.3473\n",
      "Epoch 6/10\n",
      "11896/11896 [==============================] - 43s 4ms/step - loss: 0.0159 - accuracy: 0.3851 - val_loss: 0.0153 - val_accuracy: 0.3397\n",
      "Epoch 7/10\n",
      "11896/11896 [==============================] - 43s 4ms/step - loss: 0.0159 - accuracy: 0.3845 - val_loss: 0.0153 - val_accuracy: 0.4460\n",
      "Epoch 8/10\n",
      "11896/11896 [==============================] - 43s 4ms/step - loss: 0.0159 - accuracy: 0.3865 - val_loss: 0.0153 - val_accuracy: 0.0058\n",
      "Epoch 9/10\n",
      "11896/11896 [==============================] - 43s 4ms/step - loss: 0.0159 - accuracy: 0.3783 - val_loss: 0.0153 - val_accuracy: 0.2406\n",
      "Epoch 10/10\n",
      "11896/11896 [==============================] - 43s 4ms/step - loss: 0.0159 - accuracy: 0.3799 - val_loss: 0.0153 - val_accuracy: 0.4341\n",
      "3569/3569 [==============================] - 3s 951us/step\n"
     ]
    },
    {
     "name": "stderr",
     "output_type": "stream",
     "text": [
      "[I 2024-01-25 06:15:07,349] Trial 45 finished with value: 0.8636431097984314 and parameters: {'dropout_rate1': 0.36430069357093386, 'dropout_rate2': 0.29872931624076665, 'dropout_rate3': 0.32431431928704124}. Best is trial 4 with value: 0.8707488775253296.\n"
     ]
    },
    {
     "name": "stdout",
     "output_type": "stream",
     "text": [
      "Epoch 1/10\n",
      "11896/11896 [==============================] - 44s 4ms/step - loss: 0.0163 - accuracy: 0.4354 - val_loss: 0.0152 - val_accuracy: 0.3924\n",
      "Epoch 2/10\n",
      "11896/11896 [==============================] - 43s 4ms/step - loss: 0.0158 - accuracy: 0.3871 - val_loss: 0.0153 - val_accuracy: 0.4092\n",
      "Epoch 3/10\n",
      "11896/11896 [==============================] - 43s 4ms/step - loss: 0.0158 - accuracy: 0.3773 - val_loss: 0.0152 - val_accuracy: 0.3150\n",
      "Epoch 4/10\n",
      "11896/11896 [==============================] - 43s 4ms/step - loss: 0.0158 - accuracy: 0.3961 - val_loss: 0.0152 - val_accuracy: 0.3116\n",
      "Epoch 5/10\n",
      "11896/11896 [==============================] - 43s 4ms/step - loss: 0.0158 - accuracy: 0.3669 - val_loss: 0.0152 - val_accuracy: 0.4597\n",
      "Epoch 6/10\n",
      "11896/11896 [==============================] - 43s 4ms/step - loss: 0.0158 - accuracy: 0.3896 - val_loss: 0.0152 - val_accuracy: 0.3915\n",
      "Epoch 7/10\n",
      "11896/11896 [==============================] - 43s 4ms/step - loss: 0.0158 - accuracy: 0.3825 - val_loss: 0.0152 - val_accuracy: 0.3629\n",
      "Epoch 8/10\n",
      "11896/11896 [==============================] - 43s 4ms/step - loss: 0.0158 - accuracy: 0.3800 - val_loss: 0.0153 - val_accuracy: 0.4377\n",
      "Epoch 9/10\n",
      "11896/11896 [==============================] - 43s 4ms/step - loss: 0.0158 - accuracy: 0.3855 - val_loss: 0.0152 - val_accuracy: 0.2811\n",
      "Epoch 10/10\n",
      "11891/11896 [============================>.] - ETA: 0s - loss: 0.0158 - accuracy: 0.3807"
     ]
    },
    {
     "name": "stderr",
     "output_type": "stream",
     "text": [
      "[I 2024-01-25 06:22:17,456] Trial 46 pruned. Trial was pruned at epoch 9.\n"
     ]
    },
    {
     "name": "stdout",
     "output_type": "stream",
     "text": [
      "Epoch 1/10\n",
      "11896/11896 [==============================] - 44s 4ms/step - loss: 0.0158 - accuracy: 0.3996 - val_loss: 0.0150 - val_accuracy: 0.4856\n",
      "Epoch 2/10\n",
      "11891/11896 [============================>.] - ETA: 0s - loss: 0.0153 - accuracy: 0.3630"
     ]
    },
    {
     "name": "stderr",
     "output_type": "stream",
     "text": [
      "[I 2024-01-25 06:23:43,847] Trial 47 pruned. Trial was pruned at epoch 1.\n"
     ]
    },
    {
     "name": "stdout",
     "output_type": "stream",
     "text": [
      "Epoch 1/10\n",
      "11896/11896 [==============================] - 44s 4ms/step - loss: 0.0160 - accuracy: 0.3778 - val_loss: 0.0151 - val_accuracy: 0.4258\n",
      "Epoch 2/10\n",
      "11896/11896 [==============================] - ETA: 0s - loss: 0.0156 - accuracy: 0.3858"
     ]
    },
    {
     "name": "stderr",
     "output_type": "stream",
     "text": [
      "[I 2024-01-25 06:25:10,615] Trial 48 pruned. Trial was pruned at epoch 1.\n"
     ]
    },
    {
     "name": "stdout",
     "output_type": "stream",
     "text": [
      "Epoch 1/10\n",
      "11896/11896 [==============================] - 43s 4ms/step - loss: 0.0159 - accuracy: 0.4188 - val_loss: 0.0151 - val_accuracy: 0.2416\n",
      "Epoch 2/10\n",
      "11896/11896 [==============================] - 43s 4ms/step - loss: 0.0155 - accuracy: 0.3908 - val_loss: 0.0151 - val_accuracy: 0.1965\n",
      "Epoch 3/10\n",
      "11896/11896 [==============================] - 43s 4ms/step - loss: 0.0155 - accuracy: 0.3883 - val_loss: 0.0151 - val_accuracy: 0.3161\n",
      "Epoch 4/10\n",
      "11896/11896 [==============================] - 43s 4ms/step - loss: 0.0155 - accuracy: 0.4104 - val_loss: 0.0150 - val_accuracy: 0.3102\n",
      "Epoch 5/10\n",
      "11896/11896 [==============================] - 43s 4ms/step - loss: 0.0155 - accuracy: 0.3940 - val_loss: 0.0150 - val_accuracy: 0.2629\n",
      "Epoch 6/10\n",
      "11896/11896 [==============================] - 43s 4ms/step - loss: 0.0155 - accuracy: 0.3894 - val_loss: 0.0150 - val_accuracy: 0.3353\n",
      "Epoch 7/10\n",
      "11896/11896 [==============================] - 43s 4ms/step - loss: 0.0155 - accuracy: 0.3946 - val_loss: 0.0151 - val_accuracy: 0.4336\n",
      "Epoch 8/10\n",
      "11896/11896 [==============================] - 43s 4ms/step - loss: 0.0155 - accuracy: 0.3988 - val_loss: 0.0151 - val_accuracy: 0.1487\n",
      "Epoch 9/10\n",
      "11896/11896 [==============================] - 43s 4ms/step - loss: 0.0155 - accuracy: 0.3719 - val_loss: 0.0150 - val_accuracy: 0.2861\n",
      "Epoch 10/10\n",
      "11892/11896 [============================>.] - ETA: 0s - loss: 0.0155 - accuracy: 0.3996"
     ]
    },
    {
     "name": "stderr",
     "output_type": "stream",
     "text": [
      "[I 2024-01-25 06:32:24,022] Trial 49 pruned. Trial was pruned at epoch 9.\n"
     ]
    }
   ],
   "source": [
    "study2 = optuna.create_study(direction=\"maximize\", sampler=optuna.samplers.TPESampler(), pruner=optuna.pruners.HyperbandPruner())\n",
    "study2.optimize(objective2, n_trials=50)\n",
    "pruned_trials2 = study2.get_trials(deepcopy=False, states=[TrialState.PRUNED])\n",
    "complete_trials2 = study2.get_trials(deepcopy=False, states=[TrialState.COMPLETE])"
   ]
  },
  {
   "cell_type": "code",
   "execution_count": 23,
   "metadata": {},
   "outputs": [
    {
     "name": "stdout",
     "output_type": "stream",
     "text": [
      "\n",
      "Study statistics: \n",
      "  Number of finished trials:  50\n",
      "  Number of pruned trials:  40\n",
      "  Number of complete trials:  10\n",
      "Best trial:\n",
      "  Value:  0.8707488775253296\n",
      "  Params: \n",
      "    dropout_rate1: 0.2822561966848435\n",
      "    dropout_rate2: 0.1877127859630215\n",
      "    dropout_rate3: 0.05954025204453273\n",
      "\n",
      "Overall Results (ordered by accuracy):\n",
      "     number     value  params_dropout_rate1  params_dropout_rate2  \\\n",
      "13      13  0.861536              0.383348              0.392737   \n",
      "2        2  0.862617              0.337636              0.317059   \n",
      "44      44  0.862750              0.409123              0.419755   \n",
      "17      17  0.863465              0.426108              0.228223   \n",
      "45      45  0.863643              0.364301              0.298729   \n",
      "11      11  0.864769              0.357665              0.327757   \n",
      "0        0  0.867670              0.498763              0.123009   \n",
      "1        1  0.869201              0.108816              0.216453   \n",
      "6        6  0.870061              0.365696              0.350248   \n",
      "4        4  0.870749              0.282256              0.187713   \n",
      "\n",
      "    params_dropout_rate3  system_attrs_completed_rung_0  \\\n",
      "13              0.376467                       0.015412   \n",
      "2               0.451592                       0.015382   \n",
      "44              0.263201                       0.015331   \n",
      "17              0.332861                       0.015239   \n",
      "45              0.324314                       0.015333   \n",
      "11              0.305443                       0.015209   \n",
      "0               0.078894                            NaN   \n",
      "1               0.282751                       0.015092   \n",
      "6               0.245247                       0.015117   \n",
      "4               0.059540                       0.014966   \n",
      "\n",
      "    system_attrs_completed_rung_1  system_attrs_completed_rung_2  \n",
      "13                            NaN                            NaN  \n",
      "2                             NaN                            NaN  \n",
      "44                       0.015375                            NaN  \n",
      "17                       0.015293                            NaN  \n",
      "45                       0.015310                            NaN  \n",
      "11                       0.015268                       0.015315  \n",
      "0                             NaN                            NaN  \n",
      "1                        0.015111                       0.015020  \n",
      "6                        0.015075                            NaN  \n",
      "4                        0.014925                            NaN  \n",
      "\n",
      "Most important hyperparameters:\n",
      "  dropout_rate3:  61.38%\n",
      "  dropout_rate2:  28.15%\n",
      "  dropout_rate1:  10.47%\n"
     ]
    }
   ],
   "source": [
    "print(\"\\nStudy statistics: \")\n",
    "print(\"  Number of finished trials: \", len(study2.trials))\n",
    "print(\"  Number of pruned trials: \", len(pruned_trials2))\n",
    "print(\"  Number of complete trials: \", len(complete_trials2))\n",
    "\n",
    "trial = study2.best_trial\n",
    "print(\"Best trial:\")\n",
    "print(\"  Value: \", trial.value)\n",
    "print(\"  Params: \")\n",
    "for key, value in trial.params.items():\n",
    "    print(\"    {}: {}\".format(key, value))\n",
    "\n",
    "# Save results to csv file\n",
    "df = study2.trials_dataframe().drop(['datetime_start', 'datetime_complete', 'duration'], axis=1)  # Exclude columns\n",
    "df = df.loc[df['state'] == 'COMPLETE']        # Keep only results that did not prune\n",
    "df = df.drop('state', axis=1)                 # Exclude state column\n",
    "df = df.sort_values('value')                  # Sort based on accuracy\n",
    "df.to_csv('optuna_results.csv', index=False)  # Save to csv file\n",
    "\n",
    "# Display results in a dataframe\n",
    "print(\"\\nOverall Results (ordered by accuracy):\\n {}\".format(df))\n",
    "\n",
    "# Find the most important hyperparameters\n",
    "most_important_parameters = optuna.importance.get_param_importances(study2, target=None)\n",
    "\n",
    "# Display the most important hyperparameters\n",
    "print('\\nMost important hyperparameters:')\n",
    "for key, value in most_important_parameters.items():\n",
    "    print('  {}:{}{:.2f}%'.format(key, (15-len(key))*' ', value*100))"
   ]
  }
 ],
 "metadata": {
  "kernelspec": {
   "display_name": "main-ml",
   "language": "python",
   "name": "python3"
  },
  "language_info": {
   "codemirror_mode": {
    "name": "ipython",
    "version": 3
   },
   "file_extension": ".py",
   "mimetype": "text/x-python",
   "name": "python",
   "nbconvert_exporter": "python",
   "pygments_lexer": "ipython3",
   "version": "3.9.18"
  }
 },
 "nbformat": 4,
 "nbformat_minor": 2
}
