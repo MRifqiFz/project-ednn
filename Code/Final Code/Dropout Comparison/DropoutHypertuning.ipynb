{
 "cells": [
  {
   "cell_type": "markdown",
   "metadata": {},
   "source": [
    "## Import Libraries"
   ]
  },
  {
   "cell_type": "code",
   "execution_count": 24,
   "metadata": {},
   "outputs": [],
   "source": [
    "import pandas as pd\n",
    "import numpy as np\n",
    "import matplotlib.pyplot as plt\n",
    "import seaborn as sns\n",
    "import torch\n",
    "import optuna\n",
    "from optuna.integration import TFKerasPruningCallback\n",
    "from optuna.trial import TrialState\n",
    "from optuna.visualization import plot_intermediate_values\n",
    "from optuna.visualization import plot_optimization_history\n",
    "from optuna.visualization import plot_param_importances\n",
    "from optuna.visualization import plot_contour\n",
    "from sklearn.preprocessing import MinMaxScaler\n",
    "from torchmetrics.functional.classification import *\n",
    "import tensorflow as tf\n",
    "from tensorflow import keras\n",
    "from keras.utils import *\n",
    "from keras.layers import *\n",
    "from keras.models import *\n",
    "from keras.callbacks import *\n",
    "from skmultilearn.ext import Keras"
   ]
  },
  {
   "cell_type": "markdown",
   "metadata": {},
   "source": [
    "## Read Data"
   ]
  },
  {
   "cell_type": "code",
   "execution_count": 25,
   "metadata": {},
   "outputs": [
    {
     "data": {
      "text/html": [
       "<div>\n",
       "<style scoped>\n",
       "    .dataframe tbody tr th:only-of-type {\n",
       "        vertical-align: middle;\n",
       "    }\n",
       "\n",
       "    .dataframe tbody tr th {\n",
       "        vertical-align: top;\n",
       "    }\n",
       "\n",
       "    .dataframe thead th {\n",
       "        text-align: right;\n",
       "    }\n",
       "</style>\n",
       "<table border=\"1\" class=\"dataframe\">\n",
       "  <thead>\n",
       "    <tr style=\"text-align: right;\">\n",
       "      <th></th>\n",
       "      <th>X1</th>\n",
       "      <th>X2</th>\n",
       "      <th>X3</th>\n",
       "      <th>X4</th>\n",
       "      <th>X5</th>\n",
       "      <th>X6</th>\n",
       "      <th>X7</th>\n",
       "      <th>X8</th>\n",
       "      <th>X9</th>\n",
       "      <th>X10</th>\n",
       "      <th>...</th>\n",
       "      <th>X24</th>\n",
       "      <th>X25</th>\n",
       "      <th>X26</th>\n",
       "      <th>Y1</th>\n",
       "      <th>Y2</th>\n",
       "      <th>Y3</th>\n",
       "      <th>Y4</th>\n",
       "      <th>Y5</th>\n",
       "      <th>Y6</th>\n",
       "      <th>Y7</th>\n",
       "    </tr>\n",
       "  </thead>\n",
       "  <tbody>\n",
       "    <tr>\n",
       "      <th>0</th>\n",
       "      <td>3</td>\n",
       "      <td>1</td>\n",
       "      <td>1</td>\n",
       "      <td>1</td>\n",
       "      <td>1</td>\n",
       "      <td>1</td>\n",
       "      <td>1</td>\n",
       "      <td>1</td>\n",
       "      <td>3</td>\n",
       "      <td>1</td>\n",
       "      <td>...</td>\n",
       "      <td>1</td>\n",
       "      <td>3</td>\n",
       "      <td>1</td>\n",
       "      <td>2</td>\n",
       "      <td>2</td>\n",
       "      <td>1</td>\n",
       "      <td>2</td>\n",
       "      <td>2</td>\n",
       "      <td>1</td>\n",
       "      <td>2</td>\n",
       "    </tr>\n",
       "    <tr>\n",
       "      <th>1</th>\n",
       "      <td>5</td>\n",
       "      <td>3</td>\n",
       "      <td>1</td>\n",
       "      <td>1</td>\n",
       "      <td>2</td>\n",
       "      <td>4</td>\n",
       "      <td>2</td>\n",
       "      <td>1</td>\n",
       "      <td>5</td>\n",
       "      <td>1</td>\n",
       "      <td>...</td>\n",
       "      <td>1</td>\n",
       "      <td>2</td>\n",
       "      <td>2</td>\n",
       "      <td>2</td>\n",
       "      <td>2</td>\n",
       "      <td>2</td>\n",
       "      <td>2</td>\n",
       "      <td>2</td>\n",
       "      <td>1</td>\n",
       "      <td>1</td>\n",
       "    </tr>\n",
       "    <tr>\n",
       "      <th>2</th>\n",
       "      <td>4</td>\n",
       "      <td>1</td>\n",
       "      <td>1</td>\n",
       "      <td>1</td>\n",
       "      <td>2</td>\n",
       "      <td>1</td>\n",
       "      <td>2</td>\n",
       "      <td>2</td>\n",
       "      <td>2</td>\n",
       "      <td>2</td>\n",
       "      <td>...</td>\n",
       "      <td>2</td>\n",
       "      <td>3</td>\n",
       "      <td>1</td>\n",
       "      <td>2</td>\n",
       "      <td>2</td>\n",
       "      <td>2</td>\n",
       "      <td>2</td>\n",
       "      <td>2</td>\n",
       "      <td>2</td>\n",
       "      <td>1</td>\n",
       "    </tr>\n",
       "    <tr>\n",
       "      <th>3</th>\n",
       "      <td>4</td>\n",
       "      <td>1</td>\n",
       "      <td>1</td>\n",
       "      <td>1</td>\n",
       "      <td>2</td>\n",
       "      <td>4</td>\n",
       "      <td>2</td>\n",
       "      <td>1</td>\n",
       "      <td>1</td>\n",
       "      <td>1</td>\n",
       "      <td>...</td>\n",
       "      <td>2</td>\n",
       "      <td>3</td>\n",
       "      <td>2</td>\n",
       "      <td>2</td>\n",
       "      <td>2</td>\n",
       "      <td>2</td>\n",
       "      <td>1</td>\n",
       "      <td>2</td>\n",
       "      <td>1</td>\n",
       "      <td>2</td>\n",
       "    </tr>\n",
       "    <tr>\n",
       "      <th>4</th>\n",
       "      <td>2</td>\n",
       "      <td>1</td>\n",
       "      <td>1</td>\n",
       "      <td>3</td>\n",
       "      <td>1</td>\n",
       "      <td>3</td>\n",
       "      <td>1</td>\n",
       "      <td>1</td>\n",
       "      <td>1</td>\n",
       "      <td>1</td>\n",
       "      <td>...</td>\n",
       "      <td>1</td>\n",
       "      <td>3</td>\n",
       "      <td>1</td>\n",
       "      <td>2</td>\n",
       "      <td>2</td>\n",
       "      <td>2</td>\n",
       "      <td>2</td>\n",
       "      <td>2</td>\n",
       "      <td>2</td>\n",
       "      <td>2</td>\n",
       "    </tr>\n",
       "  </tbody>\n",
       "</table>\n",
       "<p>5 rows × 33 columns</p>\n",
       "</div>"
      ],
      "text/plain": [
       "   X1  X2  X3  X4  X5  X6  X7  X8  X9  X10  ...  X24  X25  X26  Y1  Y2  Y3  \\\n",
       "0   3   1   1   1   1   1   1   1   3    1  ...    1    3    1   2   2   1   \n",
       "1   5   3   1   1   2   4   2   1   5    1  ...    1    2    2   2   2   2   \n",
       "2   4   1   1   1   2   1   2   2   2    2  ...    2    3    1   2   2   2   \n",
       "3   4   1   1   1   2   4   2   1   1    1  ...    2    3    2   2   2   2   \n",
       "4   2   1   1   3   1   3   1   1   1    1  ...    1    3    1   2   2   2   \n",
       "\n",
       "   Y4  Y5  Y6  Y7  \n",
       "0   2   2   1   2  \n",
       "1   2   2   1   1  \n",
       "2   2   2   2   1  \n",
       "3   1   2   1   2  \n",
       "4   2   2   2   2  \n",
       "\n",
       "[5 rows x 33 columns]"
      ]
     },
     "execution_count": 25,
     "metadata": {},
     "output_type": "execute_result"
    }
   ],
   "source": [
    "data = pd.read_csv('D:\\Project\\project-ednn\\Code\\Final_dataset_Diabetes_Complication.csv')\n",
    "data.head()"
   ]
  },
  {
   "cell_type": "code",
   "execution_count": 26,
   "metadata": {},
   "outputs": [
    {
     "data": {
      "text/html": [
       "<div>\n",
       "<style scoped>\n",
       "    .dataframe tbody tr th:only-of-type {\n",
       "        vertical-align: middle;\n",
       "    }\n",
       "\n",
       "    .dataframe tbody tr th {\n",
       "        vertical-align: top;\n",
       "    }\n",
       "\n",
       "    .dataframe thead th {\n",
       "        text-align: right;\n",
       "    }\n",
       "</style>\n",
       "<table border=\"1\" class=\"dataframe\">\n",
       "  <thead>\n",
       "    <tr style=\"text-align: right;\">\n",
       "      <th></th>\n",
       "      <th>X1</th>\n",
       "      <th>X2</th>\n",
       "      <th>X3</th>\n",
       "      <th>X4</th>\n",
       "      <th>X5</th>\n",
       "      <th>X6</th>\n",
       "      <th>X7</th>\n",
       "      <th>X8</th>\n",
       "      <th>X9</th>\n",
       "      <th>X10</th>\n",
       "      <th>...</th>\n",
       "      <th>X24</th>\n",
       "      <th>X25</th>\n",
       "      <th>X26</th>\n",
       "      <th>Y1</th>\n",
       "      <th>Y2</th>\n",
       "      <th>Y3</th>\n",
       "      <th>Y4</th>\n",
       "      <th>Y5</th>\n",
       "      <th>Y6</th>\n",
       "      <th>Y7</th>\n",
       "    </tr>\n",
       "  </thead>\n",
       "  <tbody>\n",
       "    <tr>\n",
       "      <th>0</th>\n",
       "      <td>3</td>\n",
       "      <td>1</td>\n",
       "      <td>1</td>\n",
       "      <td>1</td>\n",
       "      <td>1</td>\n",
       "      <td>1</td>\n",
       "      <td>1</td>\n",
       "      <td>1</td>\n",
       "      <td>3</td>\n",
       "      <td>1</td>\n",
       "      <td>...</td>\n",
       "      <td>1</td>\n",
       "      <td>3</td>\n",
       "      <td>1</td>\n",
       "      <td>2</td>\n",
       "      <td>2</td>\n",
       "      <td>1</td>\n",
       "      <td>2</td>\n",
       "      <td>2</td>\n",
       "      <td>1</td>\n",
       "      <td>2</td>\n",
       "    </tr>\n",
       "    <tr>\n",
       "      <th>1</th>\n",
       "      <td>5</td>\n",
       "      <td>3</td>\n",
       "      <td>1</td>\n",
       "      <td>1</td>\n",
       "      <td>2</td>\n",
       "      <td>4</td>\n",
       "      <td>2</td>\n",
       "      <td>1</td>\n",
       "      <td>5</td>\n",
       "      <td>1</td>\n",
       "      <td>...</td>\n",
       "      <td>1</td>\n",
       "      <td>2</td>\n",
       "      <td>2</td>\n",
       "      <td>2</td>\n",
       "      <td>2</td>\n",
       "      <td>2</td>\n",
       "      <td>2</td>\n",
       "      <td>2</td>\n",
       "      <td>1</td>\n",
       "      <td>1</td>\n",
       "    </tr>\n",
       "    <tr>\n",
       "      <th>2</th>\n",
       "      <td>4</td>\n",
       "      <td>1</td>\n",
       "      <td>1</td>\n",
       "      <td>1</td>\n",
       "      <td>2</td>\n",
       "      <td>1</td>\n",
       "      <td>2</td>\n",
       "      <td>2</td>\n",
       "      <td>2</td>\n",
       "      <td>2</td>\n",
       "      <td>...</td>\n",
       "      <td>2</td>\n",
       "      <td>3</td>\n",
       "      <td>1</td>\n",
       "      <td>2</td>\n",
       "      <td>2</td>\n",
       "      <td>2</td>\n",
       "      <td>2</td>\n",
       "      <td>2</td>\n",
       "      <td>2</td>\n",
       "      <td>1</td>\n",
       "    </tr>\n",
       "    <tr>\n",
       "      <th>3</th>\n",
       "      <td>4</td>\n",
       "      <td>1</td>\n",
       "      <td>1</td>\n",
       "      <td>1</td>\n",
       "      <td>2</td>\n",
       "      <td>4</td>\n",
       "      <td>2</td>\n",
       "      <td>1</td>\n",
       "      <td>1</td>\n",
       "      <td>1</td>\n",
       "      <td>...</td>\n",
       "      <td>2</td>\n",
       "      <td>3</td>\n",
       "      <td>2</td>\n",
       "      <td>2</td>\n",
       "      <td>2</td>\n",
       "      <td>2</td>\n",
       "      <td>1</td>\n",
       "      <td>2</td>\n",
       "      <td>1</td>\n",
       "      <td>2</td>\n",
       "    </tr>\n",
       "    <tr>\n",
       "      <th>4</th>\n",
       "      <td>2</td>\n",
       "      <td>1</td>\n",
       "      <td>1</td>\n",
       "      <td>3</td>\n",
       "      <td>1</td>\n",
       "      <td>3</td>\n",
       "      <td>1</td>\n",
       "      <td>1</td>\n",
       "      <td>1</td>\n",
       "      <td>1</td>\n",
       "      <td>...</td>\n",
       "      <td>1</td>\n",
       "      <td>3</td>\n",
       "      <td>1</td>\n",
       "      <td>2</td>\n",
       "      <td>2</td>\n",
       "      <td>2</td>\n",
       "      <td>2</td>\n",
       "      <td>2</td>\n",
       "      <td>2</td>\n",
       "      <td>2</td>\n",
       "    </tr>\n",
       "    <tr>\n",
       "      <th>...</th>\n",
       "      <td>...</td>\n",
       "      <td>...</td>\n",
       "      <td>...</td>\n",
       "      <td>...</td>\n",
       "      <td>...</td>\n",
       "      <td>...</td>\n",
       "      <td>...</td>\n",
       "      <td>...</td>\n",
       "      <td>...</td>\n",
       "      <td>...</td>\n",
       "      <td>...</td>\n",
       "      <td>...</td>\n",
       "      <td>...</td>\n",
       "      <td>...</td>\n",
       "      <td>...</td>\n",
       "      <td>...</td>\n",
       "      <td>...</td>\n",
       "      <td>...</td>\n",
       "      <td>...</td>\n",
       "      <td>...</td>\n",
       "      <td>...</td>\n",
       "    </tr>\n",
       "    <tr>\n",
       "      <th>543770</th>\n",
       "      <td>1</td>\n",
       "      <td>1</td>\n",
       "      <td>2</td>\n",
       "      <td>1</td>\n",
       "      <td>1</td>\n",
       "      <td>4</td>\n",
       "      <td>1</td>\n",
       "      <td>1</td>\n",
       "      <td>5</td>\n",
       "      <td>2</td>\n",
       "      <td>...</td>\n",
       "      <td>2</td>\n",
       "      <td>3</td>\n",
       "      <td>1</td>\n",
       "      <td>2</td>\n",
       "      <td>2</td>\n",
       "      <td>2</td>\n",
       "      <td>2</td>\n",
       "      <td>2</td>\n",
       "      <td>2</td>\n",
       "      <td>2</td>\n",
       "    </tr>\n",
       "    <tr>\n",
       "      <th>543771</th>\n",
       "      <td>2</td>\n",
       "      <td>1</td>\n",
       "      <td>1</td>\n",
       "      <td>1</td>\n",
       "      <td>1</td>\n",
       "      <td>4</td>\n",
       "      <td>1</td>\n",
       "      <td>1</td>\n",
       "      <td>5</td>\n",
       "      <td>1</td>\n",
       "      <td>...</td>\n",
       "      <td>1</td>\n",
       "      <td>2</td>\n",
       "      <td>2</td>\n",
       "      <td>2</td>\n",
       "      <td>2</td>\n",
       "      <td>1</td>\n",
       "      <td>2</td>\n",
       "      <td>2</td>\n",
       "      <td>2</td>\n",
       "      <td>1</td>\n",
       "    </tr>\n",
       "    <tr>\n",
       "      <th>543772</th>\n",
       "      <td>1</td>\n",
       "      <td>2</td>\n",
       "      <td>1</td>\n",
       "      <td>1</td>\n",
       "      <td>1</td>\n",
       "      <td>3</td>\n",
       "      <td>1</td>\n",
       "      <td>1</td>\n",
       "      <td>2</td>\n",
       "      <td>1</td>\n",
       "      <td>...</td>\n",
       "      <td>1</td>\n",
       "      <td>3</td>\n",
       "      <td>1</td>\n",
       "      <td>2</td>\n",
       "      <td>2</td>\n",
       "      <td>2</td>\n",
       "      <td>2</td>\n",
       "      <td>2</td>\n",
       "      <td>2</td>\n",
       "      <td>1</td>\n",
       "    </tr>\n",
       "    <tr>\n",
       "      <th>543773</th>\n",
       "      <td>3</td>\n",
       "      <td>1</td>\n",
       "      <td>2</td>\n",
       "      <td>1</td>\n",
       "      <td>1</td>\n",
       "      <td>3</td>\n",
       "      <td>1</td>\n",
       "      <td>1</td>\n",
       "      <td>2</td>\n",
       "      <td>2</td>\n",
       "      <td>...</td>\n",
       "      <td>1</td>\n",
       "      <td>3</td>\n",
       "      <td>2</td>\n",
       "      <td>2</td>\n",
       "      <td>2</td>\n",
       "      <td>2</td>\n",
       "      <td>2</td>\n",
       "      <td>1</td>\n",
       "      <td>2</td>\n",
       "      <td>2</td>\n",
       "    </tr>\n",
       "    <tr>\n",
       "      <th>543774</th>\n",
       "      <td>1</td>\n",
       "      <td>1</td>\n",
       "      <td>1</td>\n",
       "      <td>1</td>\n",
       "      <td>1</td>\n",
       "      <td>4</td>\n",
       "      <td>1</td>\n",
       "      <td>1</td>\n",
       "      <td>2</td>\n",
       "      <td>1</td>\n",
       "      <td>...</td>\n",
       "      <td>1</td>\n",
       "      <td>3</td>\n",
       "      <td>2</td>\n",
       "      <td>2</td>\n",
       "      <td>2</td>\n",
       "      <td>2</td>\n",
       "      <td>2</td>\n",
       "      <td>2</td>\n",
       "      <td>2</td>\n",
       "      <td>2</td>\n",
       "    </tr>\n",
       "  </tbody>\n",
       "</table>\n",
       "<p>543775 rows × 33 columns</p>\n",
       "</div>"
      ],
      "text/plain": [
       "        X1  X2  X3  X4  X5  X6  X7  X8  X9  X10  ...  X24  X25  X26  Y1  Y2  \\\n",
       "0        3   1   1   1   1   1   1   1   3    1  ...    1    3    1   2   2   \n",
       "1        5   3   1   1   2   4   2   1   5    1  ...    1    2    2   2   2   \n",
       "2        4   1   1   1   2   1   2   2   2    2  ...    2    3    1   2   2   \n",
       "3        4   1   1   1   2   4   2   1   1    1  ...    2    3    2   2   2   \n",
       "4        2   1   1   3   1   3   1   1   1    1  ...    1    3    1   2   2   \n",
       "...     ..  ..  ..  ..  ..  ..  ..  ..  ..  ...  ...  ...  ...  ...  ..  ..   \n",
       "543770   1   1   2   1   1   4   1   1   5    2  ...    2    3    1   2   2   \n",
       "543771   2   1   1   1   1   4   1   1   5    1  ...    1    2    2   2   2   \n",
       "543772   1   2   1   1   1   3   1   1   2    1  ...    1    3    1   2   2   \n",
       "543773   3   1   2   1   1   3   1   1   2    2  ...    1    3    2   2   2   \n",
       "543774   1   1   1   1   1   4   1   1   2    1  ...    1    3    2   2   2   \n",
       "\n",
       "        Y3  Y4  Y5  Y6  Y7  \n",
       "0        1   2   2   1   2  \n",
       "1        2   2   2   1   1  \n",
       "2        2   2   2   2   1  \n",
       "3        2   1   2   1   2  \n",
       "4        2   2   2   2   2  \n",
       "...     ..  ..  ..  ..  ..  \n",
       "543770   2   2   2   2   2  \n",
       "543771   1   2   2   2   1  \n",
       "543772   2   2   2   2   1  \n",
       "543773   2   2   1   2   2  \n",
       "543774   2   2   2   2   2  \n",
       "\n",
       "[543775 rows x 33 columns]"
      ]
     },
     "execution_count": 26,
     "metadata": {},
     "output_type": "execute_result"
    }
   ],
   "source": [
    "data = data.drop_duplicates(ignore_index=True)\n",
    "data"
   ]
  },
  {
   "cell_type": "code",
   "execution_count": 27,
   "metadata": {},
   "outputs": [
    {
     "name": "stdout",
     "output_type": "stream",
     "text": [
      "<class 'pandas.core.frame.DataFrame'>\n",
      "RangeIndex: 543775 entries, 0 to 543774\n",
      "Data columns (total 33 columns):\n",
      " #   Column  Non-Null Count   Dtype\n",
      "---  ------  --------------   -----\n",
      " 0   X1      543775 non-null  int64\n",
      " 1   X2      543775 non-null  int64\n",
      " 2   X3      543775 non-null  int64\n",
      " 3   X4      543775 non-null  int64\n",
      " 4   X5      543775 non-null  int64\n",
      " 5   X6      543775 non-null  int64\n",
      " 6   X7      543775 non-null  int64\n",
      " 7   X8      543775 non-null  int64\n",
      " 8   X9      543775 non-null  int64\n",
      " 9   X10     543775 non-null  int64\n",
      " 10  X11     543775 non-null  int64\n",
      " 11  X12     543775 non-null  int64\n",
      " 12  X13     543775 non-null  int64\n",
      " 13  X14     543775 non-null  int64\n",
      " 14  X15     543775 non-null  int64\n",
      " 15  X16     543775 non-null  int64\n",
      " 16  X17     543775 non-null  int64\n",
      " 17  X18     543775 non-null  int64\n",
      " 18  X19     543775 non-null  int64\n",
      " 19  X20     543775 non-null  int64\n",
      " 20  X21     543775 non-null  int64\n",
      " 21  X22     543775 non-null  int64\n",
      " 22  X23     543775 non-null  int64\n",
      " 23  X24     543775 non-null  int64\n",
      " 24  X25     543775 non-null  int64\n",
      " 25  X26     543775 non-null  int64\n",
      " 26  Y1      543775 non-null  int64\n",
      " 27  Y2      543775 non-null  int64\n",
      " 28  Y3      543775 non-null  int64\n",
      " 29  Y4      543775 non-null  int64\n",
      " 30  Y5      543775 non-null  int64\n",
      " 31  Y6      543775 non-null  int64\n",
      " 32  Y7      543775 non-null  int64\n",
      "dtypes: int64(33)\n",
      "memory usage: 136.9 MB\n"
     ]
    }
   ],
   "source": [
    "data.info()"
   ]
  },
  {
   "cell_type": "markdown",
   "metadata": {},
   "source": [
    "## Data Visualization"
   ]
  },
  {
   "cell_type": "code",
   "execution_count": 28,
   "metadata": {},
   "outputs": [
    {
     "data": {
      "text/html": [
       "<div>\n",
       "<style scoped>\n",
       "    .dataframe tbody tr th:only-of-type {\n",
       "        vertical-align: middle;\n",
       "    }\n",
       "\n",
       "    .dataframe tbody tr th {\n",
       "        vertical-align: top;\n",
       "    }\n",
       "\n",
       "    .dataframe thead th {\n",
       "        text-align: right;\n",
       "    }\n",
       "</style>\n",
       "<table border=\"1\" class=\"dataframe\">\n",
       "  <thead>\n",
       "    <tr style=\"text-align: right;\">\n",
       "      <th></th>\n",
       "      <th>Y1</th>\n",
       "      <th>Y2</th>\n",
       "      <th>Y3</th>\n",
       "      <th>Y4</th>\n",
       "      <th>Y5</th>\n",
       "      <th>Y6</th>\n",
       "      <th>Y7</th>\n",
       "    </tr>\n",
       "  </thead>\n",
       "  <tbody>\n",
       "    <tr>\n",
       "      <th>0</th>\n",
       "      <td>2</td>\n",
       "      <td>2</td>\n",
       "      <td>1</td>\n",
       "      <td>2</td>\n",
       "      <td>2</td>\n",
       "      <td>1</td>\n",
       "      <td>2</td>\n",
       "    </tr>\n",
       "    <tr>\n",
       "      <th>1</th>\n",
       "      <td>2</td>\n",
       "      <td>2</td>\n",
       "      <td>2</td>\n",
       "      <td>2</td>\n",
       "      <td>2</td>\n",
       "      <td>1</td>\n",
       "      <td>1</td>\n",
       "    </tr>\n",
       "    <tr>\n",
       "      <th>2</th>\n",
       "      <td>2</td>\n",
       "      <td>2</td>\n",
       "      <td>2</td>\n",
       "      <td>2</td>\n",
       "      <td>2</td>\n",
       "      <td>2</td>\n",
       "      <td>1</td>\n",
       "    </tr>\n",
       "    <tr>\n",
       "      <th>3</th>\n",
       "      <td>2</td>\n",
       "      <td>2</td>\n",
       "      <td>2</td>\n",
       "      <td>1</td>\n",
       "      <td>2</td>\n",
       "      <td>1</td>\n",
       "      <td>2</td>\n",
       "    </tr>\n",
       "    <tr>\n",
       "      <th>4</th>\n",
       "      <td>2</td>\n",
       "      <td>2</td>\n",
       "      <td>2</td>\n",
       "      <td>2</td>\n",
       "      <td>2</td>\n",
       "      <td>2</td>\n",
       "      <td>2</td>\n",
       "    </tr>\n",
       "    <tr>\n",
       "      <th>...</th>\n",
       "      <td>...</td>\n",
       "      <td>...</td>\n",
       "      <td>...</td>\n",
       "      <td>...</td>\n",
       "      <td>...</td>\n",
       "      <td>...</td>\n",
       "      <td>...</td>\n",
       "    </tr>\n",
       "    <tr>\n",
       "      <th>543770</th>\n",
       "      <td>2</td>\n",
       "      <td>2</td>\n",
       "      <td>2</td>\n",
       "      <td>2</td>\n",
       "      <td>2</td>\n",
       "      <td>2</td>\n",
       "      <td>2</td>\n",
       "    </tr>\n",
       "    <tr>\n",
       "      <th>543771</th>\n",
       "      <td>2</td>\n",
       "      <td>2</td>\n",
       "      <td>1</td>\n",
       "      <td>2</td>\n",
       "      <td>2</td>\n",
       "      <td>2</td>\n",
       "      <td>1</td>\n",
       "    </tr>\n",
       "    <tr>\n",
       "      <th>543772</th>\n",
       "      <td>2</td>\n",
       "      <td>2</td>\n",
       "      <td>2</td>\n",
       "      <td>2</td>\n",
       "      <td>2</td>\n",
       "      <td>2</td>\n",
       "      <td>1</td>\n",
       "    </tr>\n",
       "    <tr>\n",
       "      <th>543773</th>\n",
       "      <td>2</td>\n",
       "      <td>2</td>\n",
       "      <td>2</td>\n",
       "      <td>2</td>\n",
       "      <td>1</td>\n",
       "      <td>2</td>\n",
       "      <td>2</td>\n",
       "    </tr>\n",
       "    <tr>\n",
       "      <th>543774</th>\n",
       "      <td>2</td>\n",
       "      <td>2</td>\n",
       "      <td>2</td>\n",
       "      <td>2</td>\n",
       "      <td>2</td>\n",
       "      <td>2</td>\n",
       "      <td>2</td>\n",
       "    </tr>\n",
       "  </tbody>\n",
       "</table>\n",
       "<p>543775 rows × 7 columns</p>\n",
       "</div>"
      ],
      "text/plain": [
       "        Y1  Y2  Y3  Y4  Y5  Y6  Y7\n",
       "0        2   2   1   2   2   1   2\n",
       "1        2   2   2   2   2   1   1\n",
       "2        2   2   2   2   2   2   1\n",
       "3        2   2   2   1   2   1   2\n",
       "4        2   2   2   2   2   2   2\n",
       "...     ..  ..  ..  ..  ..  ..  ..\n",
       "543770   2   2   2   2   2   2   2\n",
       "543771   2   2   1   2   2   2   1\n",
       "543772   2   2   2   2   2   2   1\n",
       "543773   2   2   2   2   1   2   2\n",
       "543774   2   2   2   2   2   2   2\n",
       "\n",
       "[543775 rows x 7 columns]"
      ]
     },
     "execution_count": 28,
     "metadata": {},
     "output_type": "execute_result"
    }
   ],
   "source": [
    "data_feature = data.iloc[:, :26]\n",
    "data_label = data.iloc[:, 26:]\n",
    "data_label"
   ]
  },
  {
   "cell_type": "markdown",
   "metadata": {},
   "source": [
    "## Data Preprocessing"
   ]
  },
  {
   "cell_type": "code",
   "execution_count": 29,
   "metadata": {},
   "outputs": [],
   "source": [
    "scaler = MinMaxScaler()\n",
    "scaler.fit(data)\n",
    "\n",
    "# Transform the DataFrame to obtain the normalized data\n",
    "data_normalized = scaler.transform(data)"
   ]
  },
  {
   "cell_type": "code",
   "execution_count": 30,
   "metadata": {},
   "outputs": [],
   "source": [
    "X = data_normalized[:, :26]\n",
    "y = data_normalized[:, 26:]"
   ]
  },
  {
   "cell_type": "code",
   "execution_count": 31,
   "metadata": {},
   "outputs": [],
   "source": [
    "data_normalize = pd.DataFrame(scaler.transform(data), columns=data.columns)\n",
    "df_feature = data_normalize.iloc[:, :26]\n",
    "df_label = data_normalize.iloc[:, 26:]"
   ]
  },
  {
   "cell_type": "markdown",
   "metadata": {},
   "source": [
    "## Modelling"
   ]
  },
  {
   "cell_type": "code",
   "execution_count": 32,
   "metadata": {},
   "outputs": [],
   "source": [
    "weight_list = []\n",
    "for i, label in enumerate(df_label.columns):\n",
    "    values_1 = df_label[label][df_label[label] == 1]\n",
    "    values_2 = df_label[label][df_label[label] == 2]\n",
    "    dist = 1 - (len(values_1) / len(df_label))\n",
    "    weight_list.append(dist)"
   ]
  },
  {
   "cell_type": "code",
   "execution_count": 33,
   "metadata": {},
   "outputs": [
    {
     "name": "stdout",
     "output_type": "stream",
     "text": [
      "cuda\n"
     ]
    }
   ],
   "source": [
    "device = torch.device(\"cuda\" if torch.cuda.is_available() else \"cpu\")\n",
    "print(device)"
   ]
  },
  {
   "cell_type": "code",
   "execution_count": 34,
   "metadata": {},
   "outputs": [
    {
     "data": {
      "text/plain": [
       "tensor([0.0483, 0.0652, 0.0605, 0.0508, 0.1008, 0.3895, 0.4290],\n",
       "       device='cuda:0')"
      ]
     },
     "execution_count": 34,
     "metadata": {},
     "output_type": "execute_result"
    }
   ],
   "source": [
    "weights_ = torch.Tensor(weight_list).to(device)\n",
    "weights_"
   ]
  },
  {
   "cell_type": "code",
   "execution_count": 35,
   "metadata": {},
   "outputs": [],
   "source": [
    "def reset_weights(m):\n",
    "    for layer in m.children():\n",
    "        if hasattr(layer, 'reset_parameters'):\n",
    "            # print(f'Reset trainable parameters of layer = {layer}')\n",
    "            layer.reset_parameters()"
   ]
  },
  {
   "cell_type": "code",
   "execution_count": 36,
   "metadata": {},
   "outputs": [],
   "source": [
    "class DNNModelwithWeightedDropout(tf.keras.Model):\n",
    "    def __init__(self, num_features=26, num_classes=7, p=[0.05, 0.01, 0.003]):\n",
    "        super(DNNModelwithWeightedDropout, self).__init__()\n",
    "        self.fcn1 = tf.keras.Sequential([\n",
    "            tf.keras.layers.Dense(32, activation='relu', input_shape=(num_features,)),\n",
    "            tf.keras.layers.Dense(len(p), activation='softmax')\n",
    "        ])\n",
    "        self.dropout = [tf.keras.layers.Dropout(rate=rate) for rate in p]\n",
    "        self.fcn2 = tf.keras.Sequential([\n",
    "            tf.keras.layers.Dense(num_classes, activation='sigmoid')\n",
    "        ])\n",
    "\n",
    "    def call(self, x, training=None, mask=None):\n",
    "        x = self.fcn1(x)\n",
    "        weights = x\n",
    "\n",
    "        # Apply weighted dropout\n",
    "        x = [dropout(x[:, i], training=training) * weights[:, i] for i, dropout in enumerate(self.dropout)]\n",
    "\n",
    "        x = tf.stack(x, axis=1)\n",
    "        x = self.fcn2(x)\n",
    "        return x"
   ]
  },
  {
   "cell_type": "code",
   "execution_count": 37,
   "metadata": {},
   "outputs": [],
   "source": [
    "class DNNDropout(tf.keras.Model):\n",
    "    def __init__(self, num_features=26, num_classes=7, p=0.5):\n",
    "        super(DNNDropout, self).__init__()\n",
    "\n",
    "        self.fcn1 = tf.keras.Sequential([\n",
    "            tf.keras.layers.Dense(16, activation='relu'),\n",
    "            tf.keras.layers.Dense(8, activation='relu'),\n",
    "            tf.keras.layers.Dense(3, activation='softmax')\n",
    "        ])\n",
    "\n",
    "        self.dropout1 = tf.keras.layers.Dropout(p)\n",
    "\n",
    "        self.fcn2 = tf.keras.Sequential([\n",
    "            tf.keras.layers.Dense(num_classes, activation='sigmoid')\n",
    "        ])\n",
    "\n",
    "    def call(self, x, training=False):\n",
    "        x = self.fcn1(x)\n",
    "        x = self.dropout1(x)\n",
    "        x = self.fcn2(x)\n",
    "        return x"
   ]
  },
  {
   "cell_type": "code",
   "execution_count": 38,
   "metadata": {},
   "outputs": [],
   "source": [
    "def DropoutModel(dropout_rate):\n",
    "    model = DNNDropout(num_features=26, num_classes=7, p=dropout_rate)\n",
    "    lossWeights = weight_list\n",
    "    model.compile(loss='binary_crossentropy', optimizer=tf.keras.optimizers.RMSprop(learning_rate=0.003), metrics=['accuracy'], loss_weights=lossWeights)\n",
    "\n",
    "    return model"
   ]
  },
  {
   "cell_type": "code",
   "execution_count": 39,
   "metadata": {},
   "outputs": [],
   "source": [
    "def ProposedModel(dropout_rate):\n",
    "    model = DNNModelwithWeightedDropout(num_features=26, num_classes=7, p=dropout_rate)\n",
    "    lossWeights = weight_list\n",
    "    model.compile(loss='binary_crossentropy', optimizer=tf.keras.optimizers.RMSprop(learning_rate=0.003), metrics=['accuracy'], loss_weights=lossWeights)\n",
    "\n",
    "    return model"
   ]
  },
  {
   "cell_type": "markdown",
   "metadata": {},
   "source": [
    "## Metrics"
   ]
  },
  {
   "cell_type": "code",
   "execution_count": 40,
   "metadata": {},
   "outputs": [],
   "source": [
    "import numpy as np\n",
    "import scipy.io as sci\n",
    "\n",
    "def findmax(outputs):\n",
    "    if len(outputs) == 0:\n",
    "        return None, None  # Handle the case when outputs is empty\n",
    "\n",
    "    Max = -float(\"inf\")\n",
    "    index = 0\n",
    "\n",
    "    for i in range(len(outputs)):\n",
    "        if outputs[i].float() > Max:\n",
    "            Max = outputs[i]\n",
    "            index = i\n",
    "\n",
    "    return Max, index\n",
    "\n",
    "def OneError(outputs, test_target):\n",
    "    test_data_num = outputs.shape[0]\n",
    "    class_num = outputs.shape[1]\n",
    "    num = 0\n",
    "    one_error = 0\n",
    "    for i in range(test_data_num):\n",
    "        if sum(test_target[i]) != class_num and sum(test_target[i]) != 0:\n",
    "            Max, index = findmax(outputs[i])\n",
    "            num = num + 1\n",
    "            if test_target[i][index] != 1:\n",
    "                one_error = one_error + 1\n",
    "    return one_error / num\n",
    "\n",
    "def Accuracy(y_true, y_pred):\n",
    "    temp = 0\n",
    "    for i in range(y_true.shape[0]):\n",
    "        x = sum(np.logical_and(y_true[i], y_pred[i]))\n",
    "        y = sum(np.logical_or(y_true[i], y_pred[i]))\n",
    "        temp +=  x/y if not np.isnan(x/y) else 0\n",
    "    return temp / y_true.shape[0]\n",
    "\n",
    "def Recall(y_true, y_pred):\n",
    "    temp = 0\n",
    "    for i in range(y_true.shape[0]):\n",
    "        if sum(y_true[i]) == 0:\n",
    "            continue\n",
    "        temp+= sum(np.logical_and(y_true[i], y_pred[i]))/ sum(y_true[i])\n",
    "    return temp/ y_true.shape[0]\n",
    "\n",
    "def Precision(y_true, y_pred):\n",
    "    temp = 0\n",
    "    for i in range(y_true.shape[0]):\n",
    "        if sum(y_pred[i]) == 0:\n",
    "            continue\n",
    "        temp+= sum(np.logical_and(y_true[i], y_pred[i]))/ sum(y_pred[i])\n",
    "    return temp/ y_true.shape[0]"
   ]
  },
  {
   "cell_type": "code",
   "execution_count": 41,
   "metadata": {},
   "outputs": [],
   "source": [
    "def mlc_metrics(trues, preds, test_name):\n",
    "    subset_acc = multilabel_exact_match(preds, trues, num_labels=7).item()\n",
    "    hamming_loss = multilabel_hamming_distance(preds, trues, num_labels=7).item()\n",
    "    acc_exp = Accuracy(preds, trues)\n",
    "    prec_exp = Precision(preds, trues)\n",
    "    rec_exp = Recall(preds, trues)\n",
    "    f1_exp = multilabel_fbeta_score(preds, trues, beta=1.0, num_labels=7).item()\n",
    "    one_error = OneError(preds, trues)\n",
    "    cov = multilabel_coverage_error(preds.float(), trues, num_labels=7).item()\n",
    "    rank_loss = multilabel_ranking_loss(preds.float(), trues, num_labels=7).item()\n",
    "    avg_prec = multilabel_average_precision(preds.float(), trues.long(), num_labels=7).item()\n",
    "    acc_micro = multilabel_accuracy(preds, trues, num_labels=7, average='micro').item()\n",
    "    acc_macro = multilabel_accuracy(preds, trues, num_labels=7, average='macro').item()\n",
    "    prec_micro = multilabel_precision(preds, trues, num_labels=7, average='micro').item()\n",
    "    prec_macro = multilabel_precision(preds, trues, num_labels=7, average='macro').item()\n",
    "    rec_micro = multilabel_recall(preds, trues, num_labels=7, average='micro').item()\n",
    "    rec_macro = multilabel_recall(preds, trues, num_labels=7, average='macro').item()\n",
    "    f1_micro = multilabel_f1_score(preds, trues, num_labels=7, average='micro').item()\n",
    "    f1_macro = multilabel_f1_score(preds, trues, num_labels=7, average='macro').item()\n",
    "    auc_micro = multilabel_auroc(preds.float(), trues.long(), num_labels=7, average='micro').item()\n",
    "    auc_macro = multilabel_auroc(preds.float(), trues.long(), num_labels=7, average='macro').item()\n",
    "\n",
    "    data = {\n",
    "        \"Test Params\": test_name,\n",
    "        \"Subset Accuracy\": subset_acc,\n",
    "        \"Hamming Loss\": hamming_loss,\n",
    "        \"Accuracy (Exp)\": acc_exp,\n",
    "        \"Precision (Exp)\": prec_exp,\n",
    "        \"Recall (Exp)\": rec_exp,\n",
    "        \"F1 Score (Exp)\": f1_exp,\n",
    "        \"One Error\": one_error,\n",
    "        \"Coverage\": cov,\n",
    "        \"Ranking Loss\": rank_loss,\n",
    "        \"Average Precision\": avg_prec,\n",
    "        \"Accuracy (Micro)\": acc_micro,\n",
    "        \"Accuracy (Macro)\": acc_macro,\n",
    "        \"Precision (Micro)\": prec_micro,\n",
    "        \"Precision (Macro)\": prec_macro,\n",
    "        \"Recall (Micro)\": rec_micro,\n",
    "        \"Recall (Macro)\": rec_macro,\n",
    "        \"F1 Score (Micro)\": f1_micro,\n",
    "        \"F1 Score (Macro)\": f1_macro,\n",
    "        \"AUC (Micro)\": auc_micro,\n",
    "        \"AUC (Macro)\": auc_macro\n",
    "    }\n",
    "\n",
    "    df = pd.DataFrame([data])  # Creating a DataFrame with a single row\n",
    "    return df"
   ]
  },
  {
   "cell_type": "markdown",
   "metadata": {},
   "source": [
    "## Hyperparameter Tuning"
   ]
  },
  {
   "cell_type": "code",
   "execution_count": 42,
   "metadata": {},
   "outputs": [],
   "source": [
    "from sklearn.model_selection import train_test_split\n",
    "x_train, x_temp, y_train, y_temp = train_test_split(X, y, test_size=0.3, random_state=42)\n",
    "x_test, x_valid, y_test, y_valid = train_test_split(x_temp, y_temp, test_size=0.3, random_state=42)"
   ]
  },
  {
   "cell_type": "code",
   "execution_count": 43,
   "metadata": {},
   "outputs": [],
   "source": [
    "def objective1(trial):\n",
    "    keras.backend.clear_session()\n",
    "    dropout_rate = trial.suggest_float('dropout_rate', 0.0, 0.5)\n",
    "\n",
    "    model = DropoutModel(dropout_rate)\n",
    "\n",
    "    model.fit(\n",
    "        x_train,\n",
    "        y_train,\n",
    "        batch_size=32,\n",
    "        epochs=10,\n",
    "        callbacks=[TFKerasPruningCallback(trial, \"val_loss\")],\n",
    "        validation_data=(x_valid, y_valid),\n",
    "        verbose=1,\n",
    "    )\n",
    "\n",
    "    # Evaluate the model accuracy on the validation set.\n",
    "    prediction = model.predict(x_test)\n",
    "    trues = torch.tensor(y_test)\n",
    "    preds = torch.tensor(prediction)\n",
    "\n",
    "    df = mlc_metrics(trues, preds, test_name=dropout_rate)\n",
    "    df.to_csv(f'Metrics/{dropout_rate}.csv', index=False)\n",
    "\n",
    "    score = multilabel_accuracy(preds, trues, num_labels=7, average='micro').item()\n",
    "    return score"
   ]
  },
  {
   "cell_type": "code",
   "execution_count": 44,
   "metadata": {},
   "outputs": [],
   "source": [
    "def objective2(trial):\n",
    "    keras.backend.clear_session()\n",
    "    \n",
    "    dropout_rate1 = trial.suggest_float('dropout_rate1', 0.0, 0.5)\n",
    "    dropout_rate2 = trial.suggest_float('dropout_rate2', 0.0, 0.5)\n",
    "    dropout_rate3 = trial.suggest_float('dropout_rate3', 0.0, 0.5)\n",
    "    dropout_rate = [dropout_rate1, dropout_rate2, dropout_rate3]\n",
    "\n",
    "    model = ProposedModel(dropout_rate)\n",
    "\n",
    "    model.fit(\n",
    "        x_train,\n",
    "        y_train,\n",
    "        batch_size=32,\n",
    "        epochs=10,\n",
    "        callbacks=[TFKerasPruningCallback(trial, \"val_loss\")],\n",
    "        validation_data=(x_valid, y_valid),\n",
    "        verbose=1,\n",
    "    )\n",
    "\n",
    "    # Evaluate the model accuracy on the validation set.\n",
    "    prediction = model.predict(x_test)\n",
    "    trues = torch.tensor(y_test)\n",
    "    preds = torch.tensor(prediction)\n",
    "\n",
    "    df = mlc_metrics(trues, preds, test_name=dropout_rate)\n",
    "    df.to_csv(f'Metrics/{dropout_rate}.csv', index=False)\n",
    "\n",
    "    score = multilabel_accuracy(preds, trues, num_labels=7, average='micro').item()\n",
    "    return score"
   ]
  },
  {
   "cell_type": "code",
   "execution_count": 45,
   "metadata": {},
   "outputs": [
    {
     "name": "stderr",
     "output_type": "stream",
     "text": [
      "[I 2024-01-25 13:10:11,658] A new study created in memory with name: no-name-0ed70c3b-5f32-4ca9-a364-8ce696bd41cf\n"
     ]
    },
    {
     "name": "stdout",
     "output_type": "stream",
     "text": [
      "Epoch 1/10\n",
      "11896/11896 [==============================] - 43s 4ms/step - loss: 0.0160 - accuracy: 0.3417 - val_loss: 0.0151 - val_accuracy: 0.3731\n",
      "Epoch 2/10\n",
      "11896/11896 [==============================] - 42s 4ms/step - loss: 0.0156 - accuracy: 0.3378 - val_loss: 0.0151 - val_accuracy: 0.3389\n",
      "Epoch 3/10\n",
      "11896/11896 [==============================] - 42s 4ms/step - loss: 0.0156 - accuracy: 0.3237 - val_loss: 0.0151 - val_accuracy: 0.3942\n",
      "Epoch 4/10\n",
      "11896/11896 [==============================] - 43s 4ms/step - loss: 0.0156 - accuracy: 0.3412 - val_loss: 0.0151 - val_accuracy: 0.2516\n",
      "Epoch 5/10\n",
      "11896/11896 [==============================] - 42s 4ms/step - loss: 0.0156 - accuracy: 0.3204 - val_loss: 0.0151 - val_accuracy: 0.4611\n",
      "Epoch 6/10\n",
      "11896/11896 [==============================] - 43s 4ms/step - loss: 0.0156 - accuracy: 0.3284 - val_loss: 0.0151 - val_accuracy: 0.4261\n",
      "Epoch 7/10\n",
      "11896/11896 [==============================] - 44s 4ms/step - loss: 0.0156 - accuracy: 0.3282 - val_loss: 0.0151 - val_accuracy: 0.2226\n",
      "Epoch 8/10\n",
      "11896/11896 [==============================] - 43s 4ms/step - loss: 0.0156 - accuracy: 0.3286 - val_loss: 0.0151 - val_accuracy: 0.3443\n",
      "Epoch 9/10\n",
      "11896/11896 [==============================] - 42s 4ms/step - loss: 0.0156 - accuracy: 0.3280 - val_loss: 0.0150 - val_accuracy: 0.4101\n",
      "Epoch 10/10\n",
      "11896/11896 [==============================] - 43s 4ms/step - loss: 0.0156 - accuracy: 0.3449 - val_loss: 0.0151 - val_accuracy: 0.3377\n",
      "3569/3569 [==============================] - 3s 894us/step\n"
     ]
    },
    {
     "name": "stderr",
     "output_type": "stream",
     "text": [
      "[I 2024-01-25 13:17:57,082] Trial 0 finished with value: 0.8679190874099731 and parameters: {'dropout_rate': 0.1771900798042112}. Best is trial 0 with value: 0.8679190874099731.\n"
     ]
    },
    {
     "name": "stdout",
     "output_type": "stream",
     "text": [
      "Epoch 1/10\n",
      "11896/11896 [==============================] - 44s 4ms/step - loss: 0.0157 - accuracy: 0.3355 - val_loss: 0.0150 - val_accuracy: 0.2315\n",
      "Epoch 2/10\n",
      "11896/11896 [==============================] - 43s 4ms/step - loss: 0.0150 - accuracy: 0.2465 - val_loss: 0.0148 - val_accuracy: 0.1579\n",
      "Epoch 3/10\n",
      "11896/11896 [==============================] - 43s 4ms/step - loss: 0.0150 - accuracy: 0.2485 - val_loss: 0.0148 - val_accuracy: 0.1726\n",
      "Epoch 4/10\n",
      "11896/11896 [==============================] - 43s 4ms/step - loss: 0.0150 - accuracy: 0.2494 - val_loss: 0.0148 - val_accuracy: 0.2256\n",
      "Epoch 5/10\n",
      "11896/11896 [==============================] - 43s 4ms/step - loss: 0.0150 - accuracy: 0.2497 - val_loss: 0.0148 - val_accuracy: 0.1600\n",
      "Epoch 6/10\n",
      "11896/11896 [==============================] - 43s 4ms/step - loss: 0.0150 - accuracy: 0.2495 - val_loss: 0.0148 - val_accuracy: 0.1953\n",
      "Epoch 7/10\n",
      "11896/11896 [==============================] - 43s 4ms/step - loss: 0.0150 - accuracy: 0.2449 - val_loss: 0.0148 - val_accuracy: 0.2763\n",
      "Epoch 8/10\n",
      "11896/11896 [==============================] - 43s 4ms/step - loss: 0.0150 - accuracy: 0.2471 - val_loss: 0.0149 - val_accuracy: 0.1109\n",
      "Epoch 9/10\n",
      "11896/11896 [==============================] - 43s 4ms/step - loss: 0.0150 - accuracy: 0.2514 - val_loss: 0.0148 - val_accuracy: 0.3591\n",
      "Epoch 10/10\n",
      "11896/11896 [==============================] - 43s 4ms/step - loss: 0.0150 - accuracy: 0.2420 - val_loss: 0.0149 - val_accuracy: 0.3073\n",
      "3569/3569 [==============================] - 3s 882us/step\n"
     ]
    },
    {
     "name": "stderr",
     "output_type": "stream",
     "text": [
      "[I 2024-01-25 13:25:44,695] Trial 1 finished with value: 0.8712468147277832 and parameters: {'dropout_rate': 0.035528495568592444}. Best is trial 1 with value: 0.8712468147277832.\n"
     ]
    },
    {
     "name": "stdout",
     "output_type": "stream",
     "text": [
      "Epoch 1/10\n",
      "11896/11896 [==============================] - 43s 4ms/step - loss: 0.0163 - accuracy: 0.4205 - val_loss: 0.0155 - val_accuracy: 0.4218\n",
      "Epoch 2/10\n",
      "11896/11896 [==============================] - 43s 4ms/step - loss: 0.0160 - accuracy: 0.4004 - val_loss: 0.0154 - val_accuracy: 0.2136\n",
      "Epoch 3/10\n",
      "11896/11896 [==============================] - 43s 4ms/step - loss: 0.0160 - accuracy: 0.3924 - val_loss: 0.0154 - val_accuracy: 0.3389\n",
      "Epoch 4/10\n",
      "11896/11896 [==============================] - 43s 4ms/step - loss: 0.0160 - accuracy: 0.3919 - val_loss: 0.0154 - val_accuracy: 0.3961\n",
      "Epoch 5/10\n",
      "11896/11896 [==============================] - 43s 4ms/step - loss: 0.0160 - accuracy: 0.3922 - val_loss: 0.0154 - val_accuracy: 0.2653\n",
      "Epoch 6/10\n",
      "11896/11896 [==============================] - 43s 4ms/step - loss: 0.0160 - accuracy: 0.3880 - val_loss: 0.0154 - val_accuracy: 0.2509\n",
      "Epoch 7/10\n",
      "11896/11896 [==============================] - 43s 4ms/step - loss: 0.0160 - accuracy: 0.3980 - val_loss: 0.0154 - val_accuracy: 0.3207\n",
      "Epoch 8/10\n",
      "11896/11896 [==============================] - 43s 4ms/step - loss: 0.0160 - accuracy: 0.3990 - val_loss: 0.0155 - val_accuracy: 0.2490\n",
      "Epoch 9/10\n",
      "11896/11896 [==============================] - 43s 4ms/step - loss: 0.0160 - accuracy: 0.4101 - val_loss: 0.0154 - val_accuracy: 0.3770\n",
      "Epoch 10/10\n",
      "11896/11896 [==============================] - 43s 4ms/step - loss: 0.0160 - accuracy: 0.4149 - val_loss: 0.0154 - val_accuracy: 0.2004\n",
      "3569/3569 [==============================] - 3s 886us/step\n"
     ]
    },
    {
     "name": "stderr",
     "output_type": "stream",
     "text": [
      "[I 2024-01-25 13:33:31,595] Trial 2 finished with value: 0.8616765141487122 and parameters: {'dropout_rate': 0.3447695643571048}. Best is trial 1 with value: 0.8712468147277832.\n"
     ]
    },
    {
     "name": "stdout",
     "output_type": "stream",
     "text": [
      "Epoch 1/10\n",
      "11896/11896 [==============================] - 43s 4ms/step - loss: 0.0164 - accuracy: 0.4133 - val_loss: 0.0154 - val_accuracy: 0.3896\n",
      "Epoch 2/10\n",
      "11896/11896 [==============================] - 43s 4ms/step - loss: 0.0161 - accuracy: 0.4100 - val_loss: 0.0155 - val_accuracy: 0.2724\n",
      "Epoch 3/10\n",
      "11896/11896 [==============================] - 43s 4ms/step - loss: 0.0161 - accuracy: 0.4134 - val_loss: 0.0155 - val_accuracy: 0.3639\n",
      "Epoch 4/10\n",
      "11896/11896 [==============================] - 42s 4ms/step - loss: 0.0161 - accuracy: 0.4138 - val_loss: 0.0156 - val_accuracy: 0.4367\n",
      "Epoch 5/10\n",
      "11896/11896 [==============================] - 42s 4ms/step - loss: 0.0161 - accuracy: 0.4130 - val_loss: 0.0155 - val_accuracy: 0.4222\n",
      "Epoch 6/10\n",
      "11896/11896 [==============================] - 43s 4ms/step - loss: 0.0162 - accuracy: 0.4194 - val_loss: 0.0155 - val_accuracy: 0.2833\n",
      "Epoch 7/10\n",
      "11896/11896 [==============================] - 43s 4ms/step - loss: 0.0162 - accuracy: 0.4219 - val_loss: 0.0155 - val_accuracy: 0.0067\n",
      "Epoch 8/10\n",
      "11896/11896 [==============================] - 43s 4ms/step - loss: 0.0162 - accuracy: 0.4222 - val_loss: 0.0155 - val_accuracy: 0.4081\n",
      "Epoch 9/10\n",
      "11896/11896 [==============================] - 43s 4ms/step - loss: 0.0162 - accuracy: 0.4269 - val_loss: 0.0156 - val_accuracy: 0.4415\n",
      "Epoch 10/10\n",
      "11896/11896 [==============================] - 43s 4ms/step - loss: 0.0162 - accuracy: 0.4219 - val_loss: 0.0156 - val_accuracy: 0.2931\n",
      "3569/3569 [==============================] - 3s 886us/step\n"
     ]
    },
    {
     "name": "stderr",
     "output_type": "stream",
     "text": [
      "[I 2024-01-25 13:41:16,416] Trial 3 finished with value: 0.8538614511489868 and parameters: {'dropout_rate': 0.38019934390430876}. Best is trial 1 with value: 0.8712468147277832.\n"
     ]
    },
    {
     "name": "stdout",
     "output_type": "stream",
     "text": [
      "Epoch 1/10\n",
      "11896/11896 [==============================] - 44s 4ms/step - loss: 0.0154 - accuracy: 0.2900 - val_loss: 0.0151 - val_accuracy: 0.1961\n",
      "Epoch 2/10\n",
      "11896/11896 [==============================] - 43s 4ms/step - loss: 0.0151 - accuracy: 0.2494 - val_loss: 0.0149 - val_accuracy: 0.1378\n",
      "Epoch 3/10\n",
      "11896/11896 [==============================] - 43s 4ms/step - loss: 0.0151 - accuracy: 0.2427 - val_loss: 0.0148 - val_accuracy: 0.4375\n",
      "Epoch 4/10\n",
      "11896/11896 [==============================] - 43s 4ms/step - loss: 0.0150 - accuracy: 0.2494 - val_loss: 0.0148 - val_accuracy: 0.2423\n",
      "Epoch 5/10\n",
      "11896/11896 [==============================] - 43s 4ms/step - loss: 0.0150 - accuracy: 0.2440 - val_loss: 0.0148 - val_accuracy: 0.1578\n",
      "Epoch 6/10\n",
      "11896/11896 [==============================] - 43s 4ms/step - loss: 0.0150 - accuracy: 0.2414 - val_loss: 0.0149 - val_accuracy: 0.2412\n",
      "Epoch 7/10\n",
      "11896/11896 [==============================] - 43s 4ms/step - loss: 0.0151 - accuracy: 0.2494 - val_loss: 0.0148 - val_accuracy: 0.2730\n",
      "Epoch 8/10\n",
      "11896/11896 [==============================] - 43s 4ms/step - loss: 0.0150 - accuracy: 0.2403 - val_loss: 0.0148 - val_accuracy: 0.3887\n",
      "Epoch 9/10\n",
      "11896/11896 [==============================] - 43s 4ms/step - loss: 0.0150 - accuracy: 0.2516 - val_loss: 0.0150 - val_accuracy: 0.1321\n",
      "Epoch 10/10\n",
      "11896/11896 [==============================] - 44s 4ms/step - loss: 0.0150 - accuracy: 0.2489 - val_loss: 0.0149 - val_accuracy: 0.1350\n",
      "3569/3569 [==============================] - 3s 940us/step\n"
     ]
    },
    {
     "name": "stderr",
     "output_type": "stream",
     "text": [
      "[I 2024-01-25 13:49:06,303] Trial 4 finished with value: 0.8705812692642212 and parameters: {'dropout_rate': 0.0358108036125967}. Best is trial 1 with value: 0.8712468147277832.\n"
     ]
    },
    {
     "name": "stdout",
     "output_type": "stream",
     "text": [
      "Epoch 1/10\n",
      "11896/11896 [==============================] - 43s 4ms/step - loss: 0.0155 - accuracy: 0.3551 - val_loss: 0.0148 - val_accuracy: 0.2488\n",
      "Epoch 2/10\n",
      "11896/11896 [==============================] - 43s 4ms/step - loss: 0.0151 - accuracy: 0.2719 - val_loss: 0.0149 - val_accuracy: 0.4638\n",
      "Epoch 3/10\n",
      "11896/11896 [==============================] - 43s 4ms/step - loss: 0.0151 - accuracy: 0.2820 - val_loss: 0.0148 - val_accuracy: 0.2852\n",
      "Epoch 4/10\n",
      "11896/11896 [==============================] - 43s 4ms/step - loss: 0.0150 - accuracy: 0.2847 - val_loss: 0.0148 - val_accuracy: 0.2975\n",
      "Epoch 5/10\n",
      "11896/11896 [==============================] - 43s 4ms/step - loss: 0.0151 - accuracy: 0.2791 - val_loss: 0.0148 - val_accuracy: 0.0949\n",
      "Epoch 6/10\n",
      "11896/11896 [==============================] - 43s 4ms/step - loss: 0.0150 - accuracy: 0.2709 - val_loss: 0.0148 - val_accuracy: 0.3448\n",
      "Epoch 7/10\n",
      "11896/11896 [==============================] - 43s 4ms/step - loss: 0.0150 - accuracy: 0.2849 - val_loss: 0.0148 - val_accuracy: 0.2371\n",
      "Epoch 8/10\n",
      "11896/11896 [==============================] - 42s 4ms/step - loss: 0.0150 - accuracy: 0.2633 - val_loss: 0.0148 - val_accuracy: 0.3180\n",
      "Epoch 9/10\n",
      "11896/11896 [==============================] - 43s 4ms/step - loss: 0.0150 - accuracy: 0.2885 - val_loss: 0.0148 - val_accuracy: 0.3485\n",
      "Epoch 10/10\n",
      "11891/11896 [============================>.] - ETA: 0s - loss: 0.0151 - accuracy: 0.2717"
     ]
    },
    {
     "name": "stderr",
     "output_type": "stream",
     "text": [
      "[I 2024-01-25 13:56:12,444] Trial 5 pruned. Trial was pruned at epoch 9.\n"
     ]
    },
    {
     "name": "stdout",
     "output_type": "stream",
     "text": [
      "Epoch 1/10\n",
      "11896/11896 [==============================] - 43s 4ms/step - loss: 0.0159 - accuracy: 0.3374 - val_loss: 0.0153 - val_accuracy: 0.4262\n",
      "Epoch 2/10\n",
      "11896/11896 [==============================] - 42s 4ms/step - loss: 0.0155 - accuracy: 0.3416 - val_loss: 0.0150 - val_accuracy: 0.2713\n",
      "Epoch 3/10\n",
      "11896/11896 [==============================] - 43s 4ms/step - loss: 0.0154 - accuracy: 0.3264 - val_loss: 0.0150 - val_accuracy: 0.2547\n",
      "Epoch 4/10\n",
      "11896/11896 [==============================] - 43s 4ms/step - loss: 0.0154 - accuracy: 0.3008 - val_loss: 0.0150 - val_accuracy: 0.4955\n",
      "Epoch 5/10\n",
      "11896/11896 [==============================] - 43s 4ms/step - loss: 0.0154 - accuracy: 0.3058 - val_loss: 0.0150 - val_accuracy: 0.3204\n",
      "Epoch 6/10\n",
      "11896/11896 [==============================] - 43s 4ms/step - loss: 0.0154 - accuracy: 0.3184 - val_loss: 0.0150 - val_accuracy: 0.3206\n",
      "Epoch 7/10\n",
      "11896/11896 [==============================] - 42s 4ms/step - loss: 0.0154 - accuracy: 0.3131 - val_loss: 0.0150 - val_accuracy: 0.2416\n",
      "Epoch 8/10\n",
      "11896/11896 [==============================] - 42s 4ms/step - loss: 0.0154 - accuracy: 0.3080 - val_loss: 0.0150 - val_accuracy: 0.4092\n",
      "Epoch 9/10\n",
      "11896/11896 [==============================] - 42s 4ms/step - loss: 0.0154 - accuracy: 0.3162 - val_loss: 0.0150 - val_accuracy: 0.2154\n",
      "Epoch 10/10\n",
      "11896/11896 [==============================] - 43s 4ms/step - loss: 0.0154 - accuracy: 0.3195 - val_loss: 0.0151 - val_accuracy: 0.1894\n",
      "3569/3569 [==============================] - 3s 874us/step\n"
     ]
    },
    {
     "name": "stderr",
     "output_type": "stream",
     "text": [
      "[I 2024-01-25 14:03:56,893] Trial 6 finished with value: 0.8667569160461426 and parameters: {'dropout_rate': 0.13619260289037566}. Best is trial 1 with value: 0.8712468147277832.\n"
     ]
    },
    {
     "name": "stdout",
     "output_type": "stream",
     "text": [
      "Epoch 1/10\n",
      "11896/11896 [==============================] - 44s 4ms/step - loss: 0.0178 - accuracy: 0.7039 - val_loss: 0.0175 - val_accuracy: 0.0039\n",
      "Epoch 2/10\n",
      "11896/11896 [==============================] - 43s 4ms/step - loss: 0.0175 - accuracy: 0.7411 - val_loss: 0.0175 - val_accuracy: 0.9528\n",
      "Epoch 3/10\n",
      "11896/11896 [==============================] - 43s 4ms/step - loss: 0.0175 - accuracy: 0.6902 - val_loss: 0.0175 - val_accuracy: 0.0039\n",
      "Epoch 4/10\n",
      "11896/11896 [==============================] - 43s 4ms/step - loss: 0.0175 - accuracy: 0.7339 - val_loss: 0.0175 - val_accuracy: 0.9528\n",
      "Epoch 5/10\n",
      "11896/11896 [==============================] - 43s 4ms/step - loss: 0.0175 - accuracy: 0.7422 - val_loss: 0.0175 - val_accuracy: 0.9528\n",
      "Epoch 6/10\n",
      "11896/11896 [==============================] - 43s 4ms/step - loss: 0.0175 - accuracy: 0.7535 - val_loss: 0.0175 - val_accuracy: 0.9528\n",
      "Epoch 7/10\n",
      "11896/11896 [==============================] - 43s 4ms/step - loss: 0.0175 - accuracy: 0.7936 - val_loss: 0.0175 - val_accuracy: 0.9528\n",
      "Epoch 8/10\n",
      "11896/11896 [==============================] - 43s 4ms/step - loss: 0.0175 - accuracy: 0.7634 - val_loss: 0.0175 - val_accuracy: 0.9528\n",
      "Epoch 9/10\n",
      "11896/11896 [==============================] - 43s 4ms/step - loss: 0.0175 - accuracy: 0.7674 - val_loss: 0.0175 - val_accuracy: 0.9528\n",
      "Epoch 10/10\n",
      "11896/11896 [==============================] - 43s 4ms/step - loss: 0.0175 - accuracy: 0.7301 - val_loss: 0.0175 - val_accuracy: 0.9528\n",
      "3569/3569 [==============================] - 3s 837us/step\n"
     ]
    },
    {
     "name": "stderr",
     "output_type": "stream",
     "text": [
      "[I 2024-01-25 14:11:42,672] Trial 7 finished with value: 0.8365473747253418 and parameters: {'dropout_rate': 0.3268862339600255}. Best is trial 1 with value: 0.8712468147277832.\n"
     ]
    },
    {
     "name": "stdout",
     "output_type": "stream",
     "text": [
      "Epoch 1/10\n",
      "11896/11896 [==============================] - 44s 4ms/step - loss: 0.0163 - accuracy: 0.3778 - val_loss: 0.0153 - val_accuracy: 0.3037\n",
      "Epoch 2/10\n",
      "11889/11896 [============================>.] - ETA: 0s - loss: 0.0158 - accuracy: 0.3821"
     ]
    },
    {
     "name": "stderr",
     "output_type": "stream",
     "text": [
      "[I 2024-01-25 14:13:09,754] Trial 8 pruned. Trial was pruned at epoch 1.\n"
     ]
    },
    {
     "name": "stdout",
     "output_type": "stream",
     "text": [
      "Epoch 1/10\n",
      "11896/11896 [==============================] - 43s 4ms/step - loss: 0.0162 - accuracy: 0.3893 - val_loss: 0.0150 - val_accuracy: 0.2804\n",
      "Epoch 2/10\n",
      "11896/11896 [==============================] - 43s 4ms/step - loss: 0.0157 - accuracy: 0.3979 - val_loss: 0.0151 - val_accuracy: 0.4187\n",
      "Epoch 3/10\n",
      "11896/11896 [==============================] - 43s 4ms/step - loss: 0.0157 - accuracy: 0.4110 - val_loss: 0.0151 - val_accuracy: 0.0073\n",
      "Epoch 4/10\n",
      "11896/11896 [==============================] - 43s 4ms/step - loss: 0.0157 - accuracy: 0.3856 - val_loss: 0.0152 - val_accuracy: 0.2918\n",
      "Epoch 5/10\n",
      "11896/11896 [==============================] - 43s 4ms/step - loss: 0.0157 - accuracy: 0.3484 - val_loss: 0.0152 - val_accuracy: 0.3562\n",
      "Epoch 6/10\n",
      "11896/11896 [==============================] - 43s 4ms/step - loss: 0.0157 - accuracy: 0.3631 - val_loss: 0.0151 - val_accuracy: 0.3739\n",
      "Epoch 7/10\n",
      "11896/11896 [==============================] - 42s 4ms/step - loss: 0.0157 - accuracy: 0.3560 - val_loss: 0.0152 - val_accuracy: 0.3236\n",
      "Epoch 8/10\n",
      "11896/11896 [==============================] - 43s 4ms/step - loss: 0.0157 - accuracy: 0.3420 - val_loss: 0.0152 - val_accuracy: 0.3097\n",
      "Epoch 9/10\n",
      "11896/11896 [==============================] - 42s 4ms/step - loss: 0.0157 - accuracy: 0.3575 - val_loss: 0.0152 - val_accuracy: 0.4557\n",
      "Epoch 10/10\n",
      "11896/11896 [==============================] - 43s 4ms/step - loss: 0.0157 - accuracy: 0.3545 - val_loss: 0.0152 - val_accuracy: 0.3502\n",
      "3569/3569 [==============================] - 3s 850us/step\n"
     ]
    },
    {
     "name": "stderr",
     "output_type": "stream",
     "text": [
      "[I 2024-01-25 14:20:56,380] Trial 9 finished with value: 0.8668144345283508 and parameters: {'dropout_rate': 0.2237321327000702}. Best is trial 1 with value: 0.8712468147277832.\n"
     ]
    },
    {
     "name": "stdout",
     "output_type": "stream",
     "text": [
      "Epoch 1/10\n",
      "11896/11896 [==============================] - 43s 4ms/step - loss: 0.0166 - accuracy: 0.4640 - val_loss: 0.0157 - val_accuracy: 0.2008\n",
      "Epoch 2/10\n",
      "11891/11896 [============================>.] - ETA: 0s - loss: 0.0164 - accuracy: 0.4537"
     ]
    },
    {
     "name": "stderr",
     "output_type": "stream",
     "text": [
      "[I 2024-01-25 14:22:22,210] Trial 10 pruned. Trial was pruned at epoch 1.\n"
     ]
    },
    {
     "name": "stdout",
     "output_type": "stream",
     "text": [
      "Epoch 1/10\n",
      "11896/11896 [==============================] - 43s 4ms/step - loss: 0.0153 - accuracy: 0.2708 - val_loss: 0.0148 - val_accuracy: 0.1026\n",
      "Epoch 2/10\n",
      "11895/11896 [============================>.] - ETA: 0s - loss: 0.0148 - accuracy: 0.2390"
     ]
    },
    {
     "name": "stderr",
     "output_type": "stream",
     "text": [
      "[I 2024-01-25 14:23:48,095] Trial 11 pruned. Trial was pruned at epoch 1.\n"
     ]
    },
    {
     "name": "stdout",
     "output_type": "stream",
     "text": [
      "Epoch 1/10\n",
      "11896/11896 [==============================] - 43s 4ms/step - loss: 0.0157 - accuracy: 0.3110 - val_loss: 0.0149 - val_accuracy: 0.3565\n",
      "Epoch 2/10\n",
      "11896/11896 [==============================] - 43s 4ms/step - loss: 0.0153 - accuracy: 0.3128 - val_loss: 0.0149 - val_accuracy: 0.3548\n",
      "Epoch 3/10\n",
      "11896/11896 [==============================] - 43s 4ms/step - loss: 0.0152 - accuracy: 0.2924 - val_loss: 0.0149 - val_accuracy: 0.2610\n",
      "Epoch 4/10\n",
      "11887/11896 [============================>.] - ETA: 0s - loss: 0.0152 - accuracy: 0.2926"
     ]
    },
    {
     "name": "stderr",
     "output_type": "stream",
     "text": [
      "[I 2024-01-25 14:26:39,769] Trial 12 pruned. Trial was pruned at epoch 3.\n"
     ]
    },
    {
     "name": "stdout",
     "output_type": "stream",
     "text": [
      "Epoch 1/10\n",
      "11896/11896 [==============================] - 43s 4ms/step - loss: 0.0157 - accuracy: 0.3332 - val_loss: 0.0148 - val_accuracy: 0.2737\n",
      "Epoch 2/10\n",
      "11895/11896 [============================>.] - ETA: 0s - loss: 0.0153 - accuracy: 0.2593"
     ]
    },
    {
     "name": "stderr",
     "output_type": "stream",
     "text": [
      "[I 2024-01-25 14:28:06,118] Trial 13 pruned. Trial was pruned at epoch 1.\n"
     ]
    },
    {
     "name": "stdout",
     "output_type": "stream",
     "text": [
      "Epoch 1/10\n",
      "11896/11896 [==============================] - 43s 4ms/step - loss: 0.0155 - accuracy: 0.3067 - val_loss: 0.0147 - val_accuracy: 0.3366\n",
      "Epoch 2/10\n",
      "11888/11896 [============================>.] - ETA: 0s - loss: 0.0149 - accuracy: 0.2571"
     ]
    },
    {
     "name": "stderr",
     "output_type": "stream",
     "text": [
      "[I 2024-01-25 14:29:32,053] Trial 14 pruned. Trial was pruned at epoch 1.\n"
     ]
    },
    {
     "name": "stdout",
     "output_type": "stream",
     "text": [
      "Epoch 1/10\n",
      "11896/11896 [==============================] - 43s 4ms/step - loss: 0.0156 - accuracy: 0.3196 - val_loss: 0.0148 - val_accuracy: 0.2288\n",
      "Epoch 2/10\n",
      "11896/11896 [==============================] - 43s 4ms/step - loss: 0.0153 - accuracy: 0.3203 - val_loss: 0.0149 - val_accuracy: 0.3025\n",
      "Epoch 3/10\n",
      "11896/11896 [==============================] - 43s 4ms/step - loss: 0.0153 - accuracy: 0.3279 - val_loss: 0.0149 - val_accuracy: 0.2258\n",
      "Epoch 4/10\n",
      "11888/11896 [============================>.] - ETA: 0s - loss: 0.0153 - accuracy: 0.3048"
     ]
    },
    {
     "name": "stderr",
     "output_type": "stream",
     "text": [
      "[I 2024-01-25 14:32:23,186] Trial 15 pruned. Trial was pruned at epoch 3.\n"
     ]
    },
    {
     "name": "stdout",
     "output_type": "stream",
     "text": [
      "Epoch 1/10\n",
      "11896/11896 [==============================] - 43s 4ms/step - loss: 0.0156 - accuracy: 0.3227 - val_loss: 0.0150 - val_accuracy: 0.1241\n",
      "Epoch 2/10\n",
      "11887/11896 [============================>.] - ETA: 0s - loss: 0.0152 - accuracy: 0.2921"
     ]
    },
    {
     "name": "stderr",
     "output_type": "stream",
     "text": [
      "[I 2024-01-25 14:33:48,270] Trial 16 pruned. Trial was pruned at epoch 1.\n"
     ]
    },
    {
     "name": "stdout",
     "output_type": "stream",
     "text": [
      "Epoch 1/10\n",
      "11896/11896 [==============================] - 43s 4ms/step - loss: 0.0158 - accuracy: 0.3302 - val_loss: 0.0149 - val_accuracy: 0.3340\n",
      "Epoch 2/10\n",
      "11882/11896 [============================>.] - ETA: 0s - loss: 0.0154 - accuracy: 0.2967"
     ]
    },
    {
     "name": "stderr",
     "output_type": "stream",
     "text": [
      "[I 2024-01-25 14:35:13,999] Trial 17 pruned. Trial was pruned at epoch 1.\n"
     ]
    },
    {
     "name": "stdout",
     "output_type": "stream",
     "text": [
      "Epoch 1/10\n",
      "11896/11896 [==============================] - 43s 4ms/step - loss: 0.0160 - accuracy: 0.3731 - val_loss: 0.0150 - val_accuracy: 0.0691\n",
      "Epoch 2/10\n",
      "11896/11896 [==============================] - 43s 4ms/step - loss: 0.0148 - accuracy: 0.2419 - val_loss: 0.0148 - val_accuracy: 0.1947\n",
      "Epoch 3/10\n",
      "11896/11896 [==============================] - 43s 4ms/step - loss: 0.0148 - accuracy: 0.2372 - val_loss: 0.0147 - val_accuracy: 0.2938\n",
      "Epoch 4/10\n",
      "11896/11896 [==============================] - 43s 4ms/step - loss: 0.0148 - accuracy: 0.2371 - val_loss: 0.0147 - val_accuracy: 0.1508\n",
      "Epoch 5/10\n",
      "11896/11896 [==============================] - 43s 4ms/step - loss: 0.0148 - accuracy: 0.2411 - val_loss: 0.0147 - val_accuracy: 0.3159\n",
      "Epoch 6/10\n",
      "11896/11896 [==============================] - 43s 4ms/step - loss: 0.0148 - accuracy: 0.2464 - val_loss: 0.0148 - val_accuracy: 0.1572\n",
      "Epoch 7/10\n",
      "11896/11896 [==============================] - 43s 4ms/step - loss: 0.0148 - accuracy: 0.2545 - val_loss: 0.0147 - val_accuracy: 0.2920\n",
      "Epoch 8/10\n",
      "11896/11896 [==============================] - 43s 4ms/step - loss: 0.0148 - accuracy: 0.2508 - val_loss: 0.0148 - val_accuracy: 0.3792\n",
      "Epoch 9/10\n",
      "11896/11896 [==============================] - 43s 4ms/step - loss: 0.0148 - accuracy: 0.2587 - val_loss: 0.0148 - val_accuracy: 0.1679\n",
      "Epoch 10/10\n",
      "11882/11896 [============================>.] - ETA: 0s - loss: 0.0148 - accuracy: 0.2498"
     ]
    },
    {
     "name": "stderr",
     "output_type": "stream",
     "text": [
      "[I 2024-01-25 14:42:21,477] Trial 18 pruned. Trial was pruned at epoch 9.\n"
     ]
    },
    {
     "name": "stdout",
     "output_type": "stream",
     "text": [
      "Epoch 1/10\n",
      "11896/11896 [==============================] - 43s 4ms/step - loss: 0.0156 - accuracy: 0.2830 - val_loss: 0.0149 - val_accuracy: 0.4300\n",
      "Epoch 2/10\n",
      "11893/11896 [============================>.] - ETA: 0s - loss: 0.0152 - accuracy: 0.2924"
     ]
    },
    {
     "name": "stderr",
     "output_type": "stream",
     "text": [
      "[I 2024-01-25 14:43:47,202] Trial 19 pruned. Trial was pruned at epoch 1.\n"
     ]
    },
    {
     "name": "stdout",
     "output_type": "stream",
     "text": [
      "Epoch 1/10\n",
      "11896/11896 [==============================] - 44s 4ms/step - loss: 0.0159 - accuracy: 0.3755 - val_loss: 0.0150 - val_accuracy: 0.2088\n",
      "Epoch 2/10\n",
      "11896/11896 [==============================] - 43s 4ms/step - loss: 0.0155 - accuracy: 0.3274 - val_loss: 0.0150 - val_accuracy: 0.4472\n",
      "Epoch 3/10\n",
      "11896/11896 [==============================] - 43s 4ms/step - loss: 0.0155 - accuracy: 0.3191 - val_loss: 0.0151 - val_accuracy: 0.2053\n",
      "Epoch 4/10\n",
      "11882/11896 [============================>.] - ETA: 0s - loss: 0.0155 - accuracy: 0.3314"
     ]
    },
    {
     "name": "stderr",
     "output_type": "stream",
     "text": [
      "[I 2024-01-25 14:46:41,268] Trial 20 pruned. Trial was pruned at epoch 3.\n"
     ]
    },
    {
     "name": "stdout",
     "output_type": "stream",
     "text": [
      "Epoch 1/10\n",
      "11896/11896 [==============================] - 44s 4ms/step - loss: 0.0159 - accuracy: 0.3985 - val_loss: 0.0151 - val_accuracy: 0.3309\n",
      "Epoch 2/10\n",
      "11896/11896 [==============================] - 43s 4ms/step - loss: 0.0155 - accuracy: 0.3565 - val_loss: 0.0150 - val_accuracy: 0.2770\n",
      "Epoch 3/10\n",
      "11896/11896 [==============================] - 43s 4ms/step - loss: 0.0155 - accuracy: 0.3277 - val_loss: 0.0150 - val_accuracy: 0.4308\n",
      "Epoch 4/10\n",
      "11883/11896 [============================>.] - ETA: 0s - loss: 0.0155 - accuracy: 0.3390"
     ]
    },
    {
     "name": "stderr",
     "output_type": "stream",
     "text": [
      "[I 2024-01-25 14:49:34,319] Trial 21 pruned. Trial was pruned at epoch 3.\n"
     ]
    },
    {
     "name": "stdout",
     "output_type": "stream",
     "text": [
      "Epoch 1/10\n",
      "11896/11896 [==============================] - 43s 4ms/step - loss: 0.0155 - accuracy: 0.2942 - val_loss: 0.0149 - val_accuracy: 0.1623\n",
      "Epoch 2/10\n",
      "11896/11896 [==============================] - 43s 4ms/step - loss: 0.0151 - accuracy: 0.2687 - val_loss: 0.0149 - val_accuracy: 0.1837\n",
      "Epoch 3/10\n",
      "11896/11896 [==============================] - 43s 4ms/step - loss: 0.0151 - accuracy: 0.2671 - val_loss: 0.0148 - val_accuracy: 0.1875\n",
      "Epoch 4/10\n",
      "11896/11896 [==============================] - 43s 4ms/step - loss: 0.0151 - accuracy: 0.2648 - val_loss: 0.0148 - val_accuracy: 0.2164\n",
      "Epoch 5/10\n",
      "11896/11896 [==============================] - 43s 4ms/step - loss: 0.0151 - accuracy: 0.2635 - val_loss: 0.0148 - val_accuracy: 0.3135\n",
      "Epoch 6/10\n",
      "11896/11896 [==============================] - 43s 4ms/step - loss: 0.0151 - accuracy: 0.2697 - val_loss: 0.0149 - val_accuracy: 0.2483\n",
      "Epoch 7/10\n",
      "11896/11896 [==============================] - 43s 4ms/step - loss: 0.0151 - accuracy: 0.2594 - val_loss: 0.0149 - val_accuracy: 0.2818\n",
      "Epoch 8/10\n",
      "11896/11896 [==============================] - 43s 4ms/step - loss: 0.0151 - accuracy: 0.2649 - val_loss: 0.0148 - val_accuracy: 0.2448\n",
      "Epoch 9/10\n",
      "11896/11896 [==============================] - 43s 4ms/step - loss: 0.0151 - accuracy: 0.2748 - val_loss: 0.0151 - val_accuracy: 0.3025\n",
      "Epoch 10/10\n",
      "11893/11896 [============================>.] - ETA: 0s - loss: 0.0151 - accuracy: 0.2625"
     ]
    },
    {
     "name": "stderr",
     "output_type": "stream",
     "text": [
      "[I 2024-01-25 14:56:44,849] Trial 22 pruned. Trial was pruned at epoch 9.\n"
     ]
    },
    {
     "name": "stdout",
     "output_type": "stream",
     "text": [
      "Epoch 1/10\n",
      "11896/11896 [==============================] - 44s 4ms/step - loss: 0.0155 - accuracy: 0.2976 - val_loss: 0.0149 - val_accuracy: 0.2485\n",
      "Epoch 2/10\n",
      "11890/11896 [============================>.] - ETA: 0s - loss: 0.0150 - accuracy: 0.2618"
     ]
    },
    {
     "name": "stderr",
     "output_type": "stream",
     "text": [
      "[I 2024-01-25 14:58:11,661] Trial 23 pruned. Trial was pruned at epoch 1.\n"
     ]
    },
    {
     "name": "stdout",
     "output_type": "stream",
     "text": [
      "Epoch 1/10\n",
      "11896/11896 [==============================] - 43s 4ms/step - loss: 0.0157 - accuracy: 0.3353 - val_loss: 0.0149 - val_accuracy: 0.2501\n",
      "Epoch 2/10\n",
      "11896/11896 [==============================] - 43s 4ms/step - loss: 0.0153 - accuracy: 0.3325 - val_loss: 0.0149 - val_accuracy: 0.2249\n",
      "Epoch 3/10\n",
      "11896/11896 [==============================] - 43s 4ms/step - loss: 0.0153 - accuracy: 0.3180 - val_loss: 0.0149 - val_accuracy: 0.3396\n",
      "Epoch 4/10\n",
      "11896/11896 [==============================] - ETA: 0s - loss: 0.0153 - accuracy: 0.3116"
     ]
    },
    {
     "name": "stderr",
     "output_type": "stream",
     "text": [
      "[I 2024-01-25 15:01:03,733] Trial 24 pruned. Trial was pruned at epoch 3.\n"
     ]
    },
    {
     "name": "stdout",
     "output_type": "stream",
     "text": [
      "Epoch 1/10\n",
      "11896/11896 [==============================] - 43s 4ms/step - loss: 0.0159 - accuracy: 0.3589 - val_loss: 0.0151 - val_accuracy: 0.3580\n",
      "Epoch 2/10\n",
      "11882/11896 [============================>.] - ETA: 0s - loss: 0.0155 - accuracy: 0.3092"
     ]
    },
    {
     "name": "stderr",
     "output_type": "stream",
     "text": [
      "[I 2024-01-25 15:02:30,260] Trial 25 pruned. Trial was pruned at epoch 1.\n"
     ]
    },
    {
     "name": "stdout",
     "output_type": "stream",
     "text": [
      "Epoch 1/10\n",
      "11896/11896 [==============================] - 44s 4ms/step - loss: 0.0156 - accuracy: 0.3406 - val_loss: 0.0149 - val_accuracy: 0.3078\n",
      "Epoch 2/10\n",
      "11896/11896 [==============================] - 43s 4ms/step - loss: 0.0152 - accuracy: 0.2915 - val_loss: 0.0149 - val_accuracy: 0.4115\n",
      "Epoch 3/10\n",
      "11896/11896 [==============================] - 43s 4ms/step - loss: 0.0152 - accuracy: 0.3100 - val_loss: 0.0148 - val_accuracy: 0.2903\n",
      "Epoch 4/10\n",
      "11889/11896 [============================>.] - ETA: 0s - loss: 0.0152 - accuracy: 0.3041"
     ]
    },
    {
     "name": "stderr",
     "output_type": "stream",
     "text": [
      "[I 2024-01-25 15:05:22,540] Trial 26 pruned. Trial was pruned at epoch 3.\n"
     ]
    },
    {
     "name": "stdout",
     "output_type": "stream",
     "text": [
      "Epoch 1/10\n",
      "11896/11896 [==============================] - 43s 4ms/step - loss: 0.0155 - accuracy: 0.3421 - val_loss: 0.0148 - val_accuracy: 0.2308\n",
      "Epoch 2/10\n",
      "11896/11896 [==============================] - 42s 4ms/step - loss: 0.0151 - accuracy: 0.2583 - val_loss: 0.0148 - val_accuracy: 0.2660\n",
      "Epoch 3/10\n",
      "11896/11896 [==============================] - 43s 4ms/step - loss: 0.0150 - accuracy: 0.2589 - val_loss: 0.0148 - val_accuracy: 0.2490\n",
      "Epoch 4/10\n",
      "11896/11896 [==============================] - 42s 4ms/step - loss: 0.0151 - accuracy: 0.2648 - val_loss: 0.0149 - val_accuracy: 0.2396\n",
      "Epoch 5/10\n",
      "11896/11896 [==============================] - 42s 4ms/step - loss: 0.0151 - accuracy: 0.2562 - val_loss: 0.0148 - val_accuracy: 0.3079\n",
      "Epoch 6/10\n",
      "11896/11896 [==============================] - 42s 4ms/step - loss: 0.0151 - accuracy: 0.2698 - val_loss: 0.0148 - val_accuracy: 0.1729\n",
      "Epoch 7/10\n",
      "11896/11896 [==============================] - 42s 4ms/step - loss: 0.0151 - accuracy: 0.2564 - val_loss: 0.0148 - val_accuracy: 0.2135\n",
      "Epoch 8/10\n",
      "11896/11896 [==============================] - 42s 4ms/step - loss: 0.0151 - accuracy: 0.2624 - val_loss: 0.0148 - val_accuracy: 0.0456\n",
      "Epoch 9/10\n",
      "11896/11896 [==============================] - 43s 4ms/step - loss: 0.0151 - accuracy: 0.2607 - val_loss: 0.0149 - val_accuracy: 0.3491\n",
      "Epoch 10/10\n",
      "11895/11896 [============================>.] - ETA: 0s - loss: 0.0151 - accuracy: 0.2608"
     ]
    },
    {
     "name": "stderr",
     "output_type": "stream",
     "text": [
      "[I 2024-01-25 15:12:27,662] Trial 27 pruned. Trial was pruned at epoch 9.\n"
     ]
    },
    {
     "name": "stdout",
     "output_type": "stream",
     "text": [
      "Epoch 1/10\n",
      "11896/11896 [==============================] - 43s 4ms/step - loss: 0.0158 - accuracy: 0.3644 - val_loss: 0.0149 - val_accuracy: 0.3838\n",
      "Epoch 2/10\n",
      "11888/11896 [============================>.] - ETA: 0s - loss: 0.0153 - accuracy: 0.3136"
     ]
    },
    {
     "name": "stderr",
     "output_type": "stream",
     "text": [
      "[I 2024-01-25 15:13:53,049] Trial 28 pruned. Trial was pruned at epoch 1.\n"
     ]
    },
    {
     "name": "stdout",
     "output_type": "stream",
     "text": [
      "Epoch 1/10\n",
      "11896/11896 [==============================] - 43s 4ms/step - loss: 0.0161 - accuracy: 0.3583 - val_loss: 0.0153 - val_accuracy: 0.2399\n",
      "Epoch 2/10\n",
      "11896/11896 [==============================] - 42s 4ms/step - loss: 0.0157 - accuracy: 0.3308 - val_loss: 0.0153 - val_accuracy: 0.1707\n",
      "Epoch 3/10\n",
      "11896/11896 [==============================] - 42s 4ms/step - loss: 0.0157 - accuracy: 0.3596 - val_loss: 0.0153 - val_accuracy: 0.3968\n",
      "Epoch 4/10\n",
      "11893/11896 [============================>.] - ETA: 0s - loss: 0.0157 - accuracy: 0.3642"
     ]
    },
    {
     "name": "stderr",
     "output_type": "stream",
     "text": [
      "[I 2024-01-25 15:16:43,102] Trial 29 pruned. Trial was pruned at epoch 3.\n"
     ]
    },
    {
     "name": "stdout",
     "output_type": "stream",
     "text": [
      "Epoch 1/10\n",
      "11896/11896 [==============================] - 43s 4ms/step - loss: 0.0178 - accuracy: 0.6775 - val_loss: 0.0175 - val_accuracy: 0.9528\n",
      "Epoch 2/10\n",
      "11896/11896 [==============================] - 43s 4ms/step - loss: 0.0175 - accuracy: 0.7733 - val_loss: 0.0175 - val_accuracy: 0.9528\n",
      "Epoch 3/10\n",
      "11896/11896 [==============================] - 43s 4ms/step - loss: 0.0175 - accuracy: 0.7497 - val_loss: 0.0175 - val_accuracy: 0.9528\n",
      "Epoch 4/10\n",
      "11896/11896 [==============================] - 43s 4ms/step - loss: 0.0175 - accuracy: 0.6946 - val_loss: 0.0175 - val_accuracy: 0.9528\n",
      "Epoch 5/10\n",
      "11896/11896 [==============================] - 43s 4ms/step - loss: 0.0159 - accuracy: 0.4021 - val_loss: 0.0151 - val_accuracy: 0.2036\n",
      "Epoch 6/10\n",
      "11896/11896 [==============================] - 43s 4ms/step - loss: 0.0155 - accuracy: 0.3150 - val_loss: 0.0151 - val_accuracy: 0.2913\n",
      "Epoch 7/10\n",
      "11896/11896 [==============================] - 43s 4ms/step - loss: 0.0155 - accuracy: 0.3222 - val_loss: 0.0150 - val_accuracy: 0.2338\n",
      "Epoch 8/10\n",
      "11896/11896 [==============================] - 44s 4ms/step - loss: 0.0155 - accuracy: 0.3006 - val_loss: 0.0150 - val_accuracy: 0.2541\n",
      "Epoch 9/10\n",
      "11896/11896 [==============================] - 43s 4ms/step - loss: 0.0155 - accuracy: 0.3033 - val_loss: 0.0150 - val_accuracy: 0.2191\n",
      "Epoch 10/10\n",
      "11882/11896 [============================>.] - ETA: 0s - loss: 0.0155 - accuracy: 0.3036"
     ]
    },
    {
     "name": "stderr",
     "output_type": "stream",
     "text": [
      "[I 2024-01-25 15:23:52,002] Trial 30 pruned. Trial was pruned at epoch 9.\n"
     ]
    },
    {
     "name": "stdout",
     "output_type": "stream",
     "text": [
      "Epoch 1/10\n",
      "11896/11896 [==============================] - 43s 4ms/step - loss: 0.0162 - accuracy: 0.3967 - val_loss: 0.0151 - val_accuracy: 0.3868\n",
      "Epoch 2/10\n",
      "11896/11896 [==============================] - 43s 4ms/step - loss: 0.0157 - accuracy: 0.3394 - val_loss: 0.0151 - val_accuracy: 0.1817\n",
      "Epoch 3/10\n",
      "11896/11896 [==============================] - 43s 4ms/step - loss: 0.0157 - accuracy: 0.3431 - val_loss: 0.0152 - val_accuracy: 0.3387\n",
      "Epoch 4/10\n",
      "11887/11896 [============================>.] - ETA: 0s - loss: 0.0157 - accuracy: 0.3398"
     ]
    },
    {
     "name": "stderr",
     "output_type": "stream",
     "text": [
      "[I 2024-01-25 15:26:43,002] Trial 31 pruned. Trial was pruned at epoch 3.\n"
     ]
    },
    {
     "name": "stdout",
     "output_type": "stream",
     "text": [
      "Epoch 1/10\n",
      "11896/11896 [==============================] - 43s 4ms/step - loss: 0.0161 - accuracy: 0.3527 - val_loss: 0.0153 - val_accuracy: 0.2249\n",
      "Epoch 2/10\n",
      "11896/11896 [==============================] - 42s 4ms/step - loss: 0.0158 - accuracy: 0.3602 - val_loss: 0.0152 - val_accuracy: 0.2907\n",
      "Epoch 3/10\n",
      "11896/11896 [==============================] - 42s 4ms/step - loss: 0.0158 - accuracy: 0.3641 - val_loss: 0.0152 - val_accuracy: 0.3064\n",
      "Epoch 4/10\n",
      "11896/11896 [==============================] - 42s 4ms/step - loss: 0.0158 - accuracy: 0.3541 - val_loss: 0.0152 - val_accuracy: 0.2788\n",
      "Epoch 5/10\n",
      "11896/11896 [==============================] - 43s 4ms/step - loss: 0.0158 - accuracy: 0.3547 - val_loss: 0.0152 - val_accuracy: 0.3774\n",
      "Epoch 6/10\n",
      "11896/11896 [==============================] - 43s 4ms/step - loss: 0.0158 - accuracy: 0.3520 - val_loss: 0.0152 - val_accuracy: 0.3567\n",
      "Epoch 7/10\n",
      "11896/11896 [==============================] - 43s 4ms/step - loss: 0.0158 - accuracy: 0.3634 - val_loss: 0.0152 - val_accuracy: 0.4019\n",
      "Epoch 8/10\n",
      "11896/11896 [==============================] - 43s 4ms/step - loss: 0.0158 - accuracy: 0.3666 - val_loss: 0.0152 - val_accuracy: 0.2027\n",
      "Epoch 9/10\n",
      "11896/11896 [==============================] - 43s 4ms/step - loss: 0.0158 - accuracy: 0.3530 - val_loss: 0.0152 - val_accuracy: 0.3340\n",
      "Epoch 10/10\n",
      "11896/11896 [==============================] - 43s 4ms/step - loss: 0.0158 - accuracy: 0.3608 - val_loss: 0.0152 - val_accuracy: 0.3675\n",
      "3569/3569 [==============================] - 3s 908us/step\n"
     ]
    },
    {
     "name": "stderr",
     "output_type": "stream",
     "text": [
      "[I 2024-01-25 15:34:28,003] Trial 32 finished with value: 0.8664379119873047 and parameters: {'dropout_rate': 0.24804388896781754}. Best is trial 1 with value: 0.8712468147277832.\n"
     ]
    },
    {
     "name": "stdout",
     "output_type": "stream",
     "text": [
      "Epoch 1/10\n",
      "11896/11896 [==============================] - 45s 4ms/step - loss: 0.0158 - accuracy: 0.3507 - val_loss: 0.0149 - val_accuracy: 0.0999\n",
      "Epoch 2/10\n",
      "11896/11896 [==============================] - 43s 4ms/step - loss: 0.0153 - accuracy: 0.2975 - val_loss: 0.0149 - val_accuracy: 0.2112\n",
      "Epoch 3/10\n",
      "11896/11896 [==============================] - 43s 4ms/step - loss: 0.0153 - accuracy: 0.2881 - val_loss: 0.0149 - val_accuracy: 0.3392\n",
      "Epoch 4/10\n",
      "11883/11896 [============================>.] - ETA: 0s - loss: 0.0153 - accuracy: 0.3019"
     ]
    },
    {
     "name": "stderr",
     "output_type": "stream",
     "text": [
      "[I 2024-01-25 15:37:21,927] Trial 33 pruned. Trial was pruned at epoch 3.\n"
     ]
    },
    {
     "name": "stdout",
     "output_type": "stream",
     "text": [
      "Epoch 1/10\n",
      "11896/11896 [==============================] - 44s 4ms/step - loss: 0.0154 - accuracy: 0.2972 - val_loss: 0.0148 - val_accuracy: 0.3891\n",
      "Epoch 2/10\n",
      "11896/11896 [==============================] - 43s 4ms/step - loss: 0.0150 - accuracy: 0.2575 - val_loss: 0.0148 - val_accuracy: 0.3984\n",
      "Epoch 3/10\n",
      "11896/11896 [==============================] - 43s 4ms/step - loss: 0.0150 - accuracy: 0.2495 - val_loss: 0.0148 - val_accuracy: 0.2440\n",
      "Epoch 4/10\n",
      "11896/11896 [==============================] - 43s 4ms/step - loss: 0.0150 - accuracy: 0.2601 - val_loss: 0.0147 - val_accuracy: 0.2041\n",
      "Epoch 5/10\n",
      "11896/11896 [==============================] - 43s 4ms/step - loss: 0.0150 - accuracy: 0.2665 - val_loss: 0.0148 - val_accuracy: 0.2495\n",
      "Epoch 6/10\n",
      "11896/11896 [==============================] - 43s 4ms/step - loss: 0.0150 - accuracy: 0.2749 - val_loss: 0.0148 - val_accuracy: 0.0846\n",
      "Epoch 7/10\n",
      "11896/11896 [==============================] - 43s 4ms/step - loss: 0.0150 - accuracy: 0.2653 - val_loss: 0.0148 - val_accuracy: 0.3662\n",
      "Epoch 8/10\n",
      "11896/11896 [==============================] - 43s 4ms/step - loss: 0.0150 - accuracy: 0.2672 - val_loss: 0.0147 - val_accuracy: 0.2369\n",
      "Epoch 9/10\n",
      "11896/11896 [==============================] - 43s 4ms/step - loss: 0.0150 - accuracy: 0.2727 - val_loss: 0.0149 - val_accuracy: 0.4069\n",
      "Epoch 10/10\n",
      "11885/11896 [============================>.] - ETA: 0s - loss: 0.0150 - accuracy: 0.2747"
     ]
    },
    {
     "name": "stderr",
     "output_type": "stream",
     "text": [
      "[I 2024-01-25 15:44:34,058] Trial 34 pruned. Trial was pruned at epoch 9.\n"
     ]
    },
    {
     "name": "stdout",
     "output_type": "stream",
     "text": [
      "Epoch 1/10\n",
      "11896/11896 [==============================] - 44s 4ms/step - loss: 0.0155 - accuracy: 0.2836 - val_loss: 0.0149 - val_accuracy: 0.2156\n",
      "Epoch 2/10\n",
      "11889/11896 [============================>.] - ETA: 0s - loss: 0.0151 - accuracy: 0.2628"
     ]
    },
    {
     "name": "stderr",
     "output_type": "stream",
     "text": [
      "[I 2024-01-25 15:46:02,215] Trial 35 pruned. Trial was pruned at epoch 1.\n"
     ]
    },
    {
     "name": "stdout",
     "output_type": "stream",
     "text": [
      "Epoch 1/10\n",
      "11896/11896 [==============================] - 43s 4ms/step - loss: 0.0162 - accuracy: 0.3649 - val_loss: 0.0153 - val_accuracy: 0.2775\n",
      "Epoch 2/10\n",
      "11896/11896 [==============================] - 43s 4ms/step - loss: 0.0158 - accuracy: 0.3588 - val_loss: 0.0153 - val_accuracy: 0.3383\n",
      "Epoch 3/10\n",
      "11896/11896 [==============================] - 42s 4ms/step - loss: 0.0158 - accuracy: 0.3575 - val_loss: 0.0154 - val_accuracy: 0.3200\n",
      "Epoch 4/10\n",
      "11896/11896 [==============================] - 42s 4ms/step - loss: 0.0159 - accuracy: 0.3589 - val_loss: 0.0154 - val_accuracy: 0.2890\n",
      "Epoch 5/10\n",
      "11896/11896 [==============================] - 42s 3ms/step - loss: 0.0159 - accuracy: 0.3627 - val_loss: 0.0154 - val_accuracy: 0.3102\n",
      "Epoch 6/10\n",
      "11896/11896 [==============================] - 42s 4ms/step - loss: 0.0159 - accuracy: 0.3686 - val_loss: 0.0154 - val_accuracy: 0.1387\n",
      "Epoch 7/10\n",
      "11896/11896 [==============================] - 43s 4ms/step - loss: 0.0159 - accuracy: 0.3667 - val_loss: 0.0154 - val_accuracy: 0.2658\n",
      "Epoch 8/10\n",
      "11896/11896 [==============================] - 43s 4ms/step - loss: 0.0159 - accuracy: 0.3667 - val_loss: 0.0155 - val_accuracy: 0.3826\n",
      "Epoch 9/10\n",
      "11896/11896 [==============================] - 44s 4ms/step - loss: 0.0159 - accuracy: 0.3690 - val_loss: 0.0154 - val_accuracy: 0.3038\n",
      "Epoch 10/10\n",
      "11896/11896 [==============================] - 42s 4ms/step - loss: 0.0159 - accuracy: 0.3646 - val_loss: 0.0155 - val_accuracy: 0.3221\n",
      "3569/3569 [==============================] - 3s 843us/step\n"
     ]
    },
    {
     "name": "stderr",
     "output_type": "stream",
     "text": [
      "[I 2024-01-25 15:53:47,813] Trial 36 finished with value: 0.8602816462516785 and parameters: {'dropout_rate': 0.2518720442820811}. Best is trial 1 with value: 0.8712468147277832.\n"
     ]
    },
    {
     "name": "stdout",
     "output_type": "stream",
     "text": [
      "Epoch 1/10\n",
      "11896/11896 [==============================] - 42s 4ms/step - loss: 0.0163 - accuracy: 0.4035 - val_loss: 0.0153 - val_accuracy: 0.3867\n",
      "Epoch 2/10\n",
      "11896/11896 [==============================] - 43s 4ms/step - loss: 0.0159 - accuracy: 0.3741 - val_loss: 0.0153 - val_accuracy: 0.3416\n",
      "Epoch 3/10\n",
      "11896/11896 [==============================] - 43s 4ms/step - loss: 0.0159 - accuracy: 0.3751 - val_loss: 0.0153 - val_accuracy: 0.2115\n",
      "Epoch 4/10\n",
      "11885/11896 [============================>.] - ETA: 0s - loss: 0.0159 - accuracy: 0.3709"
     ]
    },
    {
     "name": "stderr",
     "output_type": "stream",
     "text": [
      "[I 2024-01-25 15:56:38,860] Trial 37 pruned. Trial was pruned at epoch 3.\n"
     ]
    },
    {
     "name": "stdout",
     "output_type": "stream",
     "text": [
      "Epoch 1/10\n",
      "11896/11896 [==============================] - 43s 4ms/step - loss: 0.0171 - accuracy: 0.5929 - val_loss: 0.0151 - val_accuracy: 0.1251\n",
      "Epoch 2/10\n",
      "11892/11896 [============================>.] - ETA: 0s - loss: 0.0157 - accuracy: 0.3716"
     ]
    },
    {
     "name": "stderr",
     "output_type": "stream",
     "text": [
      "[I 2024-01-25 15:58:05,243] Trial 38 pruned. Trial was pruned at epoch 1.\n"
     ]
    },
    {
     "name": "stdout",
     "output_type": "stream",
     "text": [
      "Epoch 1/10\n",
      "11896/11896 [==============================] - 43s 4ms/step - loss: 0.0156 - accuracy: 0.3378 - val_loss: 0.0149 - val_accuracy: 0.2594\n",
      "Epoch 2/10\n",
      "11896/11896 [==============================] - 43s 4ms/step - loss: 0.0152 - accuracy: 0.2877 - val_loss: 0.0148 - val_accuracy: 0.3171\n",
      "Epoch 3/10\n",
      "11896/11896 [==============================] - 42s 4ms/step - loss: 0.0152 - accuracy: 0.3101 - val_loss: 0.0148 - val_accuracy: 0.2490\n",
      "Epoch 4/10\n",
      "11887/11896 [============================>.] - ETA: 0s - loss: 0.0152 - accuracy: 0.3151"
     ]
    },
    {
     "name": "stderr",
     "output_type": "stream",
     "text": [
      "[I 2024-01-25 16:00:56,891] Trial 39 pruned. Trial was pruned at epoch 3.\n"
     ]
    },
    {
     "name": "stdout",
     "output_type": "stream",
     "text": [
      "Epoch 1/10\n",
      "11896/11896 [==============================] - 43s 4ms/step - loss: 0.0153 - accuracy: 0.2733 - val_loss: 0.0147 - val_accuracy: 0.2810\n",
      "Epoch 2/10\n",
      "11888/11896 [============================>.] - ETA: 0s - loss: 0.0149 - accuracy: 0.2366"
     ]
    },
    {
     "name": "stderr",
     "output_type": "stream",
     "text": [
      "[I 2024-01-25 16:02:23,218] Trial 40 pruned. Trial was pruned at epoch 1.\n"
     ]
    },
    {
     "name": "stdout",
     "output_type": "stream",
     "text": [
      "Epoch 1/10\n",
      "11896/11896 [==============================] - 43s 4ms/step - loss: 0.0160 - accuracy: 0.3561 - val_loss: 0.0150 - val_accuracy: 0.3318\n",
      "Epoch 2/10\n",
      "11896/11896 [==============================] - 43s 4ms/step - loss: 0.0156 - accuracy: 0.3171 - val_loss: 0.0150 - val_accuracy: 0.4361\n",
      "Epoch 3/10\n",
      "11896/11896 [==============================] - 43s 4ms/step - loss: 0.0155 - accuracy: 0.3389 - val_loss: 0.0150 - val_accuracy: 0.3261\n",
      "Epoch 4/10\n",
      "11896/11896 [==============================] - 43s 4ms/step - loss: 0.0155 - accuracy: 0.3330 - val_loss: 0.0150 - val_accuracy: 0.2543\n",
      "Epoch 5/10\n",
      "11896/11896 [==============================] - 43s 4ms/step - loss: 0.0155 - accuracy: 0.3229 - val_loss: 0.0150 - val_accuracy: 0.2913\n",
      "Epoch 6/10\n",
      "11896/11896 [==============================] - 43s 4ms/step - loss: 0.0155 - accuracy: 0.3446 - val_loss: 0.0149 - val_accuracy: 0.2671\n",
      "Epoch 7/10\n",
      "11896/11896 [==============================] - 43s 4ms/step - loss: 0.0155 - accuracy: 0.3314 - val_loss: 0.0150 - val_accuracy: 0.1869\n",
      "Epoch 8/10\n",
      "11896/11896 [==============================] - 43s 4ms/step - loss: 0.0155 - accuracy: 0.3485 - val_loss: 0.0150 - val_accuracy: 0.1832\n",
      "Epoch 9/10\n",
      "11896/11896 [==============================] - 43s 4ms/step - loss: 0.0155 - accuracy: 0.3343 - val_loss: 0.0150 - val_accuracy: 0.4291\n",
      "Epoch 10/10\n",
      "11884/11896 [============================>.] - ETA: 0s - loss: 0.0155 - accuracy: 0.3494"
     ]
    },
    {
     "name": "stderr",
     "output_type": "stream",
     "text": [
      "[I 2024-01-25 16:09:31,237] Trial 41 pruned. Trial was pruned at epoch 9.\n"
     ]
    },
    {
     "name": "stdout",
     "output_type": "stream",
     "text": [
      "Epoch 1/10\n",
      "11896/11896 [==============================] - 43s 4ms/step - loss: 0.0158 - accuracy: 0.3816 - val_loss: 0.0151 - val_accuracy: 0.1839\n",
      "Epoch 2/10\n",
      "11896/11896 [==============================] - 42s 4ms/step - loss: 0.0155 - accuracy: 0.3497 - val_loss: 0.0150 - val_accuracy: 0.3707\n",
      "Epoch 3/10\n",
      "11896/11896 [==============================] - 42s 4ms/step - loss: 0.0155 - accuracy: 0.3365 - val_loss: 0.0150 - val_accuracy: 0.2308\n",
      "Epoch 4/10\n",
      "11896/11896 [==============================] - 42s 4ms/step - loss: 0.0154 - accuracy: 0.3244 - val_loss: 0.0150 - val_accuracy: 0.3376\n",
      "Epoch 5/10\n",
      "11896/11896 [==============================] - 43s 4ms/step - loss: 0.0154 - accuracy: 0.3235 - val_loss: 0.0150 - val_accuracy: 0.2431\n",
      "Epoch 6/10\n",
      "11896/11896 [==============================] - 42s 4ms/step - loss: 0.0154 - accuracy: 0.3226 - val_loss: 0.0150 - val_accuracy: 0.3681\n",
      "Epoch 7/10\n",
      "11896/11896 [==============================] - 43s 4ms/step - loss: 0.0154 - accuracy: 0.3238 - val_loss: 0.0150 - val_accuracy: 0.2562\n",
      "Epoch 8/10\n",
      "11896/11896 [==============================] - 43s 4ms/step - loss: 0.0154 - accuracy: 0.3241 - val_loss: 0.0151 - val_accuracy: 0.3786\n",
      "Epoch 9/10\n",
      "11896/11896 [==============================] - 42s 4ms/step - loss: 0.0154 - accuracy: 0.3205 - val_loss: 0.0150 - val_accuracy: 0.2955\n",
      "Epoch 10/10\n",
      "11896/11896 [==============================] - ETA: 0s - loss: 0.0154 - accuracy: 0.3122"
     ]
    },
    {
     "name": "stderr",
     "output_type": "stream",
     "text": [
      "[I 2024-01-25 16:16:37,349] Trial 42 pruned. Trial was pruned at epoch 9.\n"
     ]
    },
    {
     "name": "stdout",
     "output_type": "stream",
     "text": [
      "Epoch 1/10\n",
      "11896/11896 [==============================] - 44s 4ms/step - loss: 0.0158 - accuracy: 0.3735 - val_loss: 0.0151 - val_accuracy: 0.2045\n",
      "Epoch 2/10\n",
      "11896/11896 [==============================] - 43s 4ms/step - loss: 0.0154 - accuracy: 0.3122 - val_loss: 0.0150 - val_accuracy: 0.2935\n",
      "Epoch 3/10\n",
      "11896/11896 [==============================] - 42s 4ms/step - loss: 0.0154 - accuracy: 0.3121 - val_loss: 0.0150 - val_accuracy: 0.2778\n",
      "Epoch 4/10\n",
      "11893/11896 [============================>.] - ETA: 0s - loss: 0.0154 - accuracy: 0.3072"
     ]
    },
    {
     "name": "stderr",
     "output_type": "stream",
     "text": [
      "[I 2024-01-25 16:19:28,825] Trial 43 pruned. Trial was pruned at epoch 3.\n"
     ]
    },
    {
     "name": "stdout",
     "output_type": "stream",
     "text": [
      "Epoch 1/10\n",
      "11896/11896 [==============================] - 43s 4ms/step - loss: 0.0157 - accuracy: 0.3199 - val_loss: 0.0150 - val_accuracy: 0.4171\n",
      "Epoch 2/10\n",
      "11896/11896 [==============================] - 42s 4ms/step - loss: 0.0153 - accuracy: 0.2994 - val_loss: 0.0150 - val_accuracy: 0.2490\n",
      "Epoch 3/10\n",
      "11896/11896 [==============================] - 43s 4ms/step - loss: 0.0153 - accuracy: 0.2866 - val_loss: 0.0150 - val_accuracy: 0.2632\n",
      "Epoch 4/10\n",
      "11885/11896 [============================>.] - ETA: 0s - loss: 0.0153 - accuracy: 0.2904"
     ]
    },
    {
     "name": "stderr",
     "output_type": "stream",
     "text": [
      "[I 2024-01-25 16:22:19,616] Trial 44 pruned. Trial was pruned at epoch 3.\n"
     ]
    },
    {
     "name": "stdout",
     "output_type": "stream",
     "text": [
      "Epoch 1/10\n",
      "11896/11896 [==============================] - 43s 4ms/step - loss: 0.0156 - accuracy: 0.3263 - val_loss: 0.0148 - val_accuracy: 0.3238\n",
      "Epoch 2/10\n",
      "11883/11896 [============================>.] - ETA: 0s - loss: 0.0152 - accuracy: 0.2971"
     ]
    },
    {
     "name": "stderr",
     "output_type": "stream",
     "text": [
      "[I 2024-01-25 16:23:45,811] Trial 45 pruned. Trial was pruned at epoch 1.\n"
     ]
    },
    {
     "name": "stdout",
     "output_type": "stream",
     "text": [
      "Epoch 1/10\n",
      "11896/11896 [==============================] - 44s 4ms/step - loss: 0.0155 - accuracy: 0.3232 - val_loss: 0.0149 - val_accuracy: 0.0799\n",
      "Epoch 2/10\n",
      "11896/11896 [==============================] - 43s 4ms/step - loss: 0.0150 - accuracy: 0.2460 - val_loss: 0.0148 - val_accuracy: 0.2600\n",
      "Epoch 3/10\n",
      "11896/11896 [==============================] - 43s 4ms/step - loss: 0.0150 - accuracy: 0.2502 - val_loss: 0.0147 - val_accuracy: 0.2000\n",
      "Epoch 4/10\n",
      "11892/11896 [============================>.] - ETA: 0s - loss: 0.0150 - accuracy: 0.2564"
     ]
    },
    {
     "name": "stderr",
     "output_type": "stream",
     "text": [
      "[I 2024-01-25 16:26:38,823] Trial 46 pruned. Trial was pruned at epoch 3.\n"
     ]
    },
    {
     "name": "stdout",
     "output_type": "stream",
     "text": [
      "Epoch 1/10\n",
      "11896/11896 [==============================] - 43s 4ms/step - loss: 0.0156 - accuracy: 0.3439 - val_loss: 0.0149 - val_accuracy: 0.0323\n",
      "Epoch 2/10\n",
      "11886/11896 [============================>.] - ETA: 0s - loss: 0.0153 - accuracy: 0.2971"
     ]
    },
    {
     "name": "stderr",
     "output_type": "stream",
     "text": [
      "[I 2024-01-25 16:28:04,769] Trial 47 pruned. Trial was pruned at epoch 1.\n"
     ]
    },
    {
     "name": "stdout",
     "output_type": "stream",
     "text": [
      "Epoch 1/10\n",
      "11896/11896 [==============================] - 44s 4ms/step - loss: 0.0160 - accuracy: 0.3482 - val_loss: 0.0152 - val_accuracy: 0.2114\n",
      "Epoch 2/10\n",
      "11896/11896 [==============================] - 43s 4ms/step - loss: 0.0157 - accuracy: 0.3529 - val_loss: 0.0152 - val_accuracy: 0.2025\n",
      "Epoch 3/10\n",
      "11896/11896 [==============================] - 43s 4ms/step - loss: 0.0157 - accuracy: 0.3536 - val_loss: 0.0153 - val_accuracy: 0.4819\n",
      "Epoch 4/10\n",
      "11896/11896 [==============================] - 43s 4ms/step - loss: 0.0158 - accuracy: 0.3537 - val_loss: 0.0152 - val_accuracy: 0.3160\n",
      "Epoch 5/10\n",
      "11896/11896 [==============================] - 43s 4ms/step - loss: 0.0158 - accuracy: 0.3501 - val_loss: 0.0152 - val_accuracy: 0.3397\n",
      "Epoch 6/10\n",
      "11896/11896 [==============================] - 43s 4ms/step - loss: 0.0158 - accuracy: 0.3615 - val_loss: 0.0152 - val_accuracy: 0.2647\n",
      "Epoch 7/10\n",
      "11896/11896 [==============================] - 43s 4ms/step - loss: 0.0158 - accuracy: 0.3571 - val_loss: 0.0152 - val_accuracy: 0.3858\n",
      "Epoch 8/10\n",
      "11896/11896 [==============================] - 43s 4ms/step - loss: 0.0158 - accuracy: 0.3576 - val_loss: 0.0153 - val_accuracy: 0.2426\n",
      "Epoch 9/10\n",
      "11896/11896 [==============================] - 43s 4ms/step - loss: 0.0158 - accuracy: 0.3611 - val_loss: 0.0154 - val_accuracy: 0.3455\n",
      "Epoch 10/10\n",
      "11896/11896 [==============================] - 43s 4ms/step - loss: 0.0158 - accuracy: 0.3610 - val_loss: 0.0154 - val_accuracy: 0.4165\n",
      "3569/3569 [==============================] - 3s 867us/step\n"
     ]
    },
    {
     "name": "stderr",
     "output_type": "stream",
     "text": [
      "[I 2024-01-25 16:35:52,390] Trial 48 finished with value: 0.8651618361473083 and parameters: {'dropout_rate': 0.22991619589038942}. Best is trial 1 with value: 0.8712468147277832.\n"
     ]
    },
    {
     "name": "stdout",
     "output_type": "stream",
     "text": [
      "Epoch 1/10\n",
      "11896/11896 [==============================] - 45s 4ms/step - loss: 0.0159 - accuracy: 0.3596 - val_loss: 0.0150 - val_accuracy: 0.3330\n",
      "Epoch 2/10\n",
      "11896/11896 [==============================] - 43s 4ms/step - loss: 0.0156 - accuracy: 0.3505 - val_loss: 0.0150 - val_accuracy: 0.2250\n",
      "Epoch 3/10\n",
      "11896/11896 [==============================] - 43s 4ms/step - loss: 0.0156 - accuracy: 0.3632 - val_loss: 0.0149 - val_accuracy: 0.1752\n",
      "Epoch 4/10\n",
      "11885/11896 [============================>.] - ETA: 0s - loss: 0.0156 - accuracy: 0.3473"
     ]
    },
    {
     "name": "stderr",
     "output_type": "stream",
     "text": [
      "[I 2024-01-25 16:38:46,565] Trial 49 pruned. Trial was pruned at epoch 3.\n"
     ]
    }
   ],
   "source": [
    "study = optuna.create_study(direction=\"maximize\", sampler=optuna.samplers.TPESampler(), pruner=optuna.pruners.HyperbandPruner())\n",
    "study.optimize(objective1, n_trials=50)\n",
    "pruned_trials = study.get_trials(deepcopy=False, states=[TrialState.PRUNED])\n",
    "complete_trials = study.get_trials(deepcopy=False, states=[TrialState.COMPLETE])"
   ]
  },
  {
   "cell_type": "code",
   "execution_count": 46,
   "metadata": {},
   "outputs": [
    {
     "name": "stdout",
     "output_type": "stream",
     "text": [
      "\n",
      "Study statistics: \n",
      "  Number of finished trials:  50\n",
      "  Number of pruned trials:  39\n",
      "  Number of complete trials:  11\n",
      "Best trial:\n",
      "  Value:  0.8712468147277832\n",
      "  Params: \n",
      "    dropout_rate: 0.035528495568592444\n",
      "\n",
      "Overall Results (ordered by accuracy):\n",
      "     number     value  params_dropout_rate  system_attrs_completed_rung_0  \\\n",
      "7        7  0.836547             0.326886                       0.017471   \n",
      "3        3  0.853861             0.380199                       0.015589   \n",
      "36      36  0.860282             0.251872                       0.015378   \n",
      "2        2  0.861677             0.344770                       0.015423   \n",
      "48      48  0.865162             0.229916                       0.015204   \n",
      "32      32  0.866438             0.248044                       0.015210   \n",
      "6        6  0.866757             0.136193                       0.015013   \n",
      "9        9  0.866814             0.223732                       0.015153   \n",
      "0        0  0.867919             0.177190                            NaN   \n",
      "4        4  0.870581             0.035811                       0.014897   \n",
      "1        1  0.871247             0.035528                       0.014803   \n",
      "\n",
      "    system_attrs_completed_rung_1  system_attrs_completed_rung_2  \n",
      "7                        0.017470                       0.017473  \n",
      "3                             NaN                            NaN  \n",
      "36                       0.015493                            NaN  \n",
      "2                             NaN                            NaN  \n",
      "48                       0.015351                            NaN  \n",
      "32                       0.015235                            NaN  \n",
      "6                        0.015027                       0.015074  \n",
      "9                        0.015184                            NaN  \n",
      "0                             NaN                            NaN  \n",
      "4                        0.014833                       0.014859  \n",
      "1                        0.014853                            NaN  \n",
      "\n",
      "Most important hyperparameters:\n",
      "  dropout_rate:   100.00%\n"
     ]
    }
   ],
   "source": [
    "print(\"\\nStudy statistics: \")\n",
    "print(\"  Number of finished trials: \", len(study.trials))\n",
    "print(\"  Number of pruned trials: \", len(pruned_trials))\n",
    "print(\"  Number of complete trials: \", len(complete_trials))\n",
    "\n",
    "trial = study.best_trial\n",
    "print(\"Best trial:\")\n",
    "print(\"  Value: \", trial.value)\n",
    "print(\"  Params: \")\n",
    "for key, value in trial.params.items():\n",
    "    print(\"    {}: {}\".format(key, value))\n",
    "\n",
    "# Save results to csv file\n",
    "df = study.trials_dataframe().drop(['datetime_start', 'datetime_complete', 'duration'], axis=1)  # Exclude columns\n",
    "df = df.loc[df['state'] == 'COMPLETE']        # Keep only results that did not prune\n",
    "df = df.drop('state', axis=1)                 # Exclude state column\n",
    "df = df.sort_values('value')                  # Sort based on accuracy\n",
    "df.to_csv('optuna_results.csv', index=False)  # Save to csv file\n",
    "\n",
    "# Display results in a dataframe\n",
    "print(\"\\nOverall Results (ordered by accuracy):\\n {}\".format(df))\n",
    "\n",
    "# Find the most important hyperparameters\n",
    "most_important_parameters = optuna.importance.get_param_importances(study, target=None)\n",
    "\n",
    "# Display the most important hyperparameters\n",
    "print('\\nMost important hyperparameters:')\n",
    "for key, value in most_important_parameters.items():\n",
    "    print('  {}:{}{:.2f}%'.format(key, (15-len(key))*' ', value*100))"
   ]
  },
  {
   "cell_type": "code",
   "execution_count": 47,
   "metadata": {},
   "outputs": [
    {
     "name": "stderr",
     "output_type": "stream",
     "text": [
      "[I 2024-01-25 16:38:46,709] A new study created in memory with name: no-name-0d579fe2-42d1-4284-bac6-abeb6c1c5006\n"
     ]
    },
    {
     "name": "stdout",
     "output_type": "stream",
     "text": [
      "Epoch 1/10\n",
      "11896/11896 [==============================] - 45s 4ms/step - loss: 0.0165 - accuracy: 0.4589 - val_loss: 0.0155 - val_accuracy: 0.0039\n",
      "Epoch 2/10\n",
      "11896/11896 [==============================] - 44s 4ms/step - loss: 0.0160 - accuracy: 0.4212 - val_loss: 0.0154 - val_accuracy: 0.3391\n",
      "Epoch 3/10\n",
      "11896/11896 [==============================] - 44s 4ms/step - loss: 0.0161 - accuracy: 0.4404 - val_loss: 0.0154 - val_accuracy: 0.0874\n",
      "Epoch 4/10\n",
      "11896/11896 [==============================] - 44s 4ms/step - loss: 0.0161 - accuracy: 0.4385 - val_loss: 0.0155 - val_accuracy: 0.3026\n",
      "Epoch 5/10\n",
      "11896/11896 [==============================] - 43s 4ms/step - loss: 0.0161 - accuracy: 0.4262 - val_loss: 0.0154 - val_accuracy: 0.1742\n",
      "Epoch 6/10\n",
      "11896/11896 [==============================] - 43s 4ms/step - loss: 0.0161 - accuracy: 0.4296 - val_loss: 0.0154 - val_accuracy: 0.3219\n",
      "Epoch 7/10\n",
      "11896/11896 [==============================] - 43s 4ms/step - loss: 0.0161 - accuracy: 0.4263 - val_loss: 0.0154 - val_accuracy: 0.4638\n",
      "Epoch 8/10\n",
      "11896/11896 [==============================] - 43s 4ms/step - loss: 0.0161 - accuracy: 0.4260 - val_loss: 0.0155 - val_accuracy: 0.4739\n",
      "Epoch 9/10\n",
      "11896/11896 [==============================] - 43s 4ms/step - loss: 0.0161 - accuracy: 0.4251 - val_loss: 0.0154 - val_accuracy: 0.2912\n",
      "Epoch 10/10\n",
      "11896/11896 [==============================] - 43s 4ms/step - loss: 0.0161 - accuracy: 0.4329 - val_loss: 0.0154 - val_accuracy: 0.2868\n",
      "3569/3569 [==============================] - 3s 926us/step\n"
     ]
    },
    {
     "name": "stderr",
     "output_type": "stream",
     "text": [
      "[I 2024-01-25 16:46:41,370] Trial 0 finished with value: 0.8617591261863708 and parameters: {'dropout_rate1': 0.4195099878736405, 'dropout_rate2': 0.4530816554777814, 'dropout_rate3': 0.35115998102347445}. Best is trial 0 with value: 0.8617591261863708.\n"
     ]
    },
    {
     "name": "stdout",
     "output_type": "stream",
     "text": [
      "Epoch 1/10\n",
      "11896/11896 [==============================] - 44s 4ms/step - loss: 0.0161 - accuracy: 0.4340 - val_loss: 0.0151 - val_accuracy: 0.2493\n",
      "Epoch 2/10\n",
      "11896/11896 [==============================] - 43s 4ms/step - loss: 0.0155 - accuracy: 0.3413 - val_loss: 0.0151 - val_accuracy: 0.3338\n",
      "Epoch 3/10\n",
      "11896/11896 [==============================] - 43s 4ms/step - loss: 0.0155 - accuracy: 0.3539 - val_loss: 0.0150 - val_accuracy: 0.3580\n",
      "Epoch 4/10\n",
      "11896/11896 [==============================] - 43s 4ms/step - loss: 0.0154 - accuracy: 0.3304 - val_loss: 0.0150 - val_accuracy: 0.2249\n",
      "Epoch 5/10\n",
      "11896/11896 [==============================] - 43s 4ms/step - loss: 0.0154 - accuracy: 0.3143 - val_loss: 0.0151 - val_accuracy: 0.4409\n",
      "Epoch 6/10\n",
      "11896/11896 [==============================] - 43s 4ms/step - loss: 0.0154 - accuracy: 0.3085 - val_loss: 0.0150 - val_accuracy: 0.1287\n",
      "Epoch 7/10\n",
      "11896/11896 [==============================] - 43s 4ms/step - loss: 0.0154 - accuracy: 0.3116 - val_loss: 0.0150 - val_accuracy: 0.2958\n",
      "Epoch 8/10\n",
      "11896/11896 [==============================] - 43s 4ms/step - loss: 0.0154 - accuracy: 0.2988 - val_loss: 0.0150 - val_accuracy: 0.3422\n",
      "Epoch 9/10\n",
      "11896/11896 [==============================] - 43s 4ms/step - loss: 0.0154 - accuracy: 0.2912 - val_loss: 0.0150 - val_accuracy: 0.3294\n",
      "Epoch 10/10\n",
      "11896/11896 [==============================] - 43s 4ms/step - loss: 0.0154 - accuracy: 0.3139 - val_loss: 0.0150 - val_accuracy: 0.4291\n",
      "3569/3569 [==============================] - 3s 918us/step\n"
     ]
    },
    {
     "name": "stderr",
     "output_type": "stream",
     "text": [
      "[I 2024-01-25 16:54:31,684] Trial 1 finished with value: 0.8665930032730103 and parameters: {'dropout_rate1': 0.357353702091831, 'dropout_rate2': 0.05149992294239014, 'dropout_rate3': 0.47360242290897925}. Best is trial 1 with value: 0.8665930032730103.\n"
     ]
    },
    {
     "name": "stdout",
     "output_type": "stream",
     "text": [
      "Epoch 1/10\n",
      "11896/11896 [==============================] - 44s 4ms/step - loss: 0.0160 - accuracy: 0.4461 - val_loss: 0.0151 - val_accuracy: 0.1054\n",
      "Epoch 2/10\n",
      "11896/11896 [==============================] - 43s 4ms/step - loss: 0.0155 - accuracy: 0.3376 - val_loss: 0.0151 - val_accuracy: 0.3892\n",
      "Epoch 3/10\n",
      "11896/11896 [==============================] - 43s 4ms/step - loss: 0.0154 - accuracy: 0.3465 - val_loss: 0.0151 - val_accuracy: 0.3600\n",
      "Epoch 4/10\n",
      "11896/11896 [==============================] - 43s 4ms/step - loss: 0.0154 - accuracy: 0.3413 - val_loss: 0.0151 - val_accuracy: 0.3267\n",
      "Epoch 5/10\n",
      "11896/11896 [==============================] - 43s 4ms/step - loss: 0.0154 - accuracy: 0.3483 - val_loss: 0.0151 - val_accuracy: 0.2697\n",
      "Epoch 6/10\n",
      "11896/11896 [==============================] - 43s 4ms/step - loss: 0.0154 - accuracy: 0.3416 - val_loss: 0.0150 - val_accuracy: 0.3216\n",
      "Epoch 7/10\n",
      "11896/11896 [==============================] - 43s 4ms/step - loss: 0.0154 - accuracy: 0.3406 - val_loss: 0.0151 - val_accuracy: 0.3312\n",
      "Epoch 8/10\n",
      "11896/11896 [==============================] - 43s 4ms/step - loss: 0.0154 - accuracy: 0.3459 - val_loss: 0.0150 - val_accuracy: 0.3062\n",
      "Epoch 9/10\n",
      "11896/11896 [==============================] - 43s 4ms/step - loss: 0.0154 - accuracy: 0.3415 - val_loss: 0.0150 - val_accuracy: 0.4357\n",
      "Epoch 10/10\n",
      "11896/11896 [==============================] - 43s 4ms/step - loss: 0.0154 - accuracy: 0.3439 - val_loss: 0.0150 - val_accuracy: 0.3947\n",
      "3569/3569 [==============================] - 3s 939us/step\n"
     ]
    },
    {
     "name": "stderr",
     "output_type": "stream",
     "text": [
      "[I 2024-01-25 17:02:22,164] Trial 2 finished with value: 0.8670984506607056 and parameters: {'dropout_rate1': 0.09500763931836997, 'dropout_rate2': 0.124127777200923, 'dropout_rate3': 0.4922225055277898}. Best is trial 2 with value: 0.8670984506607056.\n"
     ]
    },
    {
     "name": "stdout",
     "output_type": "stream",
     "text": [
      "Epoch 1/10\n",
      "11896/11896 [==============================] - 44s 4ms/step - loss: 0.0162 - accuracy: 0.3355 - val_loss: 0.0153 - val_accuracy: 0.2821\n",
      "Epoch 2/10\n",
      "11896/11896 [==============================] - 43s 4ms/step - loss: 0.0158 - accuracy: 0.4090 - val_loss: 0.0154 - val_accuracy: 0.2246\n",
      "Epoch 3/10\n",
      "11896/11896 [==============================] - 43s 4ms/step - loss: 0.0158 - accuracy: 0.3570 - val_loss: 0.0153 - val_accuracy: 0.2507\n",
      "Epoch 4/10\n",
      "11896/11896 [==============================] - 43s 4ms/step - loss: 0.0158 - accuracy: 0.3572 - val_loss: 0.0154 - val_accuracy: 0.1592\n",
      "Epoch 5/10\n",
      "11896/11896 [==============================] - 43s 4ms/step - loss: 0.0158 - accuracy: 0.3659 - val_loss: 0.0153 - val_accuracy: 0.4010\n",
      "Epoch 6/10\n",
      "11896/11896 [==============================] - 43s 4ms/step - loss: 0.0158 - accuracy: 0.3550 - val_loss: 0.0153 - val_accuracy: 0.3753\n",
      "Epoch 7/10\n",
      "11896/11896 [==============================] - 43s 4ms/step - loss: 0.0158 - accuracy: 0.3504 - val_loss: 0.0153 - val_accuracy: 0.4345\n",
      "Epoch 8/10\n",
      "11896/11896 [==============================] - 43s 4ms/step - loss: 0.0158 - accuracy: 0.4062 - val_loss: 0.0153 - val_accuracy: 0.3232\n",
      "Epoch 9/10\n",
      "11896/11896 [==============================] - 43s 4ms/step - loss: 0.0158 - accuracy: 0.3953 - val_loss: 0.0153 - val_accuracy: 0.3338\n",
      "Epoch 10/10\n",
      "11896/11896 [==============================] - 43s 4ms/step - loss: 0.0158 - accuracy: 0.4134 - val_loss: 0.0154 - val_accuracy: 0.0039\n",
      "3569/3569 [==============================] - 3s 934us/step\n"
     ]
    },
    {
     "name": "stderr",
     "output_type": "stream",
     "text": [
      "[I 2024-01-25 17:10:12,909] Trial 3 finished with value: 0.8612399101257324 and parameters: {'dropout_rate1': 0.4840100459848325, 'dropout_rate2': 0.13574144837688995, 'dropout_rate3': 0.47804748040403267}. Best is trial 2 with value: 0.8670984506607056.\n"
     ]
    },
    {
     "name": "stdout",
     "output_type": "stream",
     "text": [
      "Epoch 1/10\n",
      "11896/11896 [==============================] - 44s 4ms/step - loss: 0.0162 - accuracy: 0.4695 - val_loss: 0.0151 - val_accuracy: 0.3598\n",
      "Epoch 2/10\n",
      "11894/11896 [============================>.] - ETA: 0s - loss: 0.0156 - accuracy: 0.3337"
     ]
    },
    {
     "name": "stderr",
     "output_type": "stream",
     "text": [
      "[I 2024-01-25 17:11:40,704] Trial 4 pruned. Trial was pruned at epoch 1.\n"
     ]
    },
    {
     "name": "stdout",
     "output_type": "stream",
     "text": [
      "Epoch 1/10\n",
      "11896/11896 [==============================] - 44s 4ms/step - loss: 0.0162 - accuracy: 0.4436 - val_loss: 0.0152 - val_accuracy: 0.2738\n",
      "Epoch 2/10\n",
      "11891/11896 [============================>.] - ETA: 0s - loss: 0.0156 - accuracy: 0.3541"
     ]
    },
    {
     "name": "stderr",
     "output_type": "stream",
     "text": [
      "[I 2024-01-25 17:13:08,996] Trial 5 pruned. Trial was pruned at epoch 1.\n"
     ]
    },
    {
     "name": "stdout",
     "output_type": "stream",
     "text": [
      "Epoch 1/10\n",
      "11896/11896 [==============================] - 46s 4ms/step - loss: 0.0162 - accuracy: 0.4136 - val_loss: 0.0152 - val_accuracy: 0.1255\n",
      "Epoch 2/10\n",
      "11896/11896 [==============================] - 45s 4ms/step - loss: 0.0159 - accuracy: 0.4479 - val_loss: 0.0151 - val_accuracy: 0.4175\n",
      "Epoch 3/10\n",
      "11896/11896 [==============================] - 45s 4ms/step - loss: 0.0158 - accuracy: 0.4478 - val_loss: 0.0151 - val_accuracy: 0.2523\n",
      "Epoch 4/10\n",
      "11896/11896 [==============================] - 44s 4ms/step - loss: 0.0158 - accuracy: 0.4354 - val_loss: 0.0151 - val_accuracy: 0.2319\n",
      "Epoch 5/10\n",
      "11896/11896 [==============================] - 45s 4ms/step - loss: 0.0158 - accuracy: 0.4237 - val_loss: 0.0151 - val_accuracy: 0.2648\n",
      "Epoch 6/10\n",
      "11896/11896 [==============================] - 45s 4ms/step - loss: 0.0158 - accuracy: 0.4449 - val_loss: 0.0152 - val_accuracy: 0.3211\n",
      "Epoch 7/10\n",
      "11896/11896 [==============================] - 44s 4ms/step - loss: 0.0158 - accuracy: 0.4475 - val_loss: 0.0152 - val_accuracy: 0.2924\n",
      "Epoch 8/10\n",
      "11896/11896 [==============================] - 44s 4ms/step - loss: 0.0158 - accuracy: 0.4007 - val_loss: 0.0151 - val_accuracy: 0.2657\n",
      "Epoch 9/10\n",
      "11896/11896 [==============================] - 44s 4ms/step - loss: 0.0158 - accuracy: 0.3867 - val_loss: 0.0152 - val_accuracy: 0.4640\n",
      "Epoch 10/10\n",
      "11896/11896 [==============================] - 44s 4ms/step - loss: 0.0158 - accuracy: 0.3906 - val_loss: 0.0152 - val_accuracy: 0.3214\n",
      "3569/3569 [==============================] - 4s 969us/step\n"
     ]
    },
    {
     "name": "stderr",
     "output_type": "stream",
     "text": [
      "[I 2024-01-25 17:21:14,205] Trial 6 finished with value: 0.8670671582221985 and parameters: {'dropout_rate1': 0.3566768026907917, 'dropout_rate2': 0.2613825896636898, 'dropout_rate3': 0.317730090479575}. Best is trial 2 with value: 0.8670984506607056.\n"
     ]
    },
    {
     "name": "stdout",
     "output_type": "stream",
     "text": [
      "Epoch 1/10\n",
      "11896/11896 [==============================] - 46s 4ms/step - loss: 0.0158 - accuracy: 0.3922 - val_loss: 0.0150 - val_accuracy: 0.5324\n",
      "Epoch 2/10\n",
      "11896/11896 [==============================] - 44s 4ms/step - loss: 0.0152 - accuracy: 0.3863 - val_loss: 0.0149 - val_accuracy: 0.3586\n",
      "Epoch 3/10\n",
      "11896/11896 [==============================] - 44s 4ms/step - loss: 0.0152 - accuracy: 0.3213 - val_loss: 0.0149 - val_accuracy: 0.3015\n",
      "Epoch 4/10\n",
      "11886/11896 [============================>.] - ETA: 0s - loss: 0.0151 - accuracy: 0.3037"
     ]
    },
    {
     "name": "stderr",
     "output_type": "stream",
     "text": [
      "[I 2024-01-25 17:24:12,979] Trial 7 pruned. Trial was pruned at epoch 3.\n"
     ]
    },
    {
     "name": "stdout",
     "output_type": "stream",
     "text": [
      "Epoch 1/10\n",
      "11896/11896 [==============================] - 45s 4ms/step - loss: 0.0160 - accuracy: 0.4629 - val_loss: 0.0151 - val_accuracy: 0.3927\n",
      "Epoch 2/10\n",
      "11885/11896 [============================>.] - ETA: 0s - loss: 0.0156 - accuracy: 0.3712"
     ]
    },
    {
     "name": "stderr",
     "output_type": "stream",
     "text": [
      "[I 2024-01-25 17:25:42,473] Trial 8 pruned. Trial was pruned at epoch 1.\n"
     ]
    },
    {
     "name": "stdout",
     "output_type": "stream",
     "text": [
      "Epoch 1/10\n",
      "11896/11896 [==============================] - 45s 4ms/step - loss: 0.0165 - accuracy: 0.5399 - val_loss: 0.0154 - val_accuracy: 0.5072\n",
      "Epoch 2/10\n",
      "11896/11896 [==============================] - 44s 4ms/step - loss: 0.0161 - accuracy: 0.4499 - val_loss: 0.0155 - val_accuracy: 0.3675\n",
      "Epoch 3/10\n",
      "11896/11896 [==============================] - 44s 4ms/step - loss: 0.0161 - accuracy: 0.4425 - val_loss: 0.0155 - val_accuracy: 0.3572\n",
      "Epoch 4/10\n",
      "11896/11896 [==============================] - 44s 4ms/step - loss: 0.0161 - accuracy: 0.4397 - val_loss: 0.0156 - val_accuracy: 0.4266\n",
      "Epoch 5/10\n",
      "11896/11896 [==============================] - 44s 4ms/step - loss: 0.0161 - accuracy: 0.4296 - val_loss: 0.0156 - val_accuracy: 0.4767\n",
      "Epoch 6/10\n",
      "11896/11896 [==============================] - 44s 4ms/step - loss: 0.0162 - accuracy: 0.4418 - val_loss: 0.0155 - val_accuracy: 0.3506\n",
      "Epoch 7/10\n",
      "11896/11896 [==============================] - 44s 4ms/step - loss: 0.0162 - accuracy: 0.4431 - val_loss: 0.0156 - val_accuracy: 0.3303\n",
      "Epoch 8/10\n",
      "11896/11896 [==============================] - 44s 4ms/step - loss: 0.0162 - accuracy: 0.4399 - val_loss: 0.0155 - val_accuracy: 0.2619\n",
      "Epoch 9/10\n",
      "11896/11896 [==============================] - 44s 4ms/step - loss: 0.0162 - accuracy: 0.4322 - val_loss: 0.0155 - val_accuracy: 0.4085\n",
      "Epoch 10/10\n",
      "11896/11896 [==============================] - 44s 4ms/step - loss: 0.0162 - accuracy: 0.4379 - val_loss: 0.0155 - val_accuracy: 0.2580\n",
      "3569/3569 [==============================] - 3s 952us/step\n"
     ]
    },
    {
     "name": "stderr",
     "output_type": "stream",
     "text": [
      "[I 2024-01-25 17:33:43,278] Trial 9 finished with value: 0.861680269241333 and parameters: {'dropout_rate1': 0.45087326245997694, 'dropout_rate2': 0.4953975977893682, 'dropout_rate3': 0.40593532513980735}. Best is trial 2 with value: 0.8670984506607056.\n"
     ]
    },
    {
     "name": "stdout",
     "output_type": "stream",
     "text": [
      "Epoch 1/10\n",
      "11896/11896 [==============================] - 45s 4ms/step - loss: 0.0158 - accuracy: 0.3754 - val_loss: 0.0151 - val_accuracy: 0.2490\n",
      "Epoch 2/10\n",
      "11894/11896 [============================>.] - ETA: 0s - loss: 0.0154 - accuracy: 0.3937"
     ]
    },
    {
     "name": "stderr",
     "output_type": "stream",
     "text": [
      "[I 2024-01-25 17:35:12,615] Trial 10 pruned. Trial was pruned at epoch 1.\n"
     ]
    },
    {
     "name": "stdout",
     "output_type": "stream",
     "text": [
      "Epoch 1/10\n",
      "11896/11896 [==============================] - 44s 4ms/step - loss: 0.0160 - accuracy: 0.3215 - val_loss: 0.0151 - val_accuracy: 0.2719\n",
      "Epoch 2/10\n",
      "11896/11896 [==============================] - 44s 4ms/step - loss: 0.0155 - accuracy: 0.3422 - val_loss: 0.0151 - val_accuracy: 0.2948\n",
      "Epoch 3/10\n",
      "11896/11896 [==============================] - 44s 4ms/step - loss: 0.0155 - accuracy: 0.3476 - val_loss: 0.0151 - val_accuracy: 0.3862\n",
      "Epoch 4/10\n",
      "11889/11896 [============================>.] - ETA: 0s - loss: 0.0155 - accuracy: 0.3564"
     ]
    },
    {
     "name": "stderr",
     "output_type": "stream",
     "text": [
      "[I 2024-01-25 17:38:08,757] Trial 11 pruned. Trial was pruned at epoch 3.\n"
     ]
    },
    {
     "name": "stdout",
     "output_type": "stream",
     "text": [
      "Epoch 1/10\n",
      "11896/11896 [==============================] - 45s 4ms/step - loss: 0.0161 - accuracy: 0.4398 - val_loss: 0.0152 - val_accuracy: 0.3522\n",
      "Epoch 2/10\n",
      "11885/11896 [============================>.] - ETA: 0s - loss: 0.0157 - accuracy: 0.3981"
     ]
    },
    {
     "name": "stderr",
     "output_type": "stream",
     "text": [
      "[I 2024-01-25 17:39:38,021] Trial 12 pruned. Trial was pruned at epoch 1.\n"
     ]
    },
    {
     "name": "stdout",
     "output_type": "stream",
     "text": [
      "Epoch 1/10\n",
      "11896/11896 [==============================] - 45s 4ms/step - loss: 0.0161 - accuracy: 0.4338 - val_loss: 0.0152 - val_accuracy: 0.0405\n",
      "Epoch 2/10\n",
      "11896/11896 [==============================] - 44s 4ms/step - loss: 0.0156 - accuracy: 0.3438 - val_loss: 0.0152 - val_accuracy: 0.3197\n",
      "Epoch 3/10\n",
      "11896/11896 [==============================] - 44s 4ms/step - loss: 0.0157 - accuracy: 0.3770 - val_loss: 0.0152 - val_accuracy: 0.3088\n",
      "Epoch 4/10\n",
      "11896/11896 [==============================] - 44s 4ms/step - loss: 0.0156 - accuracy: 0.3611 - val_loss: 0.0152 - val_accuracy: 0.4209\n",
      "Epoch 5/10\n",
      "11896/11896 [==============================] - 44s 4ms/step - loss: 0.0156 - accuracy: 0.3734 - val_loss: 0.0151 - val_accuracy: 0.4458\n",
      "Epoch 6/10\n",
      "11896/11896 [==============================] - 44s 4ms/step - loss: 0.0156 - accuracy: 0.3694 - val_loss: 0.0151 - val_accuracy: 0.1781\n",
      "Epoch 7/10\n",
      "11896/11896 [==============================] - 44s 4ms/step - loss: 0.0156 - accuracy: 0.3612 - val_loss: 0.0151 - val_accuracy: 0.0924\n",
      "Epoch 8/10\n",
      "11896/11896 [==============================] - 44s 4ms/step - loss: 0.0156 - accuracy: 0.3910 - val_loss: 0.0151 - val_accuracy: 0.3758\n",
      "Epoch 9/10\n",
      "11896/11896 [==============================] - 44s 4ms/step - loss: 0.0156 - accuracy: 0.3886 - val_loss: 0.0151 - val_accuracy: 0.2074\n",
      "Epoch 10/10\n",
      "11894/11896 [============================>.] - ETA: 0s - loss: 0.0156 - accuracy: 0.3621"
     ]
    },
    {
     "name": "stderr",
     "output_type": "stream",
     "text": [
      "[I 2024-01-25 17:47:00,724] Trial 13 pruned. Trial was pruned at epoch 9.\n"
     ]
    },
    {
     "name": "stdout",
     "output_type": "stream",
     "text": [
      "Epoch 1/10\n",
      "11896/11896 [==============================] - 45s 4ms/step - loss: 0.0156 - accuracy: 0.2850 - val_loss: 0.0152 - val_accuracy: 0.2196\n",
      "Epoch 2/10\n",
      "11896/11896 [==============================] - 44s 4ms/step - loss: 0.0151 - accuracy: 0.2771 - val_loss: 0.0149 - val_accuracy: 0.1842\n",
      "Epoch 3/10\n",
      "11896/11896 [==============================] - 44s 4ms/step - loss: 0.0151 - accuracy: 0.2745 - val_loss: 0.0149 - val_accuracy: 0.2716\n",
      "Epoch 4/10\n",
      "11896/11896 [==============================] - 44s 4ms/step - loss: 0.0151 - accuracy: 0.2700 - val_loss: 0.0149 - val_accuracy: 0.3065\n",
      "Epoch 5/10\n",
      "11896/11896 [==============================] - 44s 4ms/step - loss: 0.0151 - accuracy: 0.2680 - val_loss: 0.0148 - val_accuracy: 0.3804\n",
      "Epoch 6/10\n",
      "11896/11896 [==============================] - 44s 4ms/step - loss: 0.0151 - accuracy: 0.2722 - val_loss: 0.0149 - val_accuracy: 0.1491\n",
      "Epoch 7/10\n",
      "11896/11896 [==============================] - 44s 4ms/step - loss: 0.0151 - accuracy: 0.2516 - val_loss: 0.0148 - val_accuracy: 0.4562\n",
      "Epoch 8/10\n",
      "11896/11896 [==============================] - 44s 4ms/step - loss: 0.0151 - accuracy: 0.2691 - val_loss: 0.0149 - val_accuracy: 0.2067\n",
      "Epoch 9/10\n",
      "11896/11896 [==============================] - 44s 4ms/step - loss: 0.0151 - accuracy: 0.2703 - val_loss: 0.0148 - val_accuracy: 0.1999\n",
      "Epoch 10/10\n",
      "11893/11896 [============================>.] - ETA: 0s - loss: 0.0151 - accuracy: 0.2592"
     ]
    },
    {
     "name": "stderr",
     "output_type": "stream",
     "text": [
      "[I 2024-01-25 17:54:23,637] Trial 14 pruned. Trial was pruned at epoch 9.\n"
     ]
    },
    {
     "name": "stdout",
     "output_type": "stream",
     "text": [
      "Epoch 1/10\n",
      "11896/11896 [==============================] - 45s 4ms/step - loss: 0.0162 - accuracy: 0.4492 - val_loss: 0.0152 - val_accuracy: 0.5063\n",
      "Epoch 2/10\n",
      "11886/11896 [============================>.] - ETA: 0s - loss: 0.0155 - accuracy: 0.3686"
     ]
    },
    {
     "name": "stderr",
     "output_type": "stream",
     "text": [
      "[I 2024-01-25 17:55:52,631] Trial 15 pruned. Trial was pruned at epoch 1.\n"
     ]
    },
    {
     "name": "stdout",
     "output_type": "stream",
     "text": [
      "Epoch 1/10\n",
      "11896/11896 [==============================] - 45s 4ms/step - loss: 0.0157 - accuracy: 0.3730 - val_loss: 0.0152 - val_accuracy: 0.5380\n",
      "Epoch 2/10\n",
      "11896/11896 [==============================] - 44s 4ms/step - loss: 0.0152 - accuracy: 0.3328 - val_loss: 0.0150 - val_accuracy: 0.3482\n",
      "Epoch 3/10\n",
      "11896/11896 [==============================] - 44s 4ms/step - loss: 0.0152 - accuracy: 0.3141 - val_loss: 0.0150 - val_accuracy: 0.4459\n",
      "Epoch 4/10\n",
      "11896/11896 [==============================] - 44s 4ms/step - loss: 0.0152 - accuracy: 0.3072 - val_loss: 0.0150 - val_accuracy: 0.2618\n",
      "Epoch 5/10\n",
      "11896/11896 [==============================] - 45s 4ms/step - loss: 0.0152 - accuracy: 0.2982 - val_loss: 0.0150 - val_accuracy: 0.3395\n",
      "Epoch 6/10\n",
      "11896/11896 [==============================] - 44s 4ms/step - loss: 0.0152 - accuracy: 0.2934 - val_loss: 0.0150 - val_accuracy: 0.1643\n",
      "Epoch 7/10\n",
      "11896/11896 [==============================] - 45s 4ms/step - loss: 0.0152 - accuracy: 0.2820 - val_loss: 0.0150 - val_accuracy: 0.3838\n",
      "Epoch 8/10\n",
      "11896/11896 [==============================] - 44s 4ms/step - loss: 0.0151 - accuracy: 0.2846 - val_loss: 0.0150 - val_accuracy: 0.0748\n",
      "Epoch 9/10\n",
      "11896/11896 [==============================] - 44s 4ms/step - loss: 0.0151 - accuracy: 0.2783 - val_loss: 0.0149 - val_accuracy: 0.2596\n",
      "Epoch 10/10\n",
      "11885/11896 [============================>.] - ETA: 0s - loss: 0.0151 - accuracy: 0.2812"
     ]
    },
    {
     "name": "stderr",
     "output_type": "stream",
     "text": [
      "[I 2024-01-25 18:03:16,907] Trial 16 pruned. Trial was pruned at epoch 9.\n"
     ]
    },
    {
     "name": "stdout",
     "output_type": "stream",
     "text": [
      "Epoch 1/10\n",
      "11896/11896 [==============================] - 45s 4ms/step - loss: 0.0161 - accuracy: 0.4506 - val_loss: 0.0153 - val_accuracy: 0.3383\n",
      "Epoch 2/10\n",
      "11896/11896 [==============================] - 45s 4ms/step - loss: 0.0158 - accuracy: 0.4054 - val_loss: 0.0151 - val_accuracy: 0.2508\n",
      "Epoch 3/10\n",
      "11896/11896 [==============================] - 45s 4ms/step - loss: 0.0158 - accuracy: 0.3970 - val_loss: 0.0153 - val_accuracy: 0.3952\n",
      "Epoch 4/10\n",
      "11896/11896 [==============================] - 44s 4ms/step - loss: 0.0158 - accuracy: 0.3771 - val_loss: 0.0152 - val_accuracy: 0.3122\n",
      "Epoch 5/10\n",
      "11896/11896 [==============================] - 44s 4ms/step - loss: 0.0158 - accuracy: 0.3712 - val_loss: 0.0154 - val_accuracy: 0.3419\n",
      "Epoch 6/10\n",
      "11896/11896 [==============================] - 44s 4ms/step - loss: 0.0158 - accuracy: 0.3692 - val_loss: 0.0152 - val_accuracy: 0.2323\n",
      "Epoch 7/10\n",
      "11896/11896 [==============================] - 44s 4ms/step - loss: 0.0158 - accuracy: 0.3654 - val_loss: 0.0153 - val_accuracy: 0.2815\n",
      "Epoch 8/10\n",
      "11896/11896 [==============================] - 44s 4ms/step - loss: 0.0158 - accuracy: 0.3749 - val_loss: 0.0152 - val_accuracy: 0.3422\n",
      "Epoch 9/10\n",
      "11896/11896 [==============================] - 44s 4ms/step - loss: 0.0158 - accuracy: 0.3603 - val_loss: 0.0153 - val_accuracy: 0.4399\n",
      "Epoch 10/10\n",
      "11896/11896 [==============================] - 45s 4ms/step - loss: 0.0158 - accuracy: 0.3705 - val_loss: 0.0153 - val_accuracy: 0.3155\n",
      "3569/3569 [==============================] - 3s 946us/step\n"
     ]
    },
    {
     "name": "stderr",
     "output_type": "stream",
     "text": [
      "[I 2024-01-25 18:11:21,234] Trial 17 finished with value: 0.8637344837188721 and parameters: {'dropout_rate1': 0.4149914803121568, 'dropout_rate2': 0.19114172034429927, 'dropout_rate3': 0.40901225412846326}. Best is trial 2 with value: 0.8670984506607056.\n"
     ]
    },
    {
     "name": "stdout",
     "output_type": "stream",
     "text": [
      "Epoch 1/10\n",
      "11896/11896 [==============================] - 45s 4ms/step - loss: 0.0161 - accuracy: 0.4914 - val_loss: 0.0153 - val_accuracy: 0.4113\n",
      "Epoch 2/10\n",
      "11896/11896 [==============================] - 44s 4ms/step - loss: 0.0157 - accuracy: 0.3910 - val_loss: 0.0152 - val_accuracy: 0.3745\n",
      "Epoch 3/10\n",
      "11896/11896 [==============================] - 44s 4ms/step - loss: 0.0157 - accuracy: 0.3778 - val_loss: 0.0152 - val_accuracy: 0.4042\n",
      "Epoch 4/10\n",
      "11896/11896 [==============================] - 44s 4ms/step - loss: 0.0157 - accuracy: 0.3761 - val_loss: 0.0151 - val_accuracy: 0.2196\n",
      "Epoch 5/10\n",
      "11896/11896 [==============================] - 44s 4ms/step - loss: 0.0157 - accuracy: 0.3724 - val_loss: 0.0151 - val_accuracy: 0.3272\n",
      "Epoch 6/10\n",
      "11896/11896 [==============================] - 44s 4ms/step - loss: 0.0157 - accuracy: 0.3656 - val_loss: 0.0152 - val_accuracy: 0.2896\n",
      "Epoch 7/10\n",
      "11896/11896 [==============================] - 44s 4ms/step - loss: 0.0157 - accuracy: 0.3706 - val_loss: 0.0152 - val_accuracy: 0.3743\n",
      "Epoch 8/10\n",
      "11896/11896 [==============================] - 44s 4ms/step - loss: 0.0157 - accuracy: 0.3722 - val_loss: 0.0151 - val_accuracy: 0.2527\n",
      "Epoch 9/10\n",
      "11896/11896 [==============================] - 44s 4ms/step - loss: 0.0157 - accuracy: 0.3678 - val_loss: 0.0151 - val_accuracy: 0.2895\n",
      "Epoch 10/10\n",
      "11896/11896 [==============================] - 44s 4ms/step - loss: 0.0157 - accuracy: 0.3710 - val_loss: 0.0151 - val_accuracy: 0.3661\n",
      "3569/3569 [==============================] - 4s 975us/step\n"
     ]
    },
    {
     "name": "stderr",
     "output_type": "stream",
     "text": [
      "[I 2024-01-25 18:19:22,131] Trial 18 finished with value: 0.8676126003265381 and parameters: {'dropout_rate1': 0.2831672903498233, 'dropout_rate2': 0.26737313271716306, 'dropout_rate3': 0.23089049063663802}. Best is trial 18 with value: 0.8676126003265381.\n"
     ]
    },
    {
     "name": "stdout",
     "output_type": "stream",
     "text": [
      "Epoch 1/10\n",
      "11896/11896 [==============================] - 46s 4ms/step - loss: 0.0157 - accuracy: 0.3454 - val_loss: 0.0149 - val_accuracy: 0.2367\n",
      "Epoch 2/10\n",
      "11896/11896 [==============================] - 44s 4ms/step - loss: 0.0153 - accuracy: 0.3161 - val_loss: 0.0149 - val_accuracy: 0.3431\n",
      "Epoch 3/10\n",
      "11896/11896 [==============================] - 45s 4ms/step - loss: 0.0153 - accuracy: 0.3253 - val_loss: 0.0149 - val_accuracy: 0.2724\n",
      "Epoch 4/10\n",
      "11896/11896 [==============================] - 44s 4ms/step - loss: 0.0153 - accuracy: 0.3248 - val_loss: 0.0149 - val_accuracy: 0.3997\n",
      "Epoch 5/10\n",
      "11896/11896 [==============================] - 44s 4ms/step - loss: 0.0153 - accuracy: 0.3262 - val_loss: 0.0149 - val_accuracy: 0.2851\n",
      "Epoch 6/10\n",
      "11896/11896 [==============================] - 44s 4ms/step - loss: 0.0153 - accuracy: 0.3203 - val_loss: 0.0149 - val_accuracy: 0.3042\n",
      "Epoch 7/10\n",
      "11896/11896 [==============================] - 44s 4ms/step - loss: 0.0153 - accuracy: 0.3110 - val_loss: 0.0149 - val_accuracy: 0.1932\n",
      "Epoch 8/10\n",
      "11896/11896 [==============================] - 44s 4ms/step - loss: 0.0153 - accuracy: 0.3069 - val_loss: 0.0149 - val_accuracy: 0.2756\n",
      "Epoch 9/10\n",
      "11896/11896 [==============================] - 44s 4ms/step - loss: 0.0153 - accuracy: 0.3174 - val_loss: 0.0149 - val_accuracy: 0.2229\n",
      "Epoch 10/10\n",
      "11893/11896 [============================>.] - ETA: 0s - loss: 0.0153 - accuracy: 0.3172"
     ]
    },
    {
     "name": "stderr",
     "output_type": "stream",
     "text": [
      "[I 2024-01-25 18:26:47,192] Trial 19 pruned. Trial was pruned at epoch 9.\n"
     ]
    },
    {
     "name": "stdout",
     "output_type": "stream",
     "text": [
      "Epoch 1/10\n",
      "11896/11896 [==============================] - 45s 4ms/step - loss: 0.0158 - accuracy: 0.3606 - val_loss: 0.0150 - val_accuracy: 0.2024\n",
      "Epoch 2/10\n",
      "11896/11896 [==============================] - 44s 4ms/step - loss: 0.0154 - accuracy: 0.3580 - val_loss: 0.0149 - val_accuracy: 0.3057\n",
      "Epoch 3/10\n",
      "11896/11896 [==============================] - 44s 4ms/step - loss: 0.0153 - accuracy: 0.3417 - val_loss: 0.0149 - val_accuracy: 0.3669\n",
      "Epoch 4/10\n",
      "11896/11896 [==============================] - 44s 4ms/step - loss: 0.0153 - accuracy: 0.3210 - val_loss: 0.0149 - val_accuracy: 0.2061\n",
      "Epoch 5/10\n",
      "11896/11896 [==============================] - 45s 4ms/step - loss: 0.0153 - accuracy: 0.3340 - val_loss: 0.0149 - val_accuracy: 0.2227\n",
      "Epoch 6/10\n",
      "11896/11896 [==============================] - 44s 4ms/step - loss: 0.0153 - accuracy: 0.3382 - val_loss: 0.0148 - val_accuracy: 0.2609\n",
      "Epoch 7/10\n",
      "11896/11896 [==============================] - 44s 4ms/step - loss: 0.0153 - accuracy: 0.3495 - val_loss: 0.0148 - val_accuracy: 0.3764\n",
      "Epoch 8/10\n",
      "11896/11896 [==============================] - 44s 4ms/step - loss: 0.0153 - accuracy: 0.3383 - val_loss: 0.0149 - val_accuracy: 0.2329\n",
      "Epoch 9/10\n",
      "11896/11896 [==============================] - 45s 4ms/step - loss: 0.0153 - accuracy: 0.3369 - val_loss: 0.0148 - val_accuracy: 0.2566\n",
      "Epoch 10/10\n",
      "11894/11896 [============================>.] - ETA: 0s - loss: 0.0153 - accuracy: 0.3239"
     ]
    },
    {
     "name": "stderr",
     "output_type": "stream",
     "text": [
      "[I 2024-01-25 18:34:12,129] Trial 20 pruned. Trial was pruned at epoch 9.\n"
     ]
    },
    {
     "name": "stdout",
     "output_type": "stream",
     "text": [
      "Epoch 1/10\n",
      "11896/11896 [==============================] - 45s 4ms/step - loss: 0.0162 - accuracy: 0.4098 - val_loss: 0.0151 - val_accuracy: 0.4071\n",
      "Epoch 2/10\n",
      "11896/11896 [==============================] - 44s 4ms/step - loss: 0.0158 - accuracy: 0.4455 - val_loss: 0.0151 - val_accuracy: 0.4095\n",
      "Epoch 3/10\n",
      "11896/11896 [==============================] - 44s 4ms/step - loss: 0.0157 - accuracy: 0.4439 - val_loss: 0.0151 - val_accuracy: 0.3717\n",
      "Epoch 4/10\n",
      "11896/11896 [==============================] - 44s 4ms/step - loss: 0.0157 - accuracy: 0.4437 - val_loss: 0.0151 - val_accuracy: 0.2480\n",
      "Epoch 5/10\n",
      "11896/11896 [==============================] - 44s 4ms/step - loss: 0.0157 - accuracy: 0.4220 - val_loss: 0.0150 - val_accuracy: 0.3768\n",
      "Epoch 6/10\n",
      "11896/11896 [==============================] - 44s 4ms/step - loss: 0.0157 - accuracy: 0.4070 - val_loss: 0.0150 - val_accuracy: 0.3625\n",
      "Epoch 7/10\n",
      "11896/11896 [==============================] - 44s 4ms/step - loss: 0.0157 - accuracy: 0.4361 - val_loss: 0.0150 - val_accuracy: 0.4182\n",
      "Epoch 8/10\n",
      "11896/11896 [==============================] - 44s 4ms/step - loss: 0.0157 - accuracy: 0.4430 - val_loss: 0.0151 - val_accuracy: 0.2960\n",
      "Epoch 9/10\n",
      "11896/11896 [==============================] - 44s 4ms/step - loss: 0.0157 - accuracy: 0.4420 - val_loss: 0.0150 - val_accuracy: 0.3064\n",
      "Epoch 10/10\n",
      "11896/11896 [==============================] - 44s 4ms/step - loss: 0.0157 - accuracy: 0.4030 - val_loss: 0.0151 - val_accuracy: 0.2906\n",
      "3569/3569 [==============================] - 4s 973us/step\n"
     ]
    },
    {
     "name": "stderr",
     "output_type": "stream",
     "text": [
      "[I 2024-01-25 18:42:14,365] Trial 21 finished with value: 0.8701596856117249 and parameters: {'dropout_rate1': 0.29748295149940013, 'dropout_rate2': 0.23118793026803292, 'dropout_rate3': 0.28858336870989054}. Best is trial 21 with value: 0.8701596856117249.\n"
     ]
    },
    {
     "name": "stdout",
     "output_type": "stream",
     "text": [
      "Epoch 1/10\n",
      "11896/11896 [==============================] - 45s 4ms/step - loss: 0.0161 - accuracy: 0.3944 - val_loss: 0.0154 - val_accuracy: 0.4203\n",
      "Epoch 2/10\n",
      "11896/11896 [==============================] - 44s 4ms/step - loss: 0.0157 - accuracy: 0.4096 - val_loss: 0.0151 - val_accuracy: 0.4187\n",
      "Epoch 3/10\n",
      "11896/11896 [==============================] - 44s 4ms/step - loss: 0.0157 - accuracy: 0.3925 - val_loss: 0.0151 - val_accuracy: 0.2991\n",
      "Epoch 4/10\n",
      "11896/11896 [==============================] - 44s 4ms/step - loss: 0.0157 - accuracy: 0.4207 - val_loss: 0.0151 - val_accuracy: 0.2960\n",
      "Epoch 5/10\n",
      "11896/11896 [==============================] - 44s 4ms/step - loss: 0.0157 - accuracy: 0.3986 - val_loss: 0.0150 - val_accuracy: 0.4419\n",
      "Epoch 6/10\n",
      "11896/11896 [==============================] - 44s 4ms/step - loss: 0.0157 - accuracy: 0.4193 - val_loss: 0.0151 - val_accuracy: 0.4275\n",
      "Epoch 7/10\n",
      "11896/11896 [==============================] - 44s 4ms/step - loss: 0.0157 - accuracy: 0.4199 - val_loss: 0.0150 - val_accuracy: 0.3956\n",
      "Epoch 8/10\n",
      "11896/11896 [==============================] - 44s 4ms/step - loss: 0.0157 - accuracy: 0.4292 - val_loss: 0.0151 - val_accuracy: 0.0062\n",
      "Epoch 9/10\n",
      "11896/11896 [==============================] - 44s 4ms/step - loss: 0.0157 - accuracy: 0.3915 - val_loss: 0.0151 - val_accuracy: 0.4637\n",
      "Epoch 10/10\n",
      "11896/11896 [==============================] - 44s 4ms/step - loss: 0.0156 - accuracy: 0.3853 - val_loss: 0.0151 - val_accuracy: 0.3922\n",
      "3569/3569 [==============================] - 3s 957us/step\n"
     ]
    },
    {
     "name": "stderr",
     "output_type": "stream",
     "text": [
      "[I 2024-01-25 18:50:15,720] Trial 22 finished with value: 0.8692927360534668 and parameters: {'dropout_rate1': 0.2965003346772578, 'dropout_rate2': 0.20332538511194792, 'dropout_rate3': 0.2617992056107445}. Best is trial 21 with value: 0.8701596856117249.\n"
     ]
    },
    {
     "name": "stdout",
     "output_type": "stream",
     "text": [
      "Epoch 1/10\n",
      "11896/11896 [==============================] - 45s 4ms/step - loss: 0.0161 - accuracy: 0.4309 - val_loss: 0.0152 - val_accuracy: 0.4024\n",
      "Epoch 2/10\n",
      "11896/11896 [==============================] - 44s 4ms/step - loss: 0.0157 - accuracy: 0.4078 - val_loss: 0.0151 - val_accuracy: 0.1271\n",
      "Epoch 3/10\n",
      "11896/11896 [==============================] - 44s 4ms/step - loss: 0.0157 - accuracy: 0.3596 - val_loss: 0.0152 - val_accuracy: 0.3295\n",
      "Epoch 4/10\n",
      "11896/11896 [==============================] - 44s 4ms/step - loss: 0.0157 - accuracy: 0.3582 - val_loss: 0.0152 - val_accuracy: 0.3511\n",
      "Epoch 5/10\n",
      "11896/11896 [==============================] - 44s 4ms/step - loss: 0.0157 - accuracy: 0.3702 - val_loss: 0.0152 - val_accuracy: 0.3400\n",
      "Epoch 6/10\n",
      "11896/11896 [==============================] - 44s 4ms/step - loss: 0.0157 - accuracy: 0.3608 - val_loss: 0.0151 - val_accuracy: 0.2850\n",
      "Epoch 7/10\n",
      "11896/11896 [==============================] - 44s 4ms/step - loss: 0.0157 - accuracy: 0.3661 - val_loss: 0.0152 - val_accuracy: 0.3363\n",
      "Epoch 8/10\n",
      "11896/11896 [==============================] - 44s 4ms/step - loss: 0.0157 - accuracy: 0.3504 - val_loss: 0.0151 - val_accuracy: 0.3814\n",
      "Epoch 9/10\n",
      "11896/11896 [==============================] - 44s 4ms/step - loss: 0.0157 - accuracy: 0.3591 - val_loss: 0.0152 - val_accuracy: 0.2636\n",
      "Epoch 10/10\n",
      "11896/11896 [==============================] - 44s 4ms/step - loss: 0.0157 - accuracy: 0.3565 - val_loss: 0.0153 - val_accuracy: 0.3916\n",
      "3569/3569 [==============================] - 4s 985us/step\n"
     ]
    },
    {
     "name": "stderr",
     "output_type": "stream",
     "text": [
      "[I 2024-01-25 18:58:17,164] Trial 23 finished with value: 0.8663353323936462 and parameters: {'dropout_rate1': 0.302530576457759, 'dropout_rate2': 0.22575559839229195, 'dropout_rate3': 0.2603549059182288}. Best is trial 21 with value: 0.8701596856117249.\n"
     ]
    },
    {
     "name": "stdout",
     "output_type": "stream",
     "text": [
      "Epoch 1/10\n",
      "11896/11896 [==============================] - 45s 4ms/step - loss: 0.0162 - accuracy: 0.4512 - val_loss: 0.0153 - val_accuracy: 0.4591\n",
      "Epoch 2/10\n",
      "11889/11896 [============================>.] - ETA: 0s - loss: 0.0158 - accuracy: 0.4404"
     ]
    },
    {
     "name": "stderr",
     "output_type": "stream",
     "text": [
      "[I 2024-01-25 18:59:46,690] Trial 24 pruned. Trial was pruned at epoch 1.\n"
     ]
    },
    {
     "name": "stdout",
     "output_type": "stream",
     "text": [
      "Epoch 1/10\n",
      "11896/11896 [==============================] - 45s 4ms/step - loss: 0.0160 - accuracy: 0.4039 - val_loss: 0.0151 - val_accuracy: 0.3592\n",
      "Epoch 2/10\n",
      "11892/11896 [============================>.] - ETA: 0s - loss: 0.0156 - accuracy: 0.4113"
     ]
    },
    {
     "name": "stderr",
     "output_type": "stream",
     "text": [
      "[I 2024-01-25 19:01:15,731] Trial 25 pruned. Trial was pruned at epoch 1.\n"
     ]
    },
    {
     "name": "stdout",
     "output_type": "stream",
     "text": [
      "Epoch 1/10\n",
      "11896/11896 [==============================] - 45s 4ms/step - loss: 0.0162 - accuracy: 0.4211 - val_loss: 0.0153 - val_accuracy: 0.3725\n",
      "Epoch 2/10\n",
      "11896/11896 [==============================] - 44s 4ms/step - loss: 0.0158 - accuracy: 0.4051 - val_loss: 0.0153 - val_accuracy: 0.4908\n",
      "Epoch 3/10\n",
      "11896/11896 [==============================] - 44s 4ms/step - loss: 0.0157 - accuracy: 0.3836 - val_loss: 0.0152 - val_accuracy: 0.3914\n",
      "Epoch 4/10\n",
      "11883/11896 [============================>.] - ETA: 0s - loss: 0.0157 - accuracy: 0.3769"
     ]
    },
    {
     "name": "stderr",
     "output_type": "stream",
     "text": [
      "[I 2024-01-25 19:04:13,591] Trial 26 pruned. Trial was pruned at epoch 3.\n"
     ]
    },
    {
     "name": "stdout",
     "output_type": "stream",
     "text": [
      "Epoch 1/10\n",
      "11896/11896 [==============================] - 45s 4ms/step - loss: 0.0162 - accuracy: 0.4574 - val_loss: 0.0152 - val_accuracy: 0.3908\n",
      "Epoch 2/10\n",
      "11896/11896 [==============================] - 44s 4ms/step - loss: 0.0158 - accuracy: 0.4042 - val_loss: 0.0153 - val_accuracy: 0.2956\n",
      "Epoch 3/10\n",
      "11896/11896 [==============================] - 44s 4ms/step - loss: 0.0158 - accuracy: 0.3921 - val_loss: 0.0152 - val_accuracy: 0.5123\n",
      "Epoch 4/10\n",
      "11884/11896 [============================>.] - ETA: 0s - loss: 0.0158 - accuracy: 0.3976"
     ]
    },
    {
     "name": "stderr",
     "output_type": "stream",
     "text": [
      "[I 2024-01-25 19:07:10,724] Trial 27 pruned. Trial was pruned at epoch 3.\n"
     ]
    },
    {
     "name": "stdout",
     "output_type": "stream",
     "text": [
      "Epoch 1/10\n",
      "11896/11896 [==============================] - 45s 4ms/step - loss: 0.0161 - accuracy: 0.4458 - val_loss: 0.0151 - val_accuracy: 0.3548\n",
      "Epoch 2/10\n",
      "11890/11896 [============================>.] - ETA: 0s - loss: 0.0157 - accuracy: 0.4389"
     ]
    },
    {
     "name": "stderr",
     "output_type": "stream",
     "text": [
      "[I 2024-01-25 19:08:40,287] Trial 28 pruned. Trial was pruned at epoch 1.\n"
     ]
    },
    {
     "name": "stdout",
     "output_type": "stream",
     "text": [
      "Epoch 1/10\n",
      "11896/11896 [==============================] - 46s 4ms/step - loss: 0.0163 - accuracy: 0.4709 - val_loss: 0.0153 - val_accuracy: 0.3757\n",
      "Epoch 2/10\n",
      "11896/11896 [==============================] - 44s 4ms/step - loss: 0.0158 - accuracy: 0.4087 - val_loss: 0.0152 - val_accuracy: 0.3309\n",
      "Epoch 3/10\n",
      "11896/11896 [==============================] - 44s 4ms/step - loss: 0.0158 - accuracy: 0.3985 - val_loss: 0.0152 - val_accuracy: 0.3173\n",
      "Epoch 4/10\n",
      "11896/11896 [==============================] - 44s 4ms/step - loss: 0.0158 - accuracy: 0.3884 - val_loss: 0.0152 - val_accuracy: 0.2705\n",
      "Epoch 5/10\n",
      "11896/11896 [==============================] - 44s 4ms/step - loss: 0.0158 - accuracy: 0.3919 - val_loss: 0.0152 - val_accuracy: 0.1311\n",
      "Epoch 6/10\n",
      "11896/11896 [==============================] - 44s 4ms/step - loss: 0.0158 - accuracy: 0.4165 - val_loss: 0.0152 - val_accuracy: 0.3207\n",
      "Epoch 7/10\n",
      "11896/11896 [==============================] - 44s 4ms/step - loss: 0.0158 - accuracy: 0.3963 - val_loss: 0.0152 - val_accuracy: 0.3872\n",
      "Epoch 8/10\n",
      "11896/11896 [==============================] - 44s 4ms/step - loss: 0.0158 - accuracy: 0.3841 - val_loss: 0.0152 - val_accuracy: 0.3486\n",
      "Epoch 9/10\n",
      "11896/11896 [==============================] - 44s 4ms/step - loss: 0.0158 - accuracy: 0.4013 - val_loss: 0.0153 - val_accuracy: 0.1374\n",
      "Epoch 10/10\n",
      "11896/11896 [==============================] - 44s 4ms/step - loss: 0.0158 - accuracy: 0.4111 - val_loss: 0.0153 - val_accuracy: 0.3743\n",
      "3569/3569 [==============================] - 3s 958us/step\n"
     ]
    },
    {
     "name": "stderr",
     "output_type": "stream",
     "text": [
      "[I 2024-01-25 19:16:40,514] Trial 29 finished with value: 0.8639546036720276 and parameters: {'dropout_rate1': 0.3901915037470107, 'dropout_rate2': 0.1915080194394447, 'dropout_rate3': 0.3324683598049472}. Best is trial 21 with value: 0.8701596856117249.\n"
     ]
    },
    {
     "name": "stdout",
     "output_type": "stream",
     "text": [
      "Epoch 1/10\n",
      "11896/11896 [==============================] - 45s 4ms/step - loss: 0.0162 - accuracy: 0.4633 - val_loss: 0.0152 - val_accuracy: 0.5299\n",
      "Epoch 2/10\n",
      "11896/11896 [==============================] - 44s 4ms/step - loss: 0.0158 - accuracy: 0.4645 - val_loss: 0.0152 - val_accuracy: 0.2008\n",
      "Epoch 3/10\n",
      "11896/11896 [==============================] - 45s 4ms/step - loss: 0.0158 - accuracy: 0.3729 - val_loss: 0.0152 - val_accuracy: 0.3924\n",
      "Epoch 4/10\n",
      "11896/11896 [==============================] - 44s 4ms/step - loss: 0.0158 - accuracy: 0.3716 - val_loss: 0.0152 - val_accuracy: 0.3609\n",
      "Epoch 5/10\n",
      "11896/11896 [==============================] - 44s 4ms/step - loss: 0.0158 - accuracy: 0.3961 - val_loss: 0.0152 - val_accuracy: 0.3136\n",
      "Epoch 6/10\n",
      "11896/11896 [==============================] - 44s 4ms/step - loss: 0.0158 - accuracy: 0.3880 - val_loss: 0.0152 - val_accuracy: 0.3880\n",
      "Epoch 7/10\n",
      "11896/11896 [==============================] - 44s 4ms/step - loss: 0.0158 - accuracy: 0.3958 - val_loss: 0.0153 - val_accuracy: 0.4219\n",
      "Epoch 8/10\n",
      "11896/11896 [==============================] - 45s 4ms/step - loss: 0.0158 - accuracy: 0.3977 - val_loss: 0.0152 - val_accuracy: 0.3137\n",
      "Epoch 9/10\n",
      "11896/11896 [==============================] - 44s 4ms/step - loss: 0.0158 - accuracy: 0.3990 - val_loss: 0.0152 - val_accuracy: 0.4330\n",
      "Epoch 10/10\n",
      "11891/11896 [============================>.] - ETA: 0s - loss: 0.0158 - accuracy: 0.4000"
     ]
    },
    {
     "name": "stderr",
     "output_type": "stream",
     "text": [
      "[I 2024-01-25 19:24:05,530] Trial 30 pruned. Trial was pruned at epoch 9.\n"
     ]
    },
    {
     "name": "stdout",
     "output_type": "stream",
     "text": [
      "Epoch 1/10\n",
      "11896/11896 [==============================] - 45s 4ms/step - loss: 0.0162 - accuracy: 0.4972 - val_loss: 0.0152 - val_accuracy: 0.4908\n",
      "Epoch 2/10\n",
      "11896/11896 [==============================] - 45s 4ms/step - loss: 0.0156 - accuracy: 0.4023 - val_loss: 0.0151 - val_accuracy: 0.3178\n",
      "Epoch 3/10\n",
      "11896/11896 [==============================] - 45s 4ms/step - loss: 0.0156 - accuracy: 0.3551 - val_loss: 0.0151 - val_accuracy: 0.3385\n",
      "Epoch 4/10\n",
      "11887/11896 [============================>.] - ETA: 0s - loss: 0.0156 - accuracy: 0.3501"
     ]
    },
    {
     "name": "stderr",
     "output_type": "stream",
     "text": [
      "[I 2024-01-25 19:27:04,243] Trial 31 pruned. Trial was pruned at epoch 3.\n"
     ]
    },
    {
     "name": "stdout",
     "output_type": "stream",
     "text": [
      "Epoch 1/10\n",
      "11896/11896 [==============================] - 45s 4ms/step - loss: 0.0162 - accuracy: 0.3921 - val_loss: 0.0152 - val_accuracy: 0.2856\n",
      "Epoch 2/10\n",
      "11894/11896 [============================>.] - ETA: 0s - loss: 0.0157 - accuracy: 0.3743"
     ]
    },
    {
     "name": "stderr",
     "output_type": "stream",
     "text": [
      "[I 2024-01-25 19:28:33,686] Trial 32 pruned. Trial was pruned at epoch 1.\n"
     ]
    },
    {
     "name": "stdout",
     "output_type": "stream",
     "text": [
      "Epoch 1/10\n",
      "11896/11896 [==============================] - 45s 4ms/step - loss: 0.0161 - accuracy: 0.3338 - val_loss: 0.0152 - val_accuracy: 0.4854\n",
      "Epoch 2/10\n",
      "11883/11896 [============================>.] - ETA: 0s - loss: 0.0156 - accuracy: 0.3497"
     ]
    },
    {
     "name": "stderr",
     "output_type": "stream",
     "text": [
      "[I 2024-01-25 19:30:03,400] Trial 33 pruned. Trial was pruned at epoch 1.\n"
     ]
    },
    {
     "name": "stdout",
     "output_type": "stream",
     "text": [
      "Epoch 1/10\n",
      "11896/11896 [==============================] - 45s 4ms/step - loss: 0.0160 - accuracy: 0.3756 - val_loss: 0.0151 - val_accuracy: 0.3811\n",
      "Epoch 2/10\n",
      "11896/11896 [==============================] - 44s 4ms/step - loss: 0.0156 - accuracy: 0.3778 - val_loss: 0.0150 - val_accuracy: 0.3353\n",
      "Epoch 3/10\n",
      "11896/11896 [==============================] - 44s 4ms/step - loss: 0.0156 - accuracy: 0.3903 - val_loss: 0.0150 - val_accuracy: 0.2257\n",
      "Epoch 4/10\n",
      "11886/11896 [============================>.] - ETA: 0s - loss: 0.0156 - accuracy: 0.3778"
     ]
    },
    {
     "name": "stderr",
     "output_type": "stream",
     "text": [
      "[I 2024-01-25 19:33:00,994] Trial 34 pruned. Trial was pruned at epoch 3.\n"
     ]
    },
    {
     "name": "stdout",
     "output_type": "stream",
     "text": [
      "Epoch 1/10\n",
      "11896/11896 [==============================] - 45s 4ms/step - loss: 0.0161 - accuracy: 0.4262 - val_loss: 0.0151 - val_accuracy: 0.3468\n",
      "Epoch 2/10\n",
      "11896/11896 [==============================] - 44s 4ms/step - loss: 0.0157 - accuracy: 0.4439 - val_loss: 0.0152 - val_accuracy: 0.3232\n",
      "Epoch 3/10\n",
      "11896/11896 [==============================] - 44s 4ms/step - loss: 0.0157 - accuracy: 0.3849 - val_loss: 0.0152 - val_accuracy: 0.3605\n",
      "Epoch 4/10\n",
      "11896/11896 [==============================] - 44s 4ms/step - loss: 0.0157 - accuracy: 0.3614 - val_loss: 0.0151 - val_accuracy: 0.3933\n",
      "Epoch 5/10\n",
      "11896/11896 [==============================] - 44s 4ms/step - loss: 0.0157 - accuracy: 0.3643 - val_loss: 0.0151 - val_accuracy: 0.3129\n",
      "Epoch 6/10\n",
      "11896/11896 [==============================] - 44s 4ms/step - loss: 0.0157 - accuracy: 0.3633 - val_loss: 0.0151 - val_accuracy: 0.2938\n",
      "Epoch 7/10\n",
      "11896/11896 [==============================] - 44s 4ms/step - loss: 0.0157 - accuracy: 0.3688 - val_loss: 0.0152 - val_accuracy: 0.2441\n",
      "Epoch 8/10\n",
      "11896/11896 [==============================] - 44s 4ms/step - loss: 0.0157 - accuracy: 0.3523 - val_loss: 0.0153 - val_accuracy: 0.5158\n",
      "Epoch 9/10\n",
      "11896/11896 [==============================] - 44s 4ms/step - loss: 0.0157 - accuracy: 0.3597 - val_loss: 0.0151 - val_accuracy: 0.2854\n",
      "Epoch 10/10\n",
      "11896/11896 [==============================] - 44s 4ms/step - loss: 0.0157 - accuracy: 0.3598 - val_loss: 0.0151 - val_accuracy: 0.3444\n",
      "3569/3569 [==============================] - 3s 959us/step\n"
     ]
    },
    {
     "name": "stderr",
     "output_type": "stream",
     "text": [
      "[I 2024-01-25 19:41:01,483] Trial 35 finished with value: 0.86832195520401 and parameters: {'dropout_rate1': 0.2642058115324235, 'dropout_rate2': 0.20210996311222076, 'dropout_rate3': 0.30160670905442266}. Best is trial 21 with value: 0.8701596856117249.\n"
     ]
    },
    {
     "name": "stdout",
     "output_type": "stream",
     "text": [
      "Epoch 1/10\n",
      "11896/11896 [==============================] - 45s 4ms/step - loss: 0.0161 - accuracy: 0.3945 - val_loss: 0.0151 - val_accuracy: 0.2133\n",
      "Epoch 2/10\n",
      "11896/11896 [==============================] - ETA: 0s - loss: 0.0158 - accuracy: 0.4389"
     ]
    },
    {
     "name": "stderr",
     "output_type": "stream",
     "text": [
      "[I 2024-01-25 19:42:30,978] Trial 36 pruned. Trial was pruned at epoch 1.\n"
     ]
    },
    {
     "name": "stdout",
     "output_type": "stream",
     "text": [
      "Epoch 1/10\n",
      "11896/11896 [==============================] - 45s 4ms/step - loss: 0.0161 - accuracy: 0.4691 - val_loss: 0.0152 - val_accuracy: 0.2968\n",
      "Epoch 2/10\n",
      "11896/11896 [==============================] - 44s 4ms/step - loss: 0.0157 - accuracy: 0.3644 - val_loss: 0.0151 - val_accuracy: 0.2900\n",
      "Epoch 3/10\n",
      "11896/11896 [==============================] - 44s 4ms/step - loss: 0.0157 - accuracy: 0.3794 - val_loss: 0.0151 - val_accuracy: 0.3525\n",
      "Epoch 4/10\n",
      "11896/11896 [==============================] - 44s 4ms/step - loss: 0.0157 - accuracy: 0.3560 - val_loss: 0.0152 - val_accuracy: 0.4272\n",
      "Epoch 5/10\n",
      "11896/11896 [==============================] - 44s 4ms/step - loss: 0.0157 - accuracy: 0.3916 - val_loss: 0.0152 - val_accuracy: 0.2210\n",
      "Epoch 6/10\n",
      "11896/11896 [==============================] - 44s 4ms/step - loss: 0.0157 - accuracy: 0.3799 - val_loss: 0.0152 - val_accuracy: 0.3641\n",
      "Epoch 7/10\n",
      "11896/11896 [==============================] - 44s 4ms/step - loss: 0.0157 - accuracy: 0.3779 - val_loss: 0.0152 - val_accuracy: 0.2610\n",
      "Epoch 8/10\n",
      "11896/11896 [==============================] - 45s 4ms/step - loss: 0.0157 - accuracy: 0.3865 - val_loss: 0.0152 - val_accuracy: 0.3211\n",
      "Epoch 9/10\n",
      "11896/11896 [==============================] - 44s 4ms/step - loss: 0.0157 - accuracy: 0.3868 - val_loss: 0.0152 - val_accuracy: 0.1825\n",
      "Epoch 10/10\n",
      "11896/11896 [==============================] - 47s 4ms/step - loss: 0.0157 - accuracy: 0.3819 - val_loss: 0.0152 - val_accuracy: 0.2295\n",
      "3569/3569 [==============================] - 4s 1ms/step\n"
     ]
    },
    {
     "name": "stderr",
     "output_type": "stream",
     "text": [
      "[I 2024-01-25 19:50:37,611] Trial 37 finished with value: 0.8660450577735901 and parameters: {'dropout_rate1': 0.3169580498878183, 'dropout_rate2': 0.2005247298770219, 'dropout_rate3': 0.2917563393221241}. Best is trial 21 with value: 0.8701596856117249.\n"
     ]
    },
    {
     "name": "stdout",
     "output_type": "stream",
     "text": [
      "Epoch 1/10\n",
      "11896/11896 [==============================] - 46s 4ms/step - loss: 0.0160 - accuracy: 0.3822 - val_loss: 0.0151 - val_accuracy: 0.3140\n",
      "Epoch 2/10\n",
      "11885/11896 [============================>.] - ETA: 0s - loss: 0.0157 - accuracy: 0.4369"
     ]
    },
    {
     "name": "stderr",
     "output_type": "stream",
     "text": [
      "[I 2024-01-25 19:52:07,958] Trial 38 pruned. Trial was pruned at epoch 1.\n"
     ]
    },
    {
     "name": "stdout",
     "output_type": "stream",
     "text": [
      "Epoch 1/10\n",
      "11896/11896 [==============================] - 45s 4ms/step - loss: 0.0161 - accuracy: 0.4570 - val_loss: 0.0153 - val_accuracy: 0.5002\n",
      "Epoch 2/10\n",
      "11891/11896 [============================>.] - ETA: 0s - loss: 0.0157 - accuracy: 0.4164"
     ]
    },
    {
     "name": "stderr",
     "output_type": "stream",
     "text": [
      "[I 2024-01-25 19:53:38,170] Trial 39 pruned. Trial was pruned at epoch 1.\n"
     ]
    },
    {
     "name": "stdout",
     "output_type": "stream",
     "text": [
      "Epoch 1/10\n",
      "11896/11896 [==============================] - 45s 4ms/step - loss: 0.0160 - accuracy: 0.4209 - val_loss: 0.0152 - val_accuracy: 0.4558\n",
      "Epoch 2/10\n",
      "11883/11896 [============================>.] - ETA: 0s - loss: 0.0157 - accuracy: 0.4114"
     ]
    },
    {
     "name": "stderr",
     "output_type": "stream",
     "text": [
      "[I 2024-01-25 19:55:08,288] Trial 40 pruned. Trial was pruned at epoch 1.\n"
     ]
    },
    {
     "name": "stdout",
     "output_type": "stream",
     "text": [
      "Epoch 1/10\n",
      "11896/11896 [==============================] - 45s 4ms/step - loss: 0.0160 - accuracy: 0.3808 - val_loss: 0.0152 - val_accuracy: 0.3247\n",
      "Epoch 2/10\n",
      "11883/11896 [============================>.] - ETA: 0s - loss: 0.0157 - accuracy: 0.4071"
     ]
    },
    {
     "name": "stderr",
     "output_type": "stream",
     "text": [
      "[I 2024-01-25 19:56:38,259] Trial 41 pruned. Trial was pruned at epoch 1.\n"
     ]
    },
    {
     "name": "stdout",
     "output_type": "stream",
     "text": [
      "Epoch 1/10\n",
      "11896/11896 [==============================] - 45s 4ms/step - loss: 0.0160 - accuracy: 0.4020 - val_loss: 0.0151 - val_accuracy: 0.4179\n",
      "Epoch 2/10\n",
      "11896/11896 [==============================] - 45s 4ms/step - loss: 0.0155 - accuracy: 0.3489 - val_loss: 0.0152 - val_accuracy: 0.2464\n",
      "Epoch 3/10\n",
      "11896/11896 [==============================] - 45s 4ms/step - loss: 0.0155 - accuracy: 0.3533 - val_loss: 0.0151 - val_accuracy: 0.1435\n",
      "Epoch 4/10\n",
      "11896/11896 [==============================] - 45s 4ms/step - loss: 0.0155 - accuracy: 0.3562 - val_loss: 0.0150 - val_accuracy: 0.3391\n",
      "Epoch 5/10\n",
      "11896/11896 [==============================] - 45s 4ms/step - loss: 0.0155 - accuracy: 0.3407 - val_loss: 0.0150 - val_accuracy: 0.3514\n",
      "Epoch 6/10\n",
      "11896/11896 [==============================] - 44s 4ms/step - loss: 0.0154 - accuracy: 0.3461 - val_loss: 0.0150 - val_accuracy: 0.3015\n",
      "Epoch 7/10\n",
      "11896/11896 [==============================] - 45s 4ms/step - loss: 0.0154 - accuracy: 0.3473 - val_loss: 0.0150 - val_accuracy: 0.1994\n",
      "Epoch 8/10\n",
      "11896/11896 [==============================] - 45s 4ms/step - loss: 0.0154 - accuracy: 0.3106 - val_loss: 0.0150 - val_accuracy: 0.2418\n",
      "Epoch 9/10\n",
      "11896/11896 [==============================] - 45s 4ms/step - loss: 0.0154 - accuracy: 0.3294 - val_loss: 0.0150 - val_accuracy: 0.4035\n",
      "Epoch 10/10\n",
      "11889/11896 [============================>.] - ETA: 0s - loss: 0.0154 - accuracy: 0.3281"
     ]
    },
    {
     "name": "stderr",
     "output_type": "stream",
     "text": [
      "[I 2024-01-25 20:04:05,437] Trial 42 pruned. Trial was pruned at epoch 9.\n"
     ]
    },
    {
     "name": "stdout",
     "output_type": "stream",
     "text": [
      "Epoch 1/10\n",
      "11896/11896 [==============================] - 45s 4ms/step - loss: 0.0160 - accuracy: 0.4718 - val_loss: 0.0151 - val_accuracy: 0.3161\n",
      "Epoch 2/10\n",
      "11895/11896 [============================>.] - ETA: 0s - loss: 0.0156 - accuracy: 0.3981"
     ]
    },
    {
     "name": "stderr",
     "output_type": "stream",
     "text": [
      "[I 2024-01-25 20:05:35,020] Trial 43 pruned. Trial was pruned at epoch 1.\n"
     ]
    },
    {
     "name": "stdout",
     "output_type": "stream",
     "text": [
      "Epoch 1/10\n",
      "11896/11896 [==============================] - 45s 4ms/step - loss: 0.0161 - accuracy: 0.3567 - val_loss: 0.0152 - val_accuracy: 0.3776\n",
      "Epoch 2/10\n",
      "11896/11896 [==============================] - 44s 4ms/step - loss: 0.0157 - accuracy: 0.3966 - val_loss: 0.0152 - val_accuracy: 0.4743\n",
      "Epoch 3/10\n",
      "11896/11896 [==============================] - 44s 4ms/step - loss: 0.0157 - accuracy: 0.3994 - val_loss: 0.0152 - val_accuracy: 0.3131\n",
      "Epoch 4/10\n",
      "11893/11896 [============================>.] - ETA: 0s - loss: 0.0157 - accuracy: 0.4078"
     ]
    },
    {
     "name": "stderr",
     "output_type": "stream",
     "text": [
      "[I 2024-01-25 20:08:31,842] Trial 44 pruned. Trial was pruned at epoch 3.\n"
     ]
    },
    {
     "name": "stdout",
     "output_type": "stream",
     "text": [
      "Epoch 1/10\n",
      "11896/11896 [==============================] - 45s 4ms/step - loss: 0.0161 - accuracy: 0.4444 - val_loss: 0.0153 - val_accuracy: 0.5362\n",
      "Epoch 2/10\n",
      "11896/11896 [==============================] - 44s 4ms/step - loss: 0.0158 - accuracy: 0.4241 - val_loss: 0.0152 - val_accuracy: 0.3529\n",
      "Epoch 3/10\n",
      "11896/11896 [==============================] - 44s 4ms/step - loss: 0.0157 - accuracy: 0.3869 - val_loss: 0.0152 - val_accuracy: 0.4164\n",
      "Epoch 4/10\n",
      "11893/11896 [============================>.] - ETA: 0s - loss: 0.0157 - accuracy: 0.4001"
     ]
    },
    {
     "name": "stderr",
     "output_type": "stream",
     "text": [
      "[I 2024-01-25 20:11:30,180] Trial 45 pruned. Trial was pruned at epoch 3.\n"
     ]
    },
    {
     "name": "stdout",
     "output_type": "stream",
     "text": [
      "Epoch 1/10\n",
      "11896/11896 [==============================] - 45s 4ms/step - loss: 0.0162 - accuracy: 0.4195 - val_loss: 0.0152 - val_accuracy: 0.3973\n",
      "Epoch 2/10\n",
      "11886/11896 [============================>.] - ETA: 0s - loss: 0.0157 - accuracy: 0.3714"
     ]
    },
    {
     "name": "stderr",
     "output_type": "stream",
     "text": [
      "[I 2024-01-25 20:12:59,275] Trial 46 pruned. Trial was pruned at epoch 1.\n"
     ]
    },
    {
     "name": "stdout",
     "output_type": "stream",
     "text": [
      "Epoch 1/10\n",
      "11896/11896 [==============================] - 45s 4ms/step - loss: 0.0158 - accuracy: 0.3835 - val_loss: 0.0150 - val_accuracy: 0.3497\n",
      "Epoch 2/10\n",
      "11893/11896 [============================>.] - ETA: 0s - loss: 0.0153 - accuracy: 0.3240"
     ]
    },
    {
     "name": "stderr",
     "output_type": "stream",
     "text": [
      "[I 2024-01-25 20:14:28,639] Trial 47 pruned. Trial was pruned at epoch 1.\n"
     ]
    },
    {
     "name": "stdout",
     "output_type": "stream",
     "text": [
      "Epoch 1/10\n",
      "11896/11896 [==============================] - 45s 4ms/step - loss: 0.0161 - accuracy: 0.4484 - val_loss: 0.0151 - val_accuracy: 0.4072\n",
      "Epoch 2/10\n",
      "11896/11896 [==============================] - 44s 4ms/step - loss: 0.0157 - accuracy: 0.4254 - val_loss: 0.0152 - val_accuracy: 0.5276\n",
      "Epoch 3/10\n",
      "11896/11896 [==============================] - 44s 4ms/step - loss: 0.0156 - accuracy: 0.3689 - val_loss: 0.0151 - val_accuracy: 0.4945\n",
      "Epoch 4/10\n",
      "11896/11896 [==============================] - 44s 4ms/step - loss: 0.0156 - accuracy: 0.3656 - val_loss: 0.0151 - val_accuracy: 0.3489\n",
      "Epoch 5/10\n",
      "11896/11896 [==============================] - 44s 4ms/step - loss: 0.0156 - accuracy: 0.3528 - val_loss: 0.0150 - val_accuracy: 0.3393\n",
      "Epoch 6/10\n",
      "11896/11896 [==============================] - 44s 4ms/step - loss: 0.0156 - accuracy: 0.3598 - val_loss: 0.0150 - val_accuracy: 0.3274\n",
      "Epoch 7/10\n",
      "11896/11896 [==============================] - 44s 4ms/step - loss: 0.0156 - accuracy: 0.3586 - val_loss: 0.0150 - val_accuracy: 0.2732\n",
      "Epoch 8/10\n",
      "11896/11896 [==============================] - 44s 4ms/step - loss: 0.0156 - accuracy: 0.3567 - val_loss: 0.0152 - val_accuracy: 0.3690\n",
      "Epoch 9/10\n",
      "11896/11896 [==============================] - 44s 4ms/step - loss: 0.0156 - accuracy: 0.3492 - val_loss: 0.0151 - val_accuracy: 0.4572\n",
      "Epoch 10/10\n",
      "11892/11896 [============================>.] - ETA: 0s - loss: 0.0156 - accuracy: 0.3482"
     ]
    },
    {
     "name": "stderr",
     "output_type": "stream",
     "text": [
      "[I 2024-01-25 20:21:52,448] Trial 48 pruned. Trial was pruned at epoch 9.\n"
     ]
    },
    {
     "name": "stdout",
     "output_type": "stream",
     "text": [
      "Epoch 1/10\n",
      "11896/11896 [==============================] - 44s 4ms/step - loss: 0.0160 - accuracy: 0.3528 - val_loss: 0.0151 - val_accuracy: 0.5202\n",
      "Epoch 2/10\n",
      "11896/11896 [==============================] - 44s 4ms/step - loss: 0.0154 - accuracy: 0.3034 - val_loss: 0.0151 - val_accuracy: 0.4474\n",
      "Epoch 3/10\n",
      "11896/11896 [==============================] - 44s 4ms/step - loss: 0.0154 - accuracy: 0.3182 - val_loss: 0.0150 - val_accuracy: 0.3329\n",
      "Epoch 4/10\n",
      "11885/11896 [============================>.] - ETA: 0s - loss: 0.0154 - accuracy: 0.3287"
     ]
    },
    {
     "name": "stderr",
     "output_type": "stream",
     "text": [
      "[I 2024-01-25 20:24:48,397] Trial 49 pruned. Trial was pruned at epoch 3.\n"
     ]
    }
   ],
   "source": [
    "study2 = optuna.create_study(direction=\"maximize\", sampler=optuna.samplers.TPESampler(), pruner=optuna.pruners.HyperbandPruner())\n",
    "study2.optimize(objective2, n_trials=50)\n",
    "pruned_trials2 = study2.get_trials(deepcopy=False, states=[TrialState.PRUNED])\n",
    "complete_trials2 = study2.get_trials(deepcopy=False, states=[TrialState.COMPLETE])"
   ]
  },
  {
   "cell_type": "code",
   "execution_count": 48,
   "metadata": {},
   "outputs": [
    {
     "name": "stdout",
     "output_type": "stream",
     "text": [
      "\n",
      "Study statistics: \n",
      "  Number of finished trials:  50\n",
      "  Number of pruned trials:  36\n",
      "  Number of complete trials:  14\n",
      "Best trial:\n",
      "  Value:  0.8701596856117249\n",
      "  Params: \n",
      "    dropout_rate1: 0.29748295149940013\n",
      "    dropout_rate2: 0.23118793026803292\n",
      "    dropout_rate3: 0.28858336870989054\n",
      "\n",
      "Overall Results (ordered by accuracy):\n",
      "     number     value  params_dropout_rate1  params_dropout_rate2  \\\n",
      "3        3  0.861240              0.484010              0.135741   \n",
      "9        9  0.861680              0.450873              0.495398   \n",
      "0        0  0.861759              0.419510              0.453082   \n",
      "17      17  0.863734              0.414991              0.191142   \n",
      "29      29  0.863955              0.390192              0.191508   \n",
      "37      37  0.866045              0.316958              0.200525   \n",
      "23      23  0.866335              0.302531              0.225756   \n",
      "1        1  0.866593              0.357354              0.051500   \n",
      "6        6  0.867067              0.356677              0.261383   \n",
      "2        2  0.867098              0.095008              0.124128   \n",
      "18      18  0.867613              0.283167              0.267373   \n",
      "35      35  0.868322              0.264206              0.202110   \n",
      "22      22  0.869293              0.296500              0.203325   \n",
      "21      21  0.870160              0.297483              0.231188   \n",
      "\n",
      "    params_dropout_rate3  system_attrs_completed_rung_0  \\\n",
      "3               0.478047                       0.015358   \n",
      "9               0.405935                       0.015476   \n",
      "0               0.351160                            NaN   \n",
      "17              0.409012                       0.015191   \n",
      "29              0.332468                       0.015258   \n",
      "37              0.291756                       0.015167   \n",
      "23              0.260355                       0.015285   \n",
      "1               0.473602                       0.015032   \n",
      "6               0.317730                       0.015126   \n",
      "2               0.492223                       0.015056   \n",
      "18              0.230890                       0.015143   \n",
      "35              0.301607                       0.015145   \n",
      "22              0.261799                       0.015127   \n",
      "21              0.288583                       0.015050   \n",
      "\n",
      "    system_attrs_completed_rung_1  system_attrs_completed_rung_2  \n",
      "3                        0.015437                       0.015375  \n",
      "9                        0.015555                       0.015475  \n",
      "0                             NaN                            NaN  \n",
      "17                       0.015271                            NaN  \n",
      "29                            NaN                            NaN  \n",
      "37                            NaN                            NaN  \n",
      "23                            NaN                            NaN  \n",
      "1                             NaN                            NaN  \n",
      "6                        0.015180                            NaN  \n",
      "2                        0.015005                            NaN  \n",
      "18                            NaN                            NaN  \n",
      "35                            NaN                            NaN  \n",
      "22                            NaN                            NaN  \n",
      "21                            NaN                            NaN  \n",
      "\n",
      "Most important hyperparameters:\n",
      "  dropout_rate1:  90.45%\n",
      "  dropout_rate2:  4.80%\n",
      "  dropout_rate3:  4.75%\n"
     ]
    }
   ],
   "source": [
    "print(\"\\nStudy statistics: \")\n",
    "print(\"  Number of finished trials: \", len(study2.trials))\n",
    "print(\"  Number of pruned trials: \", len(pruned_trials2))\n",
    "print(\"  Number of complete trials: \", len(complete_trials2))\n",
    "\n",
    "trial = study2.best_trial\n",
    "print(\"Best trial:\")\n",
    "print(\"  Value: \", trial.value)\n",
    "print(\"  Params: \")\n",
    "for key, value in trial.params.items():\n",
    "    print(\"    {}: {}\".format(key, value))\n",
    "\n",
    "# Save results to csv file\n",
    "df = study2.trials_dataframe().drop(['datetime_start', 'datetime_complete', 'duration'], axis=1)  # Exclude columns\n",
    "df = df.loc[df['state'] == 'COMPLETE']        # Keep only results that did not prune\n",
    "df = df.drop('state', axis=1)                 # Exclude state column\n",
    "df = df.sort_values('value')                  # Sort based on accuracy\n",
    "df.to_csv('optuna_results.csv', index=False)  # Save to csv file\n",
    "\n",
    "# Display results in a dataframe\n",
    "print(\"\\nOverall Results (ordered by accuracy):\\n {}\".format(df))\n",
    "\n",
    "# Find the most important hyperparameters\n",
    "most_important_parameters = optuna.importance.get_param_importances(study2, target=None)\n",
    "\n",
    "# Display the most important hyperparameters\n",
    "print('\\nMost important hyperparameters:')\n",
    "for key, value in most_important_parameters.items():\n",
    "    print('  {}:{}{:.2f}%'.format(key, (15-len(key))*' ', value*100))"
   ]
  }
 ],
 "metadata": {
  "kernelspec": {
   "display_name": "main-ml",
   "language": "python",
   "name": "python3"
  },
  "language_info": {
   "codemirror_mode": {
    "name": "ipython",
    "version": 3
   },
   "file_extension": ".py",
   "mimetype": "text/x-python",
   "name": "python",
   "nbconvert_exporter": "python",
   "pygments_lexer": "ipython3",
   "version": "3.9.18"
  }
 },
 "nbformat": 4,
 "nbformat_minor": 2
}
