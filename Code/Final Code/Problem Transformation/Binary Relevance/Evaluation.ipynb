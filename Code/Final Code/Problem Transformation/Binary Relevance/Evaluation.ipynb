{
 "cells": [
  {
   "cell_type": "code",
   "execution_count": 19,
   "metadata": {},
   "outputs": [],
   "source": [
    "import pandas as pd\n",
    "import matplotlib.pyplot as plt\n",
    "import numpy as np\n",
    "import torch\n",
    "import os\n",
    "import pickle\n",
    "from torchmetrics.functional.classification import *"
   ]
  },
  {
   "cell_type": "code",
   "execution_count": 3,
   "metadata": {},
   "outputs": [
    {
     "data": {
      "text/html": [
       "<div>\n",
       "<style scoped>\n",
       "    .dataframe tbody tr th:only-of-type {\n",
       "        vertical-align: middle;\n",
       "    }\n",
       "\n",
       "    .dataframe tbody tr th {\n",
       "        vertical-align: top;\n",
       "    }\n",
       "\n",
       "    .dataframe thead th {\n",
       "        text-align: right;\n",
       "    }\n",
       "</style>\n",
       "<table border=\"1\" class=\"dataframe\">\n",
       "  <thead>\n",
       "    <tr style=\"text-align: right;\">\n",
       "      <th></th>\n",
       "      <th>Model</th>\n",
       "      <th>Subset Accuracy</th>\n",
       "      <th>Hamming Loss</th>\n",
       "      <th>Accuracy(exp)</th>\n",
       "      <th>Precision(exp)</th>\n",
       "      <th>Recall(exp)</th>\n",
       "      <th>F1-Score(exp)</th>\n",
       "      <th>One error</th>\n",
       "      <th>Coverage</th>\n",
       "      <th>Rangking Loss</th>\n",
       "      <th>Average precision</th>\n",
       "      <th>Accuracy(micro)Accuracy (macro)</th>\n",
       "      <th>Precision(micro)</th>\n",
       "      <th>Precision(macro)</th>\n",
       "      <th>Recall (micro)</th>\n",
       "      <th>Recall (macro)</th>\n",
       "      <th>F1-Score (micro)</th>\n",
       "      <th>F1-Score (macro)</th>\n",
       "      <th>AUC (micro)</th>\n",
       "      <th>AUC (macro)</th>\n",
       "    </tr>\n",
       "  </thead>\n",
       "  <tbody>\n",
       "  </tbody>\n",
       "</table>\n",
       "</div>"
      ],
      "text/plain": [
       "Empty DataFrame\n",
       "Columns: [Model, Subset Accuracy, Hamming Loss, Accuracy(exp), Precision(exp), Recall(exp), F1-Score(exp), One error, Coverage, Rangking Loss, Average precision, Accuracy(micro)Accuracy (macro), Precision(micro), Precision(macro), Recall (micro), Recall (macro), F1-Score (micro), F1-Score (macro), AUC (micro), AUC (macro)]\n",
       "Index: []"
      ]
     },
     "execution_count": 3,
     "metadata": {},
     "output_type": "execute_result"
    }
   ],
   "source": [
    "df_eval = pd.DataFrame(columns=['Model','Subset Accuracy', 'Hamming Loss', 'Accuracy(exp)', 'Precision(exp)', 'Recall(exp)', 'F1-Score(exp)', 'One error', 'Coverage', 'Rangking Loss', 'Average precision', 'Accuracy(micro)' 'Accuracy (macro)', 'Precision(micro)', 'Precision(macro)', 'Recall (micro)', 'Recall (macro)', 'F1-Score (micro)', 'F1-Score (macro)', 'AUC (micro)', 'AUC (macro)'])\n",
    "df_eval"
   ]
  },
  {
   "cell_type": "code",
   "execution_count": 13,
   "metadata": {},
   "outputs": [
    {
     "data": {
      "text/plain": [
       "['ann_fold_pred.pkl',\n",
       " 'ann_fold_test.pkl',\n",
       " 'dnn_fold_pred.pkl',\n",
       " 'dnn_fold_test.pkl',\n",
       " 'dt_fold_pred.pkl',\n",
       " 'dt_fold_test.pkl',\n",
       " 'ednn_fold_pred.pkl',\n",
       " 'ednn_fold_test.pkl',\n",
       " 'knn_fold_pred.pkl',\n",
       " 'knn_fold_test.pkl',\n",
       " 'nb_fold_pred.pkl',\n",
       " 'nb_fold_test.pkl',\n",
       " 'rf_fold_pred.pkl',\n",
       " 'rf_fold_test.pkl']"
      ]
     },
     "execution_count": 13,
     "metadata": {},
     "output_type": "execute_result"
    }
   ],
   "source": [
    "file = os.listdir('Results')\n",
    "file.remove('temp.npy')\n",
    "file.remove('ann_fold_test.npy')\n",
    "file"
   ]
  },
  {
   "cell_type": "code",
   "execution_count": 30,
   "metadata": {},
   "outputs": [
    {
     "data": {
      "text/plain": [
       "(54378, 7)"
      ]
     },
     "execution_count": 30,
     "metadata": {},
     "output_type": "execute_result"
    }
   ],
   "source": [
    "pkl = open(f'Results/nb_fold_pred.pkl', 'rb')\n",
    "pkl2 = open(f'Results/nb_fold_test.pkl', 'rb')\n",
    "fold_pred = pickle.load(pkl)\n",
    "fold_test = pickle.load(pkl2)\n",
    "fold_test[0].shape"
   ]
  },
  {
   "cell_type": "code",
   "execution_count": 32,
   "metadata": {},
   "outputs": [
    {
     "ename": "TypeError",
     "evalue": "sparse array length is ambiguous; use getnnz() or shape[0]",
     "output_type": "error",
     "traceback": [
      "\u001b[1;31m---------------------------------------------------------------------------\u001b[0m",
      "\u001b[1;31mTypeError\u001b[0m                                 Traceback (most recent call last)",
      "\u001b[1;32md:\\Project\\project-ednn\\Code\\Final Code\\Problem Transformation\\Binary Relevance\\Evaluation.ipynb Cell 5\u001b[0m line \u001b[0;36m2\n\u001b[0;32m      <a href='vscode-notebook-cell:/d%3A/Project/project-ednn/Code/Final%20Code/Problem%20Transformation/Binary%20Relevance/Evaluation.ipynb#W4sZmlsZQ%3D%3D?line=0'>1</a>\u001b[0m \u001b[39mfor\u001b[39;00m i \u001b[39min\u001b[39;00m \u001b[39mrange\u001b[39m(\u001b[39m10\u001b[39m):\n\u001b[1;32m----> <a href='vscode-notebook-cell:/d%3A/Project/project-ednn/Code/Final%20Code/Problem%20Transformation/Binary%20Relevance/Evaluation.ipynb#W4sZmlsZQ%3D%3D?line=1'>2</a>\u001b[0m     trues \u001b[39m=\u001b[39m torch\u001b[39m.\u001b[39;49mtensor(fold_test[i])\n\u001b[0;32m      <a href='vscode-notebook-cell:/d%3A/Project/project-ednn/Code/Final%20Code/Problem%20Transformation/Binary%20Relevance/Evaluation.ipynb#W4sZmlsZQ%3D%3D?line=2'>3</a>\u001b[0m     preds \u001b[39m=\u001b[39m torch\u001b[39m.\u001b[39mtensor(fold_pred[i]\u001b[39m.\u001b[39mtoarray())\n\u001b[0;32m      <a href='vscode-notebook-cell:/d%3A/Project/project-ednn/Code/Final%20Code/Problem%20Transformation/Binary%20Relevance/Evaluation.ipynb#W4sZmlsZQ%3D%3D?line=3'>4</a>\u001b[0m     \u001b[39mprint\u001b[39m(\u001b[39mf\u001b[39m\u001b[39m'\u001b[39m\u001b[39mFold: \u001b[39m\u001b[39m{\u001b[39;00mi\u001b[39m+\u001b[39m\u001b[39m1\u001b[39m\u001b[39m}\u001b[39;00m\u001b[39m'\u001b[39m)\n",
      "File \u001b[1;32m~\\AppData\\Roaming\\Python\\Python39\\site-packages\\scipy\\sparse\\_base.py:340\u001b[0m, in \u001b[0;36m_spbase.__len__\u001b[1;34m(self)\u001b[0m\n\u001b[0;32m    339\u001b[0m \u001b[39mdef\u001b[39;00m \u001b[39m__len__\u001b[39m(\u001b[39mself\u001b[39m):\n\u001b[1;32m--> 340\u001b[0m     \u001b[39mraise\u001b[39;00m \u001b[39mTypeError\u001b[39;00m(\u001b[39m\"\u001b[39m\u001b[39msparse array length is ambiguous; use getnnz()\u001b[39m\u001b[39m\"\u001b[39m\n\u001b[0;32m    341\u001b[0m                     \u001b[39m\"\u001b[39m\u001b[39m or shape[0]\u001b[39m\u001b[39m\"\u001b[39m)\n",
      "\u001b[1;31mTypeError\u001b[0m: sparse array length is ambiguous; use getnnz() or shape[0]"
     ]
    }
   ],
   "source": [
    "for i in range(10):\n",
    "    trues = torch.tensor(fold_test[i])\n",
    "    preds = torch.tensor(fold_pred[i].toarray())\n",
    "    print(f'Fold: {i+1}')\n",
    "    print(f\"Accuracy (Micro)\\t: {multilabel_accuracy(preds, trues, num_labels=7, average='micro').item():.5f}\")\n",
    "    print(f\"Accuracy (Macro)\\t: {multilabel_accuracy(preds, trues, num_labels=7, average='macro').item():.5f}\")\n",
    "    print(f\"Precision (Micro)\\t: {multilabel_precision(preds, trues, num_labels=7, average='micro').item():.5f}\")\n",
    "    print(f\"Precision (Macro)\\t: {multilabel_precision(preds, trues, num_labels=7, average='macro').item():.5f}\")\n",
    "    print(f\"Recall (Micro)\\t\\t: {multilabel_recall(preds, trues, num_labels=7, average='micro').item():.5f}\")\n",
    "    print(f\"Recall (Macro)\\t\\t: {multilabel_recall(preds, trues, num_labels=7, average='macro').item():.5f}\")\n",
    "    print(f\"F1 Score (Micro)\\t: {multilabel_f1_score(preds, trues, num_labels=7, average='micro').item():.5f}\")\n",
    "    print(f\"F1 Score (Macro)\\t: {multilabel_f1_score(preds, trues, num_labels=7, average='macro').item():.5f}\")\n",
    "    print(f\"AUC ROC (Micro)\\t\\t: {multilabel_auroc(preds.float(), trues.long(), num_labels=7, average='micro').item():.5f}\")\n",
    "    print(f\"AUC ROC (Macro)\\t\\t: {multilabel_auroc(preds.float(), trues.long(), num_labels=7, average='macro').item():.5f}\")\n",
    "    print('-'*20)"
   ]
  },
  {
   "cell_type": "code",
   "execution_count": null,
   "metadata": {},
   "outputs": [],
   "source": []
  }
 ],
 "metadata": {
  "kernelspec": {
   "display_name": "main-ml",
   "language": "python",
   "name": "python3"
  },
  "language_info": {
   "codemirror_mode": {
    "name": "ipython",
    "version": 3
   },
   "file_extension": ".py",
   "mimetype": "text/x-python",
   "name": "python",
   "nbconvert_exporter": "python",
   "pygments_lexer": "ipython3",
   "version": "3.9.18"
  }
 },
 "nbformat": 4,
 "nbformat_minor": 2
}
