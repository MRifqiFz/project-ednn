{
 "cells": [
  {
   "cell_type": "markdown",
   "metadata": {},
   "source": [
    "https://archive.ics.uci.edu/dataset/529/early+stage+diabetes+risk+prediction+dataset"
   ]
  },
  {
   "cell_type": "code",
   "execution_count": 2,
   "metadata": {},
   "outputs": [
    {
     "name": "stdout",
     "output_type": "stream",
     "text": [
      "{'uci_id': 529, 'name': 'Early Stage Diabetes Risk Prediction', 'repository_url': 'https://archive.ics.uci.edu/dataset/529/early+stage+diabetes+risk+prediction+dataset', 'data_url': 'https://archive.ics.uci.edu/static/public/529/data.csv', 'abstract': 'This dataset contains the sign and symptpom data of newly diabetic or would be diabetic patient. ', 'area': 'Computer Science', 'tasks': ['Classification'], 'characteristics': ['Multivariate'], 'num_instances': 520, 'num_features': 16, 'feature_types': ['Categorical', 'Integer'], 'demographics': ['Age', 'Gender'], 'target_col': ['class'], 'index_col': None, 'has_missing_values': 'no', 'missing_values_symbol': None, 'year_of_dataset_creation': 2020, 'last_updated': 'Mon Mar 04 2024', 'dataset_doi': '10.24432/C5VG8H', 'creators': [], 'intro_paper': {'ID': 397, 'type': 'NATIVE', 'title': 'Likelihood Prediction of Diabetes at Early Stage Using Data Mining Techniques', 'authors': 'M. M. F. Islam, Rahatara Ferdousi, Sadikur Rahman, Humayra Yasmin Bushra', 'venue': 'Computer Vision and Machine Intelligence in Medical Image Analysis', 'year': 2019, 'journal': None, 'DOI': '10.1007/978-981-13-8798-2_12', 'URL': 'https://www.semanticscholar.org/paper/9329dec57c5f13f195220ffa7077fd0029983f07', 'sha': None, 'corpus': None, 'arxiv': None, 'mag': None, 'acl': None, 'pmid': None, 'pmcid': None}, 'additional_info': {'summary': 'This has been col-\\r\\nlected using direct questionnaires from the patients of Sylhet Diabetes\\r\\nHospital in Sylhet, Bangladesh and approved by a doctor.', 'purpose': None, 'funded_by': None, 'instances_represent': None, 'recommended_data_splits': None, 'sensitive_data': None, 'preprocessing_description': None, 'variable_info': 'Age 1.20-65\\t\\t\\r\\nSex 1. Male, 2.Female\\t\\t\\r\\nPolyuria 1.Yes, 2.No.\\t\\t\\r\\nPolydipsia 1.Yes, 2.No.\\t\\t\\r\\nsudden weight loss 1.Yes, 2.No.\\t\\t\\r\\nweakness 1.Yes, 2.No.\\t\\t\\r\\nPolyphagia 1.Yes, 2.No.\\t\\t\\r\\nGenital thrush 1.Yes, 2.No.\\t\\t\\r\\nvisual blurring 1.Yes, 2.No.\\t\\t\\r\\nItching 1.Yes, 2.No.\\t\\t\\r\\nIrritability 1.Yes, 2.No.\\t\\t\\r\\ndelayed healing 1.Yes, 2.No.\\t\\t\\r\\npartial paresis 1.Yes, 2.No.\\t\\t\\r\\nmuscle sti\\x0bness 1.Yes, 2.No.\\t\\t\\r\\nAlopecia 1.Yes, 2.No.\\t\\t\\r\\nObesity 1.Yes, 2.No.\\t\\t\\r\\nClass 1.Positive, 2.Negative.\\t\\t\\r\\n', 'citation': None}}\n",
      "                  name     role         type demographic description units  \\\n",
      "0                  age  Feature      Integer         Age        None  None   \n",
      "1               gender  Feature  Categorical      Gender        None  None   \n",
      "2             polyuria  Feature       Binary        None        None  None   \n",
      "3           polydipsia  Feature       Binary        None        None  None   \n",
      "4   sudden_weight_loss  Feature       Binary        None        None  None   \n",
      "5             weakness  Feature       Binary        None        None  None   \n",
      "6           polyphagia  Feature       Binary        None        None  None   \n",
      "7       genital_thrush  Feature       Binary        None        None  None   \n",
      "8      visual_blurring  Feature       Binary        None        None  None   \n",
      "9              itching  Feature       Binary        None        None  None   \n",
      "10        irritability  Feature       Binary        None        None  None   \n",
      "11     delayed_healing  Feature       Binary        None        None  None   \n",
      "12     partial_paresis  Feature       Binary        None        None  None   \n",
      "13    muscle_stiffness  Feature       Binary        None        None  None   \n",
      "14            alopecia  Feature       Binary        None        None  None   \n",
      "15             obesity  Feature       Binary        None        None  None   \n",
      "16               class   Target       Binary        None        None  None   \n",
      "\n",
      "   missing_values  \n",
      "0              no  \n",
      "1              no  \n",
      "2              no  \n",
      "3              no  \n",
      "4              no  \n",
      "5              no  \n",
      "6              no  \n",
      "7              no  \n",
      "8              no  \n",
      "9              no  \n",
      "10             no  \n",
      "11             no  \n",
      "12             no  \n",
      "13             no  \n",
      "14             no  \n",
      "15             no  \n",
      "16             no  \n"
     ]
    }
   ],
   "source": [
    "from ucimlrepo import fetch_ucirepo \n",
    "  \n",
    "# fetch dataset \n",
    "early_stage_diabetes_risk_prediction = fetch_ucirepo(id=529) \n",
    "  \n",
    "# data (as pandas dataframes) \n",
    "X = early_stage_diabetes_risk_prediction.data.features \n",
    "y = early_stage_diabetes_risk_prediction.data.targets \n",
    "  \n",
    "# metadata \n",
    "print(early_stage_diabetes_risk_prediction.metadata) \n",
    "  \n",
    "# variable information \n",
    "print(early_stage_diabetes_risk_prediction.variables) \n"
   ]
  },
  {
   "cell_type": "code",
   "execution_count": 3,
   "metadata": {},
   "outputs": [],
   "source": [
    "# Save features (X) to a CSV file\n",
    "X.to_csv('early_stage_diabetes_risk_prediction_X.csv', index=False)\n",
    "\n",
    "# Save targets (y) to a CSV file\n",
    "y.to_csv('early_stage_diabetes_risk_prediction_y', index=False)\n"
   ]
  },
  {
   "cell_type": "code",
   "execution_count": 4,
   "metadata": {},
   "outputs": [],
   "source": [
    "import pandas as pd\n",
    "# Concatenate X and y along columns\n",
    "data = pd.concat([X, y], axis=1)\n",
    "\n",
    "# Save the combined data to a CSV file\n",
    "data.to_csv('early_stage_diabetes_risk_prediction.csv', index=False)\n"
   ]
  }
 ],
 "metadata": {
  "kernelspec": {
   "display_name": "Python311",
   "language": "python",
   "name": "python3"
  },
  "language_info": {
   "codemirror_mode": {
    "name": "ipython",
    "version": 3
   },
   "file_extension": ".py",
   "mimetype": "text/x-python",
   "name": "python",
   "nbconvert_exporter": "python",
   "pygments_lexer": "ipython3",
   "version": "3.11.8"
  }
 },
 "nbformat": 4,
 "nbformat_minor": 2
}
