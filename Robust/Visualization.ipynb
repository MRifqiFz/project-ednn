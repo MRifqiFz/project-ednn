{
 "cells": [
  {
   "cell_type": "code",
   "execution_count": 3,
   "metadata": {},
   "outputs": [],
   "source": [
    "import matplotlib.pyplot as plt\n",
    "import seaborn as sns\n",
    "import pandas as pd\n",
    "import numpy as np\n",
    "import pickle\n",
    "import os"
   ]
  },
  {
   "cell_type": "code",
   "execution_count": 4,
   "metadata": {},
   "outputs": [],
   "source": [
    "path = 'Results/'\n",
    "list_data = os.listdir(path)"
   ]
  },
  {
   "cell_type": "code",
   "execution_count": 11,
   "metadata": {},
   "outputs": [],
   "source": [
    "data = []\n",
    "for i in range(len(list_data)):\n",
    "    temp = {}\n",
    "    temp['Name'] = list_data[i][:-9]\n",
    "    temp['Data'] = pickle.load(open(path+list_data[i], 'rb'))\n",
    "    data.append(temp)"
   ]
  },
  {
   "cell_type": "code",
   "execution_count": 42,
   "metadata": {},
   "outputs": [
    {
     "data": {
      "text/plain": [
       "pandas.core.frame.DataFrame"
      ]
     },
     "execution_count": 42,
     "metadata": {},
     "output_type": "execute_result"
    }
   ],
   "source": [
    "df = pd.DataFrame(columns=['Data', 'Accuracy', 'Precision', 'Recall', 'F1 Score', 'AUROC'])\n",
    "type(df)"
   ]
  },
  {
   "cell_type": "code",
   "execution_count": 43,
   "metadata": {},
   "outputs": [],
   "source": [
    "from torchmetrics.functional.classification import binary_accuracy, binary_precision, binary_recall, binary_f1_score, binary_auroc\n",
    "import torch"
   ]
  },
  {
   "cell_type": "code",
   "execution_count": 44,
   "metadata": {},
   "outputs": [
    {
     "name": "stderr",
     "output_type": "stream",
     "text": [
      "C:\\Users\\Muhammad Rifqi Fauzi\\AppData\\Local\\Temp\\ipykernel_6520\\2439635668.py:25: FutureWarning: The behavior of DataFrame concatenation with empty or all-NA entries is deprecated. In a future version, this will no longer exclude empty or all-NA columns when determining the result dtypes. To retain the old behavior, exclude the relevant entries before the concat operation.\n",
      "  df = pd.concat([df, pd.DataFrame(temp, index=[0])], ignore_index=True)\n"
     ]
    },
    {
     "data": {
      "text/html": [
       "<div>\n",
       "<style scoped>\n",
       "    .dataframe tbody tr th:only-of-type {\n",
       "        vertical-align: middle;\n",
       "    }\n",
       "\n",
       "    .dataframe tbody tr th {\n",
       "        vertical-align: top;\n",
       "    }\n",
       "\n",
       "    .dataframe thead th {\n",
       "        text-align: right;\n",
       "    }\n",
       "</style>\n",
       "<table border=\"1\" class=\"dataframe\">\n",
       "  <thead>\n",
       "    <tr style=\"text-align: right;\">\n",
       "      <th></th>\n",
       "      <th>Data</th>\n",
       "      <th>Accuracy</th>\n",
       "      <th>Precision</th>\n",
       "      <th>Recall</th>\n",
       "      <th>F1 Score</th>\n",
       "      <th>AUROC</th>\n",
       "    </tr>\n",
       "  </thead>\n",
       "  <tbody>\n",
       "    <tr>\n",
       "      <th>0</th>\n",
       "      <td>Breast Cancer</td>\n",
       "      <td>0.959524</td>\n",
       "      <td>0.970903</td>\n",
       "      <td>0.926554</td>\n",
       "      <td>0.945975</td>\n",
       "      <td>0.99343</td>\n",
       "    </tr>\n",
       "  </tbody>\n",
       "</table>\n",
       "</div>"
      ],
      "text/plain": [
       "            Data  Accuracy  Precision    Recall  F1 Score    AUROC\n",
       "0  Breast Cancer  0.959524   0.970903  0.926554  0.945975  0.99343"
      ]
     },
     "execution_count": 44,
     "metadata": {},
     "output_type": "execute_result"
    }
   ],
   "source": [
    "accuracy = []\n",
    "precision = []\n",
    "recall = []\n",
    "f1_score = []\n",
    "auroc = []\n",
    "\n",
    "for i in range(10):\n",
    "    trues = torch.tensor(data[1]['Data'][i])\n",
    "    preds = torch.tensor(data[0]['Data'][i].flatten())\n",
    "    accuracy.append(binary_accuracy(preds=preds, target=trues).item())\n",
    "    precision.append(binary_precision(preds=preds, target=trues).item())\n",
    "    recall.append(binary_recall(preds=preds, target=trues).item())\n",
    "    f1_score.append(binary_f1_score(preds=preds, target=trues).item())\n",
    "    auroc.append(binary_auroc(preds.float(), trues.long()).item())\n",
    "\n",
    "temp = {\n",
    "    'Data': 'Breast Cancer',\n",
    "    'Accuracy': np.mean(accuracy),\n",
    "    'Precision': np.mean(precision),\n",
    "    'Recall': np.mean(recall),\n",
    "    'F1 Score': np.mean(f1_score),\n",
    "    'AUROC': np.mean(auroc)\n",
    "}\n",
    "\n",
    "df = pd.concat([df, pd.DataFrame(temp, index=[0])], ignore_index=True)\n",
    "df"
   ]
  },
  {
   "cell_type": "code",
   "execution_count": 45,
   "metadata": {},
   "outputs": [
    {
     "data": {
      "text/html": [
       "<div>\n",
       "<style scoped>\n",
       "    .dataframe tbody tr th:only-of-type {\n",
       "        vertical-align: middle;\n",
       "    }\n",
       "\n",
       "    .dataframe tbody tr th {\n",
       "        vertical-align: top;\n",
       "    }\n",
       "\n",
       "    .dataframe thead th {\n",
       "        text-align: right;\n",
       "    }\n",
       "</style>\n",
       "<table border=\"1\" class=\"dataframe\">\n",
       "  <thead>\n",
       "    <tr style=\"text-align: right;\">\n",
       "      <th></th>\n",
       "      <th>Data</th>\n",
       "      <th>Accuracy</th>\n",
       "      <th>Precision</th>\n",
       "      <th>Recall</th>\n",
       "      <th>F1 Score</th>\n",
       "      <th>AUROC</th>\n",
       "    </tr>\n",
       "  </thead>\n",
       "  <tbody>\n",
       "    <tr>\n",
       "      <th>0</th>\n",
       "      <td>Breast Cancer</td>\n",
       "      <td>0.959524</td>\n",
       "      <td>0.970903</td>\n",
       "      <td>0.926554</td>\n",
       "      <td>0.945975</td>\n",
       "      <td>0.993430</td>\n",
       "    </tr>\n",
       "    <tr>\n",
       "      <th>1</th>\n",
       "      <td>Early Stage Risk</td>\n",
       "      <td>0.876462</td>\n",
       "      <td>0.927899</td>\n",
       "      <td>0.889724</td>\n",
       "      <td>0.905578</td>\n",
       "      <td>0.955518</td>\n",
       "    </tr>\n",
       "  </tbody>\n",
       "</table>\n",
       "</div>"
      ],
      "text/plain": [
       "               Data  Accuracy  Precision    Recall  F1 Score     AUROC\n",
       "0     Breast Cancer  0.959524   0.970903  0.926554  0.945975  0.993430\n",
       "1  Early Stage Risk  0.876462   0.927899  0.889724  0.905578  0.955518"
      ]
     },
     "execution_count": 45,
     "metadata": {},
     "output_type": "execute_result"
    }
   ],
   "source": [
    "accuracy = []\n",
    "precision = []\n",
    "recall = []\n",
    "f1_score = []\n",
    "auroc = []\n",
    "\n",
    "for i in range(10):\n",
    "    trues = torch.tensor(data[3]['Data'][i])\n",
    "    preds = torch.tensor(data[2]['Data'][i].flatten())\n",
    "    accuracy.append(binary_accuracy(preds=preds, target=trues).item())\n",
    "    precision.append(binary_precision(preds=preds, target=trues).item())\n",
    "    recall.append(binary_recall(preds=preds, target=trues).item())\n",
    "    f1_score.append(binary_f1_score(preds=preds, target=trues).item())\n",
    "    auroc.append(binary_auroc(preds.float(), trues.long()).item())\n",
    "\n",
    "temp = {\n",
    "    'Data': 'Early Stage Risk',\n",
    "    'Accuracy': np.mean(accuracy),\n",
    "    'Precision': np.mean(precision),\n",
    "    'Recall': np.mean(recall),\n",
    "    'F1 Score': np.mean(f1_score),\n",
    "    'AUROC': np.mean(auroc)\n",
    "}\n",
    "\n",
    "df = pd.concat([df, pd.DataFrame(temp, index=[0])], ignore_index=True)\n",
    "df"
   ]
  },
  {
   "cell_type": "code",
   "execution_count": null,
   "metadata": {},
   "outputs": [
    {
     "name": "stderr",
     "output_type": "stream",
     "text": [
      "f:\\Program Files\\Anaconda\\envs\\py310\\lib\\site-packages\\torchmetrics\\utilities\\prints.py:43: UserWarning: No positive samples in targets, true positive value should be meaningless. Returning zero tensor in true positive score\n",
      "  warnings.warn(*args, **kwargs)  # noqa: B028\n"
     ]
    }
   ],
   "source": [
    "from torchmetrics.functional.classification import multilabel_accuracy, multilabel_precision, multilabel_recall, multilabel_f1_score, multilabel_auroc\n",
    "\n",
    "accuracy = []\n",
    "precision = []\n",
    "recall = []\n",
    "f1_score = []\n",
    "auroc = []\n",
    "\n",
    "for i in range(10):\n",
    "    trues = torch.tensor(data[5]['Data'][i])\n",
    "    preds = torch.tensor(data[4]['Data'][i])\n",
    "    accuracy.append(multilabel_accuracy(preds=preds, target=trues, num_labels=5).item())\n",
    "    precision.append(multilabel_precision(preds=preds, target=trues, num_labels=5).item())\n",
    "    recall.append(multilabel_recall(preds=preds, target=trues, num_labels=5).item())\n",
    "    f1_score.append(multilabel_f1_score(preds=preds, target=trues, num_labels=5).item())\n",
    "    auroc.append(multilabel_auroc(preds.float(), trues.long(), num_labels=5).item())\n",
    "\n",
    "temp = {\n",
    "    'Data': 'Heart Disease',\n",
    "    'Accuracy': np.mean(accuracy),\n",
    "    'Precision': np.mean(precision),\n",
    "    'Recall': np.mean(recall),\n",
    "    'F1 Score': np.mean(f1_score),\n",
    "    'AUROC': np.mean(auroc)\n",
    "}\n",
    "\n",
    "df = pd.concat([df, pd.DataFrame(temp, index=[0])], ignore_index=True)\n"
   ]
  },
  {
   "cell_type": "code",
   "execution_count": 49,
   "metadata": {},
   "outputs": [
    {
     "data": {
      "text/html": [
       "<div>\n",
       "<style scoped>\n",
       "    .dataframe tbody tr th:only-of-type {\n",
       "        vertical-align: middle;\n",
       "    }\n",
       "\n",
       "    .dataframe tbody tr th {\n",
       "        vertical-align: top;\n",
       "    }\n",
       "\n",
       "    .dataframe thead th {\n",
       "        text-align: right;\n",
       "    }\n",
       "</style>\n",
       "<table border=\"1\" class=\"dataframe\">\n",
       "  <thead>\n",
       "    <tr style=\"text-align: right;\">\n",
       "      <th></th>\n",
       "      <th>Data</th>\n",
       "      <th>Accuracy</th>\n",
       "      <th>Precision</th>\n",
       "      <th>Recall</th>\n",
       "      <th>F1 Score</th>\n",
       "      <th>AUROC</th>\n",
       "    </tr>\n",
       "  </thead>\n",
       "  <tbody>\n",
       "    <tr>\n",
       "      <th>0</th>\n",
       "      <td>Breast Cancer</td>\n",
       "      <td>0.959524</td>\n",
       "      <td>0.970903</td>\n",
       "      <td>0.926554</td>\n",
       "      <td>0.945975</td>\n",
       "      <td>0.993430</td>\n",
       "    </tr>\n",
       "    <tr>\n",
       "      <th>1</th>\n",
       "      <td>Early Stage Risk</td>\n",
       "      <td>0.876462</td>\n",
       "      <td>0.927899</td>\n",
       "      <td>0.889724</td>\n",
       "      <td>0.905578</td>\n",
       "      <td>0.955518</td>\n",
       "    </tr>\n",
       "    <tr>\n",
       "      <th>2</th>\n",
       "      <td>Heart Disease</td>\n",
       "      <td>0.883957</td>\n",
       "      <td>0.196870</td>\n",
       "      <td>0.182099</td>\n",
       "      <td>0.183475</td>\n",
       "      <td>0.779736</td>\n",
       "    </tr>\n",
       "    <tr>\n",
       "      <th>3</th>\n",
       "      <td>PIMA</td>\n",
       "      <td>0.748735</td>\n",
       "      <td>0.699554</td>\n",
       "      <td>0.503180</td>\n",
       "      <td>0.567237</td>\n",
       "      <td>0.831365</td>\n",
       "    </tr>\n",
       "  </tbody>\n",
       "</table>\n",
       "</div>"
      ],
      "text/plain": [
       "               Data  Accuracy  Precision    Recall  F1 Score     AUROC\n",
       "0     Breast Cancer  0.959524   0.970903  0.926554  0.945975  0.993430\n",
       "1  Early Stage Risk  0.876462   0.927899  0.889724  0.905578  0.955518\n",
       "2     Heart Disease  0.883957   0.196870  0.182099  0.183475  0.779736\n",
       "3              PIMA  0.748735   0.699554  0.503180  0.567237  0.831365"
      ]
     },
     "execution_count": 49,
     "metadata": {},
     "output_type": "execute_result"
    }
   ],
   "source": [
    "accuracy = []\n",
    "precision = []\n",
    "recall = []\n",
    "f1_score = []\n",
    "auroc = []\n",
    "\n",
    "for i in range(10):\n",
    "    trues = torch.tensor(data[7]['Data'][i])\n",
    "    preds = torch.tensor(data[6]['Data'][i].flatten())\n",
    "    accuracy.append(binary_accuracy(preds=preds, target=trues).item())\n",
    "    precision.append(binary_precision(preds=preds, target=trues).item())\n",
    "    recall.append(binary_recall(preds=preds, target=trues).item())\n",
    "    f1_score.append(binary_f1_score(preds=preds, target=trues).item())\n",
    "    auroc.append(binary_auroc(preds.float(), trues.long()).item())\n",
    "\n",
    "temp = {\n",
    "    'Data': 'PIMA',\n",
    "    'Accuracy': np.mean(accuracy),\n",
    "    'Precision': np.mean(precision),\n",
    "    'Recall': np.mean(recall),\n",
    "    'F1 Score': np.mean(f1_score),\n",
    "    'AUROC': np.mean(auroc)\n",
    "}\n",
    "\n",
    "df = pd.concat([df, pd.DataFrame(temp, index=[0])], ignore_index=True)\n",
    "df"
   ]
  },
  {
   "cell_type": "code",
   "execution_count": 61,
   "metadata": {},
   "outputs": [
    {
     "data": {
      "image/png": "[encoded data removed]",
      "text/plain": [
       "<Figure size 640x480 with 1 Axes>"
      ]
     },
     "metadata": {},
     "output_type": "display_data"
    }
   ],
   "source": [
    "acc = sns.barplot(data=df, x='Data', y='Accuracy', hue='Data')\n",
    "plt.savefig('Results/IMG/Accuracy.png', dpi=600, bbox_inches='tight')"
   ]
  },
  {
   "cell_type": "code",
   "execution_count": 62,
   "metadata": {},
   "outputs": [
    {
     "data": {
      "image/png": "[encoded data removed]",
      "text/plain": [
       "<Figure size 640x480 with 1 Axes>"
      ]
     },
     "metadata": {},
     "output_type": "display_data"
    }
   ],
   "source": [
    "f1 = sns.barplot(data=df, x='Data', y='F1 Score', hue='Data')\n",
    "plt.savefig('Results/IMG/F1 Score.png', dpi=600, bbox_inches='tight')"
   ]
  },
  {
   "cell_type": "code",
   "execution_count": 63,
   "metadata": {},
   "outputs": [
    {
     "data": {
      "image/png": "[encoded data removed]",
      "text/plain": [
       "<Figure size 640x480 with 1 Axes>"
      ]
     },
     "metadata": {},
     "output_type": "display_data"
    }
   ],
   "source": [
    "auc = sns.barplot(data=df, x='Data', y='AUROC', hue='Data')\n",
    "plt.savefig('Results/IMG/AUROC.png', dpi=600, bbox_inches='tight')"
   ]
  },
  {
   "cell_type": "code",
   "execution_count": 64,
   "metadata": {},
   "outputs": [
    {
     "data": {
      "image/png": "[encoded data removed]",
      "text/plain": [
       "<Figure size 640x480 with 1 Axes>"
      ]
     },
     "metadata": {},
     "output_type": "display_data"
    }
   ],
   "source": [
    "prec = sns.barplot(data=df, x='Data', y='Precision', hue='Data')\n",
    "plt.savefig('Results/IMG/Precision.png', dpi=600, bbox_inches='tight')"
   ]
  },
  {
   "cell_type": "code",
   "execution_count": 65,
   "metadata": {},
   "outputs": [
    {
     "data": {
      "image/png": "[encoded data removed]",
      "text/plain": [
       "<Figure size 640x480 with 1 Axes>"
      ]
     },
     "metadata": {},
     "output_type": "display_data"
    }
   ],
   "source": [
    "rec = sns.barplot(data=df, x='Data', y='Recall', hue='Data')\n",
    "plt.savefig('Results/IMG/Recall.png', dpi=600, bbox_inches='tight')"
   ]
  },
  {
   "cell_type": "code",
   "execution_count": null,
   "metadata": {},
   "outputs": [],
   "source": []
  }
 ],
 "metadata": {
  "kernelspec": {
   "display_name": "py310",
   "language": "python",
   "name": "python3"
  },
  "language_info": {
   "codemirror_mode": {
    "name": "ipython",
    "version": 3
   },
   "file_extension": ".py",
   "mimetype": "text/x-python",
   "name": "python",
   "nbconvert_exporter": "python",
   "pygments_lexer": "ipython3",
   "version": "3.10.14"
  }
 },
 "nbformat": 4,
 "nbformat_minor": 2
}
