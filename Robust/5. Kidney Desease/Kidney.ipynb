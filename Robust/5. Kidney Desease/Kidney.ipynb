{
 "cells": [
  {
   "cell_type": "markdown",
   "metadata": {},
   "source": [
    "https://archive.ics.uci.edu/dataset/336/chronic+kidney+disease"
   ]
  },
  {
   "cell_type": "code",
   "execution_count": 2,
   "metadata": {},
   "outputs": [
    {
     "name": "stdout",
     "output_type": "stream",
     "text": [
      "{'uci_id': 336, 'name': 'Chronic Kidney Disease', 'repository_url': 'https://archive.ics.uci.edu/dataset/336/chronic+kidney+disease', 'data_url': 'https://archive.ics.uci.edu/static/public/336/data.csv', 'abstract': 'This dataset can be used to predict the chronic kidney disease and it can be collected from the hospital nearly 2 months of period.', 'area': 'Other', 'tasks': ['Classification'], 'characteristics': ['Multivariate'], 'num_instances': 400, 'num_features': 24, 'feature_types': ['Real'], 'demographics': ['Age'], 'target_col': ['class'], 'index_col': None, 'has_missing_values': 'yes', 'missing_values_symbol': 'NaN', 'year_of_dataset_creation': 2015, 'last_updated': 'Mon Mar 04 2024', 'dataset_doi': '10.24432/C5G020', 'creators': ['L. Rubini', 'P. Soundarapandian', 'P. Eswaran'], 'intro_paper': None, 'additional_info': {'summary': 'We use the following representation to collect the dataset\\r\\n                        age\\t\\t-\\tage\\t\\r\\n\\t\\t\\tbp\\t\\t-\\tblood pressure\\r\\n\\t\\t\\tsg\\t\\t-\\tspecific gravity\\r\\n\\t\\t\\tal\\t\\t-   \\talbumin\\r\\n\\t\\t\\tsu\\t\\t-\\tsugar\\r\\n\\t\\t\\trbc\\t\\t-\\tred blood cells\\r\\n\\t\\t\\tpc\\t\\t-\\tpus cell\\r\\n\\t\\t\\tpcc\\t\\t-\\tpus cell clumps\\r\\n\\t\\t\\tba\\t\\t-\\tbacteria\\r\\n\\t\\t\\tbgr\\t\\t-\\tblood glucose random\\r\\n\\t\\t\\tbu\\t\\t-\\tblood urea\\r\\n\\t\\t\\tsc\\t\\t-\\tserum creatinine\\r\\n\\t\\t\\tsod\\t\\t-\\tsodium\\r\\n\\t\\t\\tpot\\t\\t-\\tpotassium\\r\\n\\t\\t\\themo\\t\\t-\\themoglobin\\r\\n\\t\\t\\tpcv\\t\\t-\\tpacked cell volume\\r\\n\\t\\t\\twc\\t\\t-\\twhite blood cell count\\r\\n\\t\\t\\trc\\t\\t-\\tred blood cell count\\r\\n\\t\\t\\thtn\\t\\t-\\thypertension\\r\\n\\t\\t\\tdm\\t\\t-\\tdiabetes mellitus\\r\\n\\t\\t\\tcad\\t\\t-\\tcoronary artery disease\\r\\n\\t\\t\\tappet\\t\\t-\\tappetite\\r\\n\\t\\t\\tpe\\t\\t-\\tpedal edema\\r\\n\\t\\t\\tane\\t\\t-\\tanemia\\r\\n\\t\\t\\tclass\\t\\t-\\tclass\\t', 'purpose': None, 'funded_by': None, 'instances_represent': None, 'recommended_data_splits': None, 'sensitive_data': None, 'preprocessing_description': None, 'variable_info': 'We use 24 + class = 25 ( 11  numeric ,14  nominal)\\r\\n1.Age(numerical)\\r\\n  \\t  \\tage in years\\r\\n \\t2.Blood Pressure(numerical)\\r\\n\\t       \\tbp in mm/Hg\\r\\n \\t3.Specific Gravity(nominal)\\r\\n\\t  \\tsg - (1.005,1.010,1.015,1.020,1.025)\\r\\n \\t4.Albumin(nominal)\\r\\n\\t\\tal - (0,1,2,3,4,5)\\r\\n \\t5.Sugar(nominal)\\r\\n\\t\\tsu - (0,1,2,3,4,5)\\r\\n \\t6.Red Blood Cells(nominal)\\r\\n\\t\\trbc - (normal,abnormal)\\r\\n \\t7.Pus Cell (nominal)\\r\\n\\t\\tpc - (normal,abnormal)\\r\\n \\t8.Pus Cell clumps(nominal)\\r\\n\\t\\tpcc - (present,notpresent)\\r\\n \\t9.Bacteria(nominal)\\r\\n\\t\\tba  - (present,notpresent)\\r\\n \\t10.Blood Glucose Random(numerical)\\t\\t\\r\\n\\t\\tbgr in mgs/dl\\r\\n \\t11.Blood Urea(numerical)\\t\\r\\n\\t\\tbu in mgs/dl\\r\\n \\t12.Serum Creatinine(numerical)\\t\\r\\n\\t\\tsc in mgs/dl\\r\\n \\t13.Sodium(numerical)\\r\\n\\t\\tsod in mEq/L\\r\\n \\t14.Potassium(numerical)\\t\\r\\n\\t\\tpot in mEq/L\\r\\n \\t15.Hemoglobin(numerical)\\r\\n\\t\\themo in gms\\r\\n \\t16.Packed  Cell Volume(numerical)\\r\\n \\t17.White Blood Cell Count(numerical)\\r\\n\\t\\twc in cells/cumm\\r\\n \\t18.Red Blood Cell Count(numerical)\\t\\r\\n\\t\\trc in millions/cmm\\r\\n \\t19.Hypertension(nominal)\\t\\r\\n\\t\\thtn - (yes,no)\\r\\n \\t20.Diabetes Mellitus(nominal)\\t\\r\\n\\t\\tdm - (yes,no)\\r\\n \\t21.Coronary Artery Disease(nominal)\\r\\n\\t\\tcad - (yes,no)\\r\\n \\t22.Appetite(nominal)\\t\\r\\n\\t\\tappet - (good,poor)\\r\\n \\t23.Pedal Edema(nominal)\\r\\n\\t\\tpe - (yes,no)\\t\\r\\n \\t24.Anemia(nominal)\\r\\n\\t\\tane - (yes,no)\\r\\n \\t25.Class (nominal)\\t\\t\\r\\n\\t\\tclass - (ckd,notckd)', 'citation': None}}\n",
      "     name     role         type demographic              description  \\\n",
      "0     age  Feature      Integer         Age                     None   \n",
      "1      bp  Feature      Integer        None           blood pressure   \n",
      "2      sg  Feature  Categorical        None         specific gravity   \n",
      "3      al  Feature  Categorical        None                  albumin   \n",
      "4      su  Feature  Categorical        None                    sugar   \n",
      "5     rbc  Feature       Binary        None          red blood cells   \n",
      "6      pc  Feature       Binary        None                 pus cell   \n",
      "7     pcc  Feature       Binary        None          pus cell clumps   \n",
      "8      ba  Feature       Binary        None                 bacteria   \n",
      "9     bgr  Feature      Integer        None     blood glucose random   \n",
      "10     bu  Feature      Integer        None               blood urea   \n",
      "11     sc  Feature   Continuous        None         serum creatinine   \n",
      "12    sod  Feature      Integer        None                   sodium   \n",
      "13    pot  Feature   Continuous        None                potassium   \n",
      "14   hemo  Feature   Continuous        None               hemoglobin   \n",
      "15    pcv  Feature      Integer        None       packed cell volume   \n",
      "16   wbcc  Feature      Integer        None   white blood cell count   \n",
      "17   rbcc  Feature   Continuous        None     red blood cell count   \n",
      "18    htn  Feature       Binary        None             hypertension   \n",
      "19     dm  Feature       Binary        None        diabetes mellitus   \n",
      "20    cad  Feature       Binary        None  coronary artery disease   \n",
      "21  appet  Feature       Binary        None                 appetite   \n",
      "22     pe  Feature       Binary        None              pedal edema   \n",
      "23    ane  Feature       Binary        None                   anemia   \n",
      "24  class   Target       Binary        None           ckd or not ckd   \n",
      "\n",
      "           units missing_values  \n",
      "0           year            yes  \n",
      "1          mm/Hg            yes  \n",
      "2           None            yes  \n",
      "3           None            yes  \n",
      "4           None            yes  \n",
      "5           None            yes  \n",
      "6           None            yes  \n",
      "7           None            yes  \n",
      "8           None            yes  \n",
      "9         mgs/dl            yes  \n",
      "10        mgs/dl            yes  \n",
      "11        mgs/dl            yes  \n",
      "12         mEq/L            yes  \n",
      "13         mEq/L            yes  \n",
      "14           gms            yes  \n",
      "15          None            yes  \n",
      "16     cells/cmm            yes  \n",
      "17  millions/cmm            yes  \n",
      "18          None            yes  \n",
      "19          None            yes  \n",
      "20          None            yes  \n",
      "21          None            yes  \n",
      "22          None            yes  \n",
      "23          None            yes  \n",
      "24          None             no  \n"
     ]
    }
   ],
   "source": [
    "from ucimlrepo import fetch_ucirepo \n",
    "  \n",
    "# fetch dataset \n",
    "chronic_kidney_disease = fetch_ucirepo(id=336) \n",
    "  \n",
    "# data (as pandas dataframes) \n",
    "X = chronic_kidney_disease.data.features \n",
    "y = chronic_kidney_disease.data.targets \n",
    "  \n",
    "# metadata \n",
    "print(chronic_kidney_disease.metadata) \n",
    "  \n",
    "# variable information \n",
    "print(chronic_kidney_disease.variables) \n"
   ]
  },
  {
   "cell_type": "code",
   "execution_count": 3,
   "metadata": {},
   "outputs": [],
   "source": [
    "# Save features (X) to a CSV file\n",
    "X.to_csv('chronic_kidney_disease_X.csv', index=False)\n",
    "\n",
    "# Save targets (y) to a CSV file\n",
    "y.to_csv('chronic_kidney_disease_y', index=False)\n"
   ]
  },
  {
   "cell_type": "code",
   "execution_count": 4,
   "metadata": {},
   "outputs": [],
   "source": [
    "import pandas as pd\n",
    "# Concatenate X and y along columns\n",
    "data = pd.concat([X, y], axis=1)\n",
    "\n",
    "# Save the combined data to a CSV file\n",
    "data.to_csv('chronic_kidney_disease.csv', index=False)\n"
   ]
  }
 ],
 "metadata": {
  "kernelspec": {
   "display_name": "Python311",
   "language": "python",
   "name": "python3"
  },
  "language_info": {
   "codemirror_mode": {
    "name": "ipython",
    "version": 3
   },
   "file_extension": ".py",
   "mimetype": "text/x-python",
   "name": "python",
   "nbconvert_exporter": "python",
   "pygments_lexer": "ipython3",
   "version": "3.11.8"
  }
 },
 "nbformat": 4,
 "nbformat_minor": 2
}
